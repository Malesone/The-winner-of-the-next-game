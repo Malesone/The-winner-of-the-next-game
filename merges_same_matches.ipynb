{
 "cells": [
  {
   "cell_type": "code",
   "execution_count": 247,
   "metadata": {},
   "outputs": [],
   "source": [
    "import pandas as pd"
   ]
  },
  {
   "cell_type": "code",
   "execution_count": 248,
   "metadata": {},
   "outputs": [],
   "source": [
    "home_matches = pd.read_csv(\"homes.csv\", index_col=0)\n",
    "aways_matches = pd.read_csv(\"aways.csv\", index_col=0)"
   ]
  },
  {
   "cell_type": "code",
   "execution_count": 249,
   "metadata": {},
   "outputs": [],
   "source": [
    "away_columns_needed = [\"team\", \"total_shots\", \"shots_on_target\", \"goals_on_penalty\", \"total_penalties\", \"corners\", \"yellow_cards\", \"red_cards\", \"fouls\", \"completed_passings\",  \"total_passings\", \"percentage_possession\"]\n",
    "\n",
    "away_columns_needed = [\"away_\"+factor for factor in away_columns_needed]\n",
    "away_columns_needed.extend([\"Data\", \"home_team\"])\n"
   ]
  },
  {
   "cell_type": "code",
   "execution_count": 250,
   "metadata": {},
   "outputs": [],
   "source": [
    "normalized_matches = pd.DataFrame()"
   ]
  },
  {
   "cell_type": "code",
   "execution_count": 251,
   "metadata": {},
   "outputs": [],
   "source": [
    "from datetime import datetime"
   ]
  },
  {
   "cell_type": "code",
   "execution_count": 252,
   "metadata": {},
   "outputs": [],
   "source": [
    "for index, home_match in home_matches.iterrows():\n",
    "    away_match = aways_matches[(aways_matches['Data'] == home_match['Data']) & (aways_matches['home_team'] == home_match['home_team']) & (aways_matches['away_team'] == home_match['away_team'])]\n",
    "    \n",
    "    away_match_reduced = away_match[away_columns_needed]\n",
    "\n",
    "    home_match = pd.merge(home_match.to_frame().T, away_match_reduced, on = [\"Data\", \"home_team\", \"away_team\"])\n",
    "    \n",
    "    normalized_matches = normalized_matches.append(home_match)"
   ]
  },
  {
   "cell_type": "code",
   "execution_count": 253,
   "metadata": {},
   "outputs": [],
   "source": [
    "normalized_matches['Data'] = pd.to_datetime(normalized_matches['Data'], format='%d-%m-%Y')"
   ]
  },
  {
   "cell_type": "code",
   "execution_count": 254,
   "metadata": {},
   "outputs": [],
   "source": [
    "normalized_matches = normalized_matches.sort_values(by=['Data'], ascending=True)\n",
    "normalized_matches.to_csv(\"normalized_matches.csv\")"
   ]
  }
 ],
 "metadata": {
  "kernelspec": {
   "display_name": "Python 3.8.8 ('base')",
   "language": "python",
   "name": "python3"
  },
  "language_info": {
   "codemirror_mode": {
    "name": "ipython",
    "version": 3
   },
   "file_extension": ".py",
   "mimetype": "text/x-python",
   "name": "python",
   "nbconvert_exporter": "python",
   "pygments_lexer": "ipython3",
   "version": "3.8.8"
  },
  "orig_nbformat": 4,
  "vscode": {
   "interpreter": {
    "hash": "b51fba03621ea2707aa24f127a4f74542be1adffaa0a8f5a15c5b0606de1417a"
   }
  }
 },
 "nbformat": 4,
 "nbformat_minor": 2
}
