{
 "cells": [
  {
   "cell_type": "code",
   "execution_count": 1,
   "metadata": {},
   "outputs": [],
   "source": [
    "import requests\n",
    "from bs4 import BeautifulSoup\n",
    "import pandas as pd\n",
    "\n",
    "headers = {'User-Agent': \n",
    "           'Mozilla/5.0 (X11; Linux x86_64) AppleWebKit/537.36 (KHTML, like Gecko) Chrome/47.0.2526.106 Safari/537.36'}"
   ]
  },
  {
   "cell_type": "code",
   "execution_count": 2,
   "metadata": {},
   "outputs": [],
   "source": [
    "page = \"https://www.fantacalcio.it/infortunati-serie-a\"\n",
    "pageTree = requests.get(page, headers=headers)\n",
    "soup = BeautifulSoup(pageTree.content, 'html.parser')"
   ]
  },
  {
   "cell_type": "code",
   "execution_count": 3,
   "metadata": {},
   "outputs": [],
   "source": [
    "#elenco completo senza squadra\n",
    "all_injuries = soup.find_all('ul', class_='unstyled')"
   ]
  },
  {
   "cell_type": "code",
   "execution_count": 4,
   "metadata": {},
   "outputs": [],
   "source": [
    "class Team:\n",
    "    def __init__(self, name):\n",
    "        self.name = name\n",
    "\n",
    "    def add_players(self, players):\n",
    "        self.players = players\n",
    "\n",
    "    def to_string(self):\n",
    "        print(\"TEAM: \", self.name.upper())\n",
    "        for p in self.players:\n",
    "            p.to_string()\n",
    "         \n",
    "    \n",
    "\n",
    "class Player:\n",
    "    def __init__(self, name, description, team):\n",
    "        self.name = name\n",
    "        self.description = description\n",
    "        self.team = team\n",
    "\n",
    "    def to_dict(self):\n",
    "        return {\n",
    "            'Name': self.name,\n",
    "            'Injury': self.description,\n",
    "            'Team': self.team,\n",
    "        }"
   ]
  },
  {
   "cell_type": "code",
   "execution_count": 5,
   "metadata": {},
   "outputs": [],
   "source": [
    "#elenco completo senza squadra\n",
    "teams_html = soup.find_all('div', class_='card team-card')\n",
    "\n",
    "players = []\n",
    "for team_html in teams_html: \n",
    "    team_name = team_html.find('span', class_='team-name').get_text()\n",
    "\n",
    "    injuries = team_html.find_all('li', class_='')\n",
    "    for injury in injuries:\n",
    "        player_injuried = injury.find('strong', class_='item-name').get_text()\n",
    "        description = injury.find('p', class_='').get_text()\n",
    "\n",
    "        player = Player(player_injuried, description, team_name)\n",
    "        players.append(player)\n",
    "\n",
    "    \n",
    "    "
   ]
  },
  {
   "cell_type": "code",
   "execution_count": 6,
   "metadata": {},
   "outputs": [
    {
     "data": {
      "text/html": [
       "<div>\n",
       "<style scoped>\n",
       "    .dataframe tbody tr th:only-of-type {\n",
       "        vertical-align: middle;\n",
       "    }\n",
       "\n",
       "    .dataframe tbody tr th {\n",
       "        vertical-align: top;\n",
       "    }\n",
       "\n",
       "    .dataframe thead th {\n",
       "        text-align: right;\n",
       "    }\n",
       "</style>\n",
       "<table border=\"1\" class=\"dataframe\">\n",
       "  <thead>\n",
       "    <tr style=\"text-align: right;\">\n",
       "      <th></th>\n",
       "      <th>Name</th>\n",
       "      <th>Injury</th>\n",
       "      <th>Team</th>\n",
       "    </tr>\n",
       "  </thead>\n",
       "  <tbody>\n",
       "    <tr>\n",
       "      <th>0</th>\n",
       "      <td>Djimsiti</td>\n",
       "      <td>frattura del perone rimediata il 21 agosto dal...</td>\n",
       "      <td>Atalanta</td>\n",
       "    </tr>\n",
       "    <tr>\n",
       "      <th>1</th>\n",
       "      <td>Palomino</td>\n",
       "      <td>positivo a sostanza proibita (Clostebol Metabo...</td>\n",
       "      <td>Atalanta</td>\n",
       "    </tr>\n",
       "    <tr>\n",
       "      <th>2</th>\n",
       "      <td>Zappacosta</td>\n",
       "      <td>altro stop muscolare per il cursore di fascia ...</td>\n",
       "      <td>Atalanta</td>\n",
       "    </tr>\n",
       "    <tr>\n",
       "      <th>3</th>\n",
       "      <td>Zapata D.</td>\n",
       "      <td>il colombiano frenato l'1 settembre da una les...</td>\n",
       "      <td>Atalanta</td>\n",
       "    </tr>\n",
       "    <tr>\n",
       "      <th>4</th>\n",
       "      <td>Soumaoro</td>\n",
       "      <td>lesione di primo grado al bicipite femorale si...</td>\n",
       "      <td>Bologna</td>\n",
       "    </tr>\n",
       "    <tr>\n",
       "      <th>...</th>\n",
       "      <td>...</td>\n",
       "      <td>...</td>\n",
       "      <td>...</td>\n",
       "    </tr>\n",
       "    <tr>\n",
       "      <th>56</th>\n",
       "      <td>Berisha</td>\n",
       "      <td>il portiere out dalla gara di Bergamo per un p...</td>\n",
       "      <td>Torino</td>\n",
       "    </tr>\n",
       "    <tr>\n",
       "      <th>57</th>\n",
       "      <td>Ricci S.</td>\n",
       "      <td>distrazione muscolare al polpaccio per il cent...</td>\n",
       "      <td>Torino</td>\n",
       "    </tr>\n",
       "    <tr>\n",
       "      <th>58</th>\n",
       "      <td>Miranchuk</td>\n",
       "      <td>il centrocampista offensivo dei granata decisi...</td>\n",
       "      <td>Torino</td>\n",
       "    </tr>\n",
       "    <tr>\n",
       "      <th>59</th>\n",
       "      <td>Buta</td>\n",
       "      <td>riduzione di una frattura alla tibia destra oc...</td>\n",
       "      <td>Udinese</td>\n",
       "    </tr>\n",
       "    <tr>\n",
       "      <th>60</th>\n",
       "      <td>Masina</td>\n",
       "      <td>distorsione al ginocchio destro per il difenso...</td>\n",
       "      <td>Udinese</td>\n",
       "    </tr>\n",
       "  </tbody>\n",
       "</table>\n",
       "<p>61 rows × 3 columns</p>\n",
       "</div>"
      ],
      "text/plain": [
       "          Name                                             Injury      Team\n",
       "0     Djimsiti  frattura del perone rimediata il 21 agosto dal...  Atalanta\n",
       "1     Palomino  positivo a sostanza proibita (Clostebol Metabo...  Atalanta\n",
       "2   Zappacosta  altro stop muscolare per il cursore di fascia ...  Atalanta\n",
       "3    Zapata D.  il colombiano frenato l'1 settembre da una les...  Atalanta\n",
       "4     Soumaoro  lesione di primo grado al bicipite femorale si...   Bologna\n",
       "..         ...                                                ...       ...\n",
       "56     Berisha  il portiere out dalla gara di Bergamo per un p...    Torino\n",
       "57    Ricci S.  distrazione muscolare al polpaccio per il cent...    Torino\n",
       "58   Miranchuk  il centrocampista offensivo dei granata decisi...    Torino\n",
       "59        Buta  riduzione di una frattura alla tibia destra oc...   Udinese\n",
       "60      Masina  distorsione al ginocchio destro per il difenso...   Udinese\n",
       "\n",
       "[61 rows x 3 columns]"
      ]
     },
     "execution_count": 6,
     "metadata": {},
     "output_type": "execute_result"
    }
   ],
   "source": [
    "pd.DataFrame.from_records([player.to_dict() for player in players])"
   ]
  }
 ],
 "metadata": {
  "kernelspec": {
   "display_name": "Python 3.8.8 ('base')",
   "language": "python",
   "name": "python3"
  },
  "language_info": {
   "codemirror_mode": {
    "name": "ipython",
    "version": 3
   },
   "file_extension": ".py",
   "mimetype": "text/x-python",
   "name": "python",
   "nbconvert_exporter": "python",
   "pygments_lexer": "ipython3",
   "version": "3.8.8"
  },
  "orig_nbformat": 4,
  "vscode": {
   "interpreter": {
    "hash": "b51fba03621ea2707aa24f127a4f74542be1adffaa0a8f5a15c5b0606de1417a"
   }
  }
 },
 "nbformat": 4,
 "nbformat_minor": 2
}
