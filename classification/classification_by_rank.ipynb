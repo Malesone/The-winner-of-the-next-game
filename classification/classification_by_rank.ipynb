{
 "cells": [
  {
   "cell_type": "code",
   "execution_count": 1,
   "metadata": {},
   "outputs": [],
   "source": [
    "import pandas as pd\n",
    "from sklearn.model_selection import train_test_split\n",
    "import sklearn.metrics as mtr\n",
    "\n",
    "from sklearn.ensemble import RandomForestClassifier\n",
    "from sklearn.linear_model import LogisticRegression\n",
    "from sklearn.naive_bayes import MultinomialNB\n",
    "from sklearn.neighbors import KNeighborsClassifier\n",
    "from sklearn.svm import SVC\n",
    "from sklearn.tree import DecisionTreeClassifier"
   ]
  },
  {
   "cell_type": "markdown",
   "metadata": {},
   "source": [
    "# Classificazione rank\n",
    "Il rank è un valore tra 0 e 20 calcolato nello script ranks.ipynb.\n",
    "In questo script ho due metodi per gestire i nomi delle squadre: \n",
    "- utilizzo dummy \n",
    "- utilizzo i codici "
   ]
  },
  {
   "cell_type": "code",
   "execution_count": 10,
   "metadata": {},
   "outputs": [],
   "source": [
    "dataset = pd.read_csv('../SerieA/Season21_22/matches.csv', index_col=0)\n",
    "rank = pd.read_csv('../SerieA/Season21_22/rank.csv', index_col=0)\n",
    "#dataset = dataset[['h_team', 'a_team','result']]\n",
    "dataset = dataset.drop(columns=['date', 'matchday', 'h_goals', 'a_goals', 'id'])"
   ]
  },
  {
   "cell_type": "code",
   "execution_count": 11,
   "metadata": {},
   "outputs": [],
   "source": [
    "for i, ds in dataset.iterrows():\n",
    "    row = rank.loc[rank['Team'] == ds.h_team]\n",
    "    val = row['Rank'].values[0]\n",
    "    dataset.loc[i, 'Rank_H'] = val\n",
    "\n",
    "    row = rank.loc[rank['Team'] == ds.a_team]\n",
    "    val = row['Rank'].values[0]\n",
    "    dataset.loc[i, 'Rank_A'] = val"
   ]
  },
  {
   "cell_type": "markdown",
   "metadata": {},
   "source": [
    "## Dummy"
   ]
  },
  {
   "cell_type": "code",
   "execution_count": 4,
   "metadata": {},
   "outputs": [],
   "source": [
    "stacked = dataset[['h_team', 'a_team']].stack()\n",
    "index = stacked.index.get_level_values(0)\n",
    "result = pd.crosstab(index=index, columns=stacked)\n",
    "result.index.name = None\n",
    "result.columns.name = None\n",
    "\n",
    "dummy_match = pd.get_dummies(dataset\n",
    "        ,columns = ['h_team']\n",
    "        ,prefix = ['h']\n",
    "        )\n",
    "\n",
    "dummy_match = dummy_match.drop(['a_team'], axis=1)\n",
    "pos = 0\n",
    "for col in result.columns:\n",
    "    dummy_match.insert(pos, col, result[col])\n",
    "    pos += 1\n",
    "\n",
    "dummy_match['rank_h'] = dataset.Rank_H\n",
    "dummy_match['rank_a'] = dataset.Rank_A\n",
    "dummy_match['result'] = dataset.result\n",
    "dataset = dummy_match"
   ]
  },
  {
   "cell_type": "markdown",
   "metadata": {},
   "source": [
    "## Codici associati"
   ]
  },
  {
   "cell_type": "code",
   "execution_count": 12,
   "metadata": {},
   "outputs": [],
   "source": [
    "dataset[\"home_code\"] = dataset[\"h_team\"].astype(\"category\").cat.codes\n",
    "dataset[\"away_code\"] = dataset[\"a_team\"].astype(\"category\").cat.codes\n",
    "dataset = dataset.drop(columns=['h_team', 'a_team'])"
   ]
  },
  {
   "cell_type": "markdown",
   "metadata": {},
   "source": [
    "## Universale (continuo sia di Dummy che Codici associati)"
   ]
  },
  {
   "cell_type": "code",
   "execution_count": 13,
   "metadata": {},
   "outputs": [],
   "source": [
    "models = {\n",
    "    'Logistic Regression': LogisticRegression(max_iter=10000), #max_iter di default vale 100, ho dovuto alzarlo se no non converge\n",
    "    'Support Vector Machine': SVC(),\n",
    "    'Multinomial Naive Bayes': MultinomialNB(),\n",
    "    'Decision Tree': DecisionTreeClassifier(),\n",
    "    'Random Forest': RandomForestClassifier(),\n",
    "    'K-Nearest Neighbors': KNeighborsClassifier()\n",
    "}"
   ]
  },
  {
   "cell_type": "code",
   "execution_count": 14,
   "metadata": {},
   "outputs": [],
   "source": [
    "features = [x for x in dataset.columns if x != 'result']\n",
    "X, y = dataset[features], dataset.result.values\n",
    "\n",
    "X_train, X_test, y_train, y_test = train_test_split(X, y, test_size=0.2, random_state=42)"
   ]
  },
  {
   "cell_type": "code",
   "execution_count": 15,
   "metadata": {},
   "outputs": [],
   "source": [
    "for model_name, model in models.items():\n",
    "    models[model_name].fit(X_train, y_train)\n",
    "\n",
    "predictions = {}\n",
    "for model_name, model in models.items():\n",
    "    predictions[model_name] = model.predict(X_test)"
   ]
  },
  {
   "cell_type": "code",
   "execution_count": 16,
   "metadata": {},
   "outputs": [],
   "source": [
    "E = []\n",
    "for estimator, y_pred in predictions.items():\n",
    "    report = mtr.classification_report(y_test, y_pred, output_dict=True, zero_division=0)\n",
    "    E.append({\n",
    "        'Model': estimator, 'Accuracy': report['accuracy'],\n",
    "        'Avg Precision (macro)': report['macro avg']['precision'],\n",
    "        'Avg Recall (macro)': report['macro avg']['recall'],\n",
    "        'Avg F1-score (macro)': report['macro avg']['f1-score'],\n",
    "        'Avg Precision (weighted)': report['weighted avg']['precision'],\n",
    "        'Avg Recall (weighted)': report['weighted avg']['recall'],\n",
    "        'Avg F1-score (weighted)': report['weighted avg']['f1-score']\n",
    "    })\n",
    "E = pd.DataFrame(E).set_index('Model', inplace=False)"
   ]
  },
  {
   "cell_type": "code",
   "execution_count": 17,
   "metadata": {},
   "outputs": [
    {
     "data": {
      "text/html": [
       "<div>\n",
       "<style scoped>\n",
       "    .dataframe tbody tr th:only-of-type {\n",
       "        vertical-align: middle;\n",
       "    }\n",
       "\n",
       "    .dataframe tbody tr th {\n",
       "        vertical-align: top;\n",
       "    }\n",
       "\n",
       "    .dataframe thead th {\n",
       "        text-align: right;\n",
       "    }\n",
       "</style>\n",
       "<table border=\"1\" class=\"dataframe\">\n",
       "  <thead>\n",
       "    <tr style=\"text-align: right;\">\n",
       "      <th></th>\n",
       "      <th>Accuracy</th>\n",
       "      <th>Avg Precision (macro)</th>\n",
       "      <th>Avg Recall (macro)</th>\n",
       "      <th>Avg F1-score (macro)</th>\n",
       "      <th>Avg Precision (weighted)</th>\n",
       "      <th>Avg Recall (weighted)</th>\n",
       "      <th>Avg F1-score (weighted)</th>\n",
       "    </tr>\n",
       "    <tr>\n",
       "      <th>Model</th>\n",
       "      <th></th>\n",
       "      <th></th>\n",
       "      <th></th>\n",
       "      <th></th>\n",
       "      <th></th>\n",
       "      <th></th>\n",
       "      <th></th>\n",
       "    </tr>\n",
       "  </thead>\n",
       "  <tbody>\n",
       "    <tr>\n",
       "      <th>Logistic Regression</th>\n",
       "      <td>0.644737</td>\n",
       "      <td>0.598990</td>\n",
       "      <td>0.580527</td>\n",
       "      <td>0.585266</td>\n",
       "      <td>0.652432</td>\n",
       "      <td>0.644737</td>\n",
       "      <td>0.643436</td>\n",
       "    </tr>\n",
       "    <tr>\n",
       "      <th>Support Vector Machine</th>\n",
       "      <td>0.407895</td>\n",
       "      <td>0.335784</td>\n",
       "      <td>0.371493</td>\n",
       "      <td>0.263757</td>\n",
       "      <td>0.407217</td>\n",
       "      <td>0.407895</td>\n",
       "      <td>0.300365</td>\n",
       "    </tr>\n",
       "    <tr>\n",
       "      <th>Multinomial Naive Bayes</th>\n",
       "      <td>0.500000</td>\n",
       "      <td>0.473314</td>\n",
       "      <td>0.455948</td>\n",
       "      <td>0.457502</td>\n",
       "      <td>0.489069</td>\n",
       "      <td>0.500000</td>\n",
       "      <td>0.489119</td>\n",
       "    </tr>\n",
       "    <tr>\n",
       "      <th>Decision Tree</th>\n",
       "      <td>0.473684</td>\n",
       "      <td>0.472222</td>\n",
       "      <td>0.470188</td>\n",
       "      <td>0.461802</td>\n",
       "      <td>0.510417</td>\n",
       "      <td>0.473684</td>\n",
       "      <td>0.483077</td>\n",
       "    </tr>\n",
       "    <tr>\n",
       "      <th>Random Forest</th>\n",
       "      <td>0.618421</td>\n",
       "      <td>0.562570</td>\n",
       "      <td>0.562570</td>\n",
       "      <td>0.562570</td>\n",
       "      <td>0.618421</td>\n",
       "      <td>0.618421</td>\n",
       "      <td>0.618421</td>\n",
       "    </tr>\n",
       "    <tr>\n",
       "      <th>K-Nearest Neighbors</th>\n",
       "      <td>0.407895</td>\n",
       "      <td>0.384419</td>\n",
       "      <td>0.385241</td>\n",
       "      <td>0.383731</td>\n",
       "      <td>0.415658</td>\n",
       "      <td>0.407895</td>\n",
       "      <td>0.410574</td>\n",
       "    </tr>\n",
       "  </tbody>\n",
       "</table>\n",
       "</div>"
      ],
      "text/plain": [
       "                         Accuracy  Avg Precision (macro)  Avg Recall (macro)  \\\n",
       "Model                                                                          \n",
       "Logistic Regression      0.644737               0.598990            0.580527   \n",
       "Support Vector Machine   0.407895               0.335784            0.371493   \n",
       "Multinomial Naive Bayes  0.500000               0.473314            0.455948   \n",
       "Decision Tree            0.473684               0.472222            0.470188   \n",
       "Random Forest            0.618421               0.562570            0.562570   \n",
       "K-Nearest Neighbors      0.407895               0.384419            0.385241   \n",
       "\n",
       "                         Avg F1-score (macro)  Avg Precision (weighted)  \\\n",
       "Model                                                                     \n",
       "Logistic Regression                  0.585266                  0.652432   \n",
       "Support Vector Machine               0.263757                  0.407217   \n",
       "Multinomial Naive Bayes              0.457502                  0.489069   \n",
       "Decision Tree                        0.461802                  0.510417   \n",
       "Random Forest                        0.562570                  0.618421   \n",
       "K-Nearest Neighbors                  0.383731                  0.415658   \n",
       "\n",
       "                         Avg Recall (weighted)  Avg F1-score (weighted)  \n",
       "Model                                                                    \n",
       "Logistic Regression                   0.644737                 0.643436  \n",
       "Support Vector Machine                0.407895                 0.300365  \n",
       "Multinomial Naive Bayes               0.500000                 0.489119  \n",
       "Decision Tree                         0.473684                 0.483077  \n",
       "Random Forest                         0.618421                 0.618421  \n",
       "K-Nearest Neighbors                   0.407895                 0.410574  "
      ]
     },
     "execution_count": 17,
     "metadata": {},
     "output_type": "execute_result"
    }
   ],
   "source": [
    "E"
   ]
  }
 ],
 "metadata": {
  "kernelspec": {
   "display_name": "Python 3.8.8 ('base')",
   "language": "python",
   "name": "python3"
  },
  "language_info": {
   "codemirror_mode": {
    "name": "ipython",
    "version": 3
   },
   "file_extension": ".py",
   "mimetype": "text/x-python",
   "name": "python",
   "nbconvert_exporter": "python",
   "pygments_lexer": "ipython3",
   "version": "3.8.8"
  },
  "orig_nbformat": 4,
  "vscode": {
   "interpreter": {
    "hash": "b51fba03621ea2707aa24f127a4f74542be1adffaa0a8f5a15c5b0606de1417a"
   }
  }
 },
 "nbformat": 4,
 "nbformat_minor": 2
}
