{
 "cells": [
  {
   "cell_type": "code",
   "execution_count": 1,
   "metadata": {},
   "outputs": [],
   "source": [
    "import pandas as pd\n",
    "from sklearn.model_selection import train_test_split\n",
    "import sklearn.metrics as mtr\n",
    "\n",
    "from sklearn.ensemble import RandomForestClassifier\n",
    "from sklearn.linear_model import LogisticRegression\n",
    "from sklearn.naive_bayes import MultinomialNB\n",
    "from sklearn.neighbors import KNeighborsClassifier\n",
    "from sklearn.svm import SVC\n",
    "from sklearn.tree import DecisionTreeClassifier"
   ]
  },
  {
   "cell_type": "markdown",
   "metadata": {},
   "source": [
    "# Classificazione rank\n",
    "Il rank è un valore tra 0 e 20 calcolato nello script ranks.ipynb.\n",
    "In questo script ho due metodi per gestire i nomi delle squadre: \n",
    "- utilizzo dummy \n",
    "- utilizzo i codici "
   ]
  },
  {
   "cell_type": "code",
   "execution_count": 2,
   "metadata": {},
   "outputs": [],
   "source": [
    "#dataset = pd.read_csv('../SerieA/Season21_22/matches.csv', index_col=0)\n",
    "#dataset = dataset.drop(columns=['date', 'matchday', 'h_goals', 'a_goals'])\n",
    "\n",
    "dataset = pd.read_csv('../SerieA/Season21_22/diffs_dataset.csv', index_col=0)\n",
    "dataset = dataset.drop(columns=['date', 'matchday', 'goals'])\n"
   ]
  },
  {
   "cell_type": "markdown",
   "metadata": {},
   "source": [
    "## Codici associati"
   ]
  },
  {
   "cell_type": "code",
   "execution_count": 3,
   "metadata": {},
   "outputs": [],
   "source": [
    "dataset[\"home_code\"] = dataset[\"h_team\"].astype(\"category\").cat.codes\n",
    "dataset[\"away_code\"] = dataset[\"a_team\"].astype(\"category\").cat.codes\n",
    "dataset = dataset.drop(columns=['h_team', 'a_team'])"
   ]
  },
  {
   "cell_type": "markdown",
   "metadata": {},
   "source": [
    "## Universale (continuo sia di Dummy che Codici associati)"
   ]
  },
  {
   "cell_type": "code",
   "execution_count": 4,
   "metadata": {},
   "outputs": [],
   "source": [
    "models = {\n",
    "    'Logistic Regression': LogisticRegression(max_iter=10000), #max_iter di default vale 100, ho dovuto alzarlo se no non converge\n",
    "    'Support Vector Machine': SVC(),\n",
    "    #'Multinomial Naive Bayes': MultinomialNB(),\n",
    "    'Decision Tree': DecisionTreeClassifier(),\n",
    "    'Random Forest': RandomForestClassifier(),\n",
    "    'K-Nearest Neighbors': KNeighborsClassifier()\n",
    "}"
   ]
  },
  {
   "cell_type": "code",
   "execution_count": 5,
   "metadata": {},
   "outputs": [],
   "source": [
    "features = [x for x in dataset.columns if x != 'result']\n",
    "X, y = dataset[features], dataset.result.values\n",
    "\n",
    "X_train, X_test, y_train, y_test = train_test_split(X, y, test_size=0.2, random_state=42)"
   ]
  },
  {
   "cell_type": "code",
   "execution_count": 6,
   "metadata": {},
   "outputs": [],
   "source": [
    "for model_name, model in models.items():\n",
    "    models[model_name].fit(X_train, y_train)\n",
    "\n",
    "predictions = {}\n",
    "for model_name, model in models.items():\n",
    "    predictions[model_name] = model.predict(X_test)"
   ]
  },
  {
   "cell_type": "code",
   "execution_count": 7,
   "metadata": {},
   "outputs": [],
   "source": [
    "E = []\n",
    "for estimator, y_pred in predictions.items():\n",
    "    report = mtr.classification_report(y_test, y_pred, output_dict=True, zero_division=0)\n",
    "    E.append({\n",
    "        'Model': estimator, 'Accuracy': report['accuracy'],\n",
    "        'Avg Precision (macro)': report['macro avg']['precision'],\n",
    "        'Avg Recall (macro)': report['macro avg']['recall'],\n",
    "        'Avg F1-score (macro)': report['macro avg']['f1-score'],\n",
    "        'Avg Precision (weighted)': report['weighted avg']['precision'],\n",
    "        'Avg Recall (weighted)': report['weighted avg']['recall'],\n",
    "        'Avg F1-score (weighted)': report['weighted avg']['f1-score']\n",
    "    })\n",
    "E = pd.DataFrame(E).set_index('Model', inplace=False)"
   ]
  },
  {
   "cell_type": "code",
   "execution_count": 8,
   "metadata": {},
   "outputs": [
    {
     "data": {
      "text/html": [
       "<div>\n",
       "<style scoped>\n",
       "    .dataframe tbody tr th:only-of-type {\n",
       "        vertical-align: middle;\n",
       "    }\n",
       "\n",
       "    .dataframe tbody tr th {\n",
       "        vertical-align: top;\n",
       "    }\n",
       "\n",
       "    .dataframe thead th {\n",
       "        text-align: right;\n",
       "    }\n",
       "</style>\n",
       "<table border=\"1\" class=\"dataframe\">\n",
       "  <thead>\n",
       "    <tr style=\"text-align: right;\">\n",
       "      <th></th>\n",
       "      <th>Accuracy</th>\n",
       "      <th>Avg Precision (macro)</th>\n",
       "      <th>Avg Recall (macro)</th>\n",
       "      <th>Avg F1-score (macro)</th>\n",
       "      <th>Avg Precision (weighted)</th>\n",
       "      <th>Avg Recall (weighted)</th>\n",
       "      <th>Avg F1-score (weighted)</th>\n",
       "    </tr>\n",
       "    <tr>\n",
       "      <th>Model</th>\n",
       "      <th></th>\n",
       "      <th></th>\n",
       "      <th></th>\n",
       "      <th></th>\n",
       "      <th></th>\n",
       "      <th></th>\n",
       "      <th></th>\n",
       "    </tr>\n",
       "  </thead>\n",
       "  <tbody>\n",
       "    <tr>\n",
       "      <th>Logistic Regression</th>\n",
       "      <td>0.486842</td>\n",
       "      <td>0.426942</td>\n",
       "      <td>0.435606</td>\n",
       "      <td>0.421690</td>\n",
       "      <td>0.474016</td>\n",
       "      <td>0.486842</td>\n",
       "      <td>0.471169</td>\n",
       "    </tr>\n",
       "    <tr>\n",
       "      <th>Support Vector Machine</th>\n",
       "      <td>0.513158</td>\n",
       "      <td>0.343497</td>\n",
       "      <td>0.432099</td>\n",
       "      <td>0.381241</td>\n",
       "      <td>0.413038</td>\n",
       "      <td>0.513158</td>\n",
       "      <td>0.455947</td>\n",
       "    </tr>\n",
       "    <tr>\n",
       "      <th>Decision Tree</th>\n",
       "      <td>0.381579</td>\n",
       "      <td>0.381419</td>\n",
       "      <td>0.365039</td>\n",
       "      <td>0.362297</td>\n",
       "      <td>0.424056</td>\n",
       "      <td>0.381579</td>\n",
       "      <td>0.389925</td>\n",
       "    </tr>\n",
       "    <tr>\n",
       "      <th>Random Forest</th>\n",
       "      <td>0.473684</td>\n",
       "      <td>0.442830</td>\n",
       "      <td>0.433993</td>\n",
       "      <td>0.426418</td>\n",
       "      <td>0.475326</td>\n",
       "      <td>0.473684</td>\n",
       "      <td>0.463176</td>\n",
       "    </tr>\n",
       "    <tr>\n",
       "      <th>K-Nearest Neighbors</th>\n",
       "      <td>0.434211</td>\n",
       "      <td>0.431170</td>\n",
       "      <td>0.443883</td>\n",
       "      <td>0.432851</td>\n",
       "      <td>0.442559</td>\n",
       "      <td>0.434211</td>\n",
       "      <td>0.434926</td>\n",
       "    </tr>\n",
       "  </tbody>\n",
       "</table>\n",
       "</div>"
      ],
      "text/plain": [
       "                        Accuracy  Avg Precision (macro)  Avg Recall (macro)  \\\n",
       "Model                                                                         \n",
       "Logistic Regression     0.486842               0.426942            0.435606   \n",
       "Support Vector Machine  0.513158               0.343497            0.432099   \n",
       "Decision Tree           0.381579               0.381419            0.365039   \n",
       "Random Forest           0.473684               0.442830            0.433993   \n",
       "K-Nearest Neighbors     0.434211               0.431170            0.443883   \n",
       "\n",
       "                        Avg F1-score (macro)  Avg Precision (weighted)  \\\n",
       "Model                                                                    \n",
       "Logistic Regression                 0.421690                  0.474016   \n",
       "Support Vector Machine              0.381241                  0.413038   \n",
       "Decision Tree                       0.362297                  0.424056   \n",
       "Random Forest                       0.426418                  0.475326   \n",
       "K-Nearest Neighbors                 0.432851                  0.442559   \n",
       "\n",
       "                        Avg Recall (weighted)  Avg F1-score (weighted)  \n",
       "Model                                                                   \n",
       "Logistic Regression                  0.486842                 0.471169  \n",
       "Support Vector Machine               0.513158                 0.455947  \n",
       "Decision Tree                        0.381579                 0.389925  \n",
       "Random Forest                        0.473684                 0.463176  \n",
       "K-Nearest Neighbors                  0.434211                 0.434926  "
      ]
     },
     "execution_count": 8,
     "metadata": {},
     "output_type": "execute_result"
    }
   ],
   "source": [
    "E"
   ]
  }
 ],
 "metadata": {
  "kernelspec": {
   "display_name": "Python 3.8.8 ('base')",
   "language": "python",
   "name": "python3"
  },
  "language_info": {
   "codemirror_mode": {
    "name": "ipython",
    "version": 3
   },
   "file_extension": ".py",
   "mimetype": "text/x-python",
   "name": "python",
   "nbconvert_exporter": "python",
   "pygments_lexer": "ipython3",
   "version": "3.8.8"
  },
  "orig_nbformat": 4,
  "vscode": {
   "interpreter": {
    "hash": "b51fba03621ea2707aa24f127a4f74542be1adffaa0a8f5a15c5b0606de1417a"
   }
  }
 },
 "nbformat": 4,
 "nbformat_minor": 2
}
