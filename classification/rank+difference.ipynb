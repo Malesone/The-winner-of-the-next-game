{
 "cells": [
  {
   "cell_type": "code",
   "execution_count": 1,
   "metadata": {},
   "outputs": [],
   "source": [
    "import pandas as pd\n",
    "from sklearn.model_selection import train_test_split\n",
    "import sklearn.metrics as mtr\n",
    "\n",
    "from sklearn.ensemble import RandomForestClassifier\n",
    "from sklearn.linear_model import LogisticRegression\n",
    "from sklearn.naive_bayes import MultinomialNB\n",
    "from sklearn.neighbors import KNeighborsClassifier\n",
    "from sklearn.svm import SVC\n",
    "from sklearn.tree import DecisionTreeClassifier"
   ]
  },
  {
   "cell_type": "code",
   "execution_count": 2,
   "metadata": {},
   "outputs": [],
   "source": [
    "dataset = pd.read_csv('../SerieA/Season21_22/diffs_dataset.csv', index_col=0)\n",
    "rank = pd.read_csv('../SerieA/Season21_22/rank.csv', index_col=0)\n",
    "dataset = dataset.drop(columns=['date', 'matchday', 'goals'])"
   ]
  },
  {
   "cell_type": "code",
   "execution_count": 3,
   "metadata": {},
   "outputs": [],
   "source": [
    "for i, v in dataset.iterrows():\n",
    "    rank_h = rank[rank.Team == v.h_team]\n",
    "    rank_a = rank[rank.Team == v.a_team]\n",
    "    rank_h = rank_h.iloc[0][\"Rank\"]\n",
    "    rank_a = rank_a.iloc[0][\"Rank\"]\n",
    "    \n",
    "    dataset.at[i, 'rank_h'] = rank_h\n",
    "    dataset.at[i, 'rank_a'] = rank_a"
   ]
  },
  {
   "cell_type": "code",
   "execution_count": 4,
   "metadata": {},
   "outputs": [],
   "source": [
    "dataset[\"home_code\"] = dataset[\"h_team\"].astype(\"category\").cat.codes\n",
    "dataset[\"away_code\"] = dataset[\"a_team\"].astype(\"category\").cat.codes\n",
    "dataset = dataset.drop(columns=['h_team', 'a_team'])"
   ]
  },
  {
   "cell_type": "code",
   "execution_count": 5,
   "metadata": {},
   "outputs": [],
   "source": [
    "models = {\n",
    "    'Logistic Regression': LogisticRegression(max_iter=10000), #max_iter di default vale 100, ho dovuto alzarlo se no non converge\n",
    "    'Support Vector Machine': SVC(),\n",
    "    #'Multinomial Naive Bayes': MultinomialNB(), #con valori negativi non funziona\n",
    "    'Decision Tree': DecisionTreeClassifier(),\n",
    "    'Random Forest': RandomForestClassifier(),\n",
    "    'K-Nearest Neighbors': KNeighborsClassifier()\n",
    "}"
   ]
  },
  {
   "cell_type": "code",
   "execution_count": 6,
   "metadata": {},
   "outputs": [],
   "source": [
    "features = [x for x in dataset.columns if x != 'result']\n",
    "X, y = dataset[features], dataset.result.values\n",
    "\n",
    "X_train, X_test, y_train, y_test = train_test_split(X, y, test_size=0.2, random_state=42)"
   ]
  },
  {
   "cell_type": "code",
   "execution_count": 7,
   "metadata": {},
   "outputs": [],
   "source": [
    "for model_name, model in models.items():\n",
    "    models[model_name].fit(X_train, y_train)\n",
    "\n",
    "predictions = {}\n",
    "for model_name, model in models.items():\n",
    "    predictions[model_name] = model.predict(X_test)"
   ]
  },
  {
   "cell_type": "code",
   "execution_count": 8,
   "metadata": {},
   "outputs": [],
   "source": [
    "E = []\n",
    "for estimator, y_pred in predictions.items():\n",
    "    report = mtr.classification_report(y_test, y_pred, output_dict=True, zero_division=0)\n",
    "    E.append({\n",
    "        'Model': estimator, 'Accuracy': report['accuracy'],\n",
    "        'Avg Precision (macro)': report['macro avg']['precision'],\n",
    "        'Avg Recall (macro)': report['macro avg']['recall'],\n",
    "        'Avg F1-score (macro)': report['macro avg']['f1-score'],\n",
    "        'Avg Precision (weighted)': report['weighted avg']['precision'],\n",
    "        'Avg Recall (weighted)': report['weighted avg']['recall'],\n",
    "        'Avg F1-score (weighted)': report['weighted avg']['f1-score']\n",
    "    })\n",
    "E = pd.DataFrame(E).set_index('Model', inplace=False)"
   ]
  },
  {
   "cell_type": "code",
   "execution_count": 9,
   "metadata": {},
   "outputs": [
    {
     "data": {
      "text/html": [
       "<div>\n",
       "<style scoped>\n",
       "    .dataframe tbody tr th:only-of-type {\n",
       "        vertical-align: middle;\n",
       "    }\n",
       "\n",
       "    .dataframe tbody tr th {\n",
       "        vertical-align: top;\n",
       "    }\n",
       "\n",
       "    .dataframe thead th {\n",
       "        text-align: right;\n",
       "    }\n",
       "</style>\n",
       "<table border=\"1\" class=\"dataframe\">\n",
       "  <thead>\n",
       "    <tr style=\"text-align: right;\">\n",
       "      <th></th>\n",
       "      <th>Accuracy</th>\n",
       "      <th>Avg Precision (macro)</th>\n",
       "      <th>Avg Recall (macro)</th>\n",
       "      <th>Avg F1-score (macro)</th>\n",
       "      <th>Avg Precision (weighted)</th>\n",
       "      <th>Avg Recall (weighted)</th>\n",
       "      <th>Avg F1-score (weighted)</th>\n",
       "    </tr>\n",
       "    <tr>\n",
       "      <th>Model</th>\n",
       "      <th></th>\n",
       "      <th></th>\n",
       "      <th></th>\n",
       "      <th></th>\n",
       "      <th></th>\n",
       "      <th></th>\n",
       "      <th></th>\n",
       "    </tr>\n",
       "  </thead>\n",
       "  <tbody>\n",
       "    <tr>\n",
       "      <th>Logistic Regression</th>\n",
       "      <td>0.539474</td>\n",
       "      <td>0.472768</td>\n",
       "      <td>0.476010</td>\n",
       "      <td>0.466391</td>\n",
       "      <td>0.536766</td>\n",
       "      <td>0.539474</td>\n",
       "      <td>0.529989</td>\n",
       "    </tr>\n",
       "    <tr>\n",
       "      <th>Support Vector Machine</th>\n",
       "      <td>0.513158</td>\n",
       "      <td>0.343497</td>\n",
       "      <td>0.432099</td>\n",
       "      <td>0.381241</td>\n",
       "      <td>0.413038</td>\n",
       "      <td>0.513158</td>\n",
       "      <td>0.455947</td>\n",
       "    </tr>\n",
       "    <tr>\n",
       "      <th>Decision Tree</th>\n",
       "      <td>0.355263</td>\n",
       "      <td>0.341872</td>\n",
       "      <td>0.335859</td>\n",
       "      <td>0.337262</td>\n",
       "      <td>0.369782</td>\n",
       "      <td>0.355263</td>\n",
       "      <td>0.360601</td>\n",
       "    </tr>\n",
       "    <tr>\n",
       "      <th>Random Forest</th>\n",
       "      <td>0.473684</td>\n",
       "      <td>0.412023</td>\n",
       "      <td>0.416526</td>\n",
       "      <td>0.411508</td>\n",
       "      <td>0.465941</td>\n",
       "      <td>0.473684</td>\n",
       "      <td>0.467246</td>\n",
       "    </tr>\n",
       "    <tr>\n",
       "      <th>K-Nearest Neighbors</th>\n",
       "      <td>0.434211</td>\n",
       "      <td>0.423008</td>\n",
       "      <td>0.424663</td>\n",
       "      <td>0.423671</td>\n",
       "      <td>0.435639</td>\n",
       "      <td>0.434211</td>\n",
       "      <td>0.434797</td>\n",
       "    </tr>\n",
       "  </tbody>\n",
       "</table>\n",
       "</div>"
      ],
      "text/plain": [
       "                        Accuracy  Avg Precision (macro)  Avg Recall (macro)  \\\n",
       "Model                                                                         \n",
       "Logistic Regression     0.539474               0.472768            0.476010   \n",
       "Support Vector Machine  0.513158               0.343497            0.432099   \n",
       "Decision Tree           0.355263               0.341872            0.335859   \n",
       "Random Forest           0.473684               0.412023            0.416526   \n",
       "K-Nearest Neighbors     0.434211               0.423008            0.424663   \n",
       "\n",
       "                        Avg F1-score (macro)  Avg Precision (weighted)  \\\n",
       "Model                                                                    \n",
       "Logistic Regression                 0.466391                  0.536766   \n",
       "Support Vector Machine              0.381241                  0.413038   \n",
       "Decision Tree                       0.337262                  0.369782   \n",
       "Random Forest                       0.411508                  0.465941   \n",
       "K-Nearest Neighbors                 0.423671                  0.435639   \n",
       "\n",
       "                        Avg Recall (weighted)  Avg F1-score (weighted)  \n",
       "Model                                                                   \n",
       "Logistic Regression                  0.539474                 0.529989  \n",
       "Support Vector Machine               0.513158                 0.455947  \n",
       "Decision Tree                        0.355263                 0.360601  \n",
       "Random Forest                        0.473684                 0.467246  \n",
       "K-Nearest Neighbors                  0.434211                 0.434797  "
      ]
     },
     "execution_count": 9,
     "metadata": {},
     "output_type": "execute_result"
    }
   ],
   "source": [
    "E"
   ]
  }
 ],
 "metadata": {
  "kernelspec": {
   "display_name": "Python 3.8.8 ('base')",
   "language": "python",
   "name": "python3"
  },
  "language_info": {
   "codemirror_mode": {
    "name": "ipython",
    "version": 3
   },
   "file_extension": ".py",
   "mimetype": "text/x-python",
   "name": "python",
   "nbconvert_exporter": "python",
   "pygments_lexer": "ipython3",
   "version": "3.8.8"
  },
  "orig_nbformat": 4,
  "vscode": {
   "interpreter": {
    "hash": "b51fba03621ea2707aa24f127a4f74542be1adffaa0a8f5a15c5b0606de1417a"
   }
  }
 },
 "nbformat": 4,
 "nbformat_minor": 2
}
