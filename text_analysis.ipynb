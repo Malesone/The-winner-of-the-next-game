{
 "cells": [
  {
   "cell_type": "code",
   "execution_count": 250,
   "metadata": {},
   "outputs": [],
   "source": [
    "import numpy as np\n",
    "import pandas as pd\n",
    "from tqdm.notebook import tqdm"
   ]
  },
  {
   "cell_type": "markdown",
   "metadata": {},
   "source": [
    "In questo script voglio leggere i documenti e dato che una squadra può avere diversi soprannomi, poi per la classificazione risulta complicato andare a capire di chi si sta parlando. Per questo motivo vado a considerare tutti i soprannomi utilizzati nella lega rispetto alle squadre e in ciascun documento (in questo caso lo faccio su un solo documento) vado a sostituire il nome della squadra e tutti i suoi soprannomi con \"home team\" o \"away team\".\n",
    "I sinonimi vengono presi da un dizionario.\n",
    "\n",
    "Ho due problemi: \n",
    "- ci sono squadre come \"Hellas Verona\" che può anche essere chiamato \"Verona\" quindi devo stare attento nel dizionario a posizionare \"Hellas Verona\" prima di \"Verona\", altrimenti se posizionassi al contrario, quando nel documento sostituisco con ad esempio \"home team\", risulta \"Hellas home team\", invece anche Hellas deve sparire\n",
    "- un problema simile a quello descritto sopra è per le abbreviazioni come \"Juve\" e \"Juventus\" quindi per non trovarci in una situazione simile \"home teamntus\" dobbiamo mettere la stringa completa prima dell'abbreviata\n",
    "\n",
    "Un altro problema è legato alla stadio, perché qui il nome di alcuni stadi come \"Olimpico di Torino\" viene presa la parola Torino e sostituita. Questo dovrebbe succedere o no? Potrei sostituire il nome dello stadio con \"home stadium\" o \"away stadium\""
   ]
  },
  {
   "cell_type": "code",
   "execution_count": 251,
   "metadata": {},
   "outputs": [],
   "source": [
    "import urllib.request\n",
    "import json\n",
    "import spacy\n",
    "nlp = spacy.load(\"en_core_web_sm\")\n",
    "\n",
    "tokenize = lambda text: [x.lemma_.lower() for x in text if x.pos_ in ['NOUN', 'PROPN', 'VERB', 'ADJ', 'ADV']]"
   ]
  },
  {
   "cell_type": "code",
   "execution_count": 252,
   "metadata": {},
   "outputs": [],
   "source": [
    "dataframe = pd.read_csv(\"description_predictions.csv\", index_col=0)"
   ]
  },
  {
   "cell_type": "code",
   "execution_count": 253,
   "metadata": {},
   "outputs": [],
   "source": [
    "with open(\"sinonimi.json\") as jsonFile:\n",
    "    jsonObject = json.load(jsonFile)\n",
    "    jsonFile.close()"
   ]
  },
  {
   "cell_type": "code",
   "execution_count": 254,
   "metadata": {},
   "outputs": [],
   "source": [
    "descriptions = dataframe.iloc[102:] #cambio il numero del record\n",
    "#documento utile 101 \n",
    "descriptions = descriptions.iloc[:1]"
   ]
  },
  {
   "cell_type": "markdown",
   "metadata": {},
   "source": [
    "Estraggo le squadre, perché nel testo ci sono i soprannomi delle squadre e quindi non essendo conosciuti dal vocabolario, li sostituisco con il nome della relativa squadra"
   ]
  },
  {
   "cell_type": "code",
   "execution_count": 255,
   "metadata": {},
   "outputs": [
    {
     "name": "stdout",
     "output_type": "stream",
     "text": [
      "Atalanta Lazio \n",
      "Gewiss Stadium will host a highly-anticipated Serie A game between Atalanta and Lazio. The Orobici came from behind to beat Sampdoria 3-1 in a midweek clash, with the team moving closer to the Champions League berth. Atalanta aim to give fans yet another reason for celebration, and they are likely to stick to their attacking style of play. Slovenia international Josip Ilicic is widely expected to return to the starting XI after finding the net in the midweek triumph, whereas all Pessina, Djimsiti, Gosens, Hateboer, Demiral, and Toloi should miss out with injuries. \n",
      "\n",
      "The Biancocelesti, on the other hand, recorded a hard-fought 1-0 win over Fiorentina in their last league match. Lazio, though, are not regarded as good travelers, which is probably the main reason why home win should be considered. Both Adekanye and Zaccagni are sidelined with injuries for the visiting team. \n"
     ]
    }
   ],
   "source": [
    "h_team, a_team, description = descriptions.h_team.values[0], descriptions.a_team.values[0], descriptions.description.values[0]\n",
    "print(h_team, a_team, \"\\n\"+description)\n",
    "\n",
    "syn = {}\n",
    "for key in jsonObject.keys():\n",
    "    if (h_team in key) or (key in h_team):\n",
    "        syn['home team'] = jsonObject[key] \n",
    "        \n",
    "    if (a_team in key) or (key in a_team):\n",
    "        syn['away team'] = jsonObject[key] "
   ]
  },
  {
   "cell_type": "code",
   "execution_count": 256,
   "metadata": {},
   "outputs": [
    {
     "name": "stdout",
     "output_type": "stream",
     "text": [
      "Game: Atalanta - Lazio\n",
      "ORIGINAL DOCUMENT\n",
      "Gewiss Stadium will host a highly-anticipated Serie A game between Atalanta and Lazio. The Orobici came from behind to beat Sampdoria 3-1 in a midweek clash, with the team moving closer to the Champions League berth. Atalanta aim to give fans yet another reason for celebration, and they are likely to stick to their attacking style of play. Slovenia international Josip Ilicic is widely expected to return to the starting XI after finding the net in the midweek triumph, whereas all Pessina, Djimsiti, Gosens, Hateboer, Demiral, and Toloi should miss out with injuries. \n",
      "\n",
      "The Biancocelesti, on the other hand, recorded a hard-fought 1-0 win over Fiorentina in their last league match. Lazio, though, are not regarded as good travelers, which is probably the main reason why home win should be considered. Both Adekanye and Zaccagni are sidelined with injuries for the visiting team. \n",
      "\n",
      "\n",
      "CHANGED DOCUMENT\n",
      "gewiss stadium will host a highly-anticipated serie a game between home team and away team. the home team came from behind to beat sampdoria 3-1 in a midweek clash, with the team moving closer to the champions league berth. home team aim to give fans yet another reason for celebration, and they are likely to stick to their attacking style of play. slovenia international josip ilicic is widely expected to return to the starting xi after finding the net in the midweek triumph, whereas all pessina, djimsiti, gosens, hateboer, demiral, and toloi should miss out with injuries. \n",
      "\n",
      "the away team, on the other hand, recorded a hard-fought 1-0 win over fiorentina in their last league match. away team, though, are not regarded as good travelers, which is probably the main reason why home win should be considered. both adekanye and zaccagni are sidelined with injuries for the visiting team. \n"
     ]
    }
   ],
   "source": [
    "print(\"Game: \"+h_team+\" - \"+a_team)\n",
    "print(\"ORIGINAL DOCUMENT\\n\"+description)\n",
    "description = description.lower()\n",
    "for key in syn.keys():\n",
    "    for val in syn[key]:\n",
    "        description = description.replace(val.lower(), key)\n",
    "\n",
    "print(\"\\n\\nCHANGED DOCUMENT\\n\"+description)"
   ]
  }
 ],
 "metadata": {
  "kernelspec": {
   "display_name": "Python 3.8.8 ('base')",
   "language": "python",
   "name": "python3"
  },
  "language_info": {
   "codemirror_mode": {
    "name": "ipython",
    "version": 3
   },
   "file_extension": ".py",
   "mimetype": "text/x-python",
   "name": "python",
   "nbconvert_exporter": "python",
   "pygments_lexer": "ipython3",
   "version": "3.8.8"
  },
  "orig_nbformat": 4,
  "vscode": {
   "interpreter": {
    "hash": "b51fba03621ea2707aa24f127a4f74542be1adffaa0a8f5a15c5b0606de1417a"
   }
  }
 },
 "nbformat": 4,
 "nbformat_minor": 2
}
