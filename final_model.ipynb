{
 "cells": [
  {
   "cell_type": "markdown",
   "metadata": {},
   "source": [
    "# Modello finale"
   ]
  },
  {
   "cell_type": "code",
   "execution_count": 50,
   "metadata": {},
   "outputs": [],
   "source": [
    "import util_strings as utils"
   ]
  },
  {
   "cell_type": "code",
   "execution_count": 51,
   "metadata": {},
   "outputs": [],
   "source": [
    "import pickle\n",
    "tfidf = True\n",
    "\n",
    "vectorizer = pickle.load(open(utils.TfidfVectorizer if tfidf else utils.CountVectorizer, 'rb'))\n",
    "football_prediction = pickle.load(open(utils.classificatorTfIdf if tfidf else utils.classificatorCV_LR, 'rb'))"
   ]
  },
  {
   "cell_type": "markdown",
   "metadata": {},
   "source": [
    "Qui devo: \n",
    "* caricare il modello di football prediction, ottenere le etichette ed usarle nel dataset finale\n",
    "* convertire ciascuna etichetta in 0 1 2 (verificare che non ci siano dati vuoti)\n",
    "* allenare il modello su tutti i dati"
   ]
  },
  {
   "cell_type": "code",
   "execution_count": 52,
   "metadata": {},
   "outputs": [],
   "source": [
    "import pandas as pd\n",
    "import json\n",
    "completed = pd.read_csv(utils.completed_dataset, index_col=0)\n",
    "completed = completed[completed.prediction != 'NAN']\n",
    "\n",
    "with open(utils.teams_codes, 'rb') as json_file:\n",
    "    id_set = json.load(json_file)\n",
    "\n",
    "#prendo il valore dell'ultimo id, in modo tale da assegnarlo alla prossima squadra\n",
    "cont = 0\n",
    "for team, id in id_set.items():\n",
    "    if id == cont:\n",
    "        cont+=1\n",
    "\n",
    "import numpy as np\n",
    "teams = np.append(completed.home.unique(), completed.away.unique())\n",
    "teams = np.unique(teams)"
   ]
  },
  {
   "cell_type": "code",
   "execution_count": 53,
   "metadata": {},
   "outputs": [],
   "source": [
    "keys = id_set.keys()\n",
    "for team in teams:\n",
    "    if team.lower() not in keys:\n",
    "        id_set[team.lower()]=cont\n",
    "        cont+=1"
   ]
  },
  {
   "cell_type": "code",
   "execution_count": 54,
   "metadata": {},
   "outputs": [],
   "source": [
    "from my_tokenizer import MyTokenizer\n",
    "mt = MyTokenizer(completed)\n",
    "mt.feature_normalization()\n",
    "mt.clean_text()\n",
    "vectorized = vectorizer.transform(mt.cleaned_corpus)"
   ]
  },
  {
   "cell_type": "code",
   "execution_count": 55,
   "metadata": {},
   "outputs": [],
   "source": [
    "labels = football_prediction.predict(vectorized)"
   ]
  },
  {
   "cell_type": "markdown",
   "metadata": {},
   "source": [
    "Ora queste etichette le metto nel dataset completo"
   ]
  },
  {
   "cell_type": "code",
   "execution_count": 56,
   "metadata": {},
   "outputs": [],
   "source": [
    "final_dataset = completed.copy()\n",
    "index = 0\n",
    "\n",
    "dict_result = {'N': 0, 'V': 1, 'P': 2}\n",
    "for i, row in completed.iterrows():\n",
    "    final_dataset.at[i, 'prediction'] = labels[index]\n",
    "    final_dataset.at[i, 'result'] = dict_result[row.result]\n",
    "    final_dataset.at[i, 'home'] = id_set[row.home]\n",
    "    final_dataset.at[i, 'away'] = id_set[row.away]\n",
    "\n",
    "    final_dataset.at[i, 'rank'] = row.rank_h-row.rank_a\n",
    "\n",
    "    index += 1"
   ]
  },
  {
   "cell_type": "markdown",
   "metadata": {},
   "source": [
    "Ora che ho ottenuto le etichette, i valori nulli li sostituisco con -1, se no perdo le partite"
   ]
  },
  {
   "cell_type": "code",
   "execution_count": 57,
   "metadata": {},
   "outputs": [],
   "source": [
    "final_dataset['home'] = final_dataset['home'].astype(float)\n",
    "final_dataset['away'] = final_dataset['away'].astype(float)\n",
    "final_dataset['prediction'] = final_dataset['prediction'].astype(float)\n",
    "final_dataset['result'] = final_dataset['result'].astype(float)"
   ]
  },
  {
   "cell_type": "markdown",
   "metadata": {},
   "source": [
    "Ora che ho ottenuto il dataset come deve essere ottenuto, posso fare la classificazione secondo Decision Tree o Random Forest"
   ]
  },
  {
   "cell_type": "markdown",
   "metadata": {},
   "source": [
    "Normalizzazione dei dati"
   ]
  },
  {
   "cell_type": "code",
   "execution_count": 58,
   "metadata": {},
   "outputs": [],
   "source": [
    "from sklearn import preprocessing\n",
    "\n",
    "final_dataset.drop(columns=['description', 'date', 'season','rank_h','rank_a'], inplace=True)"
   ]
  },
  {
   "cell_type": "code",
   "execution_count": 59,
   "metadata": {},
   "outputs": [],
   "source": [
    "str_format = 'Tfidf' if tfidf else 'CV'\n",
    "final_dataset.to_csv(utils.final_dataset.format(str_format))"
   ]
  },
  {
   "cell_type": "code",
   "execution_count": 60,
   "metadata": {},
   "outputs": [
    {
     "data": {
      "text/plain": [
       "(779, 1627)"
      ]
     },
     "execution_count": 60,
     "metadata": {},
     "output_type": "execute_result"
    }
   ],
   "source": [
    "count = 0\n",
    "for d, i in final_dataset.iterrows():\n",
    "    if i.result == i.prediction:\n",
    "        count+=1\n",
    "        \n",
    "count,len(final_dataset)"
   ]
  },
  {
   "cell_type": "code",
   "execution_count": 61,
   "metadata": {},
   "outputs": [],
   "source": [
    "from sklearn.tree import DecisionTreeClassifier\n",
    "from sklearn.ensemble import RandomForestClassifier\n",
    "from sklearn.model_selection import train_test_split\n",
    "from sklearn.linear_model import LogisticRegression\n",
    "from sklearn.neighbors import KNeighborsClassifier\n",
    "from sklearn.svm import SVC\n",
    "\n",
    "model = RandomForestClassifier()\n",
    "X_train, X_test, y_train, y_test = train_test_split(final_dataset[[x for x in final_dataset.columns if x != 'result']], final_dataset['result'], test_size=0.2, shuffle=True) "
   ]
  },
  {
   "cell_type": "code",
   "execution_count": 62,
   "metadata": {},
   "outputs": [
    {
     "name": "stdout",
     "output_type": "stream",
     "text": [
      "0.5766871165644172\n",
      "0.5828220858895705\n"
     ]
    }
   ],
   "source": [
    "import sklearn.metrics as mtr\n",
    "\n",
    "accuracy = 0\n",
    "min_acc = 0.58\n",
    "#min_acc = 0.52\n",
    "while(accuracy < min_acc):\n",
    "    model.fit(X_train, y_train)\n",
    "    y_pred = model.predict(X_test)\n",
    "    analysis = pd.DataFrame()\n",
    "            \n",
    "    report = mtr.classification_report(y_test, y_pred, output_dict=True, zero_division=0)\n",
    "\n",
    "    if accuracy < report['accuracy']:\n",
    "        accuracy = report['accuracy']\n",
    "        print(accuracy)\n",
    "\n",
    "analysis = {\n",
    "        'Model': 'DecisionTree', 'Accuracy': report['accuracy'],\n",
    "        'Avg Precision (macro)': report['macro avg']['precision'],\n",
    "        'Avg Recall (macro)': report['macro avg']['recall'],\n",
    "        'Avg F1-score (macro)': report['macro avg']['f1-score'],\n",
    "        'Avg Precision (weighted)': report['weighted avg']['precision'],\n",
    "        'Avg Recall (weighted)': report['weighted avg']['recall'],\n",
    "        'Avg F1-score (weighted)': report['weighted avg']['f1-score']\n",
    "    }"
   ]
  },
  {
   "cell_type": "code",
   "execution_count": 63,
   "metadata": {},
   "outputs": [
    {
     "data": {
      "image/png": "[encoded data removed]",
      "text/plain": [
       "<Figure size 360x360 with 2 Axes>"
      ]
     },
     "metadata": {
      "needs_background": "light"
     },
     "output_type": "display_data"
    }
   ],
   "source": [
    "import warnings\n",
    "import matplotlib.pyplot as plt\n",
    "warnings.filterwarnings('ignore')\n",
    "\n",
    "cm = mtr.confusion_matrix(y_test, y_pred)\n",
    "d = mtr.ConfusionMatrixDisplay(cm, model.classes_)\n",
    "fig, ax = plt.subplots(figsize=(5,5))\n",
    "d.plot(ax=ax, cmap='Greens')\n",
    "plt.tight_layout()\n",
    "plt.show()"
   ]
  },
  {
   "cell_type": "code",
   "execution_count": 64,
   "metadata": {},
   "outputs": [],
   "source": [
    "import pickle\n",
    "\n",
    "classificator = utils.final_classificator_Tfidf if tfidf else utils.final_classificator_CV\n",
    "with open(classificator, 'wb') as file:\n",
    "    pickle.dump(model, file)"
   ]
  }
 ],
 "metadata": {
  "kernelspec": {
   "display_name": "Python 3.8.8 ('base')",
   "language": "python",
   "name": "python3"
  },
  "language_info": {
   "codemirror_mode": {
    "name": "ipython",
    "version": 3
   },
   "file_extension": ".py",
   "mimetype": "text/x-python",
   "name": "python",
   "nbconvert_exporter": "python",
   "pygments_lexer": "ipython3",
   "version": "3.8.8"
  },
  "orig_nbformat": 4,
  "vscode": {
   "interpreter": {
    "hash": "b51fba03621ea2707aa24f127a4f74542be1adffaa0a8f5a15c5b0606de1417a"
   }
  }
 },
 "nbformat": 4,
 "nbformat_minor": 2
}
