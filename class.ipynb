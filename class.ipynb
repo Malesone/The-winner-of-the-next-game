{
 "cells": [
  {
   "cell_type": "code",
   "execution_count": 3,
   "metadata": {},
   "outputs": [],
   "source": [
    "import pandas as pd\n",
    "from pandas.plotting import scatter_matrix\n",
    "\n",
    "dataset = pd.read_csv(\"merged_matches.csv\", index_col=0)\n",
    "\n",
    "columns_for_ML = {\n",
    "    'goals_diff': (dataset['h_goals']-dataset['a_goals']),\n",
    "    'total_shots_diff': (dataset['h_total_shots']-dataset['a_total_shots']),\n",
    "    'shots_on_target_diff': (dataset['h_shots_on_target']-dataset['a_shots_on_target']),\n",
    "    'goals_on_penalty_diff': (dataset['h_goals_on_penalty']-dataset['a_goals_on_penalty']),\n",
    "    'total_penalties_diff': (dataset['h_total_penalties']-dataset['a_total_penalties']),\n",
    "    'completed_passings_diff': (dataset['h_completed_passings']-dataset['a_completed_passings']),\n",
    "    'total_passings_diff': (dataset['h_total_passings']-dataset['a_total_passings']),\n",
    "    'corners_diff': (dataset['h_corners']-dataset['a_corners']), \n",
    "    'fouls_diff': (dataset['h_fouls']-dataset['a_fouls']), \n",
    "    'yellow_cards_diff': (dataset['h_yellow_cards']-dataset['a_yellow_cards']), \n",
    "    'red_cards_diff': (dataset['h_red_cards']-dataset['a_red_cards']), \n",
    "    'percentage_possession_diff': (dataset['h_percentage_possession']-dataset['a_percentage_possession']),\n",
    "    #'risultato': dataset[['Risultato']].replace(['V','P','N'],[0,1,2])\n",
    "}\n",
    "\n",
    "\n",
    "results = dataset[['Risultato']].replace(['V','P','N'],[0,1,2])\n",
    "dataset = dataset.drop(['Risultato'], axis=1)\n",
    "\n",
    "for key, value in columns_for_ML.items():\n",
    "    dataset[key] = value\n",
    "\n",
    "dataset.head()\n",
    "\n",
    "teams = dataset['h_team'].drop_duplicates()\n",
    "teams.values\n",
    "\n",
    "home_teams = [name+'_h' for name in teams.values]\n",
    "away_teams = [name+'_a' for name in teams.values]\n",
    "\n",
    "dataset_ML = dataset[[k for k in columns_for_ML.keys()]]"
   ]
  },
  {
   "cell_type": "code",
   "execution_count": 24,
   "metadata": {},
   "outputs": [],
   "source": [
    "\n",
    "from sklearn.model_selection import train_test_split\n",
    "\n",
    "X_train,X_test,y_train,y_test = train_test_split(dataset_ML, results, test_size=0.2, stratify = results)\n",
    "\n",
    "from sklearn.ensemble import RandomForestClassifier\n",
    "\n",
    "#rf = RandomForestClassifier(n_estimators=50, min_samples_split=10, random_state=1)\n",
    "rf=RandomForestClassifier(n_estimators=100) \n",
    "\n",
    "rf.fit(X_test, y_test['Risultato'].to_numpy())\n",
    "\n",
    "preds = rf.predict(X_test)"
   ]
  },
  {
   "cell_type": "code",
   "execution_count": 25,
   "metadata": {},
   "outputs": [
    {
     "name": "stdout",
     "output_type": "stream",
     "text": [
      "Accuracy: 1.0\n"
     ]
    }
   ],
   "source": [
    "from sklearn import metrics\n",
    "print(\"Accuracy:\",metrics.accuracy_score(y_test, preds))\n"
   ]
  },
  {
   "cell_type": "markdown",
   "metadata": {},
   "source": [
    "## Decision tree classifier"
   ]
  },
  {
   "cell_type": "code",
   "execution_count": 42,
   "metadata": {},
   "outputs": [],
   "source": [
    "dataset = pd.read_csv(\"merged_matches.csv\", index_col=0)\n",
    "dataset['Risultato'] = dataset[['Risultato']].replace(['V','P','N'],[0,1,2])"
   ]
  },
  {
   "cell_type": "code",
   "execution_count": 43,
   "metadata": {},
   "outputs": [],
   "source": [
    "dataset = dataset.drop(columns=['h_team', 'a_team', 'h_goals', 'a_goals'])"
   ]
  },
  {
   "cell_type": "code",
   "execution_count": 44,
   "metadata": {},
   "outputs": [],
   "source": [
    "features = [x for x in dataset.columns if x != 'Risultato']\n",
    "X, y = dataset[features], dataset.Risultato.values"
   ]
  },
  {
   "cell_type": "code",
   "execution_count": 45,
   "metadata": {},
   "outputs": [],
   "source": [
    "from sklearn.model_selection import train_test_split\n",
    "\n",
    "X_train, X_test, y_train, y_test = train_test_split(X, y, test_size=0.3, random_state=42)"
   ]
  },
  {
   "cell_type": "code",
   "execution_count": 46,
   "metadata": {},
   "outputs": [],
   "source": [
    "from sklearn.tree import DecisionTreeClassifier\n",
    "dt = DecisionTreeClassifier()"
   ]
  },
  {
   "cell_type": "code",
   "execution_count": 47,
   "metadata": {},
   "outputs": [],
   "source": [
    "dt.fit(X_train, y_train)\n",
    "y_hat = dt.predict(X_test)"
   ]
  },
  {
   "cell_type": "code",
   "execution_count": 48,
   "metadata": {},
   "outputs": [
    {
     "data": {
      "text/plain": [
       "array([1, 0, 0, 1, 1, 2, 0, 1, 1, 0, 2, 0, 0, 1, 1, 1, 2, 0, 0, 1, 0, 0,\n",
       "       1, 1, 2, 1, 2, 1, 2, 1, 2, 1, 0, 2, 1, 2, 0, 0, 1, 1, 1, 0, 0, 0,\n",
       "       2, 2, 0, 1, 1, 1, 1, 2, 1, 0, 1, 0, 1, 0, 1, 0, 0, 1, 2, 2, 0, 0,\n",
       "       0, 1, 0, 2, 2, 1, 1, 0, 1, 1, 0, 2, 1, 0, 0, 0, 2, 2, 0, 2, 2, 2,\n",
       "       2, 0, 0, 0, 1, 1, 1, 0, 0, 0, 0, 2, 2, 0, 2, 2, 2, 0, 1, 0, 1, 1,\n",
       "       0, 0, 0, 0])"
      ]
     },
     "execution_count": 48,
     "metadata": {},
     "output_type": "execute_result"
    }
   ],
   "source": [
    "y_hat"
   ]
  },
  {
   "cell_type": "code",
   "execution_count": 49,
   "metadata": {},
   "outputs": [],
   "source": [
    "import matplotlib.pyplot as plt\n",
    "from sklearn import tree"
   ]
  },
  {
   "cell_type": "code",
   "execution_count": 50,
   "metadata": {},
   "outputs": [
    {
     "name": "stdout",
     "output_type": "stream",
     "text": [
      "[(0, 'h_goals'), (1, 'a_goals'), (2, 'h_total_shots'), (3, 'h_shots_on_target'), (4, 'h_goals_on_penalty'), (5, 'h_total_penalties'), (6, 'h_completed_passings'), (7, 'h_total_passings'), (8, 'h_corners'), (9, 'h_percentage_possession'), (10, 'h_fouls'), (11, 'h_yellow_cards'), (12, 'h_red_cards'), (13, 'a_total_shots'), (14, 'a_shots_on_target'), (15, 'a_goals_on_penalty'), (16, 'a_total_penalties'), (17, 'a_corners'), (18, 'a_yellow_cards'), (19, 'a_red_cards'), (20, 'a_fouls'), (21, 'a_completed_passings'), (22, 'a_total_passings'), (23, 'a_percentage_possession')]\n"
     ]
    }
   ],
   "source": [
    "print(list(enumerate(features)))\n",
    "#fig, ax = plt.subplots(figsize=(8,6))\n",
    "#tree.plot_tree(dt, ax=ax)\n",
    "#plt.tight_layout()\n",
    "#plt.savefig('/Users/alfio/Teaching/2020-21/inforet/lectures/imgs/dtree.png')\n",
    "#plt.show()\n"
   ]
  },
  {
   "cell_type": "code",
   "execution_count": 51,
   "metadata": {},
   "outputs": [],
   "source": [
    "import sklearn.metrics as mtr\n",
    "import warnings\n",
    "warnings.filterwarnings('ignore')"
   ]
  },
  {
   "cell_type": "code",
   "execution_count": 52,
   "metadata": {},
   "outputs": [],
   "source": [
    "cm = mtr.confusion_matrix(y_test, y_hat)"
   ]
  },
  {
   "cell_type": "code",
   "execution_count": 53,
   "metadata": {},
   "outputs": [
    {
     "data": {
      "image/png": "[encoded data removed]",
      "text/plain": [
       "<Figure size 576x432 with 2 Axes>"
      ]
     },
     "metadata": {
      "needs_background": "light"
     },
     "output_type": "display_data"
    }
   ],
   "source": [
    "d = mtr.ConfusionMatrixDisplay(cm, ['V', 'P', 'N'])\n",
    "fig, ax = plt.subplots(figsize=(8,6))\n",
    "d.plot(ax=ax, cmap='Greens')\n",
    "plt.tight_layout()\n",
    "plt.show()"
   ]
  }
 ],
 "metadata": {
  "kernelspec": {
   "display_name": "Python 3.8.8 ('base')",
   "language": "python",
   "name": "python3"
  },
  "language_info": {
   "codemirror_mode": {
    "name": "ipython",
    "version": 3
   },
   "file_extension": ".py",
   "mimetype": "text/x-python",
   "name": "python",
   "nbconvert_exporter": "python",
   "pygments_lexer": "ipython3",
   "version": "3.8.8"
  },
  "orig_nbformat": 4,
  "vscode": {
   "interpreter": {
    "hash": "b51fba03621ea2707aa24f127a4f74542be1adffaa0a8f5a15c5b0606de1417a"
   }
  }
 },
 "nbformat": 4,
 "nbformat_minor": 2
}
