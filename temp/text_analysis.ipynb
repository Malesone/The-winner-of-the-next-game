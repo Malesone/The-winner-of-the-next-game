{
 "cells": [
  {
   "cell_type": "code",
   "execution_count": 264,
   "metadata": {},
   "outputs": [],
   "source": [
    "import numpy as np\n",
    "import pandas as pd\n",
    "from tqdm.notebook import tqdm"
   ]
  },
  {
   "cell_type": "markdown",
   "metadata": {},
   "source": [
    "# Conversione documenti (\"Juventus\" = \"home team\" or \"away team\")\n",
    "In questo script voglio leggere i documenti e dato che una squadra può avere diversi soprannomi, poi per la classificazione risulta complicato andare a capire di chi si sta parlando. Per questo motivo vado a considerare tutti i soprannomi utilizzati nella lega rispetto alle squadre e in ciascun documento (in questo caso lo faccio su un solo documento) vado a sostituire il nome della squadra e tutti i suoi soprannomi con \"home team\" o \"away team\".\n",
    "I sinonimi vengono presi da un dizionario.\n",
    "\n",
    "Ho due problemi: \n",
    "- ci sono squadre come \"Hellas Verona\" che può anche essere chiamato \"Verona\" quindi devo stare attento nel dizionario a posizionare \"Hellas Verona\" prima di \"Verona\", altrimenti se posizionassi al contrario, quando nel documento sostituisco con ad esempio \"home team\", risulta \"Hellas home team\", invece anche Hellas deve sparire\n",
    "- un problema simile a quello descritto sopra è per le abbreviazioni come \"Juve\" e \"Juventus\" quindi per non trovarci in una situazione simile \"home teamntus\" dobbiamo mettere la stringa completa prima dell'abbreviata\n",
    "\n",
    "Un altro problema è legato alla stadio, perché qui il nome di alcuni stadi come \"Olimpico di Torino\" viene presa la parola Torino e sostituita. Questo dovrebbe succedere o no? Potrei sostituire il nome dello stadio con \"home stadium\" o \"away stadium\""
   ]
  },
  {
   "cell_type": "code",
   "execution_count": 265,
   "metadata": {},
   "outputs": [],
   "source": [
    "import urllib.request\n",
    "import json\n",
    "import spacy\n",
    "nlp = spacy.load(\"en_core_web_sm\")\n",
    "\n",
    "tokenize = lambda text: [x.lemma_.lower() for x in text if x.pos_ in ['NOUN', 'PROPN', 'VERB', 'ADJ', 'ADV']]"
   ]
  },
  {
   "cell_type": "code",
   "execution_count": 266,
   "metadata": {},
   "outputs": [],
   "source": [
    "dataframe = pd.read_csv(\"description_predictions.csv\", index_col=0)"
   ]
  },
  {
   "cell_type": "code",
   "execution_count": 267,
   "metadata": {},
   "outputs": [],
   "source": [
    "with open(\"sinonimi.json\") as jsonFile:\n",
    "    jsonObject = json.load(jsonFile)\n",
    "    jsonFile.close()"
   ]
  },
  {
   "cell_type": "code",
   "execution_count": 268,
   "metadata": {},
   "outputs": [],
   "source": [
    "descriptions = dataframe.iloc[2:] #cambio il numero del record. In questo caso prendo il dataset dal record 2 in poi\n",
    "#documento utile 101 \n",
    "descriptions = descriptions.iloc[:1] #prendo una singola partita"
   ]
  },
  {
   "cell_type": "markdown",
   "metadata": {},
   "source": [
    "Estraggo le squadre, perché nel testo ci sono i soprannomi delle squadre e quindi non essendo conosciuti dal vocabolario, li sostituisco con il nome della relativa squadra"
   ]
  },
  {
   "cell_type": "code",
   "execution_count": 269,
   "metadata": {},
   "outputs": [
    {
     "name": "stdout",
     "output_type": "stream",
     "text": [
      "Hellas Verona Sassuolo \n",
      "Verona and Sassuolo take on each other in a highly-anticipated Serie A game at Stadio Marc’Antonio Bentegodi on Saturday evening. The Mastini have established themselves as a top-table side in the Italian top flight, but the game against Sassuolo will be anything but a walk in the park for the hosts. The club chiefs did well to keep hold of key players in the summer transfer window, but keep in mind that both Lasagna and Faraoni are likely to miss the season opener. \n",
      "\n",
      "The Neroverdi, on the other hand, were producing fine displays in pre-season, with the team beating both Parma and Vicenza, while sharing the spoils with Lazio. Considering that Sassuolo are likely to stick to their attacking style of play, both teams to score betting option should be considered. Centre-back Marlon is no longer part of the team, while Kyriakopoulos is banned for the match. Obiang is yet another absentee in the away team.\n"
     ]
    }
   ],
   "source": [
    "h_team, a_team, description = descriptions.h_team.values[0], descriptions.a_team.values[0], descriptions.description.values[0]\n",
    "print(h_team, a_team, \"\\n\"+description)\n",
    "\n",
    "syn = {}\n",
    "for key in jsonObject.keys():\n",
    "    if (h_team in key) or (key in h_team):\n",
    "        syn['home team'] = jsonObject[key] \n",
    "        \n",
    "    if (a_team in key) or (key in a_team):\n",
    "        syn['away team'] = jsonObject[key] "
   ]
  },
  {
   "cell_type": "code",
   "execution_count": 270,
   "metadata": {},
   "outputs": [
    {
     "name": "stdout",
     "output_type": "stream",
     "text": [
      "Game: Hellas Verona - Sassuolo\n",
      "ORIGINAL DOCUMENT\n",
      "Verona and Sassuolo take on each other in a highly-anticipated Serie A game at Stadio Marc’Antonio Bentegodi on Saturday evening. The Mastini have established themselves as a top-table side in the Italian top flight, but the game against Sassuolo will be anything but a walk in the park for the hosts. The club chiefs did well to keep hold of key players in the summer transfer window, but keep in mind that both Lasagna and Faraoni are likely to miss the season opener. \n",
      "\n",
      "The Neroverdi, on the other hand, were producing fine displays in pre-season, with the team beating both Parma and Vicenza, while sharing the spoils with Lazio. Considering that Sassuolo are likely to stick to their attacking style of play, both teams to score betting option should be considered. Centre-back Marlon is no longer part of the team, while Kyriakopoulos is banned for the match. Obiang is yet another absentee in the away team.\n",
      "\n",
      "\n",
      "CHANGED DOCUMENT\n",
      "home team and away team take on each other in a highly-anticipated serie a game at stadio marc’antonio bentegodi on saturday evening. the home team have established themselves as a top-table side in the italian top flight, but the game against away team will be anything but a walk in the park for the hosts. the club chiefs did well to keep hold of key players in the summer transfer window, but keep in mind that both lasagna and faraoni are likely to miss the season opener. \n",
      "\n",
      "the away team, on the other hand, were producing fine displays in pre-season, with the team beating both parma and vicenza, while sharing the spoils with lazio. considering that away team are likely to stick to their attacking style of play, both teams to score betting option should be considered. centre-back marlon is no longer part of the team, while kyriakopoulos is banned for the match. obiang is yet another absentee in the away team.\n"
     ]
    }
   ],
   "source": [
    "print(\"Game: \"+h_team+\" - \"+a_team)\n",
    "print(\"ORIGINAL DOCUMENT\\n\"+description)\n",
    "description = description.lower()\n",
    "for key in syn.keys():\n",
    "    for val in syn[key]:\n",
    "        description = description.replace(val.lower(), key)\n",
    "\n",
    "print(\"\\n\\nCHANGED DOCUMENT\\n\"+description)"
   ]
  }
 ],
 "metadata": {
  "kernelspec": {
   "display_name": "Python 3.8.8 ('base')",
   "language": "python",
   "name": "python3"
  },
  "language_info": {
   "codemirror_mode": {
    "name": "ipython",
    "version": 3
   },
   "file_extension": ".py",
   "mimetype": "text/x-python",
   "name": "python",
   "nbconvert_exporter": "python",
   "pygments_lexer": "ipython3",
   "version": "3.8.8"
  },
  "orig_nbformat": 4,
  "vscode": {
   "interpreter": {
    "hash": "b51fba03621ea2707aa24f127a4f74542be1adffaa0a8f5a15c5b0606de1417a"
   }
  }
 },
 "nbformat": 4,
 "nbformat_minor": 2
}
