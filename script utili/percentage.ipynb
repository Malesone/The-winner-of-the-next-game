{
 "cells": [
  {
   "cell_type": "code",
   "execution_count": 1,
   "metadata": {},
   "outputs": [],
   "source": [
    "import pandas as pd\n",
    "matches = pd.read_csv(\"Season21_22/merge_stats_shots/all_matches.csv\", index_col=0)"
   ]
  },
  {
   "cell_type": "code",
   "execution_count": 14,
   "metadata": {},
   "outputs": [
    {
     "data": {
      "text/plain": [
       "(37.10526315789474, 37.10526315789474, 25.789473684210527)"
      ]
     },
     "execution_count": 14,
     "metadata": {},
     "output_type": "execute_result"
    }
   ],
   "source": [
    "win = len(matches[matches['risultato'] == 'V'])\n",
    "lose = len(matches[matches['risultato'] == 'P'])\n",
    "draw = len(matches[matches['risultato'] == 'N'])\n",
    "\n",
    "total_games = win + lose + draw #numero totali di partite\n",
    "\n",
    "win_rate = win * 100 / total_games\n",
    "lose_rate = lose * 100 / total_games\n",
    "draw_rate = draw * 100 / total_games\n",
    "win_rate, lose_rate, draw_rate"
   ]
  }
 ],
 "metadata": {
  "kernelspec": {
   "display_name": "Python 3.8.8 ('base')",
   "language": "python",
   "name": "python3"
  },
  "language_info": {
   "codemirror_mode": {
    "name": "ipython",
    "version": 3
   },
   "file_extension": ".py",
   "mimetype": "text/x-python",
   "name": "python",
   "nbconvert_exporter": "python",
   "pygments_lexer": "ipython3",
   "version": "3.8.8"
  },
  "orig_nbformat": 4,
  "vscode": {
   "interpreter": {
    "hash": "b51fba03621ea2707aa24f127a4f74542be1adffaa0a8f5a15c5b0606de1417a"
   }
  }
 },
 "nbformat": 4,
 "nbformat_minor": 2
}
