{
 "cells": [
  {
   "cell_type": "code",
   "execution_count": 1,
   "metadata": {},
   "outputs": [],
   "source": [
    "import pandas as pd"
   ]
  },
  {
   "cell_type": "code",
   "execution_count": 38,
   "metadata": {},
   "outputs": [],
   "source": [
    "matches = pd.read_csv(\"Season21_22/merge_stats_shots/all_matches.csv\", index_col=0)"
   ]
  },
  {
   "cell_type": "code",
   "execution_count": null,
   "metadata": {},
   "outputs": [],
   "source": [
    "matches"
   ]
  },
  {
   "cell_type": "code",
   "execution_count": 20,
   "metadata": {},
   "outputs": [
    {
     "data": {
      "text/plain": [
       "(760, 34)"
      ]
     },
     "execution_count": 20,
     "metadata": {},
     "output_type": "execute_result"
    }
   ],
   "source": [
    "matches.shape"
   ]
  },
  {
   "cell_type": "code",
   "execution_count": null,
   "metadata": {},
   "outputs": [],
   "source": [
    "matches.dtypes"
   ]
  },
  {
   "cell_type": "code",
   "execution_count": 54,
   "metadata": {},
   "outputs": [
    {
     "data": {
      "text/html": [
       "<div>\n",
       "<style scoped>\n",
       "    .dataframe tbody tr th:only-of-type {\n",
       "        vertical-align: middle;\n",
       "    }\n",
       "\n",
       "    .dataframe tbody tr th {\n",
       "        vertical-align: top;\n",
       "    }\n",
       "\n",
       "    .dataframe thead th {\n",
       "        text-align: right;\n",
       "    }\n",
       "</style>\n",
       "<table border=\"1\" class=\"dataframe\">\n",
       "  <thead>\n",
       "    <tr style=\"text-align: right;\">\n",
       "      <th></th>\n",
       "      <th>data</th>\n",
       "      <th>ora</th>\n",
       "      <th>competizione</th>\n",
       "      <th>girone</th>\n",
       "      <th>giorno</th>\n",
       "      <th>stadio</th>\n",
       "      <th>risultato</th>\n",
       "      <th>rf</th>\n",
       "      <th>rs</th>\n",
       "      <th>avversario</th>\n",
       "      <th>...</th>\n",
       "      <th>g/tip</th>\n",
       "      <th>dist.</th>\n",
       "      <th>pun.</th>\n",
       "      <th>rigori</th>\n",
       "      <th>rig t</th>\n",
       "      <th>npxg</th>\n",
       "      <th>npxg/sh</th>\n",
       "      <th>g-xg</th>\n",
       "      <th>np:g-xg</th>\n",
       "      <th>team</th>\n",
       "    </tr>\n",
       "  </thead>\n",
       "  <tbody>\n",
       "    <tr>\n",
       "      <th>0</th>\n",
       "      <td>2021-08-21</td>\n",
       "      <td>20:45</td>\n",
       "      <td>Serie A</td>\n",
       "      <td>Giornata n. 1</td>\n",
       "      <td>Sab</td>\n",
       "      <td>Ospiti</td>\n",
       "      <td>V</td>\n",
       "      <td>2</td>\n",
       "      <td>1</td>\n",
       "      <td>Torino</td>\n",
       "      <td>...</td>\n",
       "      <td>100.0</td>\n",
       "      <td>146.0</td>\n",
       "      <td>0.0</td>\n",
       "      <td>0</td>\n",
       "      <td>0</td>\n",
       "      <td>1.0</td>\n",
       "      <td>14.0</td>\n",
       "      <td>1.0</td>\n",
       "      <td>1.0</td>\n",
       "      <td>Atalanta</td>\n",
       "    </tr>\n",
       "    <tr>\n",
       "      <th>1</th>\n",
       "      <td>2021-08-28</td>\n",
       "      <td>18:30</td>\n",
       "      <td>Serie A</td>\n",
       "      <td>Giornata n. 2</td>\n",
       "      <td>Sab</td>\n",
       "      <td>Casa</td>\n",
       "      <td>N</td>\n",
       "      <td>0</td>\n",
       "      <td>0</td>\n",
       "      <td>Bologna</td>\n",
       "      <td>...</td>\n",
       "      <td>0.0</td>\n",
       "      <td>190.0</td>\n",
       "      <td>2.0</td>\n",
       "      <td>0</td>\n",
       "      <td>0</td>\n",
       "      <td>1.0</td>\n",
       "      <td>5.0</td>\n",
       "      <td>-1.0</td>\n",
       "      <td>-1.0</td>\n",
       "      <td>Atalanta</td>\n",
       "    </tr>\n",
       "    <tr>\n",
       "      <th>2</th>\n",
       "      <td>2021-11-09</td>\n",
       "      <td>20:45</td>\n",
       "      <td>Serie A</td>\n",
       "      <td>Giornata n. 3</td>\n",
       "      <td>Sab</td>\n",
       "      <td>Casa</td>\n",
       "      <td>P</td>\n",
       "      <td>1</td>\n",
       "      <td>2</td>\n",
       "      <td>Fiorentina</td>\n",
       "      <td>...</td>\n",
       "      <td>0.0</td>\n",
       "      <td>101.0</td>\n",
       "      <td>0.0</td>\n",
       "      <td>1</td>\n",
       "      <td>1</td>\n",
       "      <td>1.7</td>\n",
       "      <td>15.0</td>\n",
       "      <td>-1.5</td>\n",
       "      <td>-1.7</td>\n",
       "      <td>Atalanta</td>\n",
       "    </tr>\n",
       "    <tr>\n",
       "      <th>3</th>\n",
       "      <td>2021-09-18</td>\n",
       "      <td>20:45</td>\n",
       "      <td>Serie A</td>\n",
       "      <td>Giornata n. 4</td>\n",
       "      <td>Sab</td>\n",
       "      <td>Ospiti</td>\n",
       "      <td>V</td>\n",
       "      <td>1</td>\n",
       "      <td>0</td>\n",
       "      <td>Salernitana</td>\n",
       "      <td>...</td>\n",
       "      <td>33.0</td>\n",
       "      <td>147.0</td>\n",
       "      <td>1.0</td>\n",
       "      <td>0</td>\n",
       "      <td>0</td>\n",
       "      <td>1.4</td>\n",
       "      <td>15.0</td>\n",
       "      <td>-0.4</td>\n",
       "      <td>-0.4</td>\n",
       "      <td>Atalanta</td>\n",
       "    </tr>\n",
       "    <tr>\n",
       "      <th>4</th>\n",
       "      <td>2021-09-21</td>\n",
       "      <td>20:45</td>\n",
       "      <td>Serie A</td>\n",
       "      <td>Giornata n. 5</td>\n",
       "      <td>Mar</td>\n",
       "      <td>Casa</td>\n",
       "      <td>V</td>\n",
       "      <td>2</td>\n",
       "      <td>1</td>\n",
       "      <td>Sassuolo</td>\n",
       "      <td>...</td>\n",
       "      <td>40.0</td>\n",
       "      <td>167.0</td>\n",
       "      <td>1.0</td>\n",
       "      <td>0</td>\n",
       "      <td>0</td>\n",
       "      <td>1.6</td>\n",
       "      <td>11.0</td>\n",
       "      <td>0.4</td>\n",
       "      <td>0.4</td>\n",
       "      <td>Atalanta</td>\n",
       "    </tr>\n",
       "  </tbody>\n",
       "</table>\n",
       "<p>5 rows × 34 columns</p>\n",
       "</div>"
      ],
      "text/plain": [
       "        data    ora competizione         girone giorno  stadio risultato  rf  \\\n",
       "0 2021-08-21  20:45      Serie A  Giornata n. 1    Sab  Ospiti         V   2   \n",
       "1 2021-08-28  18:30      Serie A  Giornata n. 2    Sab    Casa         N   0   \n",
       "2 2021-11-09  20:45      Serie A  Giornata n. 3    Sab    Casa         P   1   \n",
       "3 2021-09-18  20:45      Serie A  Giornata n. 4    Sab  Ospiti         V   1   \n",
       "4 2021-09-21  20:45      Serie A  Giornata n. 5    Mar    Casa         V   2   \n",
       "\n",
       "   rs   avversario  ...  g/tip  dist.  pun.  rigori rig t npxg npxg/sh g-xg  \\\n",
       "0   1       Torino  ...  100.0  146.0   0.0       0     0  1.0    14.0  1.0   \n",
       "1   0      Bologna  ...    0.0  190.0   2.0       0     0  1.0     5.0 -1.0   \n",
       "2   2   Fiorentina  ...    0.0  101.0   0.0       1     1  1.7    15.0 -1.5   \n",
       "3   0  Salernitana  ...   33.0  147.0   1.0       0     0  1.4    15.0 -0.4   \n",
       "4   1     Sassuolo  ...   40.0  167.0   1.0       0     0  1.6    11.0  0.4   \n",
       "\n",
       "   np:g-xg      team  \n",
       "0      1.0  Atalanta  \n",
       "1     -1.0  Atalanta  \n",
       "2     -1.7  Atalanta  \n",
       "3     -0.4  Atalanta  \n",
       "4      0.4  Atalanta  \n",
       "\n",
       "[5 rows x 34 columns]"
      ]
     },
     "execution_count": 54,
     "metadata": {},
     "output_type": "execute_result"
    }
   ],
   "source": [
    "matches['data'] = pd.to_datetime(matches['data'])\n",
    "matches.head()"
   ]
  },
  {
   "cell_type": "code",
   "execution_count": null,
   "metadata": {},
   "outputs": [],
   "source": [
    "matches_by_team = matches.groupby(['team']).agg({'rf': ['mean'], 'rs': ['mean']})\n",
    "matches_by_team.columns = ['rf_mean', 'rs_mean']\n",
    "matches_by_team = matches_by_team.reset_index()\n",
    "matches_by_team"
   ]
  },
  {
   "cell_type": "code",
   "execution_count": null,
   "metadata": {},
   "outputs": [],
   "source": [
    "import matplotlib.pyplot as plt\n",
    "\n",
    "matches_by_team.plot(x ='team', y='rf_mean', kind = 'bar')\n",
    "plt.show()\n",
    "matches_by_team.plot(x ='team', y='rs_mean', kind = 'bar')\n",
    "plt.show()"
   ]
  }
 ],
 "metadata": {
  "kernelspec": {
   "display_name": "Python 3.8.8 ('base')",
   "language": "python",
   "name": "python3"
  },
  "language_info": {
   "codemirror_mode": {
    "name": "ipython",
    "version": 3
   },
   "file_extension": ".py",
   "mimetype": "text/x-python",
   "name": "python",
   "nbconvert_exporter": "python",
   "pygments_lexer": "ipython3",
   "version": "3.8.8"
  },
  "orig_nbformat": 4,
  "vscode": {
   "interpreter": {
    "hash": "b51fba03621ea2707aa24f127a4f74542be1adffaa0a8f5a15c5b0606de1417a"
   }
  }
 },
 "nbformat": 4,
 "nbformat_minor": 2
}
