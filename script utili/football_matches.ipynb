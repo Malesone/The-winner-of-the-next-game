{
 "cells": [
  {
   "cell_type": "code",
   "execution_count": 30,
   "metadata": {},
   "outputs": [],
   "source": [
    "import requests\n",
    "from bs4 import BeautifulSoup\n",
    "import pandas as pd\n",
    "import os\n",
    "import pathlib\n",
    "from tqdm import tqdm"
   ]
  },
  {
   "cell_type": "markdown",
   "metadata": {},
   "source": [
    "# Dataset Serie A matches\n",
    "Per la realizzazione del dataset ho trovato in letteratura l'elenco dei dati più importanti per la predizione dei risultati delle partite. \n",
    "\n",
    "https://iopscience.iop.org/article/10.1088/1757-899X/226/1/012099/pdf"
   ]
  },
  {
   "cell_type": "markdown",
   "metadata": {},
   "source": [
    "Per questo dataset ho utilizzato le statistiche della stagione 2021/22"
   ]
  },
  {
   "cell_type": "code",
   "execution_count": 31,
   "metadata": {},
   "outputs": [],
   "source": [
    "headers = {'User-Agent': \n",
    "                'Mozilla/5.0 (X11; Linux x86_64) AppleWebKit/537.36 (KHTML, like Gecko) Chrome/47.0.2526.106 Safari/537.36'}\n",
    "\n",
    "page = \"https://fbref.com/it/comp/11/2021-2022/Statistiche-di-Serie-A-2021-2022\"\n",
    "pageTree = requests.get(page)\n",
    "soup = BeautifulSoup(pageTree.text, features=\"lxml\")"
   ]
  },
  {
   "cell_type": "code",
   "execution_count": 32,
   "metadata": {},
   "outputs": [],
   "source": [
    "table = soup.select('table.stats_table')[0]\n",
    "a_hrefs = table.find_all('a')"
   ]
  },
  {
   "cell_type": "code",
   "execution_count": 33,
   "metadata": {},
   "outputs": [],
   "source": [
    "home_main_factors = [\"team\", \"goals\", \"total_shots\", \"shots_on_target\", \"goals_on_penalty\", \"total_penalties\", \"free_kick\", \"corners\", \"yellow_cards\", \"red_cards\", \"fouls\", \"completed_passings\",  \"total_passings\", \"percentage_possession\"]\n",
    "\n",
    "away_main_factors = [\"team\", \"goals\", \"total_shots\", \"shots_on_target\", \"goals_on_penalty\", \"total_penalties\", \"free_kick\", \"corners\", \"yellow_cards\", \"red_cards\", \"fouls\", \"completed_passings\",  \"total_passings\", \"percentage_possession\"]\n",
    "\n",
    "home_main_factors = [\"home_\"+factor for factor in home_main_factors]\n",
    "away_main_factors = [\"away_\"+factor for factor in away_main_factors]"
   ]
  },
  {
   "cell_type": "code",
   "execution_count": 34,
   "metadata": {},
   "outputs": [],
   "source": [
    "teams = [a_href for a_href in a_hrefs if '/squadre/' in str(a_href)]        \n",
    "#for team in teams:\n",
    "teams.sort(key=lambda x: x.contents[0]) #ordinamento per titolo"
   ]
  },
  {
   "cell_type": "code",
   "execution_count": 17,
   "metadata": {},
   "outputs": [],
   "source": [
    "#questo dizionario contiene come chiave i link ai bottoni che permettono di portare ai link dei vari dataset della squadra e come valore il nome della parte di html che permette di accedere al dataset\n",
    "util_hrefs = {\n",
    "    'all_comps/shooting/': {\n",
    "        'section': 'Tiri',\n",
    "        'columns': ['Data', 'Tiri','Tiri.1','Rigori','Rig T']\n",
    "        },\n",
    "    'all_comps/passing/': {\n",
    "        'section': 'Passaggi',\n",
    "        'columns': ['Data', 'Compl.', 'Tent,']\n",
    "        },\n",
    "        \n",
    "    'all_comps/passing_types': {\n",
    "        'section': 'Tipologie di passaggi',\n",
    "        'columns': ['Data', 'Angoli']\n",
    "        },\n",
    "    'all_comps/possession': {\n",
    "        'section': 'Possesso palla',\n",
    "        'columns': ['Data', 'Poss.']\n",
    "        },\n",
    "    'all_comps/misc': {\n",
    "        'section': 'Statistiche varie',\n",
    "        'columns': ['Data', 'Falli', 'Amm.', 'Esp.']\n",
    "        },\n",
    "}"
   ]
  },
  {
   "cell_type": "code",
   "execution_count": 35,
   "metadata": {},
   "outputs": [],
   "source": [
    "datasets = pd.DataFrame()\n",
    "home_games = pd.DataFrame()\n",
    "away_games = pd.DataFrame()"
   ]
  },
  {
   "cell_type": "code",
   "execution_count": 36,
   "metadata": {},
   "outputs": [
    {
     "name": "stderr",
     "output_type": "stream",
     "text": [
      "100%|██████████| 20/20 [00:56<00:00,  2.84s/it]\n"
     ]
    }
   ],
   "source": [
    "from queue import Empty\n",
    "\n",
    "for team in tqdm(teams[:2]):\n",
    "    team_name = team.contents[0]\n",
    "    link = f\"https://fbref.com{team.get('href')}\"\n",
    "    data = requests.get(link)\n",
    "    games = pd.read_html(data.text, match=\"Punteggi e partite\")[0]\n",
    "\n",
    "    matches = games[games['Competizione'] == 'Serie A']\n",
    "    matches = matches[['Data', 'Stadio', 'Risultato', 'Rf','Avversario','Rs']]\n",
    "    #match[home_main_factors[0]] = team_name\n",
    "    matches.insert(0, home_main_factors[0], team_name)\n",
    "    matches = matches.rename(columns={'Rf': home_main_factors[1], 'Avversario': away_main_factors[0], 'Rs': away_main_factors[1]})\n",
    "    \n",
    "    #ottengo il dataset della singola squadra con tutti i dati che servono\n",
    "    soup = BeautifulSoup(data.text, features=\"lxml\")\n",
    "    links = soup.find_all('a')\n",
    "\n",
    "    href_links = [l.get(\"href\") for l in links]\n",
    "\n",
    "    old_dataset = matches\n",
    "    for href_key, section_value in util_hrefs.items():\n",
    "        div_links = [l for l in href_links if l and href_key in l]\n",
    "        #prendo il link e ottengo l'html\n",
    "        html = requests.get(f\"https://fbref.com{div_links[0]}\")\n",
    "        \n",
    "        section, columns = section_value.items()\n",
    "        section, columns = section[1], columns[1]\n",
    "        #ottengo il dataset della pima sezione indicata nel match\n",
    "        dataset_section = pd.read_html(html.text, match=section)[0]\n",
    "        #elimino l'intestazione \"Di: NomeSquadra\"\n",
    "        dataset_section.columns = dataset_section.columns.droplevel()\n",
    "        #filtro il dataset per la competizione\n",
    "        dataset_section = dataset_section[dataset_section['Competizione'] == 'Serie A']\n",
    "        #filtro il dataset per le colonne selezionate\n",
    "        dataset_section = dataset_section[[col for col in columns]]\n",
    "        #print(dataset_section.columns)\n",
    "        if section == 'Passaggi':\n",
    "            column_names = dataset_section.columns.values\n",
    "            column_names[1] = 'Compl'\n",
    "            column_names[5] = 'Tent'\n",
    "            dataset_section = dataset_section[['Data','Compl','Tent']]\n",
    "\n",
    "        old_dataset = pd.merge(old_dataset, dataset_section, on = [\"Data\"])\n",
    "    \n",
    "    datasets = datasets.append(old_dataset)"
   ]
  },
  {
   "cell_type": "markdown",
   "metadata": {},
   "source": [
    "Rinomino tutte le colonne considerando come se tutte le squadre giocassero in casa"
   ]
  },
  {
   "cell_type": "code",
   "execution_count": 42,
   "metadata": {},
   "outputs": [],
   "source": [
    "home_games = datasets[datasets['Stadio']=='Casa']\n",
    "away_games = datasets[datasets['Stadio']=='Ospiti']"
   ]
  },
  {
   "cell_type": "code",
   "execution_count": 43,
   "metadata": {},
   "outputs": [],
   "source": [
    "home_dataset = home_games.rename(columns={'Tiri': home_main_factors[2], 'Tiri.1': home_main_factors[3], 'Rigori': home_main_factors[4], 'Rig T': home_main_factors[5], 'Compl': home_main_factors[11], 'Tent': home_main_factors[12], 'Angoli': home_main_factors[7], 'Poss.': home_main_factors[13], 'Falli': home_main_factors[10], 'Amm.': home_main_factors[8], 'Esp.': home_main_factors[9]})\n",
    "\n",
    "away_dataset = away_games.rename(columns={'home_team': away_main_factors[0], 'away_team': home_main_factors[0], 'home_goals': away_main_factors[1], 'away_goals': home_main_factors[1], 'Tiri': away_main_factors[2], 'Tiri.1': away_main_factors[3], 'Rigori': away_main_factors[4], 'Rig T': away_main_factors[5], 'Compl': away_main_factors[11], 'Tent': away_main_factors[12], 'Angoli': away_main_factors[7], 'Poss.': away_main_factors[13], 'Falli': away_main_factors[10], 'Amm.': away_main_factors[8], 'Esp.': away_main_factors[9]})\n"
   ]
  },
  {
   "cell_type": "code",
   "execution_count": 44,
   "metadata": {},
   "outputs": [],
   "source": [
    "home_dataset.to_csv(\"homes.csv\")\n",
    "away_dataset.to_csv(\"aways.csv\")"
   ]
  }
 ],
 "metadata": {
  "kernelspec": {
   "display_name": "Python 3.8.8 ('base')",
   "language": "python",
   "name": "python3"
  },
  "language_info": {
   "codemirror_mode": {
    "name": "ipython",
    "version": 3
   },
   "file_extension": ".py",
   "mimetype": "text/x-python",
   "name": "python",
   "nbconvert_exporter": "python",
   "pygments_lexer": "ipython3",
   "version": "3.8.8"
  },
  "orig_nbformat": 4,
  "vscode": {
   "interpreter": {
    "hash": "b51fba03621ea2707aa24f127a4f74542be1adffaa0a8f5a15c5b0606de1417a"
   }
  }
 },
 "nbformat": 4,
 "nbformat_minor": 2
}
