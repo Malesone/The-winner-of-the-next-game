{
 "cells": [
  {
   "cell_type": "code",
   "execution_count": 13,
   "metadata": {},
   "outputs": [],
   "source": [
    "import requests\n",
    "from bs4 import BeautifulSoup\n",
    "import pandas as pd\n",
    "\n",
    "headers = {'User-Agent': \n",
    "           'Mozilla/5.0 (X11; Linux x86_64) AppleWebKit/537.36 (KHTML, like Gecko) Chrome/47.0.2526.106 Safari/537.36'}"
   ]
  },
  {
   "cell_type": "code",
   "execution_count": 14,
   "metadata": {},
   "outputs": [],
   "source": [
    "page = \"https://www.kickest.it/en/serie-a/injuries\"\n",
    "pageTree = requests.get(page, headers=headers)\n",
    "soup = BeautifulSoup(pageTree.content, 'html.parser')"
   ]
  },
  {
   "cell_type": "code",
   "execution_count": 18,
   "metadata": {},
   "outputs": [],
   "source": [
    "teams = soup.find_all('article', class_='injuries-box mt-4')"
   ]
  },
  {
   "cell_type": "code",
   "execution_count": 20,
   "metadata": {},
   "outputs": [],
   "source": [
    "dict = {\n",
    "    'Name' : [],\n",
    "    'Status' : [],\n",
    "    'Team' : [],\n",
    "}\n",
    "\n",
    "for team_html in teams: \n",
    "    team_name = team_html.find('h2', class_='injuries-box__team').get_text()\n",
    "    \n",
    "    table = team_html.find_all('tbody')\n",
    "    for t in table: \n",
    "        players = t.find_all('tr')\n",
    "        for player in players: \n",
    "            attributes = player.find_all('td')\n",
    "            dict['Name'].append(attributes[0].get_text())\n",
    "            dict['Status'].append(attributes[3].get_text())\n",
    "            dict['Team'].append(team_name)\n",
    "        \n",
    "\n",
    "df = pd.DataFrame(dict)\n"
   ]
  },
  {
   "cell_type": "code",
   "execution_count": 21,
   "metadata": {},
   "outputs": [],
   "source": [
    "csv_data = df.to_csv('datasets/injuries_banned.csv')\n"
   ]
  }
 ],
 "metadata": {
  "kernelspec": {
   "display_name": "Python 3.8.8 ('base')",
   "language": "python",
   "name": "python3"
  },
  "language_info": {
   "codemirror_mode": {
    "name": "ipython",
    "version": 3
   },
   "file_extension": ".py",
   "mimetype": "text/x-python",
   "name": "python",
   "nbconvert_exporter": "python",
   "pygments_lexer": "ipython3",
   "version": "3.8.8"
  },
  "orig_nbformat": 4,
  "vscode": {
   "interpreter": {
    "hash": "b51fba03621ea2707aa24f127a4f74542be1adffaa0a8f5a15c5b0606de1417a"
   }
  }
 },
 "nbformat": 4,
 "nbformat_minor": 2
}
