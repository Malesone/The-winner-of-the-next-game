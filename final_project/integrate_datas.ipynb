{
 "cells": [
  {
   "cell_type": "markdown",
   "metadata": {},
   "source": [
    "Come dovrebbe funzionare?\n",
    "Partiamo da zero.\n",
    "\n",
    "\n",
    "Devo eseguire lo script download per scaricare tutte le partite con tutte le statistiche della stagione corrente. \n",
    "Eseguito lo script ottengo un file matches_ordered_by_date.csv contenente tutte le partite giocate da tutte le squadre, indipendentemente che giochino in casa o in trasferta. Le partite saranno 380, ma doppie in questo file perché ci sono le statistiche di ciascuna squadra, un record per le statistiche della squadra di home e uno per la squadra away.\n",
    "\n",
    "Una volta eseguito bisogna effettuare l'analisi dei dati. \n",
    "Viene letto il file creato in precedenza e vengono creati due dataset: uno home e uno away.\n",
    "Viene creato un unico dataset con le statistiche che sono date dalla differenza della media delle statistiche precedenti di ciascun match delle due squadre coinvolte nel match.\n",
    "\n",
    "Terminato questo procedimento posso procedere con il calcolo del ranking.\n",
    "I risultati delle stagioni precedenti vengono salvati su file csv in precedenza. \n",
    "In questa fase leggo i vari file e per ciascuna partita calcolo il ranking.\n",
    "Ovviamente deve essere integrato con la stagione attuale, quindi leggo nelle date precedenti se ci sono stati match tra le due squadre e agisco di conseguenza. "
   ]
  },
  {
   "cell_type": "code",
   "execution_count": 1,
   "metadata": {},
   "outputs": [],
   "source": [
    "from analysis import MatchAnalysis\n",
    "from ranking import Ranking\n",
    "from classification import Classification"
   ]
  },
  {
   "cell_type": "code",
   "execution_count": 2,
   "metadata": {},
   "outputs": [],
   "source": [
    "r = Ranking(\"SerieA\", '2021-2022')\n",
    "r.download_matches(seasons=4)\n",
    "ma = MatchAnalysis()\n",
    "ma.set_ranking(r)"
   ]
  },
  {
   "cell_type": "code",
   "execution_count": 3,
   "metadata": {},
   "outputs": [],
   "source": [
    "ma.divide_and_merge_home_away()\n",
    "ma.create_team_dataset()\n",
    "ma.split_and_set_avg(True, 10) #se True viene fatta la media delle statistiche anche su train set (il numero di record usati per la media viene settato con X), se False solo su test set (il numero di record usati per la media viene settato con X)"
   ]
  },
  {
   "cell_type": "code",
   "execution_count": 4,
   "metadata": {},
   "outputs": [
    {
     "data": {
      "text/html": [
       "<div>\n",
       "<style scoped>\n",
       "    .dataframe tbody tr th:only-of-type {\n",
       "        vertical-align: middle;\n",
       "    }\n",
       "\n",
       "    .dataframe tbody tr th {\n",
       "        vertical-align: top;\n",
       "    }\n",
       "\n",
       "    .dataframe thead th {\n",
       "        text-align: right;\n",
       "    }\n",
       "</style>\n",
       "<table border=\"1\" class=\"dataframe\">\n",
       "  <thead>\n",
       "    <tr style=\"text-align: right;\">\n",
       "      <th></th>\n",
       "      <th>Accuracy</th>\n",
       "      <th>Avg Precision (macro)</th>\n",
       "      <th>Avg Recall (macro)</th>\n",
       "      <th>Avg F1-score (macro)</th>\n",
       "      <th>Avg Precision (weighted)</th>\n",
       "      <th>Avg Recall (weighted)</th>\n",
       "      <th>Avg F1-score (weighted)</th>\n",
       "    </tr>\n",
       "    <tr>\n",
       "      <th>Model</th>\n",
       "      <th></th>\n",
       "      <th></th>\n",
       "      <th></th>\n",
       "      <th></th>\n",
       "      <th></th>\n",
       "      <th></th>\n",
       "      <th></th>\n",
       "    </tr>\n",
       "  </thead>\n",
       "  <tbody>\n",
       "    <tr>\n",
       "      <th>Random Forest</th>\n",
       "      <td>0.381579</td>\n",
       "      <td>0.331772</td>\n",
       "      <td>0.335317</td>\n",
       "      <td>0.327069</td>\n",
       "      <td>0.371769</td>\n",
       "      <td>0.381579</td>\n",
       "      <td>0.369449</td>\n",
       "    </tr>\n",
       "  </tbody>\n",
       "</table>\n",
       "</div>"
      ],
      "text/plain": [
       "               Accuracy  Avg Precision (macro)  Avg Recall (macro)  \\\n",
       "Model                                                                \n",
       "Random Forest  0.381579               0.331772            0.335317   \n",
       "\n",
       "               Avg F1-score (macro)  Avg Precision (weighted)  \\\n",
       "Model                                                           \n",
       "Random Forest              0.327069                  0.371769   \n",
       "\n",
       "               Avg Recall (weighted)  Avg F1-score (weighted)  \n",
       "Model                                                          \n",
       "Random Forest               0.381579                 0.369449  "
      ]
     },
     "metadata": {},
     "output_type": "display_data"
    }
   ],
   "source": [
    "c = Classification(ma.X_train, ma.X_test, ma.y_train, ma.y_test)\n",
    "c.create_models()\n",
    "c.gen_report()\n",
    "c.get_higher_accuracies(0.1)"
   ]
  },
  {
   "cell_type": "code",
   "execution_count": null,
   "metadata": {},
   "outputs": [],
   "source": [
    "accuracy = 0\n",
    "\n",
    "while(accuracy < 0.54):\n",
    "    c.create_models()\n",
    "    c.gen_report()\n",
    "    accuracy = c.E.Accuracy.values[0]\n",
    "\n",
    "c.get_higher_accuracies(0.1)\n",
    "c.save_best_model(\"stats\")"
   ]
  }
 ],
 "metadata": {
  "kernelspec": {
   "display_name": "Python 3.8.8 ('base')",
   "language": "python",
   "name": "python3"
  },
  "language_info": {
   "codemirror_mode": {
    "name": "ipython",
    "version": 3
   },
   "file_extension": ".py",
   "mimetype": "text/x-python",
   "name": "python",
   "nbconvert_exporter": "python",
   "pygments_lexer": "ipython3",
   "version": "3.8.8"
  },
  "orig_nbformat": 4,
  "vscode": {
   "interpreter": {
    "hash": "b51fba03621ea2707aa24f127a4f74542be1adffaa0a8f5a15c5b0606de1417a"
   }
  }
 },
 "nbformat": 4,
 "nbformat_minor": 2
}
