{
 "cells": [
  {
   "cell_type": "code",
   "execution_count": 1,
   "metadata": {},
   "outputs": [],
   "source": [
    "from analysis import MatchAnalysis\n",
    "from classification import Classification\n",
    "from ranking import Ranking\n",
    "import pandas as pd\n",
    "\n",
    "ma = MatchAnalysis(\"files/2021_2022/statsFE_21_22.csv\")\n",
    "ma.diff_dataset = pd.read_csv('dataset_completo.csv', index_col=0)"
   ]
  },
  {
   "cell_type": "code",
   "execution_count": 2,
   "metadata": {},
   "outputs": [],
   "source": [
    "ma.merge_()"
   ]
  },
  {
   "cell_type": "code",
   "execution_count": 3,
   "metadata": {},
   "outputs": [],
   "source": [
    "c = Classification(ma.X_train, ma.X_test, ma.y_train, ma.y_test) "
   ]
  },
  {
   "cell_type": "code",
   "execution_count": null,
   "metadata": {},
   "outputs": [],
   "source": [
    "accuracy = 0\n",
    "max = 0\n",
    "\n",
    "while(accuracy < 0.56):\n",
    "    c.create_models()\n",
    "    c.gen_report()\n",
    "    accuracy = c.E.Accuracy.values[0]\n",
    "    if accuracy > max:\n",
    "        c.max_accuracy = c.models[0]\n",
    "        max = accuracy\n",
    "        print(max)\n",
    "\n",
    "c.save_best_model(\"stats\")"
   ]
  }
 ],
 "metadata": {
  "kernelspec": {
   "display_name": "Python 3.8.8 ('base')",
   "language": "python",
   "name": "python3"
  },
  "language_info": {
   "codemirror_mode": {
    "name": "ipython",
    "version": 3
   },
   "file_extension": ".py",
   "mimetype": "text/x-python",
   "name": "python",
   "nbconvert_exporter": "python",
   "pygments_lexer": "ipython3",
   "version": "3.8.8"
  },
  "orig_nbformat": 4,
  "vscode": {
   "interpreter": {
    "hash": "b51fba03621ea2707aa24f127a4f74542be1adffaa0a8f5a15c5b0606de1417a"
   }
  }
 },
 "nbformat": 4,
 "nbformat_minor": 2
}
