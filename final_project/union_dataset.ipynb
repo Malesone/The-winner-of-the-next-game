{
 "cells": [
  {
   "cell_type": "code",
   "execution_count": 1,
   "metadata": {},
   "outputs": [],
   "source": [
    "from analysis import MatchAnalysis\n",
    "from classification import Classification\n",
    "from ranking import Ranking\n",
    "from temp.football_predictions import FootballPredictions"
   ]
  },
  {
   "cell_type": "code",
   "execution_count": 4,
   "metadata": {},
   "outputs": [],
   "source": [
    "r = Ranking(\"Serie A\", '2021-2022')\n",
    "r.read_matches(seasons=4)\n",
    "ma = MatchAnalysis(\"files/Serie A/21_22 statistics.csv\")\n",
    "ma.set_ranking(r)\n",
    "\n",
    "ma.divide_and_merge_home_away()\n",
    "ma.create_team_dataset()\n",
    "ma.split_and_set_avg(True, 5)\n",
    "\n",
    "fp = FootballPredictions(ma.diff_dataset)"
   ]
  },
  {
   "cell_type": "markdown",
   "metadata": {},
   "source": [
    "## Lettura e pulizia degli articoli"
   ]
  },
  {
   "cell_type": "code",
   "execution_count": null,
   "metadata": {},
   "outputs": [
    {
     "data": {
      "text/plain": [
       "'fp.read_all_predictions(False)\\nfp.recovery_games()\\nfp.matches_not_found()\\nfp.fix_dates()\\nfp.df\\n'"
      ]
     },
     "execution_count": 19,
     "metadata": {},
     "output_type": "execute_result"
    }
   ],
   "source": [
    "\"\"\"fp.read_all_predictions(False)\n",
    "fp.recovery_games()\n",
    "fp.matches_not_found()\n",
    "fp.fix_dates()\n",
    "fp.df\n",
    "\"\"\""
   ]
  },
  {
   "cell_type": "markdown",
   "metadata": {},
   "source": [
    "## Lettura degli articoli già puliti"
   ]
  },
  {
   "cell_type": "code",
   "execution_count": null,
   "metadata": {},
   "outputs": [],
   "source": [
    "fp.read_cleaned_predictions()"
   ]
  },
  {
   "cell_type": "code",
   "execution_count": null,
   "metadata": {},
   "outputs": [],
   "source": [
    "from my_tokenizer import MyTokenizer"
   ]
  },
  {
   "cell_type": "code",
   "execution_count": null,
   "metadata": {},
   "outputs": [],
   "source": [
    "mt = MyTokenizer(fp.df)\n",
    "mt.feature_normalization()\n",
    "mt.clean_text()\n",
    "\n",
    "X_train, X_test, y_train, y_test = mt.set_bigram_and_get_sets()"
   ]
  },
  {
   "cell_type": "code",
   "execution_count": null,
   "metadata": {},
   "outputs": [],
   "source": [
    "c = Classification(X_train, X_test, y_train, y_test) #utilizzando Decision Tree accuratezza di 0.802\n",
    "model = c.open_model('modelli/Decision Tree tokenizer.model')"
   ]
  },
  {
   "cell_type": "code",
   "execution_count": null,
   "metadata": {},
   "outputs": [],
   "source": [
    "model.predict(X_test, y_test)\n",
    "mt.set_label_prediction(model.y_pred)"
   ]
  },
  {
   "cell_type": "code",
   "execution_count": null,
   "metadata": {},
   "outputs": [],
   "source": [
    "ma.diff_dataset.drop(columns=['completed_passings','total_passings', 'corners'], inplace=True)"
   ]
  },
  {
   "cell_type": "code",
   "execution_count": null,
   "metadata": {},
   "outputs": [],
   "source": [
    "for i, doc in ma.diff_dataset.iterrows():\n",
    "    prediction = mt.dataset_withoutNAN[(mt.dataset_withoutNAN.home == doc.home) & (mt.dataset_withoutNAN.away == doc.away)].pred\n",
    "    if len(prediction)>0:\n",
    "        ma.diff_dataset.at[i, 'prediction'] = prediction.values[0]"
   ]
  },
  {
   "cell_type": "code",
   "execution_count": null,
   "metadata": {},
   "outputs": [],
   "source": [
    "for i, doc in ma.diff_dataset.iterrows():\n",
    "    prediction = mt.dataset_withoutNAN[(mt.dataset_withoutNAN.home == doc.home) & (mt.dataset_withoutNAN.away == doc.away)].pred\n",
    "    if len(prediction) > 0:\n",
    "        ma.diff_dataset.at[i, 'prediction'] = prediction.values[0]\n",
    "    else:\n",
    "        ma.diff_dataset.at[i, 'prediction'] = -1"
   ]
  },
  {
   "cell_type": "code",
   "execution_count": null,
   "metadata": {},
   "outputs": [],
   "source": [
    "ma.diff_dataset.to_csv(\"dataset_completo.csv\")"
   ]
  },
  {
   "cell_type": "code",
   "execution_count": null,
   "metadata": {},
   "outputs": [
    {
     "data": {
      "text/html": [
       "<div>\n",
       "<style scoped>\n",
       "    .dataframe tbody tr th:only-of-type {\n",
       "        vertical-align: middle;\n",
       "    }\n",
       "\n",
       "    .dataframe tbody tr th {\n",
       "        vertical-align: top;\n",
       "    }\n",
       "\n",
       "    .dataframe thead th {\n",
       "        text-align: right;\n",
       "    }\n",
       "</style>\n",
       "<table border=\"1\" class=\"dataframe\">\n",
       "  <thead>\n",
       "    <tr style=\"text-align: right;\">\n",
       "      <th></th>\n",
       "      <th>home</th>\n",
       "      <th>date</th>\n",
       "      <th>result</th>\n",
       "      <th>goals</th>\n",
       "      <th>away</th>\n",
       "      <th>total_shots</th>\n",
       "      <th>shots_on_target</th>\n",
       "      <th>goals_on_penalty</th>\n",
       "      <th>total_penalties</th>\n",
       "      <th>percentage_possession</th>\n",
       "      <th>fouls</th>\n",
       "      <th>yellow_cards</th>\n",
       "      <th>red_cards</th>\n",
       "      <th>rank_h</th>\n",
       "      <th>rank_a</th>\n",
       "      <th>prediction</th>\n",
       "    </tr>\n",
       "  </thead>\n",
       "  <tbody>\n",
       "    <tr>\n",
       "      <th>0</th>\n",
       "      <td>Inter</td>\n",
       "      <td>2021-08-21</td>\n",
       "      <td>V</td>\n",
       "      <td>4.0</td>\n",
       "      <td>Genoa</td>\n",
       "      <td>7.0</td>\n",
       "      <td>4.0</td>\n",
       "      <td>0.0</td>\n",
       "      <td>0.0</td>\n",
       "      <td>18.0</td>\n",
       "      <td>11.0</td>\n",
       "      <td>-1.0</td>\n",
       "      <td>0.0</td>\n",
       "      <td>7.0</td>\n",
       "      <td>1.0</td>\n",
       "      <td>1.0</td>\n",
       "    </tr>\n",
       "    <tr>\n",
       "      <th>1</th>\n",
       "      <td>Torino</td>\n",
       "      <td>2021-08-21</td>\n",
       "      <td>P</td>\n",
       "      <td>-1.0</td>\n",
       "      <td>Atalanta</td>\n",
       "      <td>14.0</td>\n",
       "      <td>5.0</td>\n",
       "      <td>0.0</td>\n",
       "      <td>0.0</td>\n",
       "      <td>-6.0</td>\n",
       "      <td>3.0</td>\n",
       "      <td>0.0</td>\n",
       "      <td>0.0</td>\n",
       "      <td>2.0</td>\n",
       "      <td>3.0</td>\n",
       "      <td>2.0</td>\n",
       "    </tr>\n",
       "    <tr>\n",
       "      <th>2</th>\n",
       "      <td>Empoli</td>\n",
       "      <td>2021-08-21</td>\n",
       "      <td>P</td>\n",
       "      <td>-2.0</td>\n",
       "      <td>Lazio</td>\n",
       "      <td>10.0</td>\n",
       "      <td>1.0</td>\n",
       "      <td>-1.0</td>\n",
       "      <td>-1.0</td>\n",
       "      <td>-8.0</td>\n",
       "      <td>5.0</td>\n",
       "      <td>1.0</td>\n",
       "      <td>0.0</td>\n",
       "      <td>0.0</td>\n",
       "      <td>8.0</td>\n",
       "      <td>2.0</td>\n",
       "    </tr>\n",
       "    <tr>\n",
       "      <th>3</th>\n",
       "      <td>Hellas Verona</td>\n",
       "      <td>2021-08-21</td>\n",
       "      <td>P</td>\n",
       "      <td>-1.0</td>\n",
       "      <td>Sassuolo</td>\n",
       "      <td>-4.0</td>\n",
       "      <td>-4.0</td>\n",
       "      <td>1.0</td>\n",
       "      <td>1.0</td>\n",
       "      <td>-20.0</td>\n",
       "      <td>-5.0</td>\n",
       "      <td>1.0</td>\n",
       "      <td>1.0</td>\n",
       "      <td>1.0</td>\n",
       "      <td>6.0</td>\n",
       "      <td>0.0</td>\n",
       "    </tr>\n",
       "    <tr>\n",
       "      <th>4</th>\n",
       "      <td>Bologna</td>\n",
       "      <td>2021-08-22</td>\n",
       "      <td>V</td>\n",
       "      <td>1.0</td>\n",
       "      <td>Salernitana</td>\n",
       "      <td>9.0</td>\n",
       "      <td>4.0</td>\n",
       "      <td>-1.0</td>\n",
       "      <td>-1.0</td>\n",
       "      <td>44.0</td>\n",
       "      <td>-3.0</td>\n",
       "      <td>3.0</td>\n",
       "      <td>1.0</td>\n",
       "      <td>8.0</td>\n",
       "      <td>0.0</td>\n",
       "      <td>1.0</td>\n",
       "    </tr>\n",
       "  </tbody>\n",
       "</table>\n",
       "</div>"
      ],
      "text/plain": [
       "            home        date result  goals         away  total_shots  \\\n",
       "0          Inter  2021-08-21      V    4.0        Genoa          7.0   \n",
       "1         Torino  2021-08-21      P   -1.0     Atalanta         14.0   \n",
       "2         Empoli  2021-08-21      P   -2.0        Lazio         10.0   \n",
       "3  Hellas Verona  2021-08-21      P   -1.0     Sassuolo         -4.0   \n",
       "4        Bologna  2021-08-22      V    1.0  Salernitana          9.0   \n",
       "\n",
       "   shots_on_target  goals_on_penalty  total_penalties  percentage_possession  \\\n",
       "0              4.0               0.0              0.0                   18.0   \n",
       "1              5.0               0.0              0.0                   -6.0   \n",
       "2              1.0              -1.0             -1.0                   -8.0   \n",
       "3             -4.0               1.0              1.0                  -20.0   \n",
       "4              4.0              -1.0             -1.0                   44.0   \n",
       "\n",
       "   fouls  yellow_cards  red_cards  rank_h  rank_a  prediction  \n",
       "0   11.0          -1.0        0.0     7.0     1.0         1.0  \n",
       "1    3.0           0.0        0.0     2.0     3.0         2.0  \n",
       "2    5.0           1.0        0.0     0.0     8.0         2.0  \n",
       "3   -5.0           1.0        1.0     1.0     6.0         0.0  \n",
       "4   -3.0           3.0        1.0     8.0     0.0         1.0  "
      ]
     },
     "execution_count": 29,
     "metadata": {},
     "output_type": "execute_result"
    }
   ],
   "source": [
    "ma.merge_()\n",
    "ma.diff_dataset.head()"
   ]
  },
  {
   "cell_type": "code",
   "execution_count": null,
   "metadata": {},
   "outputs": [],
   "source": [
    "c1 = Classification(ma.X_train, ma.X_test, ma.y_train, ma.y_test) \n",
    "c1.create_models()\n",
    "c1.gen_report()\n",
    "c1.get_higher_accuracies(0.1)"
   ]
  }
 ],
 "metadata": {
  "kernelspec": {
   "display_name": "Python 3.8.8 ('base')",
   "language": "python",
   "name": "python3"
  },
  "language_info": {
   "codemirror_mode": {
    "name": "ipython",
    "version": 3
   },
   "file_extension": ".py",
   "mimetype": "text/x-python",
   "name": "python",
   "nbconvert_exporter": "python",
   "pygments_lexer": "ipython3",
   "version": "3.8.8"
  },
  "orig_nbformat": 4,
  "vscode": {
   "interpreter": {
    "hash": "b51fba03621ea2707aa24f127a4f74542be1adffaa0a8f5a15c5b0606de1417a"
   }
  }
 },
 "nbformat": 4,
 "nbformat_minor": 2
}
