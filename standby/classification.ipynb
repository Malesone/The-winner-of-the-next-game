{
 "cells": [
  {
   "cell_type": "code",
   "execution_count": 1,
   "metadata": {},
   "outputs": [],
   "source": [
    "import pandas as pd\n",
    "from sklearn.model_selection import train_test_split\n",
    "import sklearn.metrics as mtr"
   ]
  },
  {
   "cell_type": "code",
   "execution_count": 2,
   "metadata": {},
   "outputs": [],
   "source": [
    "from sklearn.ensemble import RandomForestClassifier\n",
    "from sklearn.linear_model import LogisticRegression\n",
    "from sklearn.naive_bayes import MultinomialNB\n",
    "from sklearn.neighbors import KNeighborsClassifier\n",
    "from sklearn.svm import SVC\n",
    "from sklearn.tree import DecisionTreeClassifier"
   ]
  },
  {
   "cell_type": "code",
   "execution_count": 3,
   "metadata": {},
   "outputs": [],
   "source": [
    "dataset = pd.read_csv(\"dummy_match.csv\", index_col=0)"
   ]
  },
  {
   "cell_type": "code",
   "execution_count": null,
   "metadata": {},
   "outputs": [],
   "source": [
    "dataset = dataset.drop(columns=['h_goals_on_penalty','a_goals_on_penalty', 'h_goals', 'a_goals', 'h_corners', 'h_fouls', 'h_yellow_cards', 'h_red_cards', 'a_corners', 'a_fouls', 'a_yellow_cards', 'a_red_cards','h_total_penalties','a_total_penalties'])\n",
    "dataset.columns"
   ]
  },
  {
   "cell_type": "code",
   "execution_count": 5,
   "metadata": {},
   "outputs": [],
   "source": [
    "models = {\n",
    "    'Logistic Regression': LogisticRegression(max_iter=10000), #max_iter di default vale 100, ho dovuto alzarlo se no non converge\n",
    "    'Support Vector Machine': SVC(),\n",
    "    'Multinomial Naive Bayes': MultinomialNB(),\n",
    "    'Decision Tree': DecisionTreeClassifier(),\n",
    "    'Random Forest': RandomForestClassifier(),\n",
    "    'K-Nearest Neighbors': KNeighborsClassifier()\n",
    "}"
   ]
  },
  {
   "cell_type": "code",
   "execution_count": 6,
   "metadata": {},
   "outputs": [],
   "source": [
    "features = [x for x in dataset.columns if x != 'Risultato']\n",
    "X, y = dataset[features], dataset.Risultato.values\n",
    "\n",
    "X_train, X_test, y_train, y_test = train_test_split(X, y, test_size=0.2, random_state=42)"
   ]
  },
  {
   "cell_type": "code",
   "execution_count": 7,
   "metadata": {},
   "outputs": [],
   "source": [
    "for model_name, model in models.items():\n",
    "    models[model_name].fit(X_train, y_train)\n",
    "\n",
    "predictions = {}\n",
    "for model_name, model in models.items():\n",
    "    predictions[model_name] = model.predict(X_test)"
   ]
  },
  {
   "cell_type": "code",
   "execution_count": 13,
   "metadata": {},
   "outputs": [],
   "source": [
    "E = []\n",
    "for estimator, y_pred in predictions.items():\n",
    "    report = mtr.classification_report(y_test, y_pred, output_dict=True, zero_division=0)\n",
    "    E.append({\n",
    "        'Model': estimator, 'Accuracy': report['accuracy'],\n",
    "        'Avg Precision (macro)': report['macro avg']['precision'],\n",
    "        'Avg Recall (macro)': report['macro avg']['recall'],\n",
    "        'Avg F1-score (macro)': report['macro avg']['f1-score'],\n",
    "        'Avg Precision (weighted)': report['weighted avg']['precision'],\n",
    "        'Avg Recall (weighted)': report['weighted avg']['recall'],\n",
    "        'Avg F1-score (weighted)': report['weighted avg']['f1-score']\n",
    "    })\n",
    "E = pd.DataFrame(E).set_index('Model', inplace=False)"
   ]
  },
  {
   "cell_type": "code",
   "execution_count": 9,
   "metadata": {},
   "outputs": [
    {
     "data": {
      "text/html": [
       "<div>\n",
       "<style scoped>\n",
       "    .dataframe tbody tr th:only-of-type {\n",
       "        vertical-align: middle;\n",
       "    }\n",
       "\n",
       "    .dataframe tbody tr th {\n",
       "        vertical-align: top;\n",
       "    }\n",
       "\n",
       "    .dataframe thead th {\n",
       "        text-align: right;\n",
       "    }\n",
       "</style>\n",
       "<table border=\"1\" class=\"dataframe\">\n",
       "  <thead>\n",
       "    <tr style=\"text-align: right;\">\n",
       "      <th></th>\n",
       "      <th>Accuracy</th>\n",
       "      <th>Avg Precision (macro)</th>\n",
       "      <th>Avg Recall (macro)</th>\n",
       "      <th>Avg F1-score (macro)</th>\n",
       "      <th>Avg Precision (weighted)</th>\n",
       "      <th>Avg Recall (weighted)</th>\n",
       "      <th>Avg F1-score (weighted)</th>\n",
       "    </tr>\n",
       "    <tr>\n",
       "      <th>Model</th>\n",
       "      <th></th>\n",
       "      <th></th>\n",
       "      <th></th>\n",
       "      <th></th>\n",
       "      <th></th>\n",
       "      <th></th>\n",
       "      <th></th>\n",
       "    </tr>\n",
       "  </thead>\n",
       "  <tbody>\n",
       "    <tr>\n",
       "      <th>Logistic Regression</th>\n",
       "      <td>0.552632</td>\n",
       "      <td>0.491597</td>\n",
       "      <td>0.496843</td>\n",
       "      <td>0.493804</td>\n",
       "      <td>0.541685</td>\n",
       "      <td>0.552632</td>\n",
       "      <td>0.546833</td>\n",
       "    </tr>\n",
       "    <tr>\n",
       "      <th>Support Vector Machine</th>\n",
       "      <td>0.407895</td>\n",
       "      <td>0.335784</td>\n",
       "      <td>0.371493</td>\n",
       "      <td>0.263757</td>\n",
       "      <td>0.407217</td>\n",
       "      <td>0.407895</td>\n",
       "      <td>0.300365</td>\n",
       "    </tr>\n",
       "    <tr>\n",
       "      <th>Multinomial Naive Bayes</th>\n",
       "      <td>0.513158</td>\n",
       "      <td>0.507073</td>\n",
       "      <td>0.468294</td>\n",
       "      <td>0.472222</td>\n",
       "      <td>0.510575</td>\n",
       "      <td>0.513158</td>\n",
       "      <td>0.501096</td>\n",
       "    </tr>\n",
       "    <tr>\n",
       "      <th>Decision Tree</th>\n",
       "      <td>0.500000</td>\n",
       "      <td>0.475517</td>\n",
       "      <td>0.467172</td>\n",
       "      <td>0.467149</td>\n",
       "      <td>0.527815</td>\n",
       "      <td>0.500000</td>\n",
       "      <td>0.509407</td>\n",
       "    </tr>\n",
       "    <tr>\n",
       "      <th>Random Forest</th>\n",
       "      <td>0.486842</td>\n",
       "      <td>0.425112</td>\n",
       "      <td>0.440095</td>\n",
       "      <td>0.425576</td>\n",
       "      <td>0.477950</td>\n",
       "      <td>0.486842</td>\n",
       "      <td>0.474419</td>\n",
       "    </tr>\n",
       "    <tr>\n",
       "      <th>K-Nearest Neighbors</th>\n",
       "      <td>0.368421</td>\n",
       "      <td>0.360794</td>\n",
       "      <td>0.366162</td>\n",
       "      <td>0.333603</td>\n",
       "      <td>0.394652</td>\n",
       "      <td>0.368421</td>\n",
       "      <td>0.345674</td>\n",
       "    </tr>\n",
       "  </tbody>\n",
       "</table>\n",
       "</div>"
      ],
      "text/plain": [
       "                         Accuracy  Avg Precision (macro)  Avg Recall (macro)  \\\n",
       "Model                                                                          \n",
       "Logistic Regression      0.552632               0.491597            0.496843   \n",
       "Support Vector Machine   0.407895               0.335784            0.371493   \n",
       "Multinomial Naive Bayes  0.513158               0.507073            0.468294   \n",
       "Decision Tree            0.500000               0.475517            0.467172   \n",
       "Random Forest            0.486842               0.425112            0.440095   \n",
       "K-Nearest Neighbors      0.368421               0.360794            0.366162   \n",
       "\n",
       "                         Avg F1-score (macro)  Avg Precision (weighted)  \\\n",
       "Model                                                                     \n",
       "Logistic Regression                  0.493804                  0.541685   \n",
       "Support Vector Machine               0.263757                  0.407217   \n",
       "Multinomial Naive Bayes              0.472222                  0.510575   \n",
       "Decision Tree                        0.467149                  0.527815   \n",
       "Random Forest                        0.425576                  0.477950   \n",
       "K-Nearest Neighbors                  0.333603                  0.394652   \n",
       "\n",
       "                         Avg Recall (weighted)  Avg F1-score (weighted)  \n",
       "Model                                                                    \n",
       "Logistic Regression                   0.552632                 0.546833  \n",
       "Support Vector Machine                0.407895                 0.300365  \n",
       "Multinomial Naive Bayes               0.513158                 0.501096  \n",
       "Decision Tree                         0.500000                 0.509407  \n",
       "Random Forest                         0.486842                 0.474419  \n",
       "K-Nearest Neighbors                   0.368421                 0.345674  "
      ]
     },
     "execution_count": 9,
     "metadata": {},
     "output_type": "execute_result"
    }
   ],
   "source": [
    "E"
   ]
  }
 ],
 "metadata": {
  "kernelspec": {
   "display_name": "Python 3.8.8 ('base')",
   "language": "python",
   "name": "python3"
  },
  "language_info": {
   "codemirror_mode": {
    "name": "ipython",
    "version": 3
   },
   "file_extension": ".py",
   "mimetype": "text/x-python",
   "name": "python",
   "nbconvert_exporter": "python",
   "pygments_lexer": "ipython3",
   "version": "3.8.8"
  },
  "orig_nbformat": 4,
  "vscode": {
   "interpreter": {
    "hash": "b51fba03621ea2707aa24f127a4f74542be1adffaa0a8f5a15c5b0606de1417a"
   }
  }
 },
 "nbformat": 4,
 "nbformat_minor": 2
}
