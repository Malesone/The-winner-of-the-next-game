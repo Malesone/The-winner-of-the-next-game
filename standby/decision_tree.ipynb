{
 "cells": [
  {
   "cell_type": "code",
   "execution_count": 1,
   "metadata": {},
   "outputs": [],
   "source": [
    "import pandas as pd\n",
    "from pandas.plotting import scatter_matrix\n",
    "from sklearn.model_selection import train_test_split\n",
    "from sklearn.tree import DecisionTreeClassifier\n",
    "import matplotlib.pyplot as plt\n",
    "from sklearn import tree\n",
    "import sklearn.metrics as mtr\n",
    "import warnings"
   ]
  },
  {
   "cell_type": "code",
   "execution_count": 2,
   "metadata": {},
   "outputs": [],
   "source": [
    "dataset = pd.read_csv(\"merged_matches.csv\", index_col=0)\n",
    "dataset['Risultato'] = dataset[['Risultato']].replace(['V','P','N'],[0,1,2])"
   ]
  },
  {
   "cell_type": "code",
   "execution_count": 3,
   "metadata": {},
   "outputs": [],
   "source": [
    "dataset_without_goals = dataset.drop(columns=['h_team', 'a_team', 'h_goals', 'a_goals'])"
   ]
  },
  {
   "cell_type": "code",
   "execution_count": 4,
   "metadata": {},
   "outputs": [],
   "source": [
    "features = [x for x in dataset_without_goals.columns if x != 'Risultato']\n",
    "X, y = dataset_without_goals[features], dataset_without_goals.Risultato.values"
   ]
  },
  {
   "cell_type": "code",
   "execution_count": 5,
   "metadata": {},
   "outputs": [],
   "source": [
    "X_train, X_test, y_train, y_test = train_test_split(X, y, test_size=0.3, random_state=42)"
   ]
  },
  {
   "cell_type": "code",
   "execution_count": 6,
   "metadata": {},
   "outputs": [],
   "source": [
    "dt = DecisionTreeClassifier()"
   ]
  },
  {
   "cell_type": "code",
   "execution_count": 7,
   "metadata": {},
   "outputs": [],
   "source": [
    "dt.fit(X_train, y_train)\n",
    "y_pred = dt.predict(X_test)"
   ]
  },
  {
   "cell_type": "code",
   "execution_count": 8,
   "metadata": {},
   "outputs": [
    {
     "data": {
      "text/plain": [
       "array([2, 0, 0, 1, 0, 1, 1, 0, 2, 1, 1, 1, 0, 0, 1, 1, 0, 0, 2, 1, 2, 2,\n",
       "       0, 1, 2, 2, 1, 1, 1, 1, 1, 1, 0, 2, 0, 0, 2, 0, 2, 2, 0, 0, 0, 0,\n",
       "       2, 2, 1, 2, 1, 1, 2, 2, 2, 2, 2, 1, 0, 0, 2, 0, 1, 0, 2, 2, 0, 2,\n",
       "       0, 0, 0, 1, 2, 0, 0, 2, 2, 0, 1, 1, 1, 0, 1, 1, 2, 1, 0, 1, 0, 2,\n",
       "       0, 2, 1, 2, 0, 1, 2, 1, 1, 0, 0, 2, 0, 0, 1, 2, 2, 2, 2, 1, 0, 1,\n",
       "       0, 1, 1, 0])"
      ]
     },
     "execution_count": 8,
     "metadata": {},
     "output_type": "execute_result"
    }
   ],
   "source": [
    "y_pred"
   ]
  },
  {
   "cell_type": "code",
   "execution_count": 9,
   "metadata": {},
   "outputs": [],
   "source": [
    "warnings.filterwarnings('ignore')"
   ]
  },
  {
   "cell_type": "code",
   "execution_count": 10,
   "metadata": {},
   "outputs": [],
   "source": [
    "cm = mtr.confusion_matrix(y_test, y_pred)"
   ]
  },
  {
   "cell_type": "code",
   "execution_count": 11,
   "metadata": {},
   "outputs": [
    {
     "data": {
      "image/png": "[encoded data removed]",
      "text/plain": [
       "<Figure size 576x432 with 2 Axes>"
      ]
     },
     "metadata": {
      "needs_background": "light"
     },
     "output_type": "display_data"
    }
   ],
   "source": [
    "d = mtr.ConfusionMatrixDisplay(cm, [0,1,2])\n",
    "fig, ax = plt.subplots(figsize=(8,6))\n",
    "d.plot(ax=ax, cmap='Greens')\n",
    "plt.tight_layout()\n",
    "plt.show()"
   ]
  },
  {
   "cell_type": "code",
   "execution_count": 12,
   "metadata": {},
   "outputs": [
    {
     "data": {
      "text/plain": [
       "0.41228070175438597"
      ]
     },
     "execution_count": 12,
     "metadata": {},
     "output_type": "execute_result"
    }
   ],
   "source": [
    "from sklearn.metrics import precision_score, accuracy_score\n",
    "precision_score(y_test, y_pred, average = None) \n",
    "accuracy_score(y_test, y_pred) \n",
    "#print('Precision: %.3f' % precision_score(y_test, y_pred))"
   ]
  },
  {
   "cell_type": "markdown",
   "metadata": {},
   "source": [
    "## Miglioramento modello\n",
    "Dato che l'accuratezza del modello è molto bassa, devo calcolare "
   ]
  },
  {
   "cell_type": "code",
   "execution_count": 21,
   "metadata": {},
   "outputs": [],
   "source": [
    "dataset_normalized = dataset"
   ]
  },
  {
   "cell_type": "code",
   "execution_count": 22,
   "metadata": {},
   "outputs": [],
   "source": [
    "columns_for_ML = {\n",
    "    #'goals_diff': (dataset_normalized['h_goals']-dataset_normalized['a_goals']),\n",
    "    'total_shots_diff': (dataset_normalized['h_total_shots']-dataset_normalized['a_total_shots']),\n",
    "    'shots_on_target_diff': (dataset_normalized['h_shots_on_target']-dataset_normalized['a_shots_on_target']),\n",
    "    'goals_on_penalty_diff': (dataset_normalized['h_goals_on_penalty']-dataset_normalized['a_goals_on_penalty']),\n",
    "    'total_penalties_diff': (dataset_normalized['h_total_penalties']-dataset_normalized['a_total_penalties']),\n",
    "    'completed_passings_diff': (dataset_normalized['h_completed_passings']-dataset_normalized['a_completed_passings']),\n",
    "    'total_passings_diff': (dataset_normalized['h_total_passings']-dataset_normalized['a_total_passings']),\n",
    "    'corners_diff': (dataset_normalized['h_corners']-dataset_normalized['a_corners']), \n",
    "    'fouls_diff': (dataset_normalized['h_fouls']-dataset_normalized['a_fouls']), \n",
    "    'yellow_cards_diff': (dataset_normalized['h_yellow_cards']-dataset_normalized['a_yellow_cards']), \n",
    "    'red_cards_diff': (dataset_normalized['h_red_cards']-dataset_normalized['a_red_cards']), \n",
    "    'percentage_possession_diff': (dataset_normalized['h_percentage_possession']-dataset_normalized['a_percentage_possession']),\n",
    "    'risultato': dataset_normalized[['Risultato']].replace(['V','P','N'],[0,1,2])\n",
    "}"
   ]
  },
  {
   "cell_type": "code",
   "execution_count": 23,
   "metadata": {},
   "outputs": [],
   "source": [
    "for key, value in columns_for_ML.items():\n",
    "    dataset_normalized[key] = value\n",
    "\n",
    "dataset_normalized.head()\n",
    "#\n",
    "keys = [k for k in columns_for_ML.keys()]\n",
    "keys\n",
    "\n",
    "dataset_normalized = dataset_normalized[keys]"
   ]
  },
  {
   "cell_type": "code",
   "execution_count": 24,
   "metadata": {},
   "outputs": [
    {
     "data": {
      "text/html": [
       "<div>\n",
       "<style scoped>\n",
       "    .dataframe tbody tr th:only-of-type {\n",
       "        vertical-align: middle;\n",
       "    }\n",
       "\n",
       "    .dataframe tbody tr th {\n",
       "        vertical-align: top;\n",
       "    }\n",
       "\n",
       "    .dataframe thead th {\n",
       "        text-align: right;\n",
       "    }\n",
       "</style>\n",
       "<table border=\"1\" class=\"dataframe\">\n",
       "  <thead>\n",
       "    <tr style=\"text-align: right;\">\n",
       "      <th></th>\n",
       "      <th>total_shots_diff</th>\n",
       "      <th>shots_on_target_diff</th>\n",
       "      <th>goals_on_penalty_diff</th>\n",
       "      <th>total_penalties_diff</th>\n",
       "      <th>completed_passings_diff</th>\n",
       "      <th>total_passings_diff</th>\n",
       "      <th>corners_diff</th>\n",
       "      <th>fouls_diff</th>\n",
       "      <th>yellow_cards_diff</th>\n",
       "      <th>red_cards_diff</th>\n",
       "      <th>percentage_possession_diff</th>\n",
       "      <th>risultato</th>\n",
       "    </tr>\n",
       "  </thead>\n",
       "  <tbody>\n",
       "    <tr>\n",
       "      <th>0</th>\n",
       "      <td>-4.0</td>\n",
       "      <td>-4.0</td>\n",
       "      <td>1</td>\n",
       "      <td>1</td>\n",
       "      <td>-199.0</td>\n",
       "      <td>-179.0</td>\n",
       "      <td>3.0</td>\n",
       "      <td>-5.0</td>\n",
       "      <td>1</td>\n",
       "      <td>1</td>\n",
       "      <td>-20.0</td>\n",
       "      <td>1</td>\n",
       "    </tr>\n",
       "    <tr>\n",
       "      <th>0</th>\n",
       "      <td>7.0</td>\n",
       "      <td>4.0</td>\n",
       "      <td>0</td>\n",
       "      <td>0</td>\n",
       "      <td>198.0</td>\n",
       "      <td>200.0</td>\n",
       "      <td>6.0</td>\n",
       "      <td>11.0</td>\n",
       "      <td>-1</td>\n",
       "      <td>0</td>\n",
       "      <td>18.0</td>\n",
       "      <td>0</td>\n",
       "    </tr>\n",
       "    <tr>\n",
       "      <th>0</th>\n",
       "      <td>14.0</td>\n",
       "      <td>5.0</td>\n",
       "      <td>0</td>\n",
       "      <td>0</td>\n",
       "      <td>-24.0</td>\n",
       "      <td>-49.0</td>\n",
       "      <td>4.0</td>\n",
       "      <td>3.0</td>\n",
       "      <td>0</td>\n",
       "      <td>0</td>\n",
       "      <td>-6.0</td>\n",
       "      <td>1</td>\n",
       "    </tr>\n",
       "    <tr>\n",
       "      <th>0</th>\n",
       "      <td>10.0</td>\n",
       "      <td>1.0</td>\n",
       "      <td>-1</td>\n",
       "      <td>-1</td>\n",
       "      <td>-107.0</td>\n",
       "      <td>-93.0</td>\n",
       "      <td>2.0</td>\n",
       "      <td>5.0</td>\n",
       "      <td>1</td>\n",
       "      <td>0</td>\n",
       "      <td>-8.0</td>\n",
       "      <td>1</td>\n",
       "    </tr>\n",
       "    <tr>\n",
       "      <th>0</th>\n",
       "      <td>1.0</td>\n",
       "      <td>2.0</td>\n",
       "      <td>1</td>\n",
       "      <td>1</td>\n",
       "      <td>-117.0</td>\n",
       "      <td>-118.0</td>\n",
       "      <td>0.0</td>\n",
       "      <td>-2.0</td>\n",
       "      <td>-2</td>\n",
       "      <td>0</td>\n",
       "      <td>-12.0</td>\n",
       "      <td>2</td>\n",
       "    </tr>\n",
       "  </tbody>\n",
       "</table>\n",
       "</div>"
      ],
      "text/plain": [
       "   total_shots_diff  shots_on_target_diff  goals_on_penalty_diff  \\\n",
       "0              -4.0                  -4.0                      1   \n",
       "0               7.0                   4.0                      0   \n",
       "0              14.0                   5.0                      0   \n",
       "0              10.0                   1.0                     -1   \n",
       "0               1.0                   2.0                      1   \n",
       "\n",
       "   total_penalties_diff  completed_passings_diff  total_passings_diff  \\\n",
       "0                     1                   -199.0               -179.0   \n",
       "0                     0                    198.0                200.0   \n",
       "0                     0                    -24.0                -49.0   \n",
       "0                    -1                   -107.0                -93.0   \n",
       "0                     1                   -117.0               -118.0   \n",
       "\n",
       "   corners_diff  fouls_diff  yellow_cards_diff  red_cards_diff  \\\n",
       "0           3.0        -5.0                  1               1   \n",
       "0           6.0        11.0                 -1               0   \n",
       "0           4.0         3.0                  0               0   \n",
       "0           2.0         5.0                  1               0   \n",
       "0           0.0        -2.0                 -2               0   \n",
       "\n",
       "   percentage_possession_diff  risultato  \n",
       "0                       -20.0          1  \n",
       "0                        18.0          0  \n",
       "0                        -6.0          1  \n",
       "0                        -8.0          1  \n",
       "0                       -12.0          2  "
      ]
     },
     "execution_count": 24,
     "metadata": {},
     "output_type": "execute_result"
    }
   ],
   "source": [
    "dataset_normalized.head()"
   ]
  },
  {
   "cell_type": "code",
   "execution_count": 25,
   "metadata": {},
   "outputs": [],
   "source": [
    "features = [x for x in dataset_normalized.columns if x != 'risultato']\n",
    "X, y = dataset_normalized[features], dataset_normalized.risultato.values\n",
    "X_train, X_test, y_train, y_test = train_test_split(X, y, test_size=0.3, random_state=42)\n",
    "dt = DecisionTreeClassifier()\n",
    "dt.fit(X_train, y_train)\n",
    "y_pred = dt.predict(X_test)"
   ]
  },
  {
   "cell_type": "code",
   "execution_count": 26,
   "metadata": {},
   "outputs": [
    {
     "data": {
      "image/png": "[encoded data removed]",
      "text/plain": [
       "<Figure size 576x432 with 2 Axes>"
      ]
     },
     "metadata": {
      "needs_background": "light"
     },
     "output_type": "display_data"
    }
   ],
   "source": [
    "warnings.filterwarnings('ignore')\n",
    "cm = mtr.confusion_matrix(y_test, y_pred)\n",
    "d = mtr.ConfusionMatrixDisplay(cm, [0,1,2])\n",
    "fig, ax = plt.subplots(figsize=(8,6))\n",
    "d.plot(ax=ax, cmap='Greens')\n",
    "plt.tight_layout()\n",
    "plt.show()"
   ]
  },
  {
   "cell_type": "code",
   "execution_count": 27,
   "metadata": {},
   "outputs": [
    {
     "data": {
      "text/plain": [
       "0.5"
      ]
     },
     "execution_count": 27,
     "metadata": {},
     "output_type": "execute_result"
    }
   ],
   "source": [
    "from sklearn.metrics import precision_score, accuracy_score\n",
    "precision_score(y_test, y_pred, average = None) \n",
    "accuracy_score(y_test, y_pred) \n",
    "#print('Precision: %.3f' % precision_score(y_test, y_pred))"
   ]
  }
 ],
 "metadata": {
  "kernelspec": {
   "display_name": "Python 3.8.8 ('base')",
   "language": "python",
   "name": "python3"
  },
  "language_info": {
   "codemirror_mode": {
    "name": "ipython",
    "version": 3
   },
   "file_extension": ".py",
   "mimetype": "text/x-python",
   "name": "python",
   "nbconvert_exporter": "python",
   "pygments_lexer": "ipython3",
   "version": "3.8.8"
  },
  "orig_nbformat": 4,
  "vscode": {
   "interpreter": {
    "hash": "b51fba03621ea2707aa24f127a4f74542be1adffaa0a8f5a15c5b0606de1417a"
   }
  }
 },
 "nbformat": 4,
 "nbformat_minor": 2
}
