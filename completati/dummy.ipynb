{
 "cells": [
  {
   "cell_type": "code",
   "execution_count": 56,
   "metadata": {},
   "outputs": [],
   "source": [
    "import pandas as pd\n",
    "import matplotlib.pyplot as plt\n",
    "import seaborn as sns\n",
    "import numpy as np"
   ]
  },
  {
   "cell_type": "markdown",
   "metadata": {},
   "source": [
    "Some data science tools will only work when the input data are numeric. This particularly true of machine learning. Many machine learning algorithms – like linear regression and logistic regression – strictly require numeric input data. If you try to use them with string-based categorical data, they will throw an error.\n",
    "\n",
    "So before you use such tools, you need to encode your categorical data as numeric dummy variables."
   ]
  },
  {
   "cell_type": "code",
   "execution_count": 57,
   "metadata": {},
   "outputs": [],
   "source": [
    "classes = {\n",
    "    \"V\": 1, #vittoria casa\n",
    "    \"P\": 2, #vittoria trasferta\n",
    "    \"N\": 0 #pareggio\n",
    "}"
   ]
  },
  {
   "cell_type": "code",
   "execution_count": 58,
   "metadata": {},
   "outputs": [],
   "source": [
    "dataset = pd.read_csv(\"merged_matches.csv\", index_col=0)\n",
    "dataset['Risultato'] = dataset[\"Risultato\"].replace(classes, inplace=False)\n",
    "\n",
    "dataset.head()\n",
    "dataset = dataset.reset_index(drop=True)"
   ]
  },
  {
   "cell_type": "code",
   "execution_count": 59,
   "metadata": {},
   "outputs": [],
   "source": [
    "stacked = dataset[['h_team', 'a_team']].stack()\n",
    "index = stacked.index.get_level_values(0)\n",
    "result = pd.crosstab(index=index, columns=stacked)\n",
    "result.index.name = None\n",
    "result.columns.name = None\n",
    "\n",
    "dummy_match = pd.get_dummies(dataset\n",
    "        ,columns = ['h_team']\n",
    "        ,prefix = ['h']\n",
    "        )\n",
    "\n",
    "dummy_match = dummy_match.drop(['a_team'], axis=1)\n",
    "pos = 0\n",
    "for col in result.columns:\n",
    "    dummy_match.insert(pos, col, result[col])\n",
    "    pos += 1\n",
    "    #dummy_match[col] = result[col]\n",
    "\n",
    "dummy_match.to_csv(\"dummy_match.csv\")\n"
   ]
  }
 ],
 "metadata": {
  "kernelspec": {
   "display_name": "Python 3.8.8 ('base')",
   "language": "python",
   "name": "python3"
  },
  "language_info": {
   "codemirror_mode": {
    "name": "ipython",
    "version": 3
   },
   "file_extension": ".py",
   "mimetype": "text/x-python",
   "name": "python",
   "nbconvert_exporter": "python",
   "pygments_lexer": "ipython3",
   "version": "3.8.8"
  },
  "orig_nbformat": 4,
  "vscode": {
   "interpreter": {
    "hash": "b51fba03621ea2707aa24f127a4f74542be1adffaa0a8f5a15c5b0606de1417a"
   }
  }
 },
 "nbformat": 4,
 "nbformat_minor": 2
}
