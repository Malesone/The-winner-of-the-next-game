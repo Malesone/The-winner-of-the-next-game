{
 "cells": [
  {
   "cell_type": "code",
   "execution_count": 194,
   "metadata": {},
   "outputs": [],
   "source": [
    "import pandas as pd\n",
    "import requests\n",
    "from bs4 import BeautifulSoup\n",
    "import pandas as pd\n",
    "import os\n",
    "import pathlib\n",
    "from tqdm import tqdm\n",
    "from queue import Empty\n",
    "from datetime import datetime"
   ]
  },
  {
   "cell_type": "markdown",
   "metadata": {},
   "source": [
    "L'obiettivo dello script è ottenere un ranking delle squadre in modo tale da aiutare per la classificazione. \n",
    "Questo ranking è dato dalla media dalle posizioni al termine del campoionato nelle ultime stagioni.\n",
    "\n",
    "Voglio operare in questo modo: \n",
    "- prendere le squadre nella stagione scelta e ordinarli secondo il nome\n",
    "- prendere la classifica degli anni precedenti e calcolare il rank per ciascuna stagione (il rank è dato dal numero di squadra - la posizione in classifica)\n",
    "- se una squadra è neopromossa avrà un rank equivalente a 0 (quindi la squadra non c'è in altre stagioni)"
   ]
  },
  {
   "cell_type": "code",
   "execution_count": 195,
   "metadata": {},
   "outputs": [],
   "source": [
    "def calculate_links(season):\n",
    "    years = season.split(\"-\")\n",
    "    dictio = {}\n",
    "    for i in range(10):\n",
    "        y_l = int(years[0])-i\n",
    "        y_r = int(years[1])-i\n",
    "        season = str(y_l)+'-'+str(y_r)\n",
    "        link = \"https://fbref.com/it/comp/11/\"+ season +\"/Statistiche-di-Serie-A-\"+ season\n",
    "        dictio[season] = link\n",
    "        \n",
    "    return dictio"
   ]
  },
  {
   "cell_type": "code",
   "execution_count": 196,
   "metadata": {},
   "outputs": [],
   "source": [
    "headers = {'User-Agent': \n",
    "                'Mozilla/5.0 (X11; Linux x86_64) AppleWebKit/537.36 (KHTML, like Gecko) Chrome/47.0.2526.106 Safari/537.36'}\n",
    "\n",
    "model_season = '2021-2022' #stagione che uso nel modello\n",
    "seasons = calculate_links(model_season) #ottengo i link delle 5 stagioni precedenti"
   ]
  },
  {
   "cell_type": "code",
   "execution_count": 197,
   "metadata": {},
   "outputs": [],
   "source": [
    "pageTree = requests.get(seasons[model_season])\n",
    "soup = BeautifulSoup(pageTree.text, features=\"lxml\")"
   ]
  },
  {
   "cell_type": "code",
   "execution_count": 198,
   "metadata": {},
   "outputs": [],
   "source": [
    "table = soup.select('table.stats_table')[0]\n",
    "a_hrefs = table.find_all('a')\n",
    "teams = [a_href for a_href in a_hrefs if 'it/squadre/' in str(a_href)]        \n",
    "\n",
    "names_of_teams = sorted([name.contents[0] for name in teams])\n",
    "names_of_teams\n",
    "\n",
    "dataframe = pd.DataFrame()\n",
    "dataframe['Team'] = names_of_teams"
   ]
  },
  {
   "cell_type": "code",
   "execution_count": 199,
   "metadata": {},
   "outputs": [
    {
     "data": {
      "text/plain": [
       "'https://fbref.com/it/comp/11/2021-2022/Statistiche-di-Serie-A-2021-2022'"
      ]
     },
     "execution_count": 199,
     "metadata": {},
     "output_type": "execute_result"
    }
   ],
   "source": [
    "seasons.pop(model_season) #elimino la stagione che sto analizzando"
   ]
  },
  {
   "cell_type": "markdown",
   "metadata": {},
   "source": [
    "Vado a calcolare le posizioni in classifica nelle stagioni precedenti e creo nel dataframe una nuova colonna con la posizione in quella stagione.\n",
    "Ovviamente le squadre che sono neopromosse, se non ci sono nelle stagioni precedenti, il valore sarà 0 di default "
   ]
  },
  {
   "cell_type": "code",
   "execution_count": 200,
   "metadata": {},
   "outputs": [],
   "source": [
    "for key_season, value_season in seasons.items():\n",
    "    dataframe[key_season] = 0\n",
    "    rank = len(names_of_teams)\n",
    "\n",
    "    pageTree = requests.get(value_season)\n",
    "    soup = BeautifulSoup(pageTree.text, features=\"lxml\")\n",
    "\n",
    "    table = soup.select('table.stats_table')[0]\n",
    "    a_hrefs = table.find_all('a')\n",
    "    teams = [a_href for a_href in a_hrefs if 'it/squadre/' in str(a_href)]        \n",
    "    names_of_teams_in_season = [name.contents[0] for name in teams]\n",
    "\n",
    "    for name in names_of_teams_in_season:\n",
    "        index = dataframe.index[dataframe['Team'] == name].tolist()\n",
    "        if index != []:\n",
    "            dataframe.iat[index[0], dataframe.columns.get_loc(key_season)] = rank \n",
    "        rank -= 1\n"
   ]
  },
  {
   "cell_type": "markdown",
   "metadata": {},
   "source": [
    "Qui calcolo la media per calcolare il Rank finale"
   ]
  },
  {
   "cell_type": "code",
   "execution_count": 201,
   "metadata": {},
   "outputs": [],
   "source": [
    "for i, row in dataframe.iterrows():\n",
    "    cols_seasons = row.drop('Team')\n",
    "    avg = cols_seasons.mean()\n",
    "    dataframe.loc[i, 'Rank'] = avg"
   ]
  },
  {
   "cell_type": "code",
   "execution_count": 206,
   "metadata": {},
   "outputs": [],
   "source": [
    "dataframe.sort_values(by='Rank', ascending=False).to_csv(\"SerieA/Season21_22/rank.csv\")"
   ]
  }
 ],
 "metadata": {
  "kernelspec": {
   "display_name": "Python 3.8.8 ('base')",
   "language": "python",
   "name": "python3"
  },
  "language_info": {
   "codemirror_mode": {
    "name": "ipython",
    "version": 3
   },
   "file_extension": ".py",
   "mimetype": "text/x-python",
   "name": "python",
   "nbconvert_exporter": "python",
   "pygments_lexer": "ipython3",
   "version": "3.8.8"
  },
  "orig_nbformat": 4,
  "vscode": {
   "interpreter": {
    "hash": "b51fba03621ea2707aa24f127a4f74542be1adffaa0a8f5a15c5b0606de1417a"
   }
  }
 },
 "nbformat": 4,
 "nbformat_minor": 2
}
