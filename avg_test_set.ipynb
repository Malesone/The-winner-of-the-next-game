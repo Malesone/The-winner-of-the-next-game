{
 "cells": [
  {
   "cell_type": "code",
   "execution_count": 419,
   "metadata": {},
   "outputs": [],
   "source": [
    "import pandas as pd\n",
    "import glob, os\n",
    "import numpy as np"
   ]
  },
  {
   "cell_type": "markdown",
   "metadata": {},
   "source": [
    "# Divisione train/test set e calcolo media su test"
   ]
  },
  {
   "cell_type": "markdown",
   "metadata": {},
   "source": [
    "Voglio prendere il mio train set che è dato dal match con nuovi campi aggiuntivi. \n",
    "Questi campi sono la differenza tra le statistiche in quel match della squadra di casa e quelle della squadra in trasferta.\n",
    "\n",
    "Nel test set invece prendo i csv relativi alle due squadre che si affrontano, prendo la giornata e calcolo la media dei match precedenti. Successivamente faccio la sottrazione."
   ]
  },
  {
   "cell_type": "code",
   "execution_count": 420,
   "metadata": {},
   "outputs": [],
   "source": [
    "rename_fields = {\n",
    "    'Squadra': 'team',\n",
    "    'Rf': 'goals',\n",
    "    'Tiri': 'total_shots',\n",
    "    'Tiri.1': 'shots_on_target',\n",
    "    'Rigori': 'goals_on_penalty',\n",
    "    'Rig T': 'total_penalties',\n",
    "    'Compl': 'completed_passings',\n",
    "    'Tent': 'total_passings',\n",
    "    'Angoli': 'corners',\n",
    "    'Poss.': 'percentage_possession',\n",
    "    'Falli': 'fouls',\n",
    "    'Amm.': 'yellow_cards',\n",
    "    'Esp.': 'red_cards',\n",
    "    'Data': 'date',\n",
    "    'Girone': 'matchday',\n",
    "}"
   ]
  },
  {
   "cell_type": "code",
   "execution_count": 421,
   "metadata": {},
   "outputs": [],
   "source": [
    "dataset = pd.read_csv(\"SerieA/Season21_22/matches.csv\", index_col=0)\n",
    "matches = dataset[['h_team', 'a_team', 'date', 'matchday', 'result']]\n",
    "matches.to_csv('only_match.csv')"
   ]
  },
  {
   "cell_type": "code",
   "execution_count": 422,
   "metadata": {},
   "outputs": [],
   "source": [
    "#percentage = len(matches)\n",
    "percentage = len(matches)*80/100 \n",
    "train = matches[:int(percentage)]\n",
    "test = matches[int(percentage):]\n"
   ]
  },
  {
   "cell_type": "code",
   "execution_count": 423,
   "metadata": {},
   "outputs": [],
   "source": [
    "#train = matches[matches['date']<'2022-03-18']\n",
    "#test = matches[(matches['date']>='2022-03-18')]# & (matches['date']<'2022-05-23')]\n"
   ]
  },
  {
   "cell_type": "code",
   "execution_count": 424,
   "metadata": {},
   "outputs": [],
   "source": [
    "columns = ['goals', 'total_shots', 'shots_on_target', 'goals_on_penalty', 'total_penalties', 'completed_passings', 'total_passings', 'corners','percentage_possession', 'fouls', 'yellow_cards', 'red_cards']"
   ]
  },
  {
   "cell_type": "code",
   "execution_count": 425,
   "metadata": {},
   "outputs": [],
   "source": [
    "stats_of_all_teams = {}\n",
    "for file in sorted(os.listdir(\"SerieA/Season21_22/Matches/\")):\n",
    "    if file.endswith(\".csv\"):\n",
    "        team_name = file.replace('.csv', '')\n",
    "        team_stats = pd.read_csv(\"SerieA/Season21_22/Matches/\"+file, index_col=0)\n",
    "        team_stats = team_stats.rename(columns=rename_fields) #rinomino le colonne per avere una nomenclatura \n",
    "        \n",
    "        team_stats = team_stats.drop(columns=['Stadio', 'Avversario', 'Rs'])\n",
    "        dataset = team_stats.drop(columns=['team', 'matchday', 'Risultato'])\n",
    "        dataset['date'] = pd.to_datetime(dataset['date'], format='%d-%m-%Y')\n",
    "\n",
    "        stats_of_all_teams[team_name] = dataset"
   ]
  },
  {
   "cell_type": "markdown",
   "metadata": {},
   "source": [
    "Vado a popolare il train set con le statistiche corrette. Prendo le statistiche per la squadra di casa, per la squadra di trasferta e calcolo la differenza"
   ]
  },
  {
   "cell_type": "code",
   "execution_count": 426,
   "metadata": {},
   "outputs": [],
   "source": [
    "train = train.reset_index(drop=True)\n",
    "test = test.reset_index(drop=True)"
   ]
  },
  {
   "cell_type": "markdown",
   "metadata": {},
   "source": [
    "Popolo il train set con le statistiche"
   ]
  },
  {
   "cell_type": "code",
   "execution_count": 427,
   "metadata": {},
   "outputs": [],
   "source": [
    "for i, match_value in train.iterrows():\n",
    "    home, away, date = match_value.h_team, match_value.a_team, match_value.date\n",
    "    #ottengo nel dizionario i due dataset relativi alle squadre che si scontrano\n",
    "    home_dataset = stats_of_all_teams[home]\n",
    "    away_dataset = stats_of_all_teams[away]\n",
    "    #cerco nei dataset le statistiche relative alla partita\n",
    "    home_row = home_dataset[home_dataset['date'] == date]\n",
    "    away_row = away_dataset[away_dataset['date'] == date]\n",
    "\n",
    "    home_row = home_row.drop(columns=['date'])\n",
    "    away_row = away_row.drop(columns=['date'])\n",
    "    \n",
    "    for col in columns: \n",
    "        diff = home_row.iloc[0][col] - away_row.iloc[0][col]\n",
    "        train.at[i, col] = diff\n"
   ]
  },
  {
   "cell_type": "markdown",
   "metadata": {},
   "source": [
    "Popolo il test set con le statistiche"
   ]
  },
  {
   "cell_type": "code",
   "execution_count": 428,
   "metadata": {},
   "outputs": [],
   "source": [
    "for i, match_value in test.iterrows():\n",
    "    home, away, date = match_value.h_team, match_value.a_team, match_value.date\n",
    "    #ottengo nel dizionario i due dataset relativi alle squadre che si scontrano\n",
    "    home_dataset = stats_of_all_teams[home]\n",
    "    away_dataset = stats_of_all_teams[away]\n",
    "    #cerco nei dataset le statistiche relative alle partite\n",
    "    home_row = home_dataset[home_dataset['date'] < date]\n",
    "    away_row = away_dataset[away_dataset['date'] < date]\n",
    "\n",
    "    #home_row = home_row.drop(columns=['date'])\n",
    "    #away_row = away_row.drop(columns=['date'])\n",
    "\n",
    "    home_values = home_row[columns].mean()\n",
    "    away_values = away_row[columns].mean()\n",
    "    \n",
    "    for col in columns: \n",
    "        diff = home_values[col] - away_values[col]\n",
    "        test.at[i, col] = diff\n",
    "    "
   ]
  },
  {
   "cell_type": "markdown",
   "metadata": {},
   "source": [
    "# Calcolo codici\n",
    "\n",
    "Concateno i due dataframe insieme per poter calcolare i dummy"
   ]
  },
  {
   "cell_type": "code",
   "execution_count": 429,
   "metadata": {},
   "outputs": [],
   "source": [
    "dataset = train.append(test)\n",
    "\n",
    "dataset = dataset.reset_index(drop=True) #devo resettare l'index perché altrimenti quando faccio il dummy, viene fatto anche sull'index, in quando train e test set hanno indici comuni"
   ]
  },
  {
   "cell_type": "code",
   "execution_count": 430,
   "metadata": {},
   "outputs": [],
   "source": [
    "stacked = dataset[['h_team', 'a_team']].stack()\n",
    "index = stacked.index.get_level_values(0)\n",
    "result = pd.crosstab(index=index, columns=stacked)\n",
    "result.index.name = None\n",
    "result.columns.name = None\n",
    "\n",
    "dummy_match = pd.get_dummies(dataset\n",
    "        ,columns = ['h_team']\n",
    "        ,prefix = ['h']\n",
    "        )\n",
    "\n",
    "dummy_match = dummy_match.drop(['a_team'], axis=1)\n",
    "pos = 0\n",
    "for col in result.columns:\n",
    "    dummy_match.insert(pos, col, result[col])\n",
    "    pos += 1\n",
    "\n",
    "dataset = dummy_match"
   ]
  },
  {
   "cell_type": "code",
   "execution_count": 431,
   "metadata": {},
   "outputs": [],
   "source": [
    "concat_to_train = dataset[:len(train)]\n",
    "concat_to_test = dataset[len(train):]\n",
    "\n",
    "concat_to_test = concat_to_test.reset_index(drop=True) #dato che avevo settato un indice progressivo nel dataset completo, devo resettar egli indici per il dummy fatto sul train set"
   ]
  },
  {
   "cell_type": "code",
   "execution_count": 432,
   "metadata": {},
   "outputs": [],
   "source": [
    "for col in concat_to_train.columns:\n",
    "    train[col] = concat_to_train[col]\n",
    "    \n",
    "for col in concat_to_test.columns:\n",
    "    test[col] = concat_to_test[col]\n"
   ]
  },
  {
   "cell_type": "code",
   "execution_count": null,
   "metadata": {},
   "outputs": [],
   "source": [
    "from IPython.display import display, HTML\n",
    "\n",
    "display(HTML(test.to_html()))"
   ]
  },
  {
   "cell_type": "code",
   "execution_count": 434,
   "metadata": {},
   "outputs": [],
   "source": [
    "label_train = train.result\n",
    "label_test = test.result\n",
    "\n",
    "train = train.drop(columns=['h_team', 'a_team', 'date', 'matchday', 'result'])\n",
    "test = test.drop(columns=['h_team', 'a_team', 'date', 'matchday', 'result'])"
   ]
  },
  {
   "cell_type": "markdown",
   "metadata": {},
   "source": [
    "## Machine Learning"
   ]
  },
  {
   "cell_type": "code",
   "execution_count": 435,
   "metadata": {},
   "outputs": [],
   "source": [
    "from sklearn.ensemble import RandomForestClassifier\n",
    "from sklearn.linear_model import LogisticRegression\n",
    "from sklearn.naive_bayes import MultinomialNB\n",
    "from sklearn.neighbors import KNeighborsClassifier\n",
    "from sklearn.svm import SVC\n",
    "from sklearn.tree import DecisionTreeClassifier\n",
    "\n",
    "import sklearn.metrics as mtr"
   ]
  },
  {
   "cell_type": "code",
   "execution_count": 436,
   "metadata": {},
   "outputs": [],
   "source": [
    "models = {\n",
    "    'Logistic Regression': LogisticRegression(max_iter=10000), #max_iter di default vale 100, ho dovuto alzarlo se no non converge\n",
    "    'Support Vector Machine': SVC(),\n",
    "    #'Multinomial Naive Bayes': MultinomialNB(),\n",
    "    'Decision Tree': DecisionTreeClassifier(),\n",
    "    'Random Forest': RandomForestClassifier(),\n",
    "    'K-Nearest Neighbors': KNeighborsClassifier()\n",
    "}"
   ]
  },
  {
   "cell_type": "code",
   "execution_count": 437,
   "metadata": {},
   "outputs": [],
   "source": [
    "for model_name, model in models.items():\n",
    "    models[model_name].fit(train, label_train)\n",
    "\n",
    "predictions = {}\n",
    "for model_name, model in models.items():\n",
    "    predictions[model_name] = model.predict(test)"
   ]
  },
  {
   "cell_type": "code",
   "execution_count": 438,
   "metadata": {},
   "outputs": [],
   "source": [
    "E = []\n",
    "for estimator, y_pred in predictions.items():\n",
    "    report = mtr.classification_report(label_test, y_pred, output_dict=True, zero_division=0)\n",
    "    E.append({\n",
    "        'Model': estimator, 'Accuracy': report['accuracy'],\n",
    "        'Avg Precision (macro)': report['macro avg']['precision'],\n",
    "        'Avg Recall (macro)': report['macro avg']['recall'],\n",
    "        'Avg F1-score (macro)': report['macro avg']['f1-score'],\n",
    "        'Avg Precision (weighted)': report['weighted avg']['precision'],\n",
    "        'Avg Recall (weighted)': report['weighted avg']['recall'],\n",
    "        'Avg F1-score (weighted)': report['weighted avg']['f1-score']\n",
    "    })\n",
    "E = pd.DataFrame(E).set_index('Model', inplace=False)"
   ]
  },
  {
   "cell_type": "code",
   "execution_count": 439,
   "metadata": {},
   "outputs": [
    {
     "data": {
      "text/html": [
       "<div>\n",
       "<style scoped>\n",
       "    .dataframe tbody tr th:only-of-type {\n",
       "        vertical-align: middle;\n",
       "    }\n",
       "\n",
       "    .dataframe tbody tr th {\n",
       "        vertical-align: top;\n",
       "    }\n",
       "\n",
       "    .dataframe thead th {\n",
       "        text-align: right;\n",
       "    }\n",
       "</style>\n",
       "<table border=\"1\" class=\"dataframe\">\n",
       "  <thead>\n",
       "    <tr style=\"text-align: right;\">\n",
       "      <th></th>\n",
       "      <th>Accuracy</th>\n",
       "      <th>Avg Precision (macro)</th>\n",
       "      <th>Avg Recall (macro)</th>\n",
       "      <th>Avg F1-score (macro)</th>\n",
       "      <th>Avg Precision (weighted)</th>\n",
       "      <th>Avg Recall (weighted)</th>\n",
       "      <th>Avg F1-score (weighted)</th>\n",
       "    </tr>\n",
       "    <tr>\n",
       "      <th>Model</th>\n",
       "      <th></th>\n",
       "      <th></th>\n",
       "      <th></th>\n",
       "      <th></th>\n",
       "      <th></th>\n",
       "      <th></th>\n",
       "      <th></th>\n",
       "    </tr>\n",
       "  </thead>\n",
       "  <tbody>\n",
       "    <tr>\n",
       "      <th>Logistic Regression</th>\n",
       "      <td>0.400000</td>\n",
       "      <td>0.472143</td>\n",
       "      <td>0.424786</td>\n",
       "      <td>0.404762</td>\n",
       "      <td>0.517744</td>\n",
       "      <td>0.400000</td>\n",
       "      <td>0.419850</td>\n",
       "    </tr>\n",
       "    <tr>\n",
       "      <th>Support Vector Machine</th>\n",
       "      <td>0.505263</td>\n",
       "      <td>0.372457</td>\n",
       "      <td>0.421652</td>\n",
       "      <td>0.371717</td>\n",
       "      <td>0.437658</td>\n",
       "      <td>0.505263</td>\n",
       "      <td>0.440957</td>\n",
       "    </tr>\n",
       "    <tr>\n",
       "      <th>Decision Tree</th>\n",
       "      <td>0.431579</td>\n",
       "      <td>0.530327</td>\n",
       "      <td>0.468091</td>\n",
       "      <td>0.437862</td>\n",
       "      <td>0.581651</td>\n",
       "      <td>0.431579</td>\n",
       "      <td>0.450794</td>\n",
       "    </tr>\n",
       "    <tr>\n",
       "      <th>Random Forest</th>\n",
       "      <td>0.431579</td>\n",
       "      <td>0.530327</td>\n",
       "      <td>0.468091</td>\n",
       "      <td>0.437862</td>\n",
       "      <td>0.581651</td>\n",
       "      <td>0.431579</td>\n",
       "      <td>0.450794</td>\n",
       "    </tr>\n",
       "    <tr>\n",
       "      <th>K-Nearest Neighbors</th>\n",
       "      <td>0.378947</td>\n",
       "      <td>0.368962</td>\n",
       "      <td>0.359687</td>\n",
       "      <td>0.360450</td>\n",
       "      <td>0.404657</td>\n",
       "      <td>0.378947</td>\n",
       "      <td>0.388221</td>\n",
       "    </tr>\n",
       "  </tbody>\n",
       "</table>\n",
       "</div>"
      ],
      "text/plain": [
       "                        Accuracy  Avg Precision (macro)  Avg Recall (macro)  \\\n",
       "Model                                                                         \n",
       "Logistic Regression     0.400000               0.472143            0.424786   \n",
       "Support Vector Machine  0.505263               0.372457            0.421652   \n",
       "Decision Tree           0.431579               0.530327            0.468091   \n",
       "Random Forest           0.431579               0.530327            0.468091   \n",
       "K-Nearest Neighbors     0.378947               0.368962            0.359687   \n",
       "\n",
       "                        Avg F1-score (macro)  Avg Precision (weighted)  \\\n",
       "Model                                                                    \n",
       "Logistic Regression                 0.404762                  0.517744   \n",
       "Support Vector Machine              0.371717                  0.437658   \n",
       "Decision Tree                       0.437862                  0.581651   \n",
       "Random Forest                       0.437862                  0.581651   \n",
       "K-Nearest Neighbors                 0.360450                  0.404657   \n",
       "\n",
       "                        Avg Recall (weighted)  Avg F1-score (weighted)  \n",
       "Model                                                                   \n",
       "Logistic Regression                  0.400000                 0.419850  \n",
       "Support Vector Machine               0.505263                 0.440957  \n",
       "Decision Tree                        0.431579                 0.450794  \n",
       "Random Forest                        0.431579                 0.450794  \n",
       "K-Nearest Neighbors                  0.378947                 0.388221  "
      ]
     },
     "execution_count": 439,
     "metadata": {},
     "output_type": "execute_result"
    }
   ],
   "source": [
    "E"
   ]
  }
 ],
 "metadata": {
  "kernelspec": {
   "display_name": "Python 3.8.8 ('base')",
   "language": "python",
   "name": "python3"
  },
  "language_info": {
   "codemirror_mode": {
    "name": "ipython",
    "version": 3
   },
   "file_extension": ".py",
   "mimetype": "text/x-python",
   "name": "python",
   "nbconvert_exporter": "python",
   "pygments_lexer": "ipython3",
   "version": "3.8.8"
  },
  "orig_nbformat": 4,
  "vscode": {
   "interpreter": {
    "hash": "b51fba03621ea2707aa24f127a4f74542be1adffaa0a8f5a15c5b0606de1417a"
   }
  }
 },
 "nbformat": 4,
 "nbformat_minor": 2
}
