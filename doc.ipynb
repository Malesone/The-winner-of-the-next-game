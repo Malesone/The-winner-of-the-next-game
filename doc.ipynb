{
 "cells": [
  {
   "cell_type": "markdown",
   "metadata": {},
   "source": [
    "# Utilizzato per screenshot"
   ]
  },
  {
   "cell_type": "code",
   "execution_count": 34,
   "metadata": {},
   "outputs": [],
   "source": [
    "import pandas as pd\n",
    "from analysis import MatchAnalysis\n",
    "import util_strings as utils"
   ]
  },
  {
   "cell_type": "code",
   "execution_count": 35,
   "metadata": {},
   "outputs": [
    {
     "data": {
      "text/html": [
       "<div>\n",
       "<style scoped>\n",
       "    .dataframe tbody tr th:only-of-type {\n",
       "        vertical-align: middle;\n",
       "    }\n",
       "\n",
       "    .dataframe tbody tr th {\n",
       "        vertical-align: top;\n",
       "    }\n",
       "\n",
       "    .dataframe thead th {\n",
       "        text-align: right;\n",
       "    }\n",
       "</style>\n",
       "<table border=\"1\" class=\"dataframe\">\n",
       "  <thead>\n",
       "    <tr style=\"text-align: right;\">\n",
       "      <th></th>\n",
       "      <th>home</th>\n",
       "      <th>date</th>\n",
       "      <th>result</th>\n",
       "      <th>goals</th>\n",
       "      <th>away</th>\n",
       "      <th>total_shots</th>\n",
       "      <th>shots_on_target</th>\n",
       "      <th>goals_on_penalty</th>\n",
       "      <th>total_penalties</th>\n",
       "      <th>percentage_possession</th>\n",
       "      <th>fouls</th>\n",
       "      <th>yellow_cards</th>\n",
       "      <th>red_cards</th>\n",
       "      <th>season</th>\n",
       "      <th>rank_h</th>\n",
       "      <th>rank_a</th>\n",
       "    </tr>\n",
       "  </thead>\n",
       "  <tbody>\n",
       "    <tr>\n",
       "      <th>1639</th>\n",
       "      <td>hellas verona</td>\n",
       "      <td>2022-10-31</td>\n",
       "      <td>P</td>\n",
       "      <td>-0.2</td>\n",
       "      <td>roma</td>\n",
       "      <td>-0.6</td>\n",
       "      <td>-0.4</td>\n",
       "      <td>-0.4</td>\n",
       "      <td>-0.4</td>\n",
       "      <td>-0.4</td>\n",
       "      <td>0.8</td>\n",
       "      <td>1.0</td>\n",
       "      <td>0.2</td>\n",
       "      <td>2022-2023</td>\n",
       "      <td>2.0</td>\n",
       "      <td>9.0</td>\n",
       "    </tr>\n",
       "  </tbody>\n",
       "</table>\n",
       "</div>"
      ],
      "text/plain": [
       "               home        date result  goals  away  total_shots  \\\n",
       "1639  hellas verona  2022-10-31      P   -0.2  roma         -0.6   \n",
       "\n",
       "      shots_on_target  goals_on_penalty  total_penalties  \\\n",
       "1639             -0.4              -0.4             -0.4   \n",
       "\n",
       "      percentage_possession  fouls  yellow_cards  red_cards     season  \\\n",
       "1639                   -0.4    0.8           1.0        0.2  2022-2023   \n",
       "\n",
       "      rank_h  rank_a  \n",
       "1639     2.0     9.0  "
      ]
     },
     "execution_count": 35,
     "metadata": {},
     "output_type": "execute_result"
    }
   ],
   "source": [
    "matches = pd.read_csv(utils.dataset_without_text, index_col=0)\n",
    "matches[-1:]"
   ]
  },
  {
   "cell_type": "code",
   "execution_count": 36,
   "metadata": {},
   "outputs": [],
   "source": [
    "ma = MatchAnalysis()\n",
    "ma.read_matches(utils.merged_statistics)\n",
    "ma.create_team_dataset()"
   ]
  },
  {
   "cell_type": "code",
   "execution_count": 37,
   "metadata": {},
   "outputs": [
    {
     "data": {
      "text/plain": [
       "\"for t in ma.matches_by_team:\\n    if (t.name == 'hellas verona') | (t.name == 'roma'):\\n        display(t.matches[-6:])\\n\""
      ]
     },
     "execution_count": 37,
     "metadata": {},
     "output_type": "execute_result"
    }
   ],
   "source": [
    "\"\"\"for t in ma.matches_by_team:\n",
    "    if (t.name == 'hellas verona') | (t.name == 'roma'):\n",
    "        display(t.matches[-6:])\n",
    "\"\"\""
   ]
  },
  {
   "cell_type": "markdown",
   "metadata": {},
   "source": [
    "# Classificazione Decision Tree"
   ]
  },
  {
   "cell_type": "code",
   "execution_count": 38,
   "metadata": {},
   "outputs": [],
   "source": [
    "analysis = []"
   ]
  },
  {
   "cell_type": "code",
   "execution_count": 47,
   "metadata": {},
   "outputs": [],
   "source": [
    "from my_tokenizer import MyTokenizer\n",
    "#from classification import Classification\n",
    "#from model import Model\n",
    "import pandas as pd\n",
    "import util_strings as utils\n",
    "\n",
    "vect = utils.CountVectorizer"
   ]
  },
  {
   "cell_type": "code",
   "execution_count": 48,
   "metadata": {},
   "outputs": [],
   "source": [
    "mt = MyTokenizer(pd.read_csv(utils.completed_dataset, index_col=0))\n",
    "mt.feature_normalization()\n",
    "#mt.dataset"
   ]
  },
  {
   "cell_type": "code",
   "execution_count": 49,
   "metadata": {},
   "outputs": [],
   "source": [
    "mt.clean_text()\n",
    "mt.open_vectorizer(vect)\n",
    "\n",
    "vectorizer = True if vect == utils.TfidfVectorizer else False\n",
    "X_train, X_test, y_train, y_test = mt.set_bigram_and_get_sets(vectorizer) #se True TfidfVectorizer, se False CountVectorizer\n",
    "#mt.dataset"
   ]
  },
  {
   "cell_type": "code",
   "execution_count": 50,
   "metadata": {},
   "outputs": [],
   "source": [
    "import pickle\n",
    "classificator = utils.classificatorTfIdf if vect == utils.TfidfVectorizer else utils.classificatorCV_LR\n",
    "\n",
    "dt = pickle.load(open(classificator, 'rb'))\n",
    "y_pred = dt.predict(X_test)"
   ]
  },
  {
   "cell_type": "code",
   "execution_count": 51,
   "metadata": {},
   "outputs": [],
   "source": [
    "import sklearn.metrics as mtr\n",
    "\n",
    "E = []\n",
    "report = mtr.classification_report(y_test, y_pred, output_dict=True, zero_division=0)\n",
    "name = 'TfidfVectorizer' if vect == utils.TfidfVectorizer else 'CountVectorizer'\n"
   ]
  },
  {
   "cell_type": "code",
   "execution_count": 52,
   "metadata": {},
   "outputs": [],
   "source": [
    "analysis.append({\n",
    "    'Vectorizer': name, 'ML model': 'Logistic Regression', 'Accuracy': report['accuracy'],\n",
    "    'Avg Precision (macro)': report['macro avg']['precision'],\n",
    "    'Avg Recall (macro)': report['macro avg']['recall'],\n",
    "    'Avg F1-score (macro)': report['macro avg']['f1-score'],\n",
    "    'Avg Precision (weighted)': report['weighted avg']['precision'],\n",
    "    'Avg Recall (weighted)': report['weighted avg']['recall'],\n",
    "    'Avg F1-score (weighted)': report['weighted avg']['f1-score']\n",
    "})"
   ]
  },
  {
   "cell_type": "code",
   "execution_count": 53,
   "metadata": {},
   "outputs": [
    {
     "data": {
      "text/html": [
       "<div>\n",
       "<style scoped>\n",
       "    .dataframe tbody tr th:only-of-type {\n",
       "        vertical-align: middle;\n",
       "    }\n",
       "\n",
       "    .dataframe tbody tr th {\n",
       "        vertical-align: top;\n",
       "    }\n",
       "\n",
       "    .dataframe thead th {\n",
       "        text-align: right;\n",
       "    }\n",
       "</style>\n",
       "<table border=\"1\" class=\"dataframe\">\n",
       "  <thead>\n",
       "    <tr style=\"text-align: right;\">\n",
       "      <th></th>\n",
       "      <th>Vectorizer</th>\n",
       "      <th>ML model</th>\n",
       "      <th>Accuracy</th>\n",
       "      <th>Avg Precision (macro)</th>\n",
       "      <th>Avg Recall (macro)</th>\n",
       "      <th>Avg F1-score (macro)</th>\n",
       "      <th>Avg Precision (weighted)</th>\n",
       "      <th>Avg Recall (weighted)</th>\n",
       "      <th>Avg F1-score (weighted)</th>\n",
       "    </tr>\n",
       "  </thead>\n",
       "  <tbody>\n",
       "    <tr>\n",
       "      <th>0</th>\n",
       "      <td>TfidfVectorizer</td>\n",
       "      <td>Decision Tree</td>\n",
       "      <td>0.834356</td>\n",
       "      <td>0.836946</td>\n",
       "      <td>0.809376</td>\n",
       "      <td>0.819919</td>\n",
       "      <td>0.841132</td>\n",
       "      <td>0.834356</td>\n",
       "      <td>0.834376</td>\n",
       "    </tr>\n",
       "    <tr>\n",
       "      <th>1</th>\n",
       "      <td>CountVectorizer</td>\n",
       "      <td>Logistic Regression</td>\n",
       "      <td>0.852761</td>\n",
       "      <td>0.866070</td>\n",
       "      <td>0.824695</td>\n",
       "      <td>0.839814</td>\n",
       "      <td>0.857762</td>\n",
       "      <td>0.852761</td>\n",
       "      <td>0.850975</td>\n",
       "    </tr>\n",
       "  </tbody>\n",
       "</table>\n",
       "</div>"
      ],
      "text/plain": [
       "        Vectorizer             ML model  Accuracy  Avg Precision (macro)  \\\n",
       "0  TfidfVectorizer        Decision Tree  0.834356               0.836946   \n",
       "1  CountVectorizer  Logistic Regression  0.852761               0.866070   \n",
       "\n",
       "   Avg Recall (macro)  Avg F1-score (macro)  Avg Precision (weighted)  \\\n",
       "0            0.809376              0.819919                  0.841132   \n",
       "1            0.824695              0.839814                  0.857762   \n",
       "\n",
       "   Avg Recall (weighted)  Avg F1-score (weighted)  \n",
       "0               0.834356                 0.834376  \n",
       "1               0.852761                 0.850975  "
      ]
     },
     "execution_count": 53,
     "metadata": {},
     "output_type": "execute_result"
    }
   ],
   "source": [
    "df = pd.DataFrame.from_dict(analysis)\n",
    "df"
   ]
  },
  {
   "cell_type": "code",
   "execution_count": 54,
   "metadata": {},
   "outputs": [
    {
     "data": {
      "text/html": [
       "<div>\n",
       "<style scoped>\n",
       "    .dataframe tbody tr th:only-of-type {\n",
       "        vertical-align: middle;\n",
       "    }\n",
       "\n",
       "    .dataframe tbody tr th {\n",
       "        vertical-align: top;\n",
       "    }\n",
       "\n",
       "    .dataframe thead th {\n",
       "        text-align: right;\n",
       "    }\n",
       "</style>\n",
       "<table border=\"1\" class=\"dataframe\">\n",
       "  <thead>\n",
       "    <tr style=\"text-align: right;\">\n",
       "      <th></th>\n",
       "      <th>Vectorizer</th>\n",
       "      <th>Accuracy</th>\n",
       "      <th>Avg Precision (macro)</th>\n",
       "      <th>Avg Recall (macro)</th>\n",
       "      <th>Avg F1-score (macro)</th>\n",
       "      <th>Avg Precision (weighted)</th>\n",
       "      <th>Avg Recall (weighted)</th>\n",
       "      <th>Avg F1-score (weighted)</th>\n",
       "    </tr>\n",
       "    <tr>\n",
       "      <th>ML model</th>\n",
       "      <th></th>\n",
       "      <th></th>\n",
       "      <th></th>\n",
       "      <th></th>\n",
       "      <th></th>\n",
       "      <th></th>\n",
       "      <th></th>\n",
       "      <th></th>\n",
       "    </tr>\n",
       "  </thead>\n",
       "  <tbody>\n",
       "    <tr>\n",
       "      <th>Decision Tree</th>\n",
       "      <td>TfidfVectorizer</td>\n",
       "      <td>0.834356</td>\n",
       "      <td>0.836946</td>\n",
       "      <td>0.809376</td>\n",
       "      <td>0.819919</td>\n",
       "      <td>0.841132</td>\n",
       "      <td>0.834356</td>\n",
       "      <td>0.834376</td>\n",
       "    </tr>\n",
       "    <tr>\n",
       "      <th>Logistic Regression</th>\n",
       "      <td>CountVectorizer</td>\n",
       "      <td>0.852761</td>\n",
       "      <td>0.866070</td>\n",
       "      <td>0.824695</td>\n",
       "      <td>0.839814</td>\n",
       "      <td>0.857762</td>\n",
       "      <td>0.852761</td>\n",
       "      <td>0.850975</td>\n",
       "    </tr>\n",
       "  </tbody>\n",
       "</table>\n",
       "</div>"
      ],
      "text/plain": [
       "                          Vectorizer  Accuracy  Avg Precision (macro)  \\\n",
       "ML model                                                                \n",
       "Decision Tree        TfidfVectorizer  0.834356               0.836946   \n",
       "Logistic Regression  CountVectorizer  0.852761               0.866070   \n",
       "\n",
       "                     Avg Recall (macro)  Avg F1-score (macro)  \\\n",
       "ML model                                                        \n",
       "Decision Tree                  0.809376              0.819919   \n",
       "Logistic Regression            0.824695              0.839814   \n",
       "\n",
       "                     Avg Precision (weighted)  Avg Recall (weighted)  \\\n",
       "ML model                                                               \n",
       "Decision Tree                        0.841132               0.834356   \n",
       "Logistic Regression                  0.857762               0.852761   \n",
       "\n",
       "                     Avg F1-score (weighted)  \n",
       "ML model                                      \n",
       "Decision Tree                       0.834376  \n",
       "Logistic Regression                 0.850975  "
      ]
     },
     "execution_count": 54,
     "metadata": {},
     "output_type": "execute_result"
    }
   ],
   "source": [
    "df.set_index('ML model')"
   ]
  }
 ],
 "metadata": {
  "kernelspec": {
   "display_name": "Python 3.8.8 ('base')",
   "language": "python",
   "name": "python3"
  },
  "language_info": {
   "codemirror_mode": {
    "name": "ipython",
    "version": 3
   },
   "file_extension": ".py",
   "mimetype": "text/x-python",
   "name": "python",
   "nbconvert_exporter": "python",
   "pygments_lexer": "ipython3",
   "version": "3.8.8"
  },
  "orig_nbformat": 4,
  "vscode": {
   "interpreter": {
    "hash": "b51fba03621ea2707aa24f127a4f74542be1adffaa0a8f5a15c5b0606de1417a"
   }
  }
 },
 "nbformat": 4,
 "nbformat_minor": 2
}
