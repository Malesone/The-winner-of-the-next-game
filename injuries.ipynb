{
 "cells": [
  {
   "cell_type": "code",
   "execution_count": 13,
   "metadata": {},
   "outputs": [],
   "source": [
    "import requests\n",
    "from bs4 import BeautifulSoup\n",
    "import pandas as pd\n",
    "\n",
    "headers = {'User-Agent': \n",
    "           'Mozilla/5.0 (X11; Linux x86_64) AppleWebKit/537.36 (KHTML, like Gecko) Chrome/47.0.2526.106 Safari/537.36'}"
   ]
  },
  {
   "cell_type": "code",
   "execution_count": 59,
   "metadata": {},
   "outputs": [],
   "source": [
    "page = \"https://www.fantacalcio.it/infortunati-serie-a\"\n",
    "pageTree = requests.get(page, headers=headers)\n",
    "soup = BeautifulSoup(pageTree.content, 'html.parser')"
   ]
  },
  {
   "cell_type": "code",
   "execution_count": 86,
   "metadata": {},
   "outputs": [],
   "source": [
    "#elenco completo senza squadra\n",
    "all_injuries = soup.find_all('ul', class_='unstyled')"
   ]
  },
  {
   "cell_type": "code",
   "execution_count": 191,
   "metadata": {},
   "outputs": [],
   "source": [
    "class Team:\n",
    "    def __init__(self, name):\n",
    "        self.name = name\n",
    "\n",
    "    def add_players(self, players):\n",
    "        self.players = players\n",
    "\n",
    "    def to_string(self):\n",
    "        print(\"TEAM: \", self.name.upper())\n",
    "        for p in self.players:\n",
    "            p.to_string()\n",
    "         \n",
    "\n",
    "class Player:\n",
    "    def __init__(self, name, description):\n",
    "        self.name = name\n",
    "        self.description = description\n",
    "\n",
    "    def to_string(self):\n",
    "        print(\"name: \", self.name, 'description: ', self.description)"
   ]
  },
  {
   "cell_type": "code",
   "execution_count": 192,
   "metadata": {},
   "outputs": [],
   "source": [
    "#elenco completo senza squadra\n",
    "teams_html = soup.find_all('div', class_='card team-card')\n",
    "\n",
    "teams = []\n",
    "for team_html in teams_html: \n",
    "    team_name = team_html.find('span', class_='team-name').get_text()\n",
    "    team = Team(team_name)\n",
    "    teams.append(team)\n",
    "\n",
    "    players = []\n",
    "\n",
    "    injuries = team_html.find_all('li', class_='')\n",
    "    for injury in injuries:\n",
    "        player_injuried = injury.find('strong', class_='item-name').get_text()\n",
    "        description = injury.find('p', class_='').get_text()\n",
    "        \n",
    "        player = Player(player_injuried, description)\n",
    "        players.append(player)\n",
    "\n",
    "    team.add_players(players)\n",
    "    "
   ]
  }
 ],
 "metadata": {
  "kernelspec": {
   "display_name": "Python 3.8.8 ('base')",
   "language": "python",
   "name": "python3"
  },
  "language_info": {
   "codemirror_mode": {
    "name": "ipython",
    "version": 3
   },
   "file_extension": ".py",
   "mimetype": "text/x-python",
   "name": "python",
   "nbconvert_exporter": "python",
   "pygments_lexer": "ipython3",
   "version": "3.8.8"
  },
  "orig_nbformat": 4,
  "vscode": {
   "interpreter": {
    "hash": "b51fba03621ea2707aa24f127a4f74542be1adffaa0a8f5a15c5b0606de1417a"
   }
  }
 },
 "nbformat": 4,
 "nbformat_minor": 2
}
