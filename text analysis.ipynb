{
 "cells": [
  {
   "cell_type": "markdown",
   "metadata": {},
   "source": [
    "# Creazione modello text analysis\n",
    "Ho visto che il decision tree è il modello che mi offre migliori performance, soprattutto con TfIdf e tokenizzazione nltk/regex con stemming PorterStemmer().\n"
   ]
  },
  {
   "cell_type": "code",
   "execution_count": 1,
   "metadata": {},
   "outputs": [],
   "source": [
    "from my_tokenizer import MyTokenizer\n",
    "import pandas as pd\n",
    "import util_strings as utils"
   ]
  },
  {
   "cell_type": "markdown",
   "metadata": {},
   "source": [
    "È necessaria la normalizzazione delle feature, dato che nel testo abbiamo i nomi delle squadre ed i soprannomi, vado a sostituire tutte le parole relative alla squadra di casa con home team e stessa cosa per la away team.\n",
    "Questo viene fatto tramite il metodo feature_normalization()"
   ]
  },
  {
   "cell_type": "code",
   "execution_count": 2,
   "metadata": {},
   "outputs": [],
   "source": [
    "mt = MyTokenizer(pd.read_csv(utils.completed_dataset, index_col=0))\n",
    "mt.feature_normalization()\n",
    "#mt.dataset"
   ]
  },
  {
   "cell_type": "code",
   "execution_count": 3,
   "metadata": {},
   "outputs": [],
   "source": [
    "mt.clean_text()\n",
    "vectorizer = False #se True TfidfVectorizer, se False CountVectorizer\n",
    "X_train, X_test, y_train, y_test = mt.set_bigram_and_get_sets(vectorizer) \n",
    "path_vec = utils.TfidfVectorizer if vectorizer else utils.CountVectorizer\n",
    "mt.save_vectorizer(path_vec)"
   ]
  },
  {
   "cell_type": "markdown",
   "metadata": {},
   "source": [
    "## Classificazione del modello\n",
    "Migliori risultati con Decision Tree.\n",
    "Viene salvato il modello"
   ]
  },
  {
   "cell_type": "code",
   "execution_count": 4,
   "metadata": {},
   "outputs": [],
   "source": [
    "from sklearn.tree import DecisionTreeClassifier\n",
    "from sklearn.linear_model import LogisticRegression\n",
    "import sklearn.metrics as mtr"
   ]
  },
  {
   "cell_type": "code",
   "execution_count": 6,
   "metadata": {},
   "outputs": [
    {
     "name": "stdout",
     "output_type": "stream",
     "text": [
      "0.8159509202453987\n",
      "0.8251533742331288\n",
      "0.8343558282208589\n"
     ]
    }
   ],
   "source": [
    "E = []\n",
    "\n",
    "if vectorizer:\n",
    "    model = DecisionTreeClassifier()\n",
    "    accuracy = 0\n",
    "    min_val = 0.834 \n",
    "\n",
    "    while(accuracy < min_val):\n",
    "        model.fit(X_train, y_train)\n",
    "        y_pred = model.predict(X_test)\n",
    "        analysis = pd.DataFrame()\n",
    "                \n",
    "        report = mtr.classification_report(y_test, y_pred, output_dict=True, zero_division=0)\n",
    "        if report['accuracy'] > accuracy: \n",
    "            accuracy = report['accuracy']\n",
    "            print(accuracy)\n",
    "else: \n",
    "    model = LogisticRegression()\n",
    "    model.fit(X_train, y_train)\n",
    "    y_pred = model.predict(X_test)\n",
    "    report = mtr.classification_report(y_test, y_pred, output_dict=True, zero_division=0)"
   ]
  },
  {
   "cell_type": "code",
   "execution_count": 7,
   "metadata": {},
   "outputs": [
    {
     "data": {
      "text/plain": [
       "{'Model': 'Model',\n",
       " 'Accuracy': 0.8343558282208589,\n",
       " 'Avg Precision (macro)': 0.8390828924162257,\n",
       " 'Avg Recall (macro)': 0.8081253889094304,\n",
       " 'Avg F1-score (macro)': 0.8197957225890186,\n",
       " 'Avg Precision (weighted)': 0.841626902976596,\n",
       " 'Avg Recall (weighted)': 0.8343558282208589,\n",
       " 'Avg F1-score (weighted)': 0.8340265942144133}"
      ]
     },
     "execution_count": 7,
     "metadata": {},
     "output_type": "execute_result"
    }
   ],
   "source": [
    "analysis = {\n",
    "    'Model': 'Model', 'Accuracy': report['accuracy'],\n",
    "    'Avg Precision (macro)': report['macro avg']['precision'],\n",
    "    'Avg Recall (macro)': report['macro avg']['recall'],\n",
    "    'Avg F1-score (macro)': report['macro avg']['f1-score'],\n",
    "    'Avg Precision (weighted)': report['weighted avg']['precision'],\n",
    "    'Avg Recall (weighted)': report['weighted avg']['recall'],\n",
    "    'Avg F1-score (weighted)': report['weighted avg']['f1-score']\n",
    "}\n",
    "analysis"
   ]
  },
  {
   "cell_type": "code",
   "execution_count": 31,
   "metadata": {},
   "outputs": [
    {
     "data": {
      "text/plain": [
       "(array([1., 0., 1., 2., 2., 2., 0., 2.]),\n",
       " array([1., 0., 1., 1., 2., 1., 0., 2.]))"
      ]
     },
     "execution_count": 31,
     "metadata": {},
     "output_type": "execute_result"
    }
   ],
   "source": [
    "y_test[-8:], y_pred[-8:]"
   ]
  },
  {
   "cell_type": "code",
   "execution_count": null,
   "metadata": {},
   "outputs": [],
   "source": [
    "import pickle"
   ]
  },
  {
   "cell_type": "code",
   "execution_count": null,
   "metadata": {},
   "outputs": [],
   "source": [
    "file_name = utils.classificatorTfIdf if vectorizer else utils.classificatorCV_LR\n",
    "with open(file_name, 'wb') as file:\n",
    "    pickle.dump(model, file)"
   ]
  }
 ],
 "metadata": {
  "kernelspec": {
   "display_name": "Python 3.8.8 ('base')",
   "language": "python",
   "name": "python3"
  },
  "language_info": {
   "codemirror_mode": {
    "name": "ipython",
    "version": 3
   },
   "file_extension": ".py",
   "mimetype": "text/x-python",
   "name": "python",
   "nbconvert_exporter": "python",
   "pygments_lexer": "ipython3",
   "version": "3.8.8"
  },
  "orig_nbformat": 4,
  "vscode": {
   "interpreter": {
    "hash": "b51fba03621ea2707aa24f127a4f74542be1adffaa0a8f5a15c5b0606de1417a"
   }
  }
 },
 "nbformat": 4,
 "nbformat_minor": 2
}
