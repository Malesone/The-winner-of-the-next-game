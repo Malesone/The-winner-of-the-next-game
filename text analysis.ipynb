{
 "cells": [
  {
   "attachments": {},
   "cell_type": "markdown",
   "metadata": {},
   "source": [
    "# FootbalPrediction classification\n",
    "After comparing the experimental results 3, the model used is the Decision Tree with TfIdfVectorizer using a trigram approach.\n",
    "The classification, obtained by the model, belongs to this set of classes: 0 (draw), 1 (home win), 2 (away win).\n"
   ]
  },
  {
   "cell_type": "code",
   "execution_count": 1,
   "metadata": {},
   "outputs": [],
   "source": [
    "from my_tokenizer import MyTokenizer\n",
    "import pandas as pd\n",
    "import util_strings as utils"
   ]
  },
  {
   "attachments": {},
   "cell_type": "markdown",
   "metadata": {},
   "source": [
    "The normalization of the features is necessary, given that in the text we have the names of the teams and the nicknames, I am going to replace all the words relating to the home team with home team and the same thing for the away team.\n",
    "This is done via the feature_normalization() method."
   ]
  },
  {
   "cell_type": "code",
   "execution_count": 2,
   "metadata": {},
   "outputs": [],
   "source": [
    "mt = MyTokenizer(pd.read_csv(utils.completed_dataset, index_col=0))\n",
    "mt.feature_normalization()"
   ]
  },
  {
   "attachments": {},
   "cell_type": "markdown",
   "metadata": {},
   "source": [
    "Before train the model, texts have to be transformed through several phases:\n",
    "- punctuation and numbers removing using regex\n",
    "- tokenization: it allows to split each document into tokens. Nltk is the tokenization chosen because it reaches the highest performance\n",
    "- stop word filtering: words belonging to the \"stopword set\" are removed because they are considered noisy words\n",
    "- stemming: it allows to get the root word of each token\n",
    "\n",
    "These tokens have to be transformed into vectors of numbers. This can quantify the importance or relevance of words in a document amongst a collection of documents. \n",
    "A TfidfVectorizer model is built and saved in the \"ML model\" folder."
   ]
  },
  {
   "cell_type": "code",
   "execution_count": 3,
   "metadata": {},
   "outputs": [],
   "source": [
    "mt.clean_text()\n",
    "vectorizer = True #se True TfidfVectorizer, se False CountVectorizer\n",
    "X_train, X_test, y_train, y_test = mt.set_bigram_and_get_sets(vectorizer) \n",
    "path_vec = utils.TfidfVectorizer if vectorizer else utils.CountVectorizer\n",
    "mt.save_vectorizer(path_vec)"
   ]
  },
  {
   "attachments": {},
   "cell_type": "markdown",
   "metadata": {},
   "source": [
    "## Building the model\n",
    "The model used is the Decision Tree with TfIdfVectorizer using a trigram approach"
   ]
  },
  {
   "cell_type": "code",
   "execution_count": 4,
   "metadata": {},
   "outputs": [],
   "source": [
    "from sklearn.tree import DecisionTreeClassifier\n",
    "from sklearn.linear_model import LogisticRegression\n",
    "import sklearn.metrics as mtr"
   ]
  },
  {
   "cell_type": "code",
   "execution_count": 40,
   "metadata": {},
   "outputs": [
    {
     "data": {
      "text/plain": [
       "0.7239263803680982"
      ]
     },
     "execution_count": 40,
     "metadata": {},
     "output_type": "execute_result"
    }
   ],
   "source": [
    "model = DecisionTreeClassifier()\n",
    "model.fit(X_train, y_train)\n",
    "\n",
    "y_pred = model.predict(X_test)\n",
    "report = mtr.classification_report(y_test, y_pred, output_dict=True, zero_division=0)\n",
    "report['accuracy']"
   ]
  },
  {
   "cell_type": "code",
   "execution_count": 13,
   "metadata": {},
   "outputs": [
    {
     "data": {
      "text/plain": [
       "{'Model': 'Model',\n",
       " 'Accuracy': 0.8312883435582822,\n",
       " 'Avg Precision (macro)': 0.8211910048282247,\n",
       " 'Avg Recall (macro)': 0.8059748512750217,\n",
       " 'Avg F1-score (macro)': 0.8124245745729123,\n",
       " 'Avg Precision (weighted)': 0.8312407219357778,\n",
       " 'Avg Recall (weighted)': 0.8312883435582822,\n",
       " 'Avg F1-score (weighted)': 0.8300314766901935}"
      ]
     },
     "execution_count": 13,
     "metadata": {},
     "output_type": "execute_result"
    }
   ],
   "source": [
    "analysis = {\n",
    "    'Model': 'Model', 'Accuracy': report['accuracy'],\n",
    "    'Avg Precision (macro)': report['macro avg']['precision'],\n",
    "    'Avg Recall (macro)': report['macro avg']['recall'],\n",
    "    'Avg F1-score (macro)': report['macro avg']['f1-score'],\n",
    "    'Avg Precision (weighted)': report['weighted avg']['precision'],\n",
    "    'Avg Recall (weighted)': report['weighted avg']['recall'],\n",
    "    'Avg F1-score (weighted)': report['weighted avg']['f1-score']\n",
    "}\n",
    "analysis"
   ]
  },
  {
   "attachments": {},
   "cell_type": "markdown",
   "metadata": {},
   "source": [
    "The built model is saved in the \"ML model\" folder."
   ]
  },
  {
   "cell_type": "code",
   "execution_count": 14,
   "metadata": {},
   "outputs": [],
   "source": [
    "import pickle\n",
    "file_name = utils.classificatorTfIdf if vectorizer else utils.classificatorCV_LR\n",
    "with open(file_name, 'wb') as file:\n",
    "    pickle.dump(model, file)"
   ]
  }
 ],
 "metadata": {
  "kernelspec": {
   "display_name": "Python 3.8.8 ('base')",
   "language": "python",
   "name": "python3"
  },
  "language_info": {
   "codemirror_mode": {
    "name": "ipython",
    "version": 3
   },
   "file_extension": ".py",
   "mimetype": "text/x-python",
   "name": "python",
   "nbconvert_exporter": "python",
   "pygments_lexer": "ipython3",
   "version": "3.8.8 (default, Apr 13 2021, 12:59:45) \n[Clang 10.0.0 ]"
  },
  "orig_nbformat": 4,
  "vscode": {
   "interpreter": {
    "hash": "b51fba03621ea2707aa24f127a4f74542be1adffaa0a8f5a15c5b0606de1417a"
   }
  }
 },
 "nbformat": 4,
 "nbformat_minor": 2
}
