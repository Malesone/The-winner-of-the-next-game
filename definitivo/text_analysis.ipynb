{
 "cells": [
  {
   "cell_type": "markdown",
   "metadata": {},
   "source": [
    "# Ottenimento link news\n",
    "\n",
    "Questo script si pone come obiettivo quello di recuperare brevi descrizioni dal sito https://footballpredictions.com/ pubblicati prima di ciascun match.\n",
    "Andiamo a recuperare le pagine relative alle partite giocate in ogni data di campionato."
   ]
  },
  {
   "cell_type": "code",
   "execution_count": 1,
   "metadata": {},
   "outputs": [],
   "source": [
    "from text_analysis import TextAnalysis\n",
    "import pandas as pd\n",
    "import numpy as np"
   ]
  },
  {
   "cell_type": "code",
   "execution_count": 2,
   "metadata": {},
   "outputs": [],
   "source": [
    "matches = pd.read_csv('diff_matches.csv', index_col=0)\n",
    "matches.rename(columns={\"home\": \"team1\", \"away\": \"team2\"}, inplace=True)\n",
    "ta = TextAnalysis(matches)"
   ]
  },
  {
   "cell_type": "markdown",
   "metadata": {},
   "source": [
    "Una volta ottenuti i link andare combinando il link principale con la data delle partite, si va a cercare nella pagina al link tutti i vari link sotto al div relativo alla Serie A che portano alle pagine delle descrizioni pre-match."
   ]
  },
  {
   "cell_type": "code",
   "execution_count": 3,
   "metadata": {},
   "outputs": [],
   "source": [
    "#ta.get_urls()\n",
    "#ta.save_urls()"
   ]
  },
  {
   "cell_type": "code",
   "execution_count": 4,
   "metadata": {},
   "outputs": [],
   "source": [
    "#ta.read_urls()\n",
    "#ta.get_predictions()"
   ]
  },
  {
   "cell_type": "code",
   "execution_count": 5,
   "metadata": {},
   "outputs": [
    {
     "name": "stdout",
     "output_type": "stream",
     "text": [
      "2022-03-06 Genoa Empoli\n"
     ]
    }
   ],
   "source": [
    "ta.read_predictions()\n",
    "ta.recovery_games()\n",
    "ta.matches_not_found()\n",
    "ta.fix_dates()"
   ]
  },
  {
   "cell_type": "code",
   "execution_count": null,
   "metadata": {},
   "outputs": [],
   "source": [
    "ta.dataset"
   ]
  }
 ],
 "metadata": {
  "kernelspec": {
   "display_name": "Python 3.8.8 ('base')",
   "language": "python",
   "name": "python3"
  },
  "language_info": {
   "codemirror_mode": {
    "name": "ipython",
    "version": 3
   },
   "file_extension": ".py",
   "mimetype": "text/x-python",
   "name": "python",
   "nbconvert_exporter": "python",
   "pygments_lexer": "ipython3",
   "version": "3.8.8"
  },
  "orig_nbformat": 4,
  "vscode": {
   "interpreter": {
    "hash": "b51fba03621ea2707aa24f127a4f74542be1adffaa0a8f5a15c5b0606de1417a"
   }
  }
 },
 "nbformat": 4,
 "nbformat_minor": 2
}
