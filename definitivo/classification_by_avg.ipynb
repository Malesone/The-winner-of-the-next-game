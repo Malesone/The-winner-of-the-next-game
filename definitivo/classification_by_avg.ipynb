{
 "cells": [
  {
   "cell_type": "code",
   "execution_count": 1,
   "metadata": {},
   "outputs": [],
   "source": [
    "from analysis import MatchAnalysis\n",
    "from classification import Classification\n",
    "from team import Team"
   ]
  },
  {
   "cell_type": "code",
   "execution_count": 2,
   "metadata": {},
   "outputs": [],
   "source": [
    "ma = MatchAnalysis()\n",
    "ml = Classification()"
   ]
  },
  {
   "cell_type": "code",
   "execution_count": 3,
   "metadata": {},
   "outputs": [],
   "source": [
    "ma.divide_and_merge_home_away()\n",
    "ma.create_team_dataset()\n",
    "ma.split_and_set_avg()\n",
    "float_features_and_avg = [x for x in ma.diff_dataset.columns if x != 'home' and x != 'away' and x != 'date' and x != 'result']\n",
    "ma.calculate_avg_train(float_features_and_avg)\n",
    "ma.calculate_avg(float_features_and_avg)"
   ]
  },
  {
   "cell_type": "code",
   "execution_count": 13,
   "metadata": {},
   "outputs": [
    {
     "data": {
      "text/html": [
       "<div>\n",
       "<style scoped>\n",
       "    .dataframe tbody tr th:only-of-type {\n",
       "        vertical-align: middle;\n",
       "    }\n",
       "\n",
       "    .dataframe tbody tr th {\n",
       "        vertical-align: top;\n",
       "    }\n",
       "\n",
       "    .dataframe thead th {\n",
       "        text-align: right;\n",
       "    }\n",
       "</style>\n",
       "<table border=\"1\" class=\"dataframe\">\n",
       "  <thead>\n",
       "    <tr style=\"text-align: right;\">\n",
       "      <th></th>\n",
       "      <th>Accuracy</th>\n",
       "      <th>Avg Precision (macro)</th>\n",
       "      <th>Avg Recall (macro)</th>\n",
       "      <th>Avg F1-score (macro)</th>\n",
       "      <th>Avg Precision (weighted)</th>\n",
       "      <th>Avg Recall (weighted)</th>\n",
       "      <th>Avg F1-score (weighted)</th>\n",
       "    </tr>\n",
       "    <tr>\n",
       "      <th>Model</th>\n",
       "      <th></th>\n",
       "      <th></th>\n",
       "      <th></th>\n",
       "      <th></th>\n",
       "      <th></th>\n",
       "      <th></th>\n",
       "      <th></th>\n",
       "    </tr>\n",
       "  </thead>\n",
       "  <tbody>\n",
       "    <tr>\n",
       "      <th>Logistic Regression</th>\n",
       "      <td>0.592105</td>\n",
       "      <td>0.567197</td>\n",
       "      <td>0.540500</td>\n",
       "      <td>0.533953</td>\n",
       "      <td>0.578441</td>\n",
       "      <td>0.592105</td>\n",
       "      <td>0.569863</td>\n",
       "    </tr>\n",
       "    <tr>\n",
       "      <th>Random Forest</th>\n",
       "      <td>0.578947</td>\n",
       "      <td>0.518318</td>\n",
       "      <td>0.521276</td>\n",
       "      <td>0.509169</td>\n",
       "      <td>0.548886</td>\n",
       "      <td>0.578947</td>\n",
       "      <td>0.555461</td>\n",
       "    </tr>\n",
       "  </tbody>\n",
       "</table>\n",
       "</div>"
      ],
      "text/plain": [
       "                     Accuracy  Avg Precision (macro)  Avg Recall (macro)  \\\n",
       "Model                                                                      \n",
       "Logistic Regression  0.592105               0.567197            0.540500   \n",
       "Random Forest        0.578947               0.518318            0.521276   \n",
       "\n",
       "                     Avg F1-score (macro)  Avg Precision (weighted)  \\\n",
       "Model                                                                 \n",
       "Logistic Regression              0.533953                  0.578441   \n",
       "Random Forest                    0.509169                  0.548886   \n",
       "\n",
       "                     Avg Recall (weighted)  Avg F1-score (weighted)  \n",
       "Model                                                                \n",
       "Logistic Regression               0.592105                 0.569863  \n",
       "Random Forest                     0.578947                 0.555461  "
      ]
     },
     "metadata": {},
     "output_type": "display_data"
    }
   ],
   "source": [
    "ml.X_train, ml.X_test, ml.y_train, ml.y_test = ma.X_train, ma.X_test, ma.y_train, ma.y_test\n",
    "ml.create_models()\n",
    "ml.gen_report()\n",
    "ml.get_higher_accuracies(0.1)"
   ]
  }
 ],
 "metadata": {
  "kernelspec": {
   "display_name": "Python 3.8.8 ('base')",
   "language": "python",
   "name": "python3"
  },
  "language_info": {
   "codemirror_mode": {
    "name": "ipython",
    "version": 3
   },
   "file_extension": ".py",
   "mimetype": "text/x-python",
   "name": "python",
   "nbconvert_exporter": "python",
   "pygments_lexer": "ipython3",
   "version": "3.8.8"
  },
  "orig_nbformat": 4,
  "vscode": {
   "interpreter": {
    "hash": "b51fba03621ea2707aa24f127a4f74542be1adffaa0a8f5a15c5b0606de1417a"
   }
  }
 },
 "nbformat": 4,
 "nbformat_minor": 2
}
