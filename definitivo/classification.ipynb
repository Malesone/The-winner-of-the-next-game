{
 "cells": [
  {
   "cell_type": "code",
   "execution_count": 37,
   "metadata": {},
   "outputs": [],
   "source": [
    "from analysis import MatchAnalysis\n",
    "from classification import Classification"
   ]
  },
  {
   "cell_type": "code",
   "execution_count": 38,
   "metadata": {},
   "outputs": [],
   "source": [
    "ma = MatchAnalysis()"
   ]
  },
  {
   "cell_type": "code",
   "execution_count": 39,
   "metadata": {},
   "outputs": [],
   "source": [
    "ma.divide_and_merge_home_away()\n",
    "ma.create_team_dataset()\n",
    "ma.split_and_set_avg(True, 3)"
   ]
  },
  {
   "cell_type": "code",
   "execution_count": 40,
   "metadata": {},
   "outputs": [
    {
     "data": {
      "text/html": [
       "<div>\n",
       "<style scoped>\n",
       "    .dataframe tbody tr th:only-of-type {\n",
       "        vertical-align: middle;\n",
       "    }\n",
       "\n",
       "    .dataframe tbody tr th {\n",
       "        vertical-align: top;\n",
       "    }\n",
       "\n",
       "    .dataframe thead th {\n",
       "        text-align: right;\n",
       "    }\n",
       "</style>\n",
       "<table border=\"1\" class=\"dataframe\">\n",
       "  <thead>\n",
       "    <tr style=\"text-align: right;\">\n",
       "      <th></th>\n",
       "      <th>Accuracy</th>\n",
       "      <th>Avg Precision (macro)</th>\n",
       "      <th>Avg Recall (macro)</th>\n",
       "      <th>Avg F1-score (macro)</th>\n",
       "      <th>Avg Precision (weighted)</th>\n",
       "      <th>Avg Recall (weighted)</th>\n",
       "      <th>Avg F1-score (weighted)</th>\n",
       "    </tr>\n",
       "    <tr>\n",
       "      <th>Model</th>\n",
       "      <th></th>\n",
       "      <th></th>\n",
       "      <th></th>\n",
       "      <th></th>\n",
       "      <th></th>\n",
       "      <th></th>\n",
       "      <th></th>\n",
       "    </tr>\n",
       "  </thead>\n",
       "  <tbody>\n",
       "    <tr>\n",
       "      <th>Logistic Regression</th>\n",
       "      <td>0.500000</td>\n",
       "      <td>0.500772</td>\n",
       "      <td>0.446495</td>\n",
       "      <td>0.430563</td>\n",
       "      <td>0.500351</td>\n",
       "      <td>0.500000</td>\n",
       "      <td>0.469483</td>\n",
       "    </tr>\n",
       "    <tr>\n",
       "      <th>Support Vector Machine</th>\n",
       "      <td>0.473684</td>\n",
       "      <td>0.321023</td>\n",
       "      <td>0.406513</td>\n",
       "      <td>0.356964</td>\n",
       "      <td>0.373168</td>\n",
       "      <td>0.473684</td>\n",
       "      <td>0.415386</td>\n",
       "    </tr>\n",
       "    <tr>\n",
       "      <th>Decision Tree</th>\n",
       "      <td>0.460526</td>\n",
       "      <td>0.456876</td>\n",
       "      <td>0.470723</td>\n",
       "      <td>0.460446</td>\n",
       "      <td>0.464483</td>\n",
       "      <td>0.460526</td>\n",
       "      <td>0.459854</td>\n",
       "    </tr>\n",
       "    <tr>\n",
       "      <th>Random Forest</th>\n",
       "      <td>0.434211</td>\n",
       "      <td>0.394009</td>\n",
       "      <td>0.397904</td>\n",
       "      <td>0.395117</td>\n",
       "      <td>0.423569</td>\n",
       "      <td>0.434211</td>\n",
       "      <td>0.428216</td>\n",
       "    </tr>\n",
       "  </tbody>\n",
       "</table>\n",
       "</div>"
      ],
      "text/plain": [
       "                        Accuracy  Avg Precision (macro)  Avg Recall (macro)  \\\n",
       "Model                                                                         \n",
       "Logistic Regression     0.500000               0.500772            0.446495   \n",
       "Support Vector Machine  0.473684               0.321023            0.406513   \n",
       "Decision Tree           0.460526               0.456876            0.470723   \n",
       "Random Forest           0.434211               0.394009            0.397904   \n",
       "\n",
       "                        Avg F1-score (macro)  Avg Precision (weighted)  \\\n",
       "Model                                                                    \n",
       "Logistic Regression                 0.430563                  0.500351   \n",
       "Support Vector Machine              0.356964                  0.373168   \n",
       "Decision Tree                       0.460446                  0.464483   \n",
       "Random Forest                       0.395117                  0.423569   \n",
       "\n",
       "                        Avg Recall (weighted)  Avg F1-score (weighted)  \n",
       "Model                                                                   \n",
       "Logistic Regression                  0.500000                 0.469483  \n",
       "Support Vector Machine               0.473684                 0.415386  \n",
       "Decision Tree                        0.460526                 0.459854  \n",
       "Random Forest                        0.434211                 0.428216  "
      ]
     },
     "metadata": {},
     "output_type": "display_data"
    }
   ],
   "source": [
    "ml = Classification(ma.X_train, ma.X_test, ma.y_train, ma.y_test)\n",
    "ml.create_models()\n",
    "ml.gen_report()\n",
    "ml.get_higher_accuracies(0.1)"
   ]
  }
 ],
 "metadata": {
  "kernelspec": {
   "display_name": "Python 3.8.8 ('base')",
   "language": "python",
   "name": "python3"
  },
  "language_info": {
   "codemirror_mode": {
    "name": "ipython",
    "version": 3
   },
   "file_extension": ".py",
   "mimetype": "text/x-python",
   "name": "python",
   "nbconvert_exporter": "python",
   "pygments_lexer": "ipython3",
   "version": "3.8.8"
  },
  "orig_nbformat": 4,
  "vscode": {
   "interpreter": {
    "hash": "b51fba03621ea2707aa24f127a4f74542be1adffaa0a8f5a15c5b0606de1417a"
   }
  }
 },
 "nbformat": 4,
 "nbformat_minor": 2
}
