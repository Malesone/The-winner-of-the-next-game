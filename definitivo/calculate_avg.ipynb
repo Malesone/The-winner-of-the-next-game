{
 "cells": [
  {
   "cell_type": "code",
   "execution_count": 31,
   "metadata": {},
   "outputs": [],
   "source": [
    "from analysis import MatchAnalysis\n",
    "from ml_model import MlModel"
   ]
  },
  {
   "cell_type": "code",
   "execution_count": 32,
   "metadata": {},
   "outputs": [],
   "source": [
    "a = MatchAnalysis()\n",
    "m = MlModel()"
   ]
  },
  {
   "cell_type": "code",
   "execution_count": 33,
   "metadata": {},
   "outputs": [
    {
     "data": {
      "text/plain": [
       "'21-08-2021'"
      ]
     },
     "execution_count": 33,
     "metadata": {},
     "output_type": "execute_result"
    }
   ],
   "source": [
    "a.matches_fe_team.Data[0]"
   ]
  },
  {
   "cell_type": "code",
   "execution_count": 34,
   "metadata": {},
   "outputs": [],
   "source": [
    "import pandas as pd\n",
    "a.matches_fe_team.Data = pd.to_datetime(a.matches_fe_team.Data, format='%d-%m-%Y')\n",
    "\n",
    "from datetime import datetime\n",
    "import time\n",
    "\n",
    "s = datetime.strptime(\"24-12-2021\", '%d-%m-%Y')\n",
    "\n",
    "matches = a.matches_fe_team[a.matches_fe_team.Data <= s]"
   ]
  },
  {
   "cell_type": "markdown",
   "metadata": {},
   "source": [
    "# Cosa devo fare?\n",
    "- Prendere il dataset con i match\n",
    "- Pulire i campi secondo la nomenclatura\n",
    "- Dividere i match per squadra: \n",
    "    * creare un dizionario con chiave il nome della squadra e valore il dataframe relativo alle partite\n",
    "- Prendo il dataset iniziale con i match e lo salvo ordinato per data\n",
    "- Divido il dataset entro una certa data (train set) e prendo le partite della giornata subito successiva (verrà usata come test)"
   ]
  },
  {
   "cell_type": "code",
   "execution_count": null,
   "metadata": {},
   "outputs": [],
   "source": [
    "aa = MatchAnalysis()\n"
   ]
  }
 ],
 "metadata": {
  "kernelspec": {
   "display_name": "Python 3.8.8 ('base')",
   "language": "python",
   "name": "python3"
  },
  "language_info": {
   "codemirror_mode": {
    "name": "ipython",
    "version": 3
   },
   "file_extension": ".py",
   "mimetype": "text/x-python",
   "name": "python",
   "nbconvert_exporter": "python",
   "pygments_lexer": "ipython3",
   "version": "3.8.8"
  },
  "orig_nbformat": 4,
  "vscode": {
   "interpreter": {
    "hash": "b51fba03621ea2707aa24f127a4f74542be1adffaa0a8f5a15c5b0606de1417a"
   }
  }
 },
 "nbformat": 4,
 "nbformat_minor": 2
}
