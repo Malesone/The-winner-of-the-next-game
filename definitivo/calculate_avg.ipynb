{
 "cells": [
  {
   "cell_type": "code",
   "execution_count": 6,
   "metadata": {},
   "outputs": [],
   "source": [
    "from analysis import MatchAnalysis\n",
    "from ml_model import MlModel\n",
    "from team import Team"
   ]
  },
  {
   "cell_type": "code",
   "execution_count": 7,
   "metadata": {},
   "outputs": [],
   "source": [
    "a = MatchAnalysis()\n",
    "m = MlModel()"
   ]
  },
  {
   "cell_type": "markdown",
   "metadata": {},
   "source": [
    "# Cosa devo fare?\n",
    "- Prendere il dataset e dividere i match per squadra: ✓\n",
    "    * creare un dizionario con chiave il nome della squadra e valore il dataframe relativo alle partite ✓\n",
    "- Prendo il dataset iniziale con i match e lo divido entro una certa data creando train set e con le partite della giornata subito successiva creo test set\n",
    "    * Nel test set devo cancellare tutti i dati e prendere la media delle ultime partite "
   ]
  },
  {
   "cell_type": "code",
   "execution_count": 28,
   "metadata": {},
   "outputs": [],
   "source": [
    "from datetime import datetime\n",
    "import time\n",
    "import pandas as pd\n",
    "\n",
    "limit_date = datetime.strptime(\"2021-12-24\", '%Y-%m-%d')\n",
    "\n",
    "aa = MatchAnalysis()\n",
    "#matches = aa.matches_fe_team[a.matches_fe_team.date <= limit_date]\n",
    "aa.matches_fe_team['date'] = pd.to_datetime(aa.matches_fe_team['date'], format='%Y-%m-%d') #devo convertire la data altrimenti mi dà \n",
    "\n",
    "dataset_model = aa.matches_fe_team[aa.matches_fe_team.date < limit_date] "
   ]
  },
  {
   "cell_type": "code",
   "execution_count": null,
   "metadata": {},
   "outputs": [],
   "source": [
    "dataset_model"
   ]
  }
 ],
 "metadata": {
  "kernelspec": {
   "display_name": "Python 3.8.8 ('base')",
   "language": "python",
   "name": "python3"
  },
  "language_info": {
   "codemirror_mode": {
    "name": "ipython",
    "version": 3
   },
   "file_extension": ".py",
   "mimetype": "text/x-python",
   "name": "python",
   "nbconvert_exporter": "python",
   "pygments_lexer": "ipython3",
   "version": "3.8.8"
  },
  "orig_nbformat": 4,
  "vscode": {
   "interpreter": {
    "hash": "b51fba03621ea2707aa24f127a4f74542be1adffaa0a8f5a15c5b0606de1417a"
   }
  }
 },
 "nbformat": 4,
 "nbformat_minor": 2
}
