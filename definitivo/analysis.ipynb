{
 "cells": [
  {
   "cell_type": "code",
   "execution_count": 1,
   "metadata": {},
   "outputs": [],
   "source": [
    "from analysis import MatchAnalysis\n",
    "from ml_model import MlModel"
   ]
  },
  {
   "cell_type": "code",
   "execution_count": 2,
   "metadata": {},
   "outputs": [],
   "source": [
    "a = MatchAnalysis()\n",
    "m = MlModel()"
   ]
  },
  {
   "cell_type": "code",
   "execution_count": 3,
   "metadata": {},
   "outputs": [],
   "source": [
    "a.readDiff_home_away()\n",
    "a.get_dummies()"
   ]
  },
  {
   "cell_type": "code",
   "execution_count": 6,
   "metadata": {},
   "outputs": [],
   "source": [
    "m.prepare(a.diff_dataset)"
   ]
  },
  {
   "cell_type": "code",
   "execution_count": 7,
   "metadata": {},
   "outputs": [
    {
     "data": {
      "text/html": [
       "<div>\n",
       "<style scoped>\n",
       "    .dataframe tbody tr th:only-of-type {\n",
       "        vertical-align: middle;\n",
       "    }\n",
       "\n",
       "    .dataframe tbody tr th {\n",
       "        vertical-align: top;\n",
       "    }\n",
       "\n",
       "    .dataframe thead th {\n",
       "        text-align: right;\n",
       "    }\n",
       "</style>\n",
       "<table border=\"1\" class=\"dataframe\">\n",
       "  <thead>\n",
       "    <tr style=\"text-align: right;\">\n",
       "      <th></th>\n",
       "      <th>Accuracy</th>\n",
       "      <th>Avg Precision (macro)</th>\n",
       "      <th>Avg Recall (macro)</th>\n",
       "      <th>Avg F1-score (macro)</th>\n",
       "      <th>Avg Precision (weighted)</th>\n",
       "      <th>Avg Recall (weighted)</th>\n",
       "      <th>Avg F1-score (weighted)</th>\n",
       "    </tr>\n",
       "    <tr>\n",
       "      <th>Model</th>\n",
       "      <th></th>\n",
       "      <th></th>\n",
       "      <th></th>\n",
       "      <th></th>\n",
       "      <th></th>\n",
       "      <th></th>\n",
       "      <th></th>\n",
       "    </tr>\n",
       "  </thead>\n",
       "  <tbody>\n",
       "    <tr>\n",
       "      <th>Logistic Regression</th>\n",
       "      <td>0.605263</td>\n",
       "      <td>0.541737</td>\n",
       "      <td>0.544264</td>\n",
       "      <td>0.542088</td>\n",
       "      <td>0.599711</td>\n",
       "      <td>0.605263</td>\n",
       "      <td>0.601447</td>\n",
       "    </tr>\n",
       "    <tr>\n",
       "      <th>Decision Tree</th>\n",
       "      <td>0.578947</td>\n",
       "      <td>0.555485</td>\n",
       "      <td>0.554496</td>\n",
       "      <td>0.554113</td>\n",
       "      <td>0.575179</td>\n",
       "      <td>0.578947</td>\n",
       "      <td>0.576099</td>\n",
       "    </tr>\n",
       "    <tr>\n",
       "      <th>Random Forest</th>\n",
       "      <td>0.486842</td>\n",
       "      <td>0.406593</td>\n",
       "      <td>0.425738</td>\n",
       "      <td>0.414485</td>\n",
       "      <td>0.460816</td>\n",
       "      <td>0.486842</td>\n",
       "      <td>0.472047</td>\n",
       "    </tr>\n",
       "  </tbody>\n",
       "</table>\n",
       "</div>"
      ],
      "text/plain": [
       "                     Accuracy  Avg Precision (macro)  Avg Recall (macro)  \\\n",
       "Model                                                                      \n",
       "Logistic Regression  0.605263               0.541737            0.544264   \n",
       "Decision Tree        0.578947               0.555485            0.554496   \n",
       "Random Forest        0.486842               0.406593            0.425738   \n",
       "\n",
       "                     Avg F1-score (macro)  Avg Precision (weighted)  \\\n",
       "Model                                                                 \n",
       "Logistic Regression              0.542088                  0.599711   \n",
       "Decision Tree                    0.554113                  0.575179   \n",
       "Random Forest                    0.414485                  0.460816   \n",
       "\n",
       "                     Avg Recall (weighted)  Avg F1-score (weighted)  \n",
       "Model                                                                \n",
       "Logistic Regression               0.605263                 0.601447  \n",
       "Decision Tree                     0.578947                 0.576099  \n",
       "Random Forest                     0.486842                 0.472047  "
      ]
     },
     "metadata": {},
     "output_type": "display_data"
    }
   ],
   "source": [
    "m.fit()\n",
    "m.predict()\n",
    "m.gen_report()\n",
    "m.get_higher_accuracies()"
   ]
  }
 ],
 "metadata": {
  "kernelspec": {
   "display_name": "Python 3.8.8 ('base')",
   "language": "python",
   "name": "python3"
  },
  "language_info": {
   "codemirror_mode": {
    "name": "ipython",
    "version": 3
   },
   "file_extension": ".py",
   "mimetype": "text/x-python",
   "name": "python",
   "nbconvert_exporter": "python",
   "pygments_lexer": "ipython3",
   "version": "3.8.8"
  },
  "orig_nbformat": 4,
  "vscode": {
   "interpreter": {
    "hash": "b51fba03621ea2707aa24f127a4f74542be1adffaa0a8f5a15c5b0606de1417a"
   }
  }
 },
 "nbformat": 4,
 "nbformat_minor": 2
}
