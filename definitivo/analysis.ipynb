{
 "cells": [
  {
   "cell_type": "code",
   "execution_count": 49,
   "metadata": {},
   "outputs": [],
   "source": [
    "from analysis import MatchAnalysis\n",
    "from ml_model import MlModel"
   ]
  },
  {
   "cell_type": "code",
   "execution_count": 50,
   "metadata": {},
   "outputs": [],
   "source": [
    "a = MatchAnalysis()\n",
    "m = MlModel()"
   ]
  },
  {
   "cell_type": "code",
   "execution_count": 51,
   "metadata": {},
   "outputs": [],
   "source": [
    "a.readDiff_home_away()"
   ]
  },
  {
   "cell_type": "markdown",
   "metadata": {},
   "source": [
    "O faccio il dummy o uso i codici"
   ]
  },
  {
   "cell_type": "code",
   "execution_count": 52,
   "metadata": {},
   "outputs": [],
   "source": [
    "#a.get_dummies()\n",
    "a.get_codes()"
   ]
  },
  {
   "cell_type": "code",
   "execution_count": 53,
   "metadata": {},
   "outputs": [],
   "source": [
    "a.diff_dataset.drop(columns=['goals'], inplace=True)\n",
    "m.prepare(a.diff_dataset)"
   ]
  },
  {
   "cell_type": "code",
   "execution_count": 54,
   "metadata": {},
   "outputs": [
    {
     "data": {
      "text/html": [
       "<div>\n",
       "<style scoped>\n",
       "    .dataframe tbody tr th:only-of-type {\n",
       "        vertical-align: middle;\n",
       "    }\n",
       "\n",
       "    .dataframe tbody tr th {\n",
       "        vertical-align: top;\n",
       "    }\n",
       "\n",
       "    .dataframe thead th {\n",
       "        text-align: right;\n",
       "    }\n",
       "</style>\n",
       "<table border=\"1\" class=\"dataframe\">\n",
       "  <thead>\n",
       "    <tr style=\"text-align: right;\">\n",
       "      <th></th>\n",
       "      <th>Accuracy</th>\n",
       "      <th>Avg Precision (macro)</th>\n",
       "      <th>Avg Recall (macro)</th>\n",
       "      <th>Avg F1-score (macro)</th>\n",
       "      <th>Avg Precision (weighted)</th>\n",
       "      <th>Avg Recall (weighted)</th>\n",
       "      <th>Avg F1-score (weighted)</th>\n",
       "    </tr>\n",
       "    <tr>\n",
       "      <th>Model</th>\n",
       "      <th></th>\n",
       "      <th></th>\n",
       "      <th></th>\n",
       "      <th></th>\n",
       "      <th></th>\n",
       "      <th></th>\n",
       "      <th></th>\n",
       "    </tr>\n",
       "  </thead>\n",
       "  <tbody>\n",
       "    <tr>\n",
       "      <th>Logistic Regression</th>\n",
       "      <td>0.605263</td>\n",
       "      <td>0.541737</td>\n",
       "      <td>0.544264</td>\n",
       "      <td>0.542088</td>\n",
       "      <td>0.599711</td>\n",
       "      <td>0.605263</td>\n",
       "      <td>0.601447</td>\n",
       "    </tr>\n",
       "    <tr>\n",
       "      <th>Decision Tree</th>\n",
       "      <td>0.592105</td>\n",
       "      <td>0.572500</td>\n",
       "      <td>0.565991</td>\n",
       "      <td>0.566675</td>\n",
       "      <td>0.594178</td>\n",
       "      <td>0.592105</td>\n",
       "      <td>0.590210</td>\n",
       "    </tr>\n",
       "    <tr>\n",
       "      <th>Random Forest</th>\n",
       "      <td>0.500000</td>\n",
       "      <td>0.412864</td>\n",
       "      <td>0.437232</td>\n",
       "      <td>0.421645</td>\n",
       "      <td>0.465379</td>\n",
       "      <td>0.500000</td>\n",
       "      <td>0.479250</td>\n",
       "    </tr>\n",
       "  </tbody>\n",
       "</table>\n",
       "</div>"
      ],
      "text/plain": [
       "                     Accuracy  Avg Precision (macro)  Avg Recall (macro)  \\\n",
       "Model                                                                      \n",
       "Logistic Regression  0.605263               0.541737            0.544264   \n",
       "Decision Tree        0.592105               0.572500            0.565991   \n",
       "Random Forest        0.500000               0.412864            0.437232   \n",
       "\n",
       "                     Avg F1-score (macro)  Avg Precision (weighted)  \\\n",
       "Model                                                                 \n",
       "Logistic Regression              0.542088                  0.599711   \n",
       "Decision Tree                    0.566675                  0.594178   \n",
       "Random Forest                    0.421645                  0.465379   \n",
       "\n",
       "                     Avg Recall (weighted)  Avg F1-score (weighted)  \n",
       "Model                                                                \n",
       "Logistic Regression               0.605263                 0.601447  \n",
       "Decision Tree                     0.592105                 0.590210  \n",
       "Random Forest                     0.500000                 0.479250  "
      ]
     },
     "metadata": {},
     "output_type": "display_data"
    }
   ],
   "source": [
    "m.fit()\n",
    "m.predict()\n",
    "m.gen_report()\n",
    "m.get_higher_accuracies()"
   ]
  }
 ],
 "metadata": {
  "kernelspec": {
   "display_name": "Python 3.8.8 ('base')",
   "language": "python",
   "name": "python3"
  },
  "language_info": {
   "codemirror_mode": {
    "name": "ipython",
    "version": 3
   },
   "file_extension": ".py",
   "mimetype": "text/x-python",
   "name": "python",
   "nbconvert_exporter": "python",
   "pygments_lexer": "ipython3",
   "version": "3.8.8"
  },
  "orig_nbformat": 4,
  "vscode": {
   "interpreter": {
    "hash": "b51fba03621ea2707aa24f127a4f74542be1adffaa0a8f5a15c5b0606de1417a"
   }
  }
 },
 "nbformat": 4,
 "nbformat_minor": 2
}
