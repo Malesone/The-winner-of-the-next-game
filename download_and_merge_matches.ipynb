{
 "cells": [
  {
   "cell_type": "markdown",
   "metadata": {},
   "source": [
    "# Download dei dati \n",
    "Supponiamo di non avere i dati, quindi dobbiamo scaricarli tutti.\n",
    "\n",
    "Quello che viene fatto è fare scraping attraverso https://fbref.com/it/comp/11/2021-2022/Statistiche-di-Serie-A-2021-2022 nella stagione 2021-2022 e vengono estratte tutte le informazioni relative alle varie squadre che giocano nella stagione. \n",
    "\n",
    "I dati provenienti da diversi link vengono mergiati. \n",
    "Per poter classificare ho pensato a 3 classi: V (vittoria), P (persa), N (pareggio).\n",
    "Il problema è che scaricando tutte le partite per tutte le squadre, ci saranno partite doppie, ad esempio: \n",
    "- Atalanta V Bologna\n",
    "- Bologna P Atalanta\n",
    "\n",
    "Per questo vado a considerare nella classificazione solo le squadre in casa, così quando si vuole predire il risultato di una partita, ottengo la classificazione per la squadra di casa."
   ]
  },
  {
   "cell_type": "markdown",
   "metadata": {},
   "source": [
    "\n",
    "# Dataset Serie A matches\n",
    "Per la realizzazione del dataset ho trovato in letteratura l'elenco dei dati più importanti per la predizione dei risultati delle partite. \n",
    "\n",
    "https://iopscience.iop.org/article/10.1088/1757-899X/226/1/012099/pdf\n",
    "\n",
    "Per questo dataset ho utilizzato le statistiche della stagione 2021/22\n",
    "\n",
    "## Scaricamento di tutti i match\n",
    "In questa sezione vengono scaricate tutte le statistiche delle partite giocate da ogni singola squadra nel campionato.\n",
    "Le statistiche in un match sono relative alla squadra presa in considerazione, non all'avversario (indipendentemente da che sia in casa o in trasferta)."
   ]
  },
  {
   "cell_type": "code",
   "execution_count": 3,
   "metadata": {},
   "outputs": [],
   "source": [
    "from download import DownloadDati\n",
    "#from analysis import MatchAnalysis\n",
    "import pandas as pd\n",
    "import time\n",
    "import util_strings as utils"
   ]
  },
  {
   "cell_type": "markdown",
   "metadata": {},
   "source": [
    "Un modello precisio, deve avere tante partite e in questo caso, più vengono considerati match, meglio è per il modello.\n",
    "\n",
    "Nel codice sotto viene scaricata la stagione attuale"
   ]
  },
  {
   "cell_type": "code",
   "execution_count": 4,
   "metadata": {},
   "outputs": [],
   "source": [
    "#dizionario contenente il nome della stagione (anno) come chiave e come valore il link in cui viene presa la stagione\n",
    "\n",
    "#Per la premier league: https://fbref.com/it/comp/9/Statistiche-di-Premier-League\n",
    "download_seasons = {\n",
    "    #\"2022-2023\": \"https://fbref.com/it/comp/11/Statistiche-di-Serie-A\",\n",
    "    #\"2021-2022\": \"https://fbref.com/it/comp/11/2021-2022/Statistiche-di-Serie-A-2021-2022\",\n",
    "    \"2020-2021\": \"https://fbref.com/it/comp/11/2020-2021/Statistiche-di-Serie-A-2020-2021\",\n",
    "    \"2019-2020\": \"https://fbref.com/it/comp/11/2019-2020/Statistiche-di-Serie-A-2019-2020\",\n",
    "    \"2018-2019\": \"https://fbref.com/it/comp/11/2018-2019/Statistiche-di-Serie-A-2018-2019\"\n",
    "}"
   ]
  },
  {
   "cell_type": "code",
   "execution_count": 5,
   "metadata": {},
   "outputs": [
    {
     "name": "stdout",
     "output_type": "stream",
     "text": [
      "Season 2020-2021 downloading...\n",
      "Season 2020-2021 download ended\n",
      "\n",
      "Season 2019-2020 downloading...\n",
      "Season 2019-2020 download ended\n",
      "\n",
      "Season 2018-2019 downloading...\n",
      "Season 2018-2019 download ended\n",
      "\n"
     ]
    }
   ],
   "source": [
    "downloadDF = pd.DataFrame()\n",
    "row = 0\n",
    "for season, link in download_seasons.items():\n",
    "    print(\"Season \"+season+ \" downloading...\")\n",
    "    start = time.time()\n",
    "    \n",
    "    download = DownloadDati(\"Serie A\") \n",
    "    download.connect(link)\n",
    "    download.get_teams_names()\n",
    "    download.get_matches()\n",
    "    download.save_matches(utils.statistics.format(season))\n",
    "    download.save_championship_games(utils.championship.format(season))\n",
    "\n",
    "    print(\"Season \"+season+ \" download ended\\n\")\n",
    "    end = time.time()\n",
    "    downloadDF.at[row, 'season'] = season\n",
    "    downloadDF.at[row, 'download time'] = end-start\n",
    "    downloadDF.at[row, 'n. matches'] = len(download.all_matches)/2 #divido per due perché ho i match sia per squadra di casa che per trasferta, quindi sono doppi\n",
    "    row += 1"
   ]
  },
  {
   "cell_type": "markdown",
   "metadata": {},
   "source": [
    "## Merge delle partite\n",
    "Leggo tutti i file presenti nella cartella ed effettuo il merge"
   ]
  },
  {
   "cell_type": "code",
   "execution_count": 6,
   "metadata": {},
   "outputs": [
    {
     "name": "stdout",
     "output_type": "stream",
     "text": [
      "files/Serie A/2018-2019 statistics.csv\n",
      "files/Serie A/2019-2020 statistics.csv\n",
      "files/Serie A/2020-2021 statistics.csv\n",
      "files/Serie A/2021-2022 statistics.csv\n",
      "files/Serie A/2022-2023 statistics.csv\n"
     ]
    }
   ],
   "source": [
    "from os import listdir\n",
    "from os.path import isfile, join\n",
    "import pandas as pd\n",
    "from analysis import MatchAnalysis\n",
    "\n",
    "mypath = utils.path_stats\n",
    "onlyfiles = [f for f in listdir(mypath) if isfile(join(mypath, f))]\n",
    "name_csv_statistics_FE_season = [x for x in onlyfiles if 'statistics.csv' in x] \n",
    "\n",
    "merged_statistics = pd.DataFrame()\n",
    "\n",
    "for name_statistics_single_season in sorted(name_csv_statistics_FE_season):\n",
    "    print(mypath+name_statistics_single_season)\n",
    "    statistics_single_season = pd.read_csv(mypath+name_statistics_single_season, index_col=0)\n",
    "\n",
    "    #setto il nome della stagione come i 5 primi caratteri del nome del file\n",
    "    statistics_single_season['season'] = name_statistics_single_season[:9] #es: 2022-2023\n",
    "    merged_statistics = merged_statistics.append(statistics_single_season)\n",
    "\n",
    "merged_statistics.to_csv(utils.merged_statistics)"
   ]
  }
 ],
 "metadata": {
  "kernelspec": {
   "display_name": "Python 3.8.8 ('base')",
   "language": "python",
   "name": "python3"
  },
  "language_info": {
   "codemirror_mode": {
    "name": "ipython",
    "version": 3
   },
   "file_extension": ".py",
   "mimetype": "text/x-python",
   "name": "python",
   "nbconvert_exporter": "python",
   "pygments_lexer": "ipython3",
   "version": "3.8.8"
  },
  "orig_nbformat": 4,
  "vscode": {
   "interpreter": {
    "hash": "b51fba03621ea2707aa24f127a4f74542be1adffaa0a8f5a15c5b0606de1417a"
   }
  }
 },
 "nbformat": 4,
 "nbformat_minor": 2
}
