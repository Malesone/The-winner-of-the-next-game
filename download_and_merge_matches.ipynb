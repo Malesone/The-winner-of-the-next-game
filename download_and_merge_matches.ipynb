{
 "cells": [
  {
   "attachments": {},
   "cell_type": "markdown",
   "metadata": {},
   "source": [
    "# Obtaining FBref data\n",
    "The aim of this script is to download statistics from FBref website. \n",
    "The site offers detailed statistics and data on players, teams, and leagues, including historical data and records. For the development of the project all the matches of the Italian Serie A from the 2018-2019 season to the current one (2022-2023) were used. \n",
    "\n",
    "The datasets are extracted by making parsing of the HTML tables using the python BeatifulSoup library. \n",
    "The class used to obtain data is DownloadDati. \n",
    "\n",
    "This notebook use methods useful to obtain all stats.\n",
    "The FBref website is used in italian."
   ]
  },
  {
   "cell_type": "code",
   "execution_count": 1,
   "metadata": {},
   "outputs": [],
   "source": [
    "from download import DownloadDati\n",
    "import pandas as pd\n",
    "import time\n",
    "import util_strings as utils"
   ]
  },
  {
   "attachments": {},
   "cell_type": "markdown",
   "metadata": {},
   "source": [
    "Dictionary containing the name of the season (year) as a key and as a value the link where the season is taken"
   ]
  },
  {
   "cell_type": "code",
   "execution_count": 2,
   "metadata": {},
   "outputs": [],
   "source": [
    "download_seasons = {\n",
    "    \"2022-2023\": \"https://fbref.com/it/comp/11/Statistiche-di-Serie-A\",\n",
    "    \"2021-2022\": \"https://fbref.com/it/comp/11/2021-2022/Statistiche-di-Serie-A-2021-2022\",\n",
    "    \"2020-2021\": \"https://fbref.com/it/comp/11/2020-2021/Statistiche-di-Serie-A-2020-2021\",\n",
    "    \"2019-2020\": \"https://fbref.com/it/comp/11/2019-2020/Statistiche-di-Serie-A-2019-2020\",\n",
    "    \"2018-2019\": \"https://fbref.com/it/comp/11/2018-2019/Statistiche-di-Serie-A-2018-2019\"\n",
    "}"
   ]
  },
  {
   "attachments": {},
   "cell_type": "markdown",
   "metadata": {},
   "source": [
    "## Data download\n",
    "Each season in the dictionary is downloaded and saved in the folder \"Serie A/Stats\".\n",
    "Stats downloaded from FBref comes from 3 different HTML tables: \n",
    "- Shooting\n",
    "- Possession\n",
    "- Miscellaneous stats\n",
    "\n",
    "Before saving the matches several operations must be performed:\n",
    "* renaming of fields\n",
    "* conversion date from string to datetime\n",
    "* sort matches by date"
   ]
  },
  {
   "cell_type": "code",
   "execution_count": null,
   "metadata": {},
   "outputs": [],
   "source": [
    "downloadDF = pd.DataFrame()\n",
    "row = 0\n",
    "for season, link in download_seasons.items():\n",
    "    print(\"Season \"+season+ \" downloading...\")\n",
    "    start = time.time()\n",
    "    \n",
    "    download = DownloadDati(\"Serie A\") \n",
    "    download.connect(link)\n",
    "    download.get_teams_names()\n",
    "    download.get_matches()\n",
    "    download.save_matches(utils.statistics.format(season))\n",
    "    download.save_championship_games(utils.championship.format(season))\n",
    "\n",
    "    print(\"Season \"+season+ \" download ended\\n\")\n",
    "    end = time.time()\n",
    "    downloadDF.at[row, 'season'] = season\n",
    "    downloadDF.at[row, 'download time'] = end-start\n",
    "    downloadDF.at[row, 'n. matches'] = len(download.all_matches)/2 \n",
    "    row += 1\n",
    "    "
   ]
  },
  {
   "attachments": {},
   "cell_type": "markdown",
   "metadata": {},
   "source": [
    "The computation of the script above requires a lot of minutes, between 7 and 10 minutes per season."
   ]
  },
  {
   "attachments": {},
   "cell_type": "markdown",
   "metadata": {},
   "source": [
    "## Match merge\n",
    "All csv stats found in the Stats folder are merged into one csv called \"Stats/all_stats.csv\"."
   ]
  },
  {
   "cell_type": "code",
   "execution_count": null,
   "metadata": {},
   "outputs": [],
   "source": [
    "from os import listdir, statvfs\n",
    "from os.path import isfile, join\n",
    "import pandas as pd\n",
    "from analysis import MatchAnalysis\n",
    "\n",
    "onlyfiles = [f for f in listdir(utils.stats) if isfile(join(utils.stats, f))]\n",
    "name_csv_statistics_FE_season = [x for x in onlyfiles] \n",
    "\n",
    "merged_statistics = pd.DataFrame()\n",
    "\n",
    "for name_statistics_single_season in sorted(name_csv_statistics_FE_season):\n",
    "    print(utils.stats+name_statistics_single_season)\n",
    "    statistics_single_season = pd.read_csv(utils.stats+name_statistics_single_season, index_col=0)\n",
    "\n",
    "    #an additional field is added to each row and it represents the season in which the game has been played\n",
    "    statistics_single_season['season'] = name_statistics_single_season[:9] #e.g.: 2022-2023\n",
    "    merged_statistics = merged_statistics.append(statistics_single_season)"
   ]
  },
  {
   "cell_type": "code",
   "execution_count": null,
   "metadata": {},
   "outputs": [],
   "source": [
    "merged_statistics['team1'] = merged_statistics['team1'].str.lower()\n",
    "merged_statistics['team2'] = merged_statistics['team2'].str.lower()"
   ]
  },
  {
   "cell_type": "code",
   "execution_count": null,
   "metadata": {},
   "outputs": [],
   "source": [
    "merged_statistics.to_csv(utils.merged_statistics)"
   ]
  },
  {
   "attachments": {},
   "cell_type": "markdown",
   "metadata": {},
   "source": [
    "The obtained dataset has pair of records referring the same match: the first record refers to the statistics reached by the home team against the away team and the second one viceversa. These values representing the same match must be combined and the script that make this is ....."
   ]
  }
 ],
 "metadata": {
  "kernelspec": {
   "display_name": "Python 3.8.8 ('base')",
   "language": "python",
   "name": "python3"
  },
  "language_info": {
   "codemirror_mode": {
    "name": "ipython",
    "version": 3
   },
   "file_extension": ".py",
   "mimetype": "text/x-python",
   "name": "python",
   "nbconvert_exporter": "python",
   "pygments_lexer": "ipython3",
   "version": "3.8.8 (default, Apr 13 2021, 12:59:45) \n[Clang 10.0.0 ]"
  },
  "orig_nbformat": 4,
  "vscode": {
   "interpreter": {
    "hash": "b51fba03621ea2707aa24f127a4f74542be1adffaa0a8f5a15c5b0606de1417a"
   }
  }
 },
 "nbformat": 4,
 "nbformat_minor": 2
}
