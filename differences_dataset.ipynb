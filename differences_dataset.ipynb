{
 "cells": [
  {
   "cell_type": "code",
   "execution_count": 65,
   "metadata": {},
   "outputs": [],
   "source": [
    "import pandas as pd\n",
    "import glob, os"
   ]
  },
  {
   "cell_type": "markdown",
   "metadata": {},
   "source": [
    "L'obiettivo di questo script è creare un dataset con le differenze delle statistiche tra squadra di casa e squadra di trasferta, in base alle statistiche medie"
   ]
  },
  {
   "cell_type": "code",
   "execution_count": 66,
   "metadata": {},
   "outputs": [],
   "source": [
    "merged_matches_by_home = pd.read_csv(\"SerieA/Season21_22/matches.csv\", index_col=0)"
   ]
  },
  {
   "cell_type": "code",
   "execution_count": 67,
   "metadata": {},
   "outputs": [],
   "source": [
    "columns = ['matchday', 'date', 'h_team', 'a_team', 'result']\n",
    "matches = merged_matches_by_home[columns]"
   ]
  },
  {
   "cell_type": "code",
   "execution_count": 68,
   "metadata": {},
   "outputs": [],
   "source": [
    "diff_stats = ['goals', 'total_shots', 'shots_on_target', 'goals_on_penalty', 'total_penalties', 'completed_passings', 'total_passings', 'corners', 'percentage_possession', 'fouls', 'yellow_cards', 'red_cards']    "
   ]
  },
  {
   "cell_type": "code",
   "execution_count": 69,
   "metadata": {},
   "outputs": [],
   "source": [
    "stats_of_all_teams = {}\n",
    "for file in sorted(os.listdir(\"SerieA/Season21_22/AvgStats2/\")):\n",
    "    if file.endswith(\".csv\"):\n",
    "        team_name = file.replace('.csv', '')\n",
    "        team_stats = pd.read_csv(\"SerieA/Season21_22/AvgStats2/\"+file, index_col=0) \n",
    "        stats_of_all_teams[team_name] = team_stats"
   ]
  },
  {
   "cell_type": "code",
   "execution_count": 70,
   "metadata": {},
   "outputs": [
    {
     "data": {
      "text/html": [
       "<div>\n",
       "<style scoped>\n",
       "    .dataframe tbody tr th:only-of-type {\n",
       "        vertical-align: middle;\n",
       "    }\n",
       "\n",
       "    .dataframe tbody tr th {\n",
       "        vertical-align: top;\n",
       "    }\n",
       "\n",
       "    .dataframe thead th {\n",
       "        text-align: right;\n",
       "    }\n",
       "</style>\n",
       "<table border=\"1\" class=\"dataframe\">\n",
       "  <thead>\n",
       "    <tr style=\"text-align: right;\">\n",
       "      <th></th>\n",
       "      <th>matchday</th>\n",
       "      <th>date</th>\n",
       "      <th>h_team</th>\n",
       "      <th>a_team</th>\n",
       "      <th>result</th>\n",
       "    </tr>\n",
       "  </thead>\n",
       "  <tbody>\n",
       "    <tr>\n",
       "      <th>0</th>\n",
       "      <td>Giornata n. 1</td>\n",
       "      <td>2021-08-21</td>\n",
       "      <td>Hellas Verona</td>\n",
       "      <td>Sassuolo</td>\n",
       "      <td>P</td>\n",
       "    </tr>\n",
       "    <tr>\n",
       "      <th>1</th>\n",
       "      <td>Giornata n. 1</td>\n",
       "      <td>2021-08-21</td>\n",
       "      <td>Inter</td>\n",
       "      <td>Genoa</td>\n",
       "      <td>V</td>\n",
       "    </tr>\n",
       "  </tbody>\n",
       "</table>\n",
       "</div>"
      ],
      "text/plain": [
       "        matchday        date         h_team    a_team result\n",
       "0  Giornata n. 1  2021-08-21  Hellas Verona  Sassuolo      P\n",
       "1  Giornata n. 1  2021-08-21          Inter     Genoa      V"
      ]
     },
     "execution_count": 70,
     "metadata": {},
     "output_type": "execute_result"
    }
   ],
   "source": [
    "matches = matches.reset_index(drop=True)\n",
    "matches[:2]"
   ]
  },
  {
   "cell_type": "markdown",
   "metadata": {},
   "source": [
    "Effettua il match in base alla squadra e alla data della partita.\n",
    "Essendo tutte le partite salvate in dataframe e ciascun dataframe è il valore di un dizionario, con chiave il nome della squadra, utilizziamo il nome della squadra per cercare il valore del dizionario"
   ]
  },
  {
   "cell_type": "code",
   "execution_count": 75,
   "metadata": {},
   "outputs": [],
   "source": [
    "def find_row(team, date):\n",
    "    matches_played_by_team = stats_of_all_teams[team]\n",
    "    match_found = matches_played_by_team[matches_played_by_team.date==date]\n",
    "    match_found = match_found.drop(columns=['team', 'date', 'matchday', 'Risultato'])\n",
    "    return match_found"
   ]
  },
  {
   "cell_type": "code",
   "execution_count": 124,
   "metadata": {},
   "outputs": [],
   "source": [
    "matches_with_diffs = pd.DataFrame()\n",
    "\n",
    "for id, match in matches.iterrows():\n",
    "    home, away, date = match.h_team, match.a_team, match.date\n",
    "\n",
    "    #ottengo i dataset con le statistiche delle 2 squadre (home ed away)\n",
    "    home_stats = find_row(home, date) \n",
    "    away_stats = find_row(away, date)\n",
    "    \n",
    "    tmp = match\n",
    "    \n",
    "    #per ciascuna colonna nei due dataframe (le colonne sono le stesse), calcolo la differenza tra statistica_home e statistica_away\n",
    "    for col in home_stats.columns: \n",
    "        valueH = home_stats[col].values[0]\n",
    "        valueA = away_stats[col].values[0]\n",
    "        dif = valueH - valueA\n",
    "        tmp[col] = dif\n",
    "    tmp = tmp.to_frame().T\n",
    "    \n",
    "    if matches_with_diffs.empty:\n",
    "        matches_with_diffs = tmp\n",
    "    else: \n",
    "        matches_with_diffs = matches_with_diffs.append(tmp, ignore_index=True)"
   ]
  },
  {
   "cell_type": "code",
   "execution_count": null,
   "metadata": {},
   "outputs": [],
   "source": [
    "matches_with_diffs.to_csv('SerieA/Season21_22/diffs_dataset.csv')"
   ]
  }
 ],
 "metadata": {
  "kernelspec": {
   "display_name": "Python 3.8.8 ('base')",
   "language": "python",
   "name": "python3"
  },
  "language_info": {
   "codemirror_mode": {
    "name": "ipython",
    "version": 3
   },
   "file_extension": ".py",
   "mimetype": "text/x-python",
   "name": "python",
   "nbconvert_exporter": "python",
   "pygments_lexer": "ipython3",
   "version": "3.8.8"
  },
  "orig_nbformat": 4,
  "vscode": {
   "interpreter": {
    "hash": "b51fba03621ea2707aa24f127a4f74542be1adffaa0a8f5a15c5b0606de1417a"
   }
  }
 },
 "nbformat": 4,
 "nbformat_minor": 2
}
