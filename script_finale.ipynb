{
 "cells": [
  {
   "cell_type": "markdown",
   "metadata": {},
   "source": [
    "Cosa dovrei fare alla fine?\n",
    "Prendere le partite dell'ultima giornata di campionato:\n",
    "- effettuare il calcolo dei valori in base ai match precedenti\n",
    "- settare i valori\n",
    "- prendere il testo della predizione, tokenizzarlo ed effettuare la predizione"
   ]
  },
  {
   "cell_type": "code",
   "execution_count": 4,
   "metadata": {},
   "outputs": [],
   "source": [
    "from analysis import MatchAnalysis\n",
    "from classification import Classification\n",
    "from ranking import Ranking"
   ]
  },
  {
   "cell_type": "code",
   "execution_count": 5,
   "metadata": {},
   "outputs": [],
   "source": [
    "r = Ranking(\"SerieA\", '2021-2022')\n",
    "r.download_matches(seasons=4)\n",
    "ma = MatchAnalysis(\"files/2021_2022/statsFE_21_22.csv\")\n",
    "ma.set_ranking(r)"
   ]
  },
  {
   "cell_type": "code",
   "execution_count": 6,
   "metadata": {},
   "outputs": [],
   "source": [
    "ma.divide_and_merge_home_away()\n",
    "ma.create_team_dataset()\n",
    "#'completed_passings','total_passings' 0.539\n",
    "#'completed_passings','total_passings', 'corners' 0.578\n",
    "#'completed_passings','total_passings', 'percentage_possession' 0.513\n",
    "#'completed_passings','total_passings', 'total_penalties' 0.565\n",
    "#'completed_passings','total_passings', 'total_penalties', 'corners' 0.578\n",
    "array = ['completed_passings','total_passings', 'corners']\n",
    "ma.split_and_set_avg(True, 5, array)"
   ]
  },
  {
   "cell_type": "code",
   "execution_count": 7,
   "metadata": {},
   "outputs": [],
   "source": [
    "c = Classification(ma.X_train, ma.X_test, ma.y_train, ma.y_test)\n",
    "c.create_models()\n",
    "c.gen_report()"
   ]
  },
  {
   "cell_type": "code",
   "execution_count": 8,
   "metadata": {},
   "outputs": [
    {
     "name": "stdout",
     "output_type": "stream",
     "text": [
      "0.47368421052631576\n",
      "0.5394736842105263\n",
      "0.5657894736842105\n",
      "0.5789473684210527\n"
     ]
    }
   ],
   "source": [
    "accuracy = 0\n",
    "max = 0\n",
    "\n",
    "while(accuracy < 0.57):\n",
    "    c.create_models()\n",
    "    c.gen_report()\n",
    "    accuracy = c.E.Accuracy.values[0]\n",
    "    if accuracy > max:\n",
    "        c.max_accuracy = c.models[0]\n",
    "        max = accuracy\n",
    "        print(max)\n",
    "\n",
    "c.save_best_model(\"stats\")"
   ]
  },
  {
   "cell_type": "markdown",
   "metadata": {},
   "source": [
    "Prima di fare la classificazione per le statistiche devo ottenere le etichette predette dal modello di football_prediction. \n",
    "Dividere il dataset in train e set x l'80%.\n",
    "Sul test che deve andare ad effettuare la predizione (il test è presente) applico il modello di football_prediction"
   ]
  }
 ],
 "metadata": {
  "kernelspec": {
   "display_name": "Python 3.8.8 ('base')",
   "language": "python",
   "name": "python3"
  },
  "language_info": {
   "codemirror_mode": {
    "name": "ipython",
    "version": 3
   },
   "file_extension": ".py",
   "mimetype": "text/x-python",
   "name": "python",
   "nbconvert_exporter": "python",
   "pygments_lexer": "ipython3",
   "version": "3.8.8"
  },
  "orig_nbformat": 4,
  "vscode": {
   "interpreter": {
    "hash": "b51fba03621ea2707aa24f127a4f74542be1adffaa0a8f5a15c5b0606de1417a"
   }
  }
 },
 "nbformat": 4,
 "nbformat_minor": 2
}
