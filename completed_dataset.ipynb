{
 "cells": [
  {
   "cell_type": "code",
   "execution_count": 1,
   "metadata": {},
   "outputs": [],
   "source": [
    "from football_predictions import FootballPredictions\n",
    "import pandas as pd\n",
    "import numpy as np\n",
    "import util_strings as utils"
   ]
  },
  {
   "cell_type": "code",
   "execution_count": 2,
   "metadata": {},
   "outputs": [],
   "source": [
    "matches = pd.read_csv(utils.dataset_without_text, index_col=0)\n",
    "matches['date'] = pd.to_datetime(matches['date'], format='%Y-%m-%d') \n",
    "\n",
    "ta = FootballPredictions(matches)\n",
    "ta.read_cleaned_predictions(utils.cleaned_matches_description)"
   ]
  },
  {
   "cell_type": "code",
   "execution_count": 3,
   "metadata": {},
   "outputs": [],
   "source": [
    "#ta.recovery_games()\n",
    "#ta.matches_not_found()\n",
    "#ta.fix_dates(utils.cleaned_matches_description)"
   ]
  },
  {
   "cell_type": "markdown",
   "metadata": {},
   "source": [
    "Dato che alcune squadre potrebbero non combaciare (upper o lower case), trasformo il testo tutto in lower"
   ]
  },
  {
   "cell_type": "code",
   "execution_count": 4,
   "metadata": {},
   "outputs": [],
   "source": [
    "matches['home'] = matches['home'].str.lower()\n",
    "matches['away'] = matches['away'].str.lower()\n",
    "ta.df['home'] = ta.df['home'].str.lower()\n",
    "ta.df['away'] = ta.df['away'].str.lower()\n",
    "\n",
    "dataset = pd.merge(matches, ta.df[['home', 'away', 'date', 'description', 'prediction']], on=['home', 'away', 'date'])"
   ]
  },
  {
   "cell_type": "code",
   "execution_count": 5,
   "metadata": {},
   "outputs": [],
   "source": [
    "dataset.to_csv(utils.completed_dataset)"
   ]
  },
  {
   "cell_type": "code",
   "execution_count": 6,
   "metadata": {},
   "outputs": [
    {
     "name": "stderr",
     "output_type": "stream",
     "text": [
      "1240it [00:36, 34.33it/s]\n"
     ]
    }
   ],
   "source": [
    "from tqdm import tqdm\n",
    "missing_matches = pd.DataFrame()\n",
    "\n",
    "for k, j in tqdm(matches.iterrows()):\n",
    "    find = False\n",
    "    for i, d in dataset.iterrows():\n",
    "        if (d.home.lower() == j.home.lower()) & (d.away.lower() == j.away.lower()) & (d.date == j.date):\n",
    "            find = True\n",
    "            break\n",
    "    if find!=True:\n",
    "        missing_matches = missing_matches.append(j)"
   ]
  },
  {
   "cell_type": "code",
   "execution_count": 7,
   "metadata": {},
   "outputs": [],
   "source": [
    "for k, j in dataset.iterrows():\n",
    "    if len(dataset[(dataset.home==j.home) & (dataset.away==j.away) & (dataset.date==j.date)])>1:\n",
    "        print(j.home, j.away)"
   ]
  }
 ],
 "metadata": {
  "kernelspec": {
   "display_name": "Python 3.8.8 ('base')",
   "language": "python",
   "name": "python3"
  },
  "language_info": {
   "codemirror_mode": {
    "name": "ipython",
    "version": 3
   },
   "file_extension": ".py",
   "mimetype": "text/x-python",
   "name": "python",
   "nbconvert_exporter": "python",
   "pygments_lexer": "ipython3",
   "version": "3.8.8"
  },
  "orig_nbformat": 4,
  "vscode": {
   "interpreter": {
    "hash": "b51fba03621ea2707aa24f127a4f74542be1adffaa0a8f5a15c5b0606de1417a"
   }
  }
 },
 "nbformat": 4,
 "nbformat_minor": 2
}
