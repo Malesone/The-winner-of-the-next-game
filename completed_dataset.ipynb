{
 "cells": [
  {
   "cell_type": "markdown",
   "metadata": {},
   "source": [
    "# Merge statistiche e predizioni\n",
    "Questo dataset contiene tutti i dati relativi alla differenza delle medie (degli ultimi 5 match) delle due squadre e le predizioni (il testo descrittivo) di football prediction con anche l'etichetta di predizione."
   ]
  },
  {
   "cell_type": "code",
   "execution_count": 1,
   "metadata": {},
   "outputs": [],
   "source": [
    "from football_predictions import FootballPredictions\n",
    "import pandas as pd\n",
    "import numpy as np\n",
    "import util_strings as utils"
   ]
  },
  {
   "cell_type": "code",
   "execution_count": 2,
   "metadata": {},
   "outputs": [],
   "source": [
    "matches = pd.read_csv(utils.dataset_without_text, index_col=0)\n",
    "matches['date'] = pd.to_datetime(matches['date'], format='%Y-%m-%d') \n",
    "\n",
    "ta = FootballPredictions(matches)\n",
    "ta.read_cleaned_predictions(utils.cleaned_matches_description)"
   ]
  },
  {
   "cell_type": "markdown",
   "metadata": {},
   "source": [
    "Dato che alcune squadre potrebbero non combaciare (upper o lower case), trasformo il testo tutto in lower"
   ]
  },
  {
   "cell_type": "code",
   "execution_count": 3,
   "metadata": {},
   "outputs": [],
   "source": [
    "dataset = pd.merge(matches, ta.df[['home', 'away', 'date', 'description', 'prediction']], on=['home', 'away', 'date'])"
   ]
  },
  {
   "cell_type": "code",
   "execution_count": 4,
   "metadata": {},
   "outputs": [],
   "source": [
    "dataset.to_csv(utils.completed_dataset)"
   ]
  }
 ],
 "metadata": {
  "kernelspec": {
   "display_name": "Python 3.8.8 ('base')",
   "language": "python",
   "name": "python3"
  },
  "language_info": {
   "codemirror_mode": {
    "name": "ipython",
    "version": 3
   },
   "file_extension": ".py",
   "mimetype": "text/x-python",
   "name": "python",
   "nbconvert_exporter": "python",
   "pygments_lexer": "ipython3",
   "version": "3.8.8"
  },
  "orig_nbformat": 4,
  "vscode": {
   "interpreter": {
    "hash": "b51fba03621ea2707aa24f127a4f74542be1adffaa0a8f5a15c5b0606de1417a"
   }
  }
 },
 "nbformat": 4,
 "nbformat_minor": 2
}
