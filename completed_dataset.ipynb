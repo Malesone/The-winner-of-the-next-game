{
 "cells": [
  {
   "attachments": {},
   "cell_type": "markdown",
   "metadata": {},
   "source": [
    "# Merging of statistics and predictions\n",
    "This phase merge the two datasets (cleaned_stats.csv and cleaned_news.csv) by 3 parameters: \n",
    "- home team \n",
    "- away team\n",
    "- season\n",
    "The merge isn’t done by date because sometimes the date of a match in the first dataset is not equal to the date of the same match in the second dataset.\n",
    "At the end of the process, a completed_dataset.csv is obtained."
   ]
  },
  {
   "cell_type": "code",
   "execution_count": 5,
   "metadata": {},
   "outputs": [],
   "source": [
    "from football_predictions import FootballPredictions\n",
    "import pandas as pd\n",
    "import numpy as np\n",
    "import util_strings as utils"
   ]
  },
  {
   "cell_type": "code",
   "execution_count": 6,
   "metadata": {},
   "outputs": [],
   "source": [
    "matches = pd.read_csv(utils.dataset_without_text, index_col=0)\n",
    "matches['date'] = pd.to_datetime(matches['date'], format='%Y-%m-%d') \n",
    "\n",
    "ta = FootballPredictions(matches)\n",
    "ta.read_cleaned_predictions(utils.cleaned_matches_description)"
   ]
  },
  {
   "attachments": {},
   "cell_type": "markdown",
   "metadata": {},
   "source": [
    "Since some team names may not match (upper or lower case), I change all the team names to lower"
   ]
  },
  {
   "cell_type": "code",
   "execution_count": 7,
   "metadata": {},
   "outputs": [],
   "source": [
    "dataset = pd.merge(matches, ta.df[['home', 'away', 'date', 'description', 'prediction']], on=['home', 'away', 'date'])"
   ]
  },
  {
   "cell_type": "code",
   "execution_count": 8,
   "metadata": {},
   "outputs": [],
   "source": [
    "dataset.to_csv(utils.completed_dataset)"
   ]
  }
 ],
 "metadata": {
  "kernelspec": {
   "display_name": "Python 3.8.8 ('base')",
   "language": "python",
   "name": "python3"
  },
  "language_info": {
   "codemirror_mode": {
    "name": "ipython",
    "version": 3
   },
   "file_extension": ".py",
   "mimetype": "text/x-python",
   "name": "python",
   "nbconvert_exporter": "python",
   "pygments_lexer": "ipython3",
   "version": "3.8.8 (default, Apr 13 2021, 12:59:45) \n[Clang 10.0.0 ]"
  },
  "orig_nbformat": 4,
  "vscode": {
   "interpreter": {
    "hash": "b51fba03621ea2707aa24f127a4f74542be1adffaa0a8f5a15c5b0606de1417a"
   }
  }
 },
 "nbformat": 4,
 "nbformat_minor": 2
}
