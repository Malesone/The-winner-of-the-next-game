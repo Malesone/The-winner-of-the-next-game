{
 "cells": [
  {
   "attachments": {},
   "cell_type": "markdown",
   "metadata": {},
   "source": [
    "# Cleaning and pre-processing the FBref data\n",
    "The dataset needs to be processed because there are two records referring the same match: the first record refers to the statistics reached by the home team against the away team and the second one viceversa. These values representing the same match must be combined.\n",
    "\n",
    "Each pair of rows referencing the same match is merged through the following 3 steps:\n",
    "- filter previous statistics of the 2 teams involved in the match and two datasets are obtained: one referring to home stats and one referring to away stats\n",
    "- computing the average of the 5 previous matches for each statistic\n",
    "- subtracting averages features: avg(home features) – avg(away features)\n",
    "\n",
    "Another important feature is the ranking of the teams which is calculated as the number of direct matches won by the two teams in all the previous times they have met. Thus for each match there are two additional feature: home rank and away rank. The obtained features are stored into \"Stats/cleaned_stats.csv\".\n",
    "\n",
    "The classes used to make this are MatchAnalysis (analysis.py) and Ranking (ranking.py). \n",
    "\n",
    "Old stats are overwritten by the new ones in the \"Stats/cleaned_stats.csv\". "
   ]
  },
  {
   "cell_type": "code",
   "execution_count": 1,
   "metadata": {},
   "outputs": [],
   "source": [
    "from analysis import MatchAnalysis\n",
    "import util_strings as utils\n",
    "from ranking import Ranking"
   ]
  },
  {
   "cell_type": "code",
   "execution_count": 2,
   "metadata": {},
   "outputs": [],
   "source": [
    "ranking = Ranking('SerieA', '2022-2023')\n",
    "ranking.read_matches(seasons=6, path=utils.ranking)\n",
    "\n",
    "ma = MatchAnalysis()\n",
    "ma.set_ranking(ranking=ranking)"
   ]
  },
  {
   "cell_type": "code",
   "execution_count": 3,
   "metadata": {},
   "outputs": [],
   "source": [
    "#reading all the matches from \"Stats/all_stats.csv\" (double because there are statistics for each team) \n",
    "ma.read_matches(utils.merged_statistics) \n",
    "#creation of a list of objects (list of teams)\n",
    "ma.create_team_dataset()\n",
    "#dividing the home games from the away ones\n",
    "ma.divide_and_merge_home_away()\n",
    "#combine 2 datasets computating the average\n",
    "ma.reduce_dataset_with_avg(number = 5, path=utils.dataset_without_text)"
   ]
  },
  {
   "attachments": {},
   "cell_type": "markdown",
   "metadata": {},
   "source": [
    "Teams are saved into a json file with an associated identification code. "
   ]
  },
  {
   "cell_type": "code",
   "execution_count": 4,
   "metadata": {},
   "outputs": [],
   "source": [
    "import json\n",
    "with open(utils.teams_codes, 'rb') as json_file:\n",
    "    data = json.load(json_file)"
   ]
  },
  {
   "cell_type": "code",
   "execution_count": 5,
   "metadata": {},
   "outputs": [],
   "source": [
    "#I take the value of the last id, in order to assign it to the next team\n",
    "cont = 0\n",
    "for team, id in data.items():\n",
    "    if id == cont:\n",
    "        cont+=1\n",
    "\n",
    "#I assign the teams not present on file\n",
    "keys = data.keys()\n",
    "for team in ma.matches_by_team:\n",
    "    if team.name.lower() not in keys:\n",
    "        data[team.name.lower()]=cont\n",
    "        cont+=1"
   ]
  },
  {
   "cell_type": "code",
   "execution_count": 6,
   "metadata": {},
   "outputs": [],
   "source": [
    "with open(utils.teams_codes, 'w') as outfile:\n",
    "    json.dump(data, outfile)"
   ]
  }
 ],
 "metadata": {
  "kernelspec": {
   "display_name": "Python 3.8.8 ('base')",
   "language": "python",
   "name": "python3"
  },
  "language_info": {
   "codemirror_mode": {
    "name": "ipython",
    "version": 3
   },
   "file_extension": ".py",
   "mimetype": "text/x-python",
   "name": "python",
   "nbconvert_exporter": "python",
   "pygments_lexer": "ipython3",
   "version": "3.8.8 (default, Apr 13 2021, 12:59:45) \n[Clang 10.0.0 ]"
  },
  "orig_nbformat": 4,
  "vscode": {
   "interpreter": {
    "hash": "b51fba03621ea2707aa24f127a4f74542be1adffaa0a8f5a15c5b0606de1417a"
   }
  }
 },
 "nbformat": 4,
 "nbformat_minor": 2
}
