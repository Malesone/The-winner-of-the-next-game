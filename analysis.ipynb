{
 "cells": [
  {
   "cell_type": "code",
   "execution_count": 1,
   "metadata": {},
   "outputs": [],
   "source": [
    "from analysis import MatchAnalysis\n",
    "import util_strings as utils\n",
    "from ranking import Ranking\n"
   ]
  },
  {
   "cell_type": "code",
   "execution_count": 2,
   "metadata": {},
   "outputs": [],
   "source": [
    "ranking = Ranking('SerieA', '2022-2023')\n",
    "ranking.read_matches(seasons=4, path=utils.ranking)\n",
    "\n",
    "ma = MatchAnalysis()\n",
    "ma.set_ranking(ranking=ranking)"
   ]
  },
  {
   "cell_type": "code",
   "execution_count": 3,
   "metadata": {},
   "outputs": [],
   "source": [
    "#leggo tutti i match (doppi perché ci sono le statistiche x ogni squadra)\n",
    "ma.read_matches(utils.merged_statistics) \n",
    "#creo una lista di oggetti (lista di squadre)\n",
    "ma.create_team_dataset()\n",
    "#divido le partite di casa da quelle in trasferta\n",
    "ma.divide_and_merge_home_away()\n",
    "#vado a combinarle\n",
    "ma.reduce_dataset_with_avg(number = 5, path=utils.dataset_without_text)"
   ]
  },
  {
   "cell_type": "markdown",
   "metadata": {},
   "source": [
    "Per vedere se funziona il ranking prendo tutte le partite tra due squadre"
   ]
  },
  {
   "cell_type": "code",
   "execution_count": null,
   "metadata": {},
   "outputs": [],
   "source": [
    "ma.diff_dataset[((ma.diff_dataset.home=='Inter')&(ma.diff_dataset.away=='Genoa'))|((ma.diff_dataset.home=='Genoa')&(ma.diff_dataset.away=='Inter'))]"
   ]
  },
  {
   "cell_type": "markdown",
   "metadata": {},
   "source": [
    "Per vedere se funziona la media, prendo le prima 4 partite della Juventus e controllo nel file relativo"
   ]
  },
  {
   "cell_type": "code",
   "execution_count": 8,
   "metadata": {},
   "outputs": [
    {
     "data": {
      "text/html": [
       "<div>\n",
       "<style scoped>\n",
       "    .dataframe tbody tr th:only-of-type {\n",
       "        vertical-align: middle;\n",
       "    }\n",
       "\n",
       "    .dataframe tbody tr th {\n",
       "        vertical-align: top;\n",
       "    }\n",
       "\n",
       "    .dataframe thead th {\n",
       "        text-align: right;\n",
       "    }\n",
       "</style>\n",
       "<table border=\"1\" class=\"dataframe\">\n",
       "  <thead>\n",
       "    <tr style=\"text-align: right;\">\n",
       "      <th></th>\n",
       "      <th>home</th>\n",
       "      <th>date</th>\n",
       "      <th>result</th>\n",
       "      <th>goals</th>\n",
       "      <th>away</th>\n",
       "      <th>total_shots</th>\n",
       "      <th>shots_on_target</th>\n",
       "      <th>goals_on_penalty</th>\n",
       "      <th>total_penalties</th>\n",
       "      <th>percentage_possession</th>\n",
       "      <th>fouls</th>\n",
       "      <th>yellow_cards</th>\n",
       "      <th>red_cards</th>\n",
       "      <th>season</th>\n",
       "      <th>rank_h</th>\n",
       "      <th>rank_a</th>\n",
       "    </tr>\n",
       "  </thead>\n",
       "  <tbody>\n",
       "    <tr>\n",
       "      <th>0</th>\n",
       "      <td>Chievo</td>\n",
       "      <td>2018-08-18</td>\n",
       "      <td>P</td>\n",
       "      <td>-1.000000</td>\n",
       "      <td>Juventus</td>\n",
       "      <td>-23.0</td>\n",
       "      <td>-9.0</td>\n",
       "      <td>1.000000</td>\n",
       "      <td>1.000000</td>\n",
       "      <td>-44.000000</td>\n",
       "      <td>3.000000</td>\n",
       "      <td>2.0</td>\n",
       "      <td>0.000000</td>\n",
       "      <td>2018-2019</td>\n",
       "      <td>0.0</td>\n",
       "      <td>0.0</td>\n",
       "    </tr>\n",
       "    <tr>\n",
       "      <th>8</th>\n",
       "      <td>Juventus</td>\n",
       "      <td>2018-08-25</td>\n",
       "      <td>V</td>\n",
       "      <td>2.000000</td>\n",
       "      <td>Lazio</td>\n",
       "      <td>17.0</td>\n",
       "      <td>8.0</td>\n",
       "      <td>0.000000</td>\n",
       "      <td>0.000000</td>\n",
       "      <td>36.000000</td>\n",
       "      <td>-1.000000</td>\n",
       "      <td>0.0</td>\n",
       "      <td>0.000000</td>\n",
       "      <td>2018-2019</td>\n",
       "      <td>0.0</td>\n",
       "      <td>0.0</td>\n",
       "    </tr>\n",
       "    <tr>\n",
       "      <th>19</th>\n",
       "      <td>Parma</td>\n",
       "      <td>2018-09-01</td>\n",
       "      <td>P</td>\n",
       "      <td>-1.500000</td>\n",
       "      <td>Juventus</td>\n",
       "      <td>-15.5</td>\n",
       "      <td>-6.0</td>\n",
       "      <td>0.000000</td>\n",
       "      <td>0.000000</td>\n",
       "      <td>-20.500000</td>\n",
       "      <td>6.500000</td>\n",
       "      <td>0.5</td>\n",
       "      <td>0.000000</td>\n",
       "      <td>2018-2019</td>\n",
       "      <td>0.0</td>\n",
       "      <td>0.0</td>\n",
       "    </tr>\n",
       "    <tr>\n",
       "      <th>34</th>\n",
       "      <td>Juventus</td>\n",
       "      <td>2018-09-16</td>\n",
       "      <td>V</td>\n",
       "      <td>-0.333333</td>\n",
       "      <td>Sassuolo</td>\n",
       "      <td>12.0</td>\n",
       "      <td>3.0</td>\n",
       "      <td>-0.666667</td>\n",
       "      <td>-0.666667</td>\n",
       "      <td>16.666667</td>\n",
       "      <td>-8.333333</td>\n",
       "      <td>-1.0</td>\n",
       "      <td>-0.333333</td>\n",
       "      <td>2018-2019</td>\n",
       "      <td>0.0</td>\n",
       "      <td>0.0</td>\n",
       "    </tr>\n",
       "  </tbody>\n",
       "</table>\n",
       "</div>"
      ],
      "text/plain": [
       "        home       date result     goals      away  total_shots  \\\n",
       "0     Chievo 2018-08-18      P -1.000000  Juventus        -23.0   \n",
       "8   Juventus 2018-08-25      V  2.000000     Lazio         17.0   \n",
       "19     Parma 2018-09-01      P -1.500000  Juventus        -15.5   \n",
       "34  Juventus 2018-09-16      V -0.333333  Sassuolo         12.0   \n",
       "\n",
       "    shots_on_target  goals_on_penalty  total_penalties  percentage_possession  \\\n",
       "0              -9.0          1.000000         1.000000             -44.000000   \n",
       "8               8.0          0.000000         0.000000              36.000000   \n",
       "19             -6.0          0.000000         0.000000             -20.500000   \n",
       "34              3.0         -0.666667        -0.666667              16.666667   \n",
       "\n",
       "       fouls  yellow_cards  red_cards     season  rank_h  rank_a  \n",
       "0   3.000000           2.0   0.000000  2018-2019     0.0     0.0  \n",
       "8  -1.000000           0.0   0.000000  2018-2019     0.0     0.0  \n",
       "19  6.500000           0.5   0.000000  2018-2019     0.0     0.0  \n",
       "34 -8.333333          -1.0  -0.333333  2018-2019     0.0     0.0  "
      ]
     },
     "execution_count": 8,
     "metadata": {},
     "output_type": "execute_result"
    }
   ],
   "source": [
    "ma.diff_dataset[((ma.diff_dataset.home=='Juventus')|(ma.diff_dataset.away=='Juventus'))][:4]"
   ]
  }
 ],
 "metadata": {
  "kernelspec": {
   "display_name": "Python 3.8.8 ('base')",
   "language": "python",
   "name": "python3"
  },
  "language_info": {
   "codemirror_mode": {
    "name": "ipython",
    "version": 3
   },
   "file_extension": ".py",
   "mimetype": "text/x-python",
   "name": "python",
   "nbconvert_exporter": "python",
   "pygments_lexer": "ipython3",
   "version": "3.8.8"
  },
  "orig_nbformat": 4,
  "vscode": {
   "interpreter": {
    "hash": "b51fba03621ea2707aa24f127a4f74542be1adffaa0a8f5a15c5b0606de1417a"
   }
  }
 },
 "nbformat": 4,
 "nbformat_minor": 2
}
