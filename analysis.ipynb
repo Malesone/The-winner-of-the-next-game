{
 "cells": [
  {
   "cell_type": "code",
   "execution_count": 1,
   "metadata": {},
   "outputs": [],
   "source": [
    "from analysis import MatchAnalysis\n",
    "import util_strings as utils\n",
    "from ranking import Ranking"
   ]
  },
  {
   "cell_type": "code",
   "execution_count": 2,
   "metadata": {},
   "outputs": [],
   "source": [
    "ranking = Ranking('SerieA', '2022-2023')\n",
    "ranking.read_matches(seasons=6, path=utils.ranking)\n",
    "\n",
    "ma = MatchAnalysis()\n",
    "ma.set_ranking(ranking=ranking)"
   ]
  },
  {
   "cell_type": "code",
   "execution_count": 4,
   "metadata": {},
   "outputs": [],
   "source": [
    "#leggo tutti i match (doppi perché ci sono le statistiche x ogni squadra)\n",
    "ma.read_matches(utils.merged_statistics) \n",
    "#creo una lista di oggetti (lista di squadre)\n",
    "ma.create_team_dataset()\n",
    "#divido le partite di casa da quelle in trasferta\n",
    "ma.divide_and_merge_home_away()\n",
    "#vado a combinarle\n",
    "ma.reduce_dataset_with_avg(number = 5, path=utils.dataset_without_text)"
   ]
  },
  {
   "cell_type": "markdown",
   "metadata": {},
   "source": [
    "Salvataggio squadre"
   ]
  },
  {
   "cell_type": "code",
   "execution_count": 5,
   "metadata": {},
   "outputs": [],
   "source": [
    "import json\n",
    "with open(utils.teams_codes, 'rb') as json_file:\n",
    "    data = json.load(json_file)"
   ]
  },
  {
   "cell_type": "code",
   "execution_count": 6,
   "metadata": {},
   "outputs": [],
   "source": [
    "#prendo il valore dell'ultimo id, in modo tale da assegnarlo alla prossima squadra\n",
    "cont = 0\n",
    "for team, id in data.items():\n",
    "    if id == cont:\n",
    "        cont+=1\n",
    "\n",
    "#assegno le squadre non presenti su file\n",
    "keys = data.keys()\n",
    "for team in ma.matches_by_team:\n",
    "    if team.name.lower() not in keys:\n",
    "        data[team.name.lower()]=cont\n",
    "        cont+=1"
   ]
  },
  {
   "cell_type": "code",
   "execution_count": 7,
   "metadata": {},
   "outputs": [],
   "source": [
    "with open(utils.teams_codes, 'w') as outfile:\n",
    "    json.dump(data, outfile)"
   ]
  }
 ],
 "metadata": {
  "kernelspec": {
   "display_name": "Python 3.8.8 ('base')",
   "language": "python",
   "name": "python3"
  },
  "language_info": {
   "codemirror_mode": {
    "name": "ipython",
    "version": 3
   },
   "file_extension": ".py",
   "mimetype": "text/x-python",
   "name": "python",
   "nbconvert_exporter": "python",
   "pygments_lexer": "ipython3",
   "version": "3.8.8"
  },
  "orig_nbformat": 4,
  "vscode": {
   "interpreter": {
    "hash": "b51fba03621ea2707aa24f127a4f74542be1adffaa0a8f5a15c5b0606de1417a"
   }
  }
 },
 "nbformat": 4,
 "nbformat_minor": 2
}
