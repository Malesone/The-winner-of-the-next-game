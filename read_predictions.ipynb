{
 "cells": [
  {
   "cell_type": "markdown",
   "metadata": {},
   "source": [
    "# Scraping news\n",
    "Leggo il file json contenente i link per ogni data e apro il primo link della prima data.\n",
    "Vado a fare scraping ed ottengo il testo."
   ]
  },
  {
   "cell_type": "code",
   "execution_count": 319,
   "metadata": {},
   "outputs": [],
   "source": [
    "import json\n",
    "import pandas as pd\n",
    "\n",
    "file_links = open('keyDate_valueLinks.json')  \n",
    "links = json.load(file_links)\n",
    "  \n",
    "file_links.close()"
   ]
  },
  {
   "cell_type": "code",
   "execution_count": 320,
   "metadata": {},
   "outputs": [],
   "source": [
    "import requests\n",
    "from bs4 import BeautifulSoup\n",
    "\n",
    "headers = {'User-Agent': \n",
    "                'Mozilla/5.0 (X11; Linux x86_64) AppleWebKit/537.36 (KHTML, like Gecko) Chrome/47.0.2526.106 Safari/537.36'}"
   ]
  },
  {
   "cell_type": "code",
   "execution_count": 321,
   "metadata": {},
   "outputs": [],
   "source": [
    "results = pd.read_csv('allMatchesWithResult.csv')"
   ]
  },
  {
   "cell_type": "markdown",
   "metadata": {},
   "source": [
    "## Ottenimento previsioni"
   ]
  },
  {
   "cell_type": "code",
   "execution_count": 317,
   "metadata": {},
   "outputs": [],
   "source": [
    "\"\"\"\n",
    "I nomi delle squadre che vengono letti da football predictions non sono normalizzati quindi bisogna cambiare il nome.\n",
    "\n",
    "Prendo i nomi delle squadre salvate sul file dei risultati e prendo il nome della squadra prese da football predictions. Se trovo la corrispondenza, converto il nome della squadra, altrimenti lascio il nome attuale.\n",
    "\n",
    "Ho visto che ad esempio invece di scrivere Cagliari, è stato scritto Calgiari. Controllo la percentuale di similarità tra le due stringhe e se varia di una lettera, lo score sarà alto (maggiore di 0.8 --> 0.857 per l'esattezza)\n",
    "\"\"\"\n",
    "from difflib import SequenceMatcher\n",
    "\n",
    "originalNotation = results['h_team'].unique()\n",
    "\n",
    "def check_name(new_name):\n",
    "    name = new_name\n",
    "    for team_name in originalNotation:\n",
    "        if (team_name in new_name) or (new_name in team_name) or (SequenceMatcher(None, new_name, team_name).ratio() > 0.8): \n",
    "            return team_name\n",
    "    return new_name"
   ]
  },
  {
   "cell_type": "markdown",
   "metadata": {},
   "source": [
    "get_prediction è il metodo che permette di ottenere 3 dati: \n",
    "- il nome della squadra di casa\n",
    "- il nome della squadra di trasferta\n",
    "- la predizione (descrizione)"
   ]
  },
  {
   "cell_type": "code",
   "execution_count": 318,
   "metadata": {},
   "outputs": [],
   "source": [
    "def get_prediction(prediction_link):\n",
    "    pageTree = requests.get(prediction_link)\n",
    "    soup = BeautifulSoup(pageTree.text, features=\"lxml\")\n",
    "\n",
    "    predtxt = soup.find(\"span\", {\"class\": \"predtxt-mob\"})\n",
    "    text = []\n",
    "\n",
    "    paragraph = predtxt.find_all('p')\n",
    "    for p in paragraph:\n",
    "        text.append(p.text)\n",
    "\n",
    "    paragraph_team = soup.find_all(\"p\", {\"class\": \"teamnaam\"})\n",
    "    return paragraph_team[0].contents[0], paragraph_team[1].contents[0], text"
   ]
  },
  {
   "cell_type": "markdown",
   "metadata": {},
   "source": [
    "Setto le informazioni trovate al link nel dataframe"
   ]
  },
  {
   "cell_type": "code",
   "execution_count": 322,
   "metadata": {},
   "outputs": [
    {
     "name": "stderr",
     "output_type": "stream",
     "text": [
      "100%|██████████| 119/119 [06:59<00:00,  3.53s/it]\n"
     ]
    }
   ],
   "source": [
    "from tqdm import tqdm\n",
    "df = pd.DataFrame()\n",
    "count = 0\n",
    "for key_date, links_of_predictions in tqdm(links.items()):\n",
    "    for prediction_link in links_of_predictions:\n",
    "        home, away, text = get_prediction(prediction_link)\n",
    "        df.at[count, 'date'] = key_date        \n",
    "        df.at[count, 'h_team'] = check_name(home)\n",
    "        df.at[count, 'a_team'] = check_name(away)\n",
    "        \n",
    "        text = '\\n\\n'.join(text)\n",
    "        df.at[count, 'description'] = text\n",
    "        \n",
    "        count += 1"
   ]
  },
  {
   "cell_type": "markdown",
   "metadata": {},
   "source": [
    "Dato che il procedimento di scaricamento delle descrizioni è molto lungo, tutti i dati sono salvati nel seguente csv. Il problema è che i dati devono essere elaborati, quindi guardare le sezioni successive"
   ]
  },
  {
   "cell_type": "code",
   "execution_count": 392,
   "metadata": {},
   "outputs": [],
   "source": [
    "df.to_csv(\"all_correspondeces.csv\")"
   ]
  },
  {
   "cell_type": "markdown",
   "metadata": {},
   "source": []
  },
  {
   "cell_type": "markdown",
   "metadata": {},
   "source": [
    "### Recuperi partite"
   ]
  },
  {
   "cell_type": "markdown",
   "metadata": {},
   "source": [
    "Quello descritto sopra non è l'unico problema, in quanto ci siano partite che sono state rimandate. Ovviamente i pronostici vengono fatti su due date diverse:\n",
    "- sulla data originale della partita (che poi viene rimandata)\n",
    "- sulla data rimandata\n",
    "Per questo devo cancellare le righe relative alle partite che non si sono più svolte in quella data e tenere solo i recuperi"
   ]
  },
  {
   "cell_type": "code",
   "execution_count": 380,
   "metadata": {},
   "outputs": [],
   "source": [
    "recoveries = df.copy()\n",
    "\n",
    "for k, match in results.iterrows():\n",
    "    h_team, a_team = match.h_team, match.a_team\n",
    "    recovery = recoveries[(recoveries['h_team']==h_team) & (recoveries['a_team']==a_team)]\n",
    "    if len(recovery) > 1:\n",
    "        rec = (recoveries[(recoveries['h_team']==h_team) & (recoveries['a_team']==a_team)])[1:]\n",
    "        recoveries.drop((recoveries[(recoveries['h_team']==h_team) & (recoveries['a_team']==a_team)])[:1].index, inplace=True)\n",
    "\n",
    "\n",
    "range_index = [i for i in range(len(recoveries))]"
   ]
  },
  {
   "cell_type": "markdown",
   "metadata": {},
   "source": [
    "Devo fare il reset dell'index. Questo perché quando cerco di inserire un nuovo elemento nel dataframe, avendo eliminato in precedenza le partite \"fasulle\" (perché poi ci sono i recuperi) nel dataframe, quando gli passo l'indice questo non è relativo alla posizione, ma al vecchio indice e quindi se inserisco un valore con quel valore, potrebbe sovrascrivere quel record.\n",
    "Ad esempio, abbiamo 379 record. \n",
    "C'è un record con indice 379, se io cercassi di fare df.at(379, ['example']) = 0, all'indice 379 (non alla posizione) viene settata a 0 la colonna 'example'. \n"
   ]
  },
  {
   "cell_type": "code",
   "execution_count": 383,
   "metadata": {},
   "outputs": [],
   "source": [
    "recoveries['index'] = range_index \n",
    "recoveries = recoveries.set_index('index') "
   ]
  },
  {
   "cell_type": "markdown",
   "metadata": {},
   "source": [
    "### Partite non trovate"
   ]
  },
  {
   "cell_type": "markdown",
   "metadata": {},
   "source": [
    "Ci potrebbero essere partite che non sono state trovate, quindi confronto i match che ci sono nel dataframe dei risultati e in quello scaricato da football predictions.\n",
    "C'è quindi un altro problema: i link potrebbero essere errati, quindi con lo scraping non vengono prelevati. \n",
    "\n",
    "Bisogna cercare nel giorno della partita e cercare nella relativa pagina l'href che contiene la partita."
   ]
  },
  {
   "cell_type": "code",
   "execution_count": 387,
   "metadata": {},
   "outputs": [
    {
     "name": "stdout",
     "output_type": "stream",
     "text": [
      "2022-03-06 Genoa Empoli\n"
     ]
    }
   ],
   "source": [
    "count = len(recoveries)\n",
    "for k, res in results.iterrows():\n",
    "    if len(recoveries[(recoveries['h_team']==res.h_team) & (recoveries['a_team']==res.a_team)]) < 1:\n",
    "        print(res.date, res.h_team, res.a_team) #stampo quali sono i match che non sono stati trovati\n",
    "        \n",
    "        converted_data = pd.to_datetime(res.date, format='%Y-%m-%d', errors='coerce').date()\n",
    "        new_date = converted_data.strftime('%d-%m-%Y')\n",
    "\n",
    "        pageTree = requests.get('https://footballpredictions.com/footballpredictions/?date='+new_date)\n",
    "        soup = BeautifulSoup(pageTree.text, features=\"lxml\")\n",
    "        links = soup.find_all('a', href=True)\n",
    "        links = [link['href'] for link in links if (res.h_team.lower() in link['href']) or (res.a_team.lower() in link['href'])]\n",
    "        cleaned_links = list(dict.fromkeys(links))\n",
    "        if len(cleaned_links) > 0: \n",
    "            home, away, text = get_prediction(cleaned_links[0])\n",
    "            \n",
    "            recoveries.at[count, 'date'] = res.date\n",
    "            recoveries.at[count, 'h_team'] = check_name(home)\n",
    "            recoveries.at[count, 'a_team'] = check_name(away)\n",
    "            \n",
    "            text = '\\n\\n'.join(text)\n",
    "            recoveries.at[count, 'description'] = text\n",
    "\n",
    "            count += 1 #questo contatore serve per inserire in una determinata posizione\n",
    "        "
   ]
  },
  {
   "cell_type": "markdown",
   "metadata": {},
   "source": [
    "Ho visto che alcune date non combaciano, in quanto su football predictions alcune date sono sballate (non combaciano al giorno stesso effettivo della partita, ma al giorno precedente) quindi per fare il match tra i due dataset (questo con le descrizioni delle predizioni e quello del match con la data corretta) devo considerare squadra home e away."
   ]
  },
  {
   "cell_type": "code",
   "execution_count": 389,
   "metadata": {},
   "outputs": [
    {
     "data": {
      "text/html": [
       "<div>\n",
       "<style scoped>\n",
       "    .dataframe tbody tr th:only-of-type {\n",
       "        vertical-align: middle;\n",
       "    }\n",
       "\n",
       "    .dataframe tbody tr th {\n",
       "        vertical-align: top;\n",
       "    }\n",
       "\n",
       "    .dataframe thead th {\n",
       "        text-align: right;\n",
       "    }\n",
       "</style>\n",
       "<table border=\"1\" class=\"dataframe\">\n",
       "  <thead>\n",
       "    <tr style=\"text-align: right;\">\n",
       "      <th></th>\n",
       "      <th>date</th>\n",
       "      <th>h_team</th>\n",
       "      <th>a_team</th>\n",
       "    </tr>\n",
       "    <tr>\n",
       "      <th>index</th>\n",
       "      <th></th>\n",
       "      <th></th>\n",
       "      <th></th>\n",
       "    </tr>\n",
       "  </thead>\n",
       "  <tbody>\n",
       "    <tr>\n",
       "      <th>0</th>\n",
       "      <td>2021-08-21</td>\n",
       "      <td>Inter</td>\n",
       "      <td>Genoa</td>\n",
       "    </tr>\n",
       "    <tr>\n",
       "      <th>1</th>\n",
       "      <td>2021-08-21</td>\n",
       "      <td>Hellas Verona</td>\n",
       "      <td>Sassuolo</td>\n",
       "    </tr>\n",
       "    <tr>\n",
       "      <th>2</th>\n",
       "      <td>2021-08-21</td>\n",
       "      <td>Empoli</td>\n",
       "      <td>Lazio</td>\n",
       "    </tr>\n",
       "    <tr>\n",
       "      <th>3</th>\n",
       "      <td>2021-08-21</td>\n",
       "      <td>Torino</td>\n",
       "      <td>Atalanta</td>\n",
       "    </tr>\n",
       "    <tr>\n",
       "      <th>4</th>\n",
       "      <td>2021-08-22</td>\n",
       "      <td>Bologna</td>\n",
       "      <td>Salernitana</td>\n",
       "    </tr>\n",
       "    <tr>\n",
       "      <th>...</th>\n",
       "      <td>...</td>\n",
       "      <td>...</td>\n",
       "      <td>...</td>\n",
       "    </tr>\n",
       "    <tr>\n",
       "      <th>375</th>\n",
       "      <td>2022-05-22</td>\n",
       "      <td>Inter</td>\n",
       "      <td>Sampdoria</td>\n",
       "    </tr>\n",
       "    <tr>\n",
       "      <th>376</th>\n",
       "      <td>2022-05-22</td>\n",
       "      <td>Sassuolo</td>\n",
       "      <td>Milan</td>\n",
       "    </tr>\n",
       "    <tr>\n",
       "      <th>377</th>\n",
       "      <td>2022-05-22</td>\n",
       "      <td>Salernitana</td>\n",
       "      <td>Udinese</td>\n",
       "    </tr>\n",
       "    <tr>\n",
       "      <th>378</th>\n",
       "      <td>2022-05-22</td>\n",
       "      <td>Venezia</td>\n",
       "      <td>Cagliari</td>\n",
       "    </tr>\n",
       "    <tr>\n",
       "      <th>379</th>\n",
       "      <td>2022-03-06</td>\n",
       "      <td>Genoa</td>\n",
       "      <td>Empoli</td>\n",
       "    </tr>\n",
       "  </tbody>\n",
       "</table>\n",
       "<p>380 rows × 3 columns</p>\n",
       "</div>"
      ],
      "text/plain": [
       "             date         h_team       a_team\n",
       "index                                        \n",
       "0      2021-08-21          Inter        Genoa\n",
       "1      2021-08-21  Hellas Verona     Sassuolo\n",
       "2      2021-08-21         Empoli        Lazio\n",
       "3      2021-08-21         Torino     Atalanta\n",
       "4      2021-08-22        Bologna  Salernitana\n",
       "...           ...            ...          ...\n",
       "375    2022-05-22          Inter    Sampdoria\n",
       "376    2022-05-22       Sassuolo        Milan\n",
       "377    2022-05-22    Salernitana      Udinese\n",
       "378    2022-05-22        Venezia     Cagliari\n",
       "379    2022-03-06          Genoa       Empoli\n",
       "\n",
       "[380 rows x 3 columns]"
      ]
     },
     "execution_count": 389,
     "metadata": {},
     "output_type": "execute_result"
    }
   ],
   "source": [
    "recoveries[['date', 'h_team', 'a_team']]"
   ]
  },
  {
   "cell_type": "code",
   "execution_count": 390,
   "metadata": {},
   "outputs": [],
   "source": [
    "dataset = pd.merge(results[['date', 'h_team', 'a_team', 'result']], recoveries[['h_team','a_team', 'description']], on=['h_team', 'a_team'])\n",
    "dataset.to_csv('description_predictions.csv')"
   ]
  }
 ],
 "metadata": {
  "kernelspec": {
   "display_name": "Python 3.8.8 ('base')",
   "language": "python",
   "name": "python3"
  },
  "language_info": {
   "codemirror_mode": {
    "name": "ipython",
    "version": 3
   },
   "file_extension": ".py",
   "mimetype": "text/x-python",
   "name": "python",
   "nbconvert_exporter": "python",
   "pygments_lexer": "ipython3",
   "version": "3.8.8"
  },
  "orig_nbformat": 4,
  "vscode": {
   "interpreter": {
    "hash": "b51fba03621ea2707aa24f127a4f74542be1adffaa0a8f5a15c5b0606de1417a"
   }
  }
 },
 "nbformat": 4,
 "nbformat_minor": 2
}
