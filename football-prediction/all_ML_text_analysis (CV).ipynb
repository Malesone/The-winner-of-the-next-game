{
 "cells": [
  {
   "cell_type": "code",
   "execution_count": 3,
   "metadata": {},
   "outputs": [],
   "source": [
    "import pandas as pd\n",
    "import json"
   ]
  },
  {
   "cell_type": "markdown",
   "metadata": {},
   "source": [
    "# Tecniche di ML a confronto\n",
    "In questo jupyter vengono confrontate le prestazioni delle varie classificazioni di ciascun modello.\n",
    "Il metodo utilizzato è CountVectorizer con una tokenizzazione regex."
   ]
  },
  {
   "cell_type": "markdown",
   "metadata": {},
   "source": [
    "Per la realizzazione ho seguito https://www.datacamp.com/tutorial/text-analytics-beginners-nltk"
   ]
  },
  {
   "cell_type": "code",
   "execution_count": 4,
   "metadata": {},
   "outputs": [],
   "source": [
    "dataset = pd.read_csv('../description_predictions.csv', index_col=0)\n",
    "with open(\"../sinonimi.json\") as jsonFile:\n",
    "    jsonObject = json.load(jsonFile)\n",
    "    jsonFile.close()"
   ]
  },
  {
   "cell_type": "code",
   "execution_count": 5,
   "metadata": {},
   "outputs": [],
   "source": [
    "dataset_withoutNAN = dataset[dataset.prediction != 'NAN']\n",
    "\n",
    "dataset_withoutNAN.reset_index(drop=True, inplace=True)"
   ]
  },
  {
   "cell_type": "markdown",
   "metadata": {},
   "source": [
    "Il codice seguente serve per convertire i soprannomi delle squadre in home team e away team"
   ]
  },
  {
   "cell_type": "code",
   "execution_count": 6,
   "metadata": {},
   "outputs": [
    {
     "data": {
      "text/plain": [
       "\"for i, row in dataset_withoutNAN.iterrows():\\n    h_team, a_team, description, prediction = row.h_team, row.a_team, row.description, row.prediction\\n\\n    syn = {}\\n    #cerco nel dizionario di sinonimi, tutti i sinonimi delle squadre del match\\n    for key in jsonObject.keys():\\n        if (h_team in key) or (key in h_team):\\n            syn['home team'] = jsonObject[key] \\n            \\n        if (a_team in key) or (key in a_team):\\n            syn['away team'] = jsonObject[key] \\n\\n    #successivamente prendo il testo e sostituisco i sinonimi con home o away team\\n    description = description.lower()\\n    for key in syn.keys():\\n        for val in syn[key]:\\n            description = description.replace(val.lower(), key)\\n\\n    dataset_withoutNAN.at[i, 'description'] = description\\n\""
      ]
     },
     "execution_count": 6,
     "metadata": {},
     "output_type": "execute_result"
    }
   ],
   "source": [
    "\"\"\"for i, row in dataset_withoutNAN.iterrows():\n",
    "    h_team, a_team, description, prediction = row.h_team, row.a_team, row.description, row.prediction\n",
    "\n",
    "    syn = {}\n",
    "    #cerco nel dizionario di sinonimi, tutti i sinonimi delle squadre del match\n",
    "    for key in jsonObject.keys():\n",
    "        if (h_team in key) or (key in h_team):\n",
    "            syn['home team'] = jsonObject[key] \n",
    "            \n",
    "        if (a_team in key) or (key in a_team):\n",
    "            syn['away team'] = jsonObject[key] \n",
    "\n",
    "    #successivamente prendo il testo e sostituisco i sinonimi con home o away team\n",
    "    description = description.lower()\n",
    "    for key in syn.keys():\n",
    "        for val in syn[key]:\n",
    "            description = description.replace(val.lower(), key)\n",
    "\n",
    "    dataset_withoutNAN.at[i, 'description'] = description\n",
    "\"\"\""
   ]
  },
  {
   "cell_type": "code",
   "execution_count": 7,
   "metadata": {},
   "outputs": [
    {
     "data": {
      "text/html": [
       "<div>\n",
       "<style scoped>\n",
       "    .dataframe tbody tr th:only-of-type {\n",
       "        vertical-align: middle;\n",
       "    }\n",
       "\n",
       "    .dataframe tbody tr th {\n",
       "        vertical-align: top;\n",
       "    }\n",
       "\n",
       "    .dataframe thead th {\n",
       "        text-align: right;\n",
       "    }\n",
       "</style>\n",
       "<table border=\"1\" class=\"dataframe\">\n",
       "  <thead>\n",
       "    <tr style=\"text-align: right;\">\n",
       "      <th></th>\n",
       "      <th>description</th>\n",
       "      <th>prediction</th>\n",
       "    </tr>\n",
       "  </thead>\n",
       "  <tbody>\n",
       "    <tr>\n",
       "      <th>0</th>\n",
       "      <td>Verona and Sassuolo take on each other in a hi...</td>\n",
       "      <td>0</td>\n",
       "    </tr>\n",
       "    <tr>\n",
       "      <th>1</th>\n",
       "      <td>Inter begin their title defence with a match a...</td>\n",
       "      <td>1</td>\n",
       "    </tr>\n",
       "    <tr>\n",
       "      <th>2</th>\n",
       "      <td>Atalanta will look to make a flying start to t...</td>\n",
       "      <td>2</td>\n",
       "    </tr>\n",
       "    <tr>\n",
       "      <th>3</th>\n",
       "      <td>Newcomers Empoli will be aiming to kick off th...</td>\n",
       "      <td>2</td>\n",
       "    </tr>\n",
       "    <tr>\n",
       "      <th>4</th>\n",
       "      <td>After failing to impress in the 2020/21 Serie ...</td>\n",
       "      <td>2</td>\n",
       "    </tr>\n",
       "  </tbody>\n",
       "</table>\n",
       "</div>"
      ],
      "text/plain": [
       "                                         description  prediction\n",
       "0  Verona and Sassuolo take on each other in a hi...           0\n",
       "1  Inter begin their title defence with a match a...           1\n",
       "2  Atalanta will look to make a flying start to t...           2\n",
       "3  Newcomers Empoli will be aiming to kick off th...           2\n",
       "4  After failing to impress in the 2020/21 Serie ...           2"
      ]
     },
     "execution_count": 7,
     "metadata": {},
     "output_type": "execute_result"
    }
   ],
   "source": [
    "dataset_withoutNAN = dataset_withoutNAN[['description', 'prediction']]\n",
    "prediction_labels = {\n",
    "    'N': 0,\n",
    "    'V': 1,\n",
    "    'P': 2\n",
    "}\n",
    "\n",
    "dataset_withoutNAN['prediction'] = dataset_withoutNAN['prediction'].map(prediction_labels)\n",
    "dataset_withoutNAN.head()"
   ]
  },
  {
   "cell_type": "code",
   "execution_count": 8,
   "metadata": {},
   "outputs": [],
   "source": [
    "from sklearn.feature_extraction.text import CountVectorizer\n",
    "from nltk.tokenize import RegexpTokenizer\n",
    "#tokenizer to remove unwanted elements from out data like symbols and numbers\n",
    "token = RegexpTokenizer(r'[a-zA-Z0-9]+')\n",
    "cv = CountVectorizer(lowercase=True, stop_words='english', ngram_range = (2,2), tokenizer = token.tokenize)\n",
    "text_counts= cv.fit_transform(dataset_withoutNAN.description)"
   ]
  },
  {
   "cell_type": "code",
   "execution_count": 9,
   "metadata": {},
   "outputs": [],
   "source": [
    "from sklearn.model_selection import train_test_split\n",
    "X_train, X_test, y_train, y_test = train_test_split(\n",
    "    text_counts, dataset_withoutNAN.prediction, test_size=0.3, random_state=1)"
   ]
  },
  {
   "cell_type": "code",
   "execution_count": 10,
   "metadata": {},
   "outputs": [],
   "source": [
    "from sklearn.ensemble import RandomForestClassifier\n",
    "from sklearn.model_selection import train_test_split\n",
    "from sklearn.ensemble import RandomForestClassifier\n",
    "from sklearn.linear_model import LogisticRegression\n",
    "from sklearn.naive_bayes import MultinomialNB\n",
    "from sklearn.neighbors import KNeighborsClassifier\n",
    "from sklearn.svm import SVC\n",
    "from sklearn.tree import DecisionTreeClassifier\n",
    "import sklearn.metrics as mtr\n",
    "\n",
    "\n",
    "models = {\n",
    "    'Logistic Regression': LogisticRegression(max_iter=10000), #max_iter di default vale 100, ho dovuto alzarlo se no non converge\n",
    "    'Support Vector Machine': SVC(),\n",
    "    'Multinomial Naive Bayes': MultinomialNB(),\n",
    "    'Decision Tree': DecisionTreeClassifier(),\n",
    "    'Random Forest': RandomForestClassifier(),\n",
    "    'K-Nearest Neighbors': KNeighborsClassifier()\n",
    "}"
   ]
  },
  {
   "cell_type": "code",
   "execution_count": 11,
   "metadata": {},
   "outputs": [],
   "source": [
    "predictions = {}\n",
    "for model_name, model in models.items():\n",
    "    models[model_name].fit(X_train, y_train)\n",
    "    predictions[model_name] = model.predict(X_test)\n",
    "\n",
    "E = []\n",
    "for estimator, y_pred in predictions.items():\n",
    "    report = mtr.classification_report(y_test, y_pred, output_dict=True, zero_division=0)\n",
    "    E.append({\n",
    "        'Model': estimator, 'Accuracy': report['accuracy'],\n",
    "        'Avg Precision (macro)': report['macro avg']['precision'],\n",
    "        'Avg Recall (macro)': report['macro avg']['recall'],\n",
    "        'Avg F1-score (macro)': report['macro avg']['f1-score'],\n",
    "        'Avg Precision (weighted)': report['weighted avg']['precision'],\n",
    "        'Avg Recall (weighted)': report['weighted avg']['recall'],\n",
    "        'Avg F1-score (weighted)': report['weighted avg']['f1-score']\n",
    "    })\n",
    "\n",
    "E = pd.DataFrame(E).set_index('Model', inplace=False)"
   ]
  },
  {
   "cell_type": "code",
   "execution_count": 12,
   "metadata": {},
   "outputs": [
    {
     "data": {
      "text/html": [
       "<div>\n",
       "<style scoped>\n",
       "    .dataframe tbody tr th:only-of-type {\n",
       "        vertical-align: middle;\n",
       "    }\n",
       "\n",
       "    .dataframe tbody tr th {\n",
       "        vertical-align: top;\n",
       "    }\n",
       "\n",
       "    .dataframe thead th {\n",
       "        text-align: right;\n",
       "    }\n",
       "</style>\n",
       "<table border=\"1\" class=\"dataframe\">\n",
       "  <thead>\n",
       "    <tr style=\"text-align: right;\">\n",
       "      <th></th>\n",
       "      <th>Accuracy</th>\n",
       "      <th>Avg Precision (macro)</th>\n",
       "      <th>Avg Recall (macro)</th>\n",
       "      <th>Avg F1-score (macro)</th>\n",
       "      <th>Avg Precision (weighted)</th>\n",
       "      <th>Avg Recall (weighted)</th>\n",
       "      <th>Avg F1-score (weighted)</th>\n",
       "    </tr>\n",
       "    <tr>\n",
       "      <th>Model</th>\n",
       "      <th></th>\n",
       "      <th></th>\n",
       "      <th></th>\n",
       "      <th></th>\n",
       "      <th></th>\n",
       "      <th></th>\n",
       "      <th></th>\n",
       "    </tr>\n",
       "  </thead>\n",
       "  <tbody>\n",
       "    <tr>\n",
       "      <th>Logistic Regression</th>\n",
       "      <td>0.657895</td>\n",
       "      <td>0.689363</td>\n",
       "      <td>0.580004</td>\n",
       "      <td>0.572764</td>\n",
       "      <td>0.678354</td>\n",
       "      <td>0.657895</td>\n",
       "      <td>0.612296</td>\n",
       "    </tr>\n",
       "    <tr>\n",
       "      <th>Support Vector Machine</th>\n",
       "      <td>0.464912</td>\n",
       "      <td>0.486726</td>\n",
       "      <td>0.343434</td>\n",
       "      <td>0.229709</td>\n",
       "      <td>0.499379</td>\n",
       "      <td>0.464912</td>\n",
       "      <td>0.304535</td>\n",
       "    </tr>\n",
       "    <tr>\n",
       "      <th>Multinomial Naive Bayes</th>\n",
       "      <td>0.657895</td>\n",
       "      <td>0.619405</td>\n",
       "      <td>0.608626</td>\n",
       "      <td>0.595898</td>\n",
       "      <td>0.634117</td>\n",
       "      <td>0.657895</td>\n",
       "      <td>0.630704</td>\n",
       "    </tr>\n",
       "    <tr>\n",
       "      <th>Decision Tree</th>\n",
       "      <td>0.754386</td>\n",
       "      <td>0.764792</td>\n",
       "      <td>0.716120</td>\n",
       "      <td>0.731162</td>\n",
       "      <td>0.765504</td>\n",
       "      <td>0.754386</td>\n",
       "      <td>0.750521</td>\n",
       "    </tr>\n",
       "    <tr>\n",
       "      <th>Random Forest</th>\n",
       "      <td>0.587719</td>\n",
       "      <td>0.821315</td>\n",
       "      <td>0.486242</td>\n",
       "      <td>0.447778</td>\n",
       "      <td>0.766595</td>\n",
       "      <td>0.587719</td>\n",
       "      <td>0.502076</td>\n",
       "    </tr>\n",
       "    <tr>\n",
       "      <th>K-Nearest Neighbors</th>\n",
       "      <td>0.500000</td>\n",
       "      <td>0.460883</td>\n",
       "      <td>0.458142</td>\n",
       "      <td>0.428231</td>\n",
       "      <td>0.477247</td>\n",
       "      <td>0.500000</td>\n",
       "      <td>0.463540</td>\n",
       "    </tr>\n",
       "  </tbody>\n",
       "</table>\n",
       "</div>"
      ],
      "text/plain": [
       "                         Accuracy  Avg Precision (macro)  Avg Recall (macro)  \\\n",
       "Model                                                                          \n",
       "Logistic Regression      0.657895               0.689363            0.580004   \n",
       "Support Vector Machine   0.464912               0.486726            0.343434   \n",
       "Multinomial Naive Bayes  0.657895               0.619405            0.608626   \n",
       "Decision Tree            0.754386               0.764792            0.716120   \n",
       "Random Forest            0.587719               0.821315            0.486242   \n",
       "K-Nearest Neighbors      0.500000               0.460883            0.458142   \n",
       "\n",
       "                         Avg F1-score (macro)  Avg Precision (weighted)  \\\n",
       "Model                                                                     \n",
       "Logistic Regression                  0.572764                  0.678354   \n",
       "Support Vector Machine               0.229709                  0.499379   \n",
       "Multinomial Naive Bayes              0.595898                  0.634117   \n",
       "Decision Tree                        0.731162                  0.765504   \n",
       "Random Forest                        0.447778                  0.766595   \n",
       "K-Nearest Neighbors                  0.428231                  0.477247   \n",
       "\n",
       "                         Avg Recall (weighted)  Avg F1-score (weighted)  \n",
       "Model                                                                    \n",
       "Logistic Regression                   0.657895                 0.612296  \n",
       "Support Vector Machine                0.464912                 0.304535  \n",
       "Multinomial Naive Bayes               0.657895                 0.630704  \n",
       "Decision Tree                         0.754386                 0.750521  \n",
       "Random Forest                         0.587719                 0.502076  \n",
       "K-Nearest Neighbors                   0.500000                 0.463540  "
      ]
     },
     "execution_count": 12,
     "metadata": {},
     "output_type": "execute_result"
    }
   ],
   "source": [
    "E"
   ]
  }
 ],
 "metadata": {
  "kernelspec": {
   "display_name": "Python 3.8.8 ('base')",
   "language": "python",
   "name": "python3"
  },
  "language_info": {
   "codemirror_mode": {
    "name": "ipython",
    "version": 3
   },
   "file_extension": ".py",
   "mimetype": "text/x-python",
   "name": "python",
   "nbconvert_exporter": "python",
   "pygments_lexer": "ipython3",
   "version": "3.8.8"
  },
  "orig_nbformat": 4,
  "vscode": {
   "interpreter": {
    "hash": "b51fba03621ea2707aa24f127a4f74542be1adffaa0a8f5a15c5b0606de1417a"
   }
  }
 },
 "nbformat": 4,
 "nbformat_minor": 2
}
