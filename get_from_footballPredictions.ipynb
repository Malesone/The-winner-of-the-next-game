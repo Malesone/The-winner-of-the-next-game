{
 "cells": [
  {
   "cell_type": "markdown",
   "metadata": {},
   "source": [
    "# Ottenimento link news\n",
    "\n",
    "Questo script si pone come obiettivo quello di recuperare brevi descrizioni dal sito https://footballpredictions.com/ pubblicati prima di ciascun match.\n",
    "Andiamo a recuperare i dati relativi ad ogni partita andando a cercare nel link il giorno relativo alla partita. "
   ]
  },
  {
   "cell_type": "code",
   "execution_count": 148,
   "metadata": {},
   "outputs": [],
   "source": [
    "import pandas as pd\n",
    "from datetime import datetime, timedelta"
   ]
  },
  {
   "cell_type": "code",
   "execution_count": 149,
   "metadata": {},
   "outputs": [],
   "source": [
    "page = 'https://footballpredictions.com/footballpredictions/?date='\n",
    "format_date = '%d-%m-%Y'"
   ]
  },
  {
   "cell_type": "markdown",
   "metadata": {},
   "source": [
    "Idee da implementare.\n",
    "Raggruppamento per data: \n",
    "* raggruppare le partite per la data, in modo tale da cercare una sola volta il link relativo alle partite che si svolgono in quella data e non comporre tanti link quante le partite\n",
    "* la seconda è recuperare tutte le date e poi nell'array fare un select distinct (remove duplicates)\n",
    "\n",
    "Una volta ottenuti i link andare a cercare nella pagina tutti i link sotto al div relativo alla Serie A"
   ]
  },
  {
   "cell_type": "code",
   "execution_count": 150,
   "metadata": {},
   "outputs": [],
   "source": [
    "matches = pd.read_csv('matches.csv', index_col=0)[['h_team', 'a_team', 'date']]"
   ]
  },
  {
   "cell_type": "code",
   "execution_count": 151,
   "metadata": {},
   "outputs": [],
   "source": [
    "date = matches['date']\n",
    "\n",
    "string_data=date.iloc[0]\n",
    "converted_data = pd.to_datetime(string_data, format='%Y-%m-%d', errors='coerce').date()\n",
    "link_data = converted_data.strftime(format_date)\n",
    "\n",
    "page += link_data"
   ]
  },
  {
   "cell_type": "code",
   "execution_count": 152,
   "metadata": {},
   "outputs": [
    {
     "data": {
      "text/plain": [
       "'https://footballpredictions.com/footballpredictions/?date=21-08-2021'"
      ]
     },
     "execution_count": 152,
     "metadata": {},
     "output_type": "execute_result"
    }
   ],
   "source": [
    "page\n"
   ]
  },
  {
   "cell_type": "markdown",
   "metadata": {},
   "source": [
    "Ricerca sulla pagina footballpredictions.com"
   ]
  },
  {
   "cell_type": "code",
   "execution_count": 153,
   "metadata": {},
   "outputs": [],
   "source": [
    "import requests\n",
    "from bs4 import BeautifulSoup"
   ]
  },
  {
   "cell_type": "code",
   "execution_count": 154,
   "metadata": {},
   "outputs": [],
   "source": [
    "headers = {'User-Agent': \n",
    "                'Mozilla/5.0 (X11; Linux x86_64) AppleWebKit/537.36 (KHTML, like Gecko) Chrome/47.0.2526.106 Safari/537.36'}\n",
    "\n",
    "pageTree = requests.get(page)\n",
    "soup = BeautifulSoup(pageTree.text, features=\"lxml\")"
   ]
  },
  {
   "cell_type": "code",
   "execution_count": 155,
   "metadata": {},
   "outputs": [
    {
     "data": {
      "text/plain": [
       "'table = soup.select(\\'h3\\')\\nval = [x for x in table if \\'Serie A\\' in x.contents[0]]\\nprint(val)\\nvv = soup.findNext(\\'div\\', val)\\n\\ndiv_matches = soup.select_one(\\'h3:contains(\"Serie A\") ~ div\\')\\nlinks = div_matches.find_all(\\'a\\', href=True)\\nlinks = [link[\\'href\\'] for link in links if \\'serieapredictions\\' in link[\\'href\\']]\\n'"
      ]
     },
     "execution_count": 155,
     "metadata": {},
     "output_type": "execute_result"
    }
   ],
   "source": [
    "\"\"\"table = soup.select('h3')\n",
    "val = [x for x in table if 'Serie A' in x.contents[0]]\n",
    "print(val)\n",
    "vv = soup.findNext('div', val)\n",
    "\n",
    "div_matches = soup.select_one('h3:contains(\"Serie A\") ~ div')\n",
    "links = div_matches.find_all('a', href=True)\n",
    "links = [link['href'] for link in links if 'serieapredictions' in link['href']]\n",
    "\"\"\"\n"
   ]
  },
  {
   "cell_type": "markdown",
   "metadata": {},
   "source": [
    "Ho notato che i link relativi alle news contengono la parola serieapredictions, quindi ottengo tutti i link e poi filtro per quelli contenente la parola"
   ]
  },
  {
   "cell_type": "code",
   "execution_count": 156,
   "metadata": {},
   "outputs": [
    {
     "data": {
      "text/plain": [
       "['https://footballpredictions.com/footballpredictions/serieapredictions/inter-vs-genoa-prediction-3/',\n",
       " 'https://footballpredictions.com/footballpredictions/serieapredictions/verona-vs-sassuolo-prediction-3/',\n",
       " 'https://footballpredictions.com/footballpredictions/serieapredictions/empoli-vs-lazio-prediction/',\n",
       " 'https://footballpredictions.com/footballpredictions/serieapredictions/torino-vs-atalanta-prediction-3/']"
      ]
     },
     "execution_count": 156,
     "metadata": {},
     "output_type": "execute_result"
    }
   ],
   "source": [
    "links = soup.find_all('a', href=True)\n",
    "links = [link['href'] for link in links if 'serieapredictions' in link['href']]\n",
    "mylist = list(dict.fromkeys(links))\n",
    "mylist.pop(0)\n",
    "mylist"
   ]
  }
 ],
 "metadata": {
  "kernelspec": {
   "display_name": "Python 3.8.8 ('base')",
   "language": "python",
   "name": "python3"
  },
  "language_info": {
   "codemirror_mode": {
    "name": "ipython",
    "version": 3
   },
   "file_extension": ".py",
   "mimetype": "text/x-python",
   "name": "python",
   "nbconvert_exporter": "python",
   "pygments_lexer": "ipython3",
   "version": "3.8.8"
  },
  "orig_nbformat": 4,
  "vscode": {
   "interpreter": {
    "hash": "b51fba03621ea2707aa24f127a4f74542be1adffaa0a8f5a15c5b0606de1417a"
   }
  }
 },
 "nbformat": 4,
 "nbformat_minor": 2
}
