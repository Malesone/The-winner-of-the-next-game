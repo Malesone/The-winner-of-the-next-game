{
 "cells": [
  {
   "cell_type": "markdown",
   "metadata": {},
   "source": [
    "# Ottenimento link news\n",
    "\n",
    "Questo script si pone come obiettivo quello di recuperare brevi descrizioni dal sito https://footballpredictions.com/ pubblicati prima di ciascun match.\n",
    "Andiamo a recuperare i dati relativi ad ogni partita andando a cercare nel link il giorno relativo alla partita. "
   ]
  },
  {
   "cell_type": "code",
   "execution_count": 1,
   "metadata": {},
   "outputs": [],
   "source": [
    "import pandas as pd\n",
    "from datetime import datetime, timedelta"
   ]
  },
  {
   "cell_type": "code",
   "execution_count": 2,
   "metadata": {},
   "outputs": [],
   "source": [
    "page = 'https://footballpredictions.com/footballpredictions/?date='\n",
    "format_date = '%d-%m-%Y'"
   ]
  },
  {
   "cell_type": "markdown",
   "metadata": {},
   "source": [
    "Idee da implementare.\n",
    "Raggruppamento per data: \n",
    "* raggruppare le partite per la data, in modo tale da cercare una sola volta il link relativo alle partite che si svolgono in quella data e non comporre tanti link quante le partite\n",
    "* la seconda è recuperare tutte le date e poi nell'array fare un select distinct (remove duplicates)\n",
    "\n",
    "Una volta ottenuti i link andare a cercare nella pagina tutti i link sotto al div relativo alla Serie A"
   ]
  },
  {
   "cell_type": "code",
   "execution_count": 3,
   "metadata": {},
   "outputs": [],
   "source": [
    "matches = pd.read_csv('matches.csv', index_col=0)[['h_team', 'a_team', 'date']]"
   ]
  },
  {
   "cell_type": "code",
   "execution_count": 12,
   "metadata": {},
   "outputs": [
    {
     "data": {
      "text/plain": [
       "{'2021-08-21': 'https://footballpredictions.com/footballpredictions/?date=21-08-2021',\n",
       " '2021-08-22': 'https://footballpredictions.com/footballpredictions/?date=22-08-2021',\n",
       " '2021-08-23': 'https://footballpredictions.com/footballpredictions/?date=23-08-2021',\n",
       " '2021-08-27': 'https://footballpredictions.com/footballpredictions/?date=27-08-2021',\n",
       " '2021-08-28': 'https://footballpredictions.com/footballpredictions/?date=28-08-2021',\n",
       " '2021-08-29': 'https://footballpredictions.com/footballpredictions/?date=29-08-2021',\n",
       " '2021-09-11': 'https://footballpredictions.com/footballpredictions/?date=11-09-2021',\n",
       " '2021-09-12': 'https://footballpredictions.com/footballpredictions/?date=12-09-2021',\n",
       " '2021-09-13': 'https://footballpredictions.com/footballpredictions/?date=13-09-2021',\n",
       " '2021-09-17': 'https://footballpredictions.com/footballpredictions/?date=17-09-2021',\n",
       " '2021-09-18': 'https://footballpredictions.com/footballpredictions/?date=18-09-2021',\n",
       " '2021-09-19': 'https://footballpredictions.com/footballpredictions/?date=19-09-2021',\n",
       " '2021-09-20': 'https://footballpredictions.com/footballpredictions/?date=20-09-2021',\n",
       " '2021-09-21': 'https://footballpredictions.com/footballpredictions/?date=21-09-2021',\n",
       " '2021-09-22': 'https://footballpredictions.com/footballpredictions/?date=22-09-2021',\n",
       " '2021-09-23': 'https://footballpredictions.com/footballpredictions/?date=23-09-2021',\n",
       " '2021-09-25': 'https://footballpredictions.com/footballpredictions/?date=25-09-2021',\n",
       " '2021-09-26': 'https://footballpredictions.com/footballpredictions/?date=26-09-2021',\n",
       " '2021-09-27': 'https://footballpredictions.com/footballpredictions/?date=27-09-2021',\n",
       " '2021-10-01': 'https://footballpredictions.com/footballpredictions/?date=01-10-2021',\n",
       " '2021-10-02': 'https://footballpredictions.com/footballpredictions/?date=02-10-2021',\n",
       " '2021-10-03': 'https://footballpredictions.com/footballpredictions/?date=03-10-2021',\n",
       " '2021-10-16': 'https://footballpredictions.com/footballpredictions/?date=16-10-2021',\n",
       " '2021-10-17': 'https://footballpredictions.com/footballpredictions/?date=17-10-2021',\n",
       " '2021-10-18': 'https://footballpredictions.com/footballpredictions/?date=18-10-2021',\n",
       " '2021-10-22': 'https://footballpredictions.com/footballpredictions/?date=22-10-2021',\n",
       " '2021-10-23': 'https://footballpredictions.com/footballpredictions/?date=23-10-2021',\n",
       " '2021-10-24': 'https://footballpredictions.com/footballpredictions/?date=24-10-2021',\n",
       " '2021-10-26': 'https://footballpredictions.com/footballpredictions/?date=26-10-2021',\n",
       " '2021-10-27': 'https://footballpredictions.com/footballpredictions/?date=27-10-2021',\n",
       " '2021-10-28': 'https://footballpredictions.com/footballpredictions/?date=28-10-2021',\n",
       " '2021-10-30': 'https://footballpredictions.com/footballpredictions/?date=30-10-2021',\n",
       " '2021-10-31': 'https://footballpredictions.com/footballpredictions/?date=31-10-2021',\n",
       " '2021-11-01': 'https://footballpredictions.com/footballpredictions/?date=01-11-2021',\n",
       " '2021-11-05': 'https://footballpredictions.com/footballpredictions/?date=05-11-2021',\n",
       " '2021-11-06': 'https://footballpredictions.com/footballpredictions/?date=06-11-2021',\n",
       " '2021-11-07': 'https://footballpredictions.com/footballpredictions/?date=07-11-2021',\n",
       " '2021-11-20': 'https://footballpredictions.com/footballpredictions/?date=20-11-2021',\n",
       " '2021-11-21': 'https://footballpredictions.com/footballpredictions/?date=21-11-2021',\n",
       " '2021-11-22': 'https://footballpredictions.com/footballpredictions/?date=22-11-2021',\n",
       " '2021-11-26': 'https://footballpredictions.com/footballpredictions/?date=26-11-2021',\n",
       " '2021-11-27': 'https://footballpredictions.com/footballpredictions/?date=27-11-2021',\n",
       " '2021-11-28': 'https://footballpredictions.com/footballpredictions/?date=28-11-2021',\n",
       " '2021-11-30': 'https://footballpredictions.com/footballpredictions/?date=30-11-2021',\n",
       " '2021-12-01': 'https://footballpredictions.com/footballpredictions/?date=01-12-2021',\n",
       " '2021-12-02': 'https://footballpredictions.com/footballpredictions/?date=02-12-2021',\n",
       " '2021-12-04': 'https://footballpredictions.com/footballpredictions/?date=04-12-2021',\n",
       " '2021-12-05': 'https://footballpredictions.com/footballpredictions/?date=05-12-2021',\n",
       " '2021-12-06': 'https://footballpredictions.com/footballpredictions/?date=06-12-2021',\n",
       " '2021-12-10': 'https://footballpredictions.com/footballpredictions/?date=10-12-2021',\n",
       " '2021-12-11': 'https://footballpredictions.com/footballpredictions/?date=11-12-2021',\n",
       " '2021-12-12': 'https://footballpredictions.com/footballpredictions/?date=12-12-2021',\n",
       " '2021-12-13': 'https://footballpredictions.com/footballpredictions/?date=13-12-2021',\n",
       " '2021-12-17': 'https://footballpredictions.com/footballpredictions/?date=17-12-2021',\n",
       " '2021-12-18': 'https://footballpredictions.com/footballpredictions/?date=18-12-2021',\n",
       " '2021-12-19': 'https://footballpredictions.com/footballpredictions/?date=19-12-2021',\n",
       " '2021-12-21': 'https://footballpredictions.com/footballpredictions/?date=21-12-2021',\n",
       " '2021-12-22': 'https://footballpredictions.com/footballpredictions/?date=22-12-2021',\n",
       " '2022-01-06': 'https://footballpredictions.com/footballpredictions/?date=06-01-2022',\n",
       " '2022-01-09': 'https://footballpredictions.com/footballpredictions/?date=09-01-2022',\n",
       " '2022-01-10': 'https://footballpredictions.com/footballpredictions/?date=10-01-2022',\n",
       " '2022-01-11': 'https://footballpredictions.com/footballpredictions/?date=11-01-2022',\n",
       " '2022-01-15': 'https://footballpredictions.com/footballpredictions/?date=15-01-2022',\n",
       " '2022-01-16': 'https://footballpredictions.com/footballpredictions/?date=16-01-2022',\n",
       " '2022-01-17': 'https://footballpredictions.com/footballpredictions/?date=17-01-2022',\n",
       " '2022-01-21': 'https://footballpredictions.com/footballpredictions/?date=21-01-2022',\n",
       " '2022-01-22': 'https://footballpredictions.com/footballpredictions/?date=22-01-2022',\n",
       " '2022-01-23': 'https://footballpredictions.com/footballpredictions/?date=23-01-2022',\n",
       " '2022-02-05': 'https://footballpredictions.com/footballpredictions/?date=05-02-2022',\n",
       " '2022-02-06': 'https://footballpredictions.com/footballpredictions/?date=06-02-2022',\n",
       " '2022-02-07': 'https://footballpredictions.com/footballpredictions/?date=07-02-2022',\n",
       " '2022-02-12': 'https://footballpredictions.com/footballpredictions/?date=12-02-2022',\n",
       " '2022-02-13': 'https://footballpredictions.com/footballpredictions/?date=13-02-2022',\n",
       " '2022-02-14': 'https://footballpredictions.com/footballpredictions/?date=14-02-2022',\n",
       " '2022-02-18': 'https://footballpredictions.com/footballpredictions/?date=18-02-2022',\n",
       " '2022-02-19': 'https://footballpredictions.com/footballpredictions/?date=19-02-2022',\n",
       " '2022-02-20': 'https://footballpredictions.com/footballpredictions/?date=20-02-2022',\n",
       " '2022-02-21': 'https://footballpredictions.com/footballpredictions/?date=21-02-2022',\n",
       " '2022-02-25': 'https://footballpredictions.com/footballpredictions/?date=25-02-2022',\n",
       " '2022-02-26': 'https://footballpredictions.com/footballpredictions/?date=26-02-2022',\n",
       " '2022-02-27': 'https://footballpredictions.com/footballpredictions/?date=27-02-2022',\n",
       " '2022-02-28': 'https://footballpredictions.com/footballpredictions/?date=28-02-2022',\n",
       " '2022-03-04': 'https://footballpredictions.com/footballpredictions/?date=04-03-2022',\n",
       " '2022-03-05': 'https://footballpredictions.com/footballpredictions/?date=05-03-2022',\n",
       " '2022-03-06': 'https://footballpredictions.com/footballpredictions/?date=06-03-2022',\n",
       " '2022-03-12': 'https://footballpredictions.com/footballpredictions/?date=12-03-2022',\n",
       " '2022-03-13': 'https://footballpredictions.com/footballpredictions/?date=13-03-2022',\n",
       " '2022-03-14': 'https://footballpredictions.com/footballpredictions/?date=14-03-2022',\n",
       " '2022-03-18': 'https://footballpredictions.com/footballpredictions/?date=18-03-2022',\n",
       " '2022-03-19': 'https://footballpredictions.com/footballpredictions/?date=19-03-2022',\n",
       " '2022-03-20': 'https://footballpredictions.com/footballpredictions/?date=20-03-2022',\n",
       " '2022-04-02': 'https://footballpredictions.com/footballpredictions/?date=02-04-2022',\n",
       " '2022-04-03': 'https://footballpredictions.com/footballpredictions/?date=03-04-2022',\n",
       " '2022-04-04': 'https://footballpredictions.com/footballpredictions/?date=04-04-2022',\n",
       " '2022-04-09': 'https://footballpredictions.com/footballpredictions/?date=09-04-2022',\n",
       " '2022-04-10': 'https://footballpredictions.com/footballpredictions/?date=10-04-2022',\n",
       " '2022-04-11': 'https://footballpredictions.com/footballpredictions/?date=11-04-2022',\n",
       " '2022-04-15': 'https://footballpredictions.com/footballpredictions/?date=15-04-2022',\n",
       " '2022-04-16': 'https://footballpredictions.com/footballpredictions/?date=16-04-2022',\n",
       " '2022-04-18': 'https://footballpredictions.com/footballpredictions/?date=18-04-2022',\n",
       " '2022-04-20': 'https://footballpredictions.com/footballpredictions/?date=20-04-2022',\n",
       " '2022-04-23': 'https://footballpredictions.com/footballpredictions/?date=23-04-2022',\n",
       " '2022-04-24': 'https://footballpredictions.com/footballpredictions/?date=24-04-2022',\n",
       " '2022-04-25': 'https://footballpredictions.com/footballpredictions/?date=25-04-2022',\n",
       " '2022-04-27': 'https://footballpredictions.com/footballpredictions/?date=27-04-2022',\n",
       " '2022-04-30': 'https://footballpredictions.com/footballpredictions/?date=30-04-2022',\n",
       " '2022-05-01': 'https://footballpredictions.com/footballpredictions/?date=01-05-2022',\n",
       " '2022-05-02': 'https://footballpredictions.com/footballpredictions/?date=02-05-2022',\n",
       " '2022-05-05': 'https://footballpredictions.com/footballpredictions/?date=05-05-2022',\n",
       " '2022-05-06': 'https://footballpredictions.com/footballpredictions/?date=06-05-2022',\n",
       " '2022-05-07': 'https://footballpredictions.com/footballpredictions/?date=07-05-2022',\n",
       " '2022-05-08': 'https://footballpredictions.com/footballpredictions/?date=08-05-2022',\n",
       " '2022-05-09': 'https://footballpredictions.com/footballpredictions/?date=09-05-2022',\n",
       " '2022-05-14': 'https://footballpredictions.com/footballpredictions/?date=14-05-2022',\n",
       " '2022-05-15': 'https://footballpredictions.com/footballpredictions/?date=15-05-2022',\n",
       " '2022-05-16': 'https://footballpredictions.com/footballpredictions/?date=16-05-2022',\n",
       " '2022-05-20': 'https://footballpredictions.com/footballpredictions/?date=20-05-2022',\n",
       " '2022-05-21': 'https://footballpredictions.com/footballpredictions/?date=21-05-2022',\n",
       " '2022-05-22': 'https://footballpredictions.com/footballpredictions/?date=22-05-2022'}"
      ]
     },
     "execution_count": 12,
     "metadata": {},
     "output_type": "execute_result"
    }
   ],
   "source": [
    "match_dates = matches[['date']]\n",
    "\n",
    "urls = {}\n",
    "for i, date in match_dates.iterrows():\n",
    "    page = 'https://footballpredictions.com/footballpredictions/?date='\n",
    "    string_data=date.iloc[0]\n",
    "    converted_data = pd.to_datetime(string_data, format='%Y-%m-%d', errors='coerce').date()\n",
    "    link_data = converted_data.strftime(format_date)\n",
    "    page += link_data\n",
    "    urls[str(converted_data)] = page\n"
   ]
  },
  {
   "cell_type": "markdown",
   "metadata": {},
   "source": [
    "Ricerca sulla pagina footballpredictions.com"
   ]
  },
  {
   "cell_type": "code",
   "execution_count": 9,
   "metadata": {},
   "outputs": [],
   "source": [
    "import requests\n",
    "from bs4 import BeautifulSoup\n",
    "\n",
    "headers = {'User-Agent': \n",
    "                'Mozilla/5.0 (X11; Linux x86_64) AppleWebKit/537.36 (KHTML, like Gecko) Chrome/47.0.2526.106 Safari/537.36'}"
   ]
  },
  {
   "cell_type": "markdown",
   "metadata": {},
   "source": [
    "Ho notato che i link relativi alle news contengono la parola serieapredictions, quindi ottengo tutti i link e poi filtro per quelli contenente la parola"
   ]
  },
  {
   "cell_type": "markdown",
   "metadata": {},
   "source": [
    "Quello che vado a fare è creare un dizionario dove come chiave ho la data del match, mentre come valore ho un array di link che portano a pagine contenenti le news e predizioni delle squadre coinvolte nel match. "
   ]
  },
  {
   "cell_type": "code",
   "execution_count": 10,
   "metadata": {},
   "outputs": [
    {
     "name": "stderr",
     "output_type": "stream",
     "text": [
      "100%|██████████| 119/119 [05:22<00:00,  2.71s/it]\n"
     ]
    }
   ],
   "source": [
    "from tqdm import tqdm\n",
    "\n",
    "links_of_pages_by_date = {}\n",
    "for key, link_page in tqdm(urls.items()):\n",
    "    pageTree = requests.get(link_page)\n",
    "    soup = BeautifulSoup(pageTree.text, features=\"lxml\")\n",
    "    links = soup.find_all('a', href=True)\n",
    "    links = [link['href'] for link in links if 'serieapredictions' in link['href']]\n",
    "    cleaned_links = list(dict.fromkeys(links))\n",
    "    cleaned_links.pop(0)\n",
    "    links_of_pages_by_date[key] = cleaned_links"
   ]
  },
  {
   "cell_type": "markdown",
   "metadata": {},
   "source": [
    "Salvataggio del dizionario su file json. In questo modo la prossima volta lo leggo senza andare a fare scraping per riottenere i link"
   ]
  },
  {
   "cell_type": "code",
   "execution_count": 11,
   "metadata": {},
   "outputs": [],
   "source": [
    "import json\n",
    "with open(\"keyDat_valueLinks.json\", \"w\") as fp:\n",
    "    json.dump(links_of_pages_by_date,fp, indent=4) \n"
   ]
  }
 ],
 "metadata": {
  "kernelspec": {
   "display_name": "Python 3.8.8 ('base')",
   "language": "python",
   "name": "python3"
  },
  "language_info": {
   "codemirror_mode": {
    "name": "ipython",
    "version": 3
   },
   "file_extension": ".py",
   "mimetype": "text/x-python",
   "name": "python",
   "nbconvert_exporter": "python",
   "pygments_lexer": "ipython3",
   "version": "3.8.8"
  },
  "orig_nbformat": 4,
  "vscode": {
   "interpreter": {
    "hash": "b51fba03621ea2707aa24f127a4f74542be1adffaa0a8f5a15c5b0606de1417a"
   }
  }
 },
 "nbformat": 4,
 "nbformat_minor": 2
}
