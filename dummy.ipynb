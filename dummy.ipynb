{
 "cells": [
  {
   "cell_type": "code",
   "execution_count": 2,
   "metadata": {},
   "outputs": [],
   "source": [
    "import pandas as pd"
   ]
  },
  {
   "cell_type": "code",
   "execution_count": 3,
   "metadata": {},
   "outputs": [],
   "source": [
    "dataset = pd.read_csv(\"merged_matches.csv\", index_col=0)"
   ]
  },
  {
   "cell_type": "code",
   "execution_count": 28,
   "metadata": {},
   "outputs": [
    {
     "data": {
      "text/plain": [
       "Index(['h_goals', 'a_goals', 'h_total_shots', 'h_shots_on_target',\n",
       "       'h_goals_on_penalty', 'h_total_penalties', 'h_completed_passings',\n",
       "       'h_total_passings', 'h_corners', 'h_percentage_possession', 'h_fouls',\n",
       "       'h_yellow_cards', 'h_red_cards', 'a_total_shots', 'a_shots_on_target',\n",
       "       'a_goals_on_penalty', 'a_total_penalties', 'a_corners',\n",
       "       'a_yellow_cards', 'a_red_cards', 'a_fouls', 'a_completed_passings',\n",
       "       'a_total_passings', 'a_percentage_possession', 'h_Atalanta',\n",
       "       'h_Bologna', 'h_Cagliari', 'h_Empoli', 'h_Fiorentina', 'h_Genoa',\n",
       "       'h_Hellas Verona', 'h_Inter', 'h_Juventus', 'h_Lazio', 'h_Milan',\n",
       "       'h_Napoli', 'h_Roma', 'h_Salernitana', 'h_Sampdoria', 'h_Sassuolo',\n",
       "       'h_Spezia', 'h_Torino', 'h_Udinese', 'h_Venezia', 'Risultato_N',\n",
       "       'Risultato_P', 'Risultato_V', 'a_Atalanta', 'a_Bologna', 'a_Cagliari',\n",
       "       'a_Empoli', 'a_Fiorentina', 'a_Genoa', 'a_Hellas Verona', 'a_Inter',\n",
       "       'a_Juventus', 'a_Lazio', 'a_Milan', 'a_Napoli', 'a_Roma',\n",
       "       'a_Salernitana', 'a_Sampdoria', 'a_Sassuolo', 'a_Spezia', 'a_Torino',\n",
       "       'a_Udinese', 'a_Venezia'],\n",
       "      dtype='object')"
      ]
     },
     "execution_count": 28,
     "metadata": {},
     "output_type": "execute_result"
    }
   ],
   "source": [
    "teams = dataset['h_team']\n",
    "teams = teams.drop_duplicates().values\n",
    "teams.sort()\n",
    "\n",
    "match = dataset\n",
    "\n",
    "match = match.rename(columns={\"h_team\": \"h\", \"a_team\": \"a\"})\n",
    "cc = pd.get_dummies(match, prefix=teams.sort()) \n",
    "\n",
    "cc.to_csv(\"dummy.csv\")"
   ]
  }
 ],
 "metadata": {
  "kernelspec": {
   "display_name": "Python 3.8.8 ('base')",
   "language": "python",
   "name": "python3"
  },
  "language_info": {
   "codemirror_mode": {
    "name": "ipython",
    "version": 3
   },
   "file_extension": ".py",
   "mimetype": "text/x-python",
   "name": "python",
   "nbconvert_exporter": "python",
   "pygments_lexer": "ipython3",
   "version": "3.8.8"
  },
  "orig_nbformat": 4,
  "vscode": {
   "interpreter": {
    "hash": "b51fba03621ea2707aa24f127a4f74542be1adffaa0a8f5a15c5b0606de1417a"
   }
  }
 },
 "nbformat": 4,
 "nbformat_minor": 2
}
