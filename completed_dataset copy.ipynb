{
 "cells": [
  {
   "cell_type": "markdown",
   "metadata": {},
   "source": [
    "# Merge statistiche e predizioni\n",
    "Questo dataset contiene tutti i dati relativi alla differenza delle medie (degli ultimi 5 match) delle due squadre e le predizioni (il testo descrittivo) di football prediction con anche l'etichetta di predizione."
   ]
  },
  {
   "cell_type": "code",
   "execution_count": 2,
   "metadata": {},
   "outputs": [],
   "source": [
    "from football_predictions import FootballPredictions\n",
    "import pandas as pd\n",
    "import numpy as np\n",
    "import util_strings as utils"
   ]
  },
  {
   "cell_type": "code",
   "execution_count": 3,
   "metadata": {},
   "outputs": [],
   "source": [
    "matches = pd.read_csv(utils.dataset_without_text, index_col=0)\n",
    "matches['date'] = pd.to_datetime(matches['date'], format='%Y-%m-%d') \n",
    "\n",
    "ta = FootballPredictions(matches)\n",
    "ta.read_cleaned_predictions(utils.cleaned_matches_description)"
   ]
  },
  {
   "cell_type": "code",
   "execution_count": 18,
   "metadata": {},
   "outputs": [
    {
     "data": {
      "text/plain": [
       "52     2019-09-14\n",
       "73     2019-09-16\n",
       "82     2019-09-21\n",
       "153    2019-10-05\n",
       "237    2019-10-30\n",
       "452    2020-01-11\n",
       "238    2020-10-03\n",
       "985    2020-12-16\n",
       "154    2020-12-16\n",
       "453    2020-12-20\n",
       "83     2021-02-21\n",
       "1037   2021-03-02\n",
       "53     2021-04-25\n",
       "1118   2021-10-23\n",
       "84     2021-11-07\n",
       "986    2021-11-28\n",
       "454    2022-02-27\n",
       "1038   2022-03-06\n",
       "239    2022-03-13\n",
       "155    2022-04-23\n",
       "54     2022-05-21\n",
       "1039   2022-08-31\n",
       "455    2022-09-03\n",
       "85     2022-09-03\n",
       "55     2022-09-03\n",
       "987    2022-09-04\n",
       "156    2022-09-04\n",
       "240    2022-09-04\n",
       "1223   2022-09-04\n",
       "74     2022-09-05\n",
       "1224   2022-09-05\n",
       "1119   2022-09-05\n",
       "Name: date, dtype: datetime64[ns]"
      ]
     },
     "execution_count": 18,
     "metadata": {},
     "output_type": "execute_result"
    }
   ],
   "source": [
    "ta.read_urls(utils.json_link_matches)\n",
    "ta.df[ta.df.prediction == 'NAN'].date\n",
    "    "
   ]
  },
  {
   "cell_type": "markdown",
   "metadata": {},
   "source": [
    "Dato che alcune squadre potrebbero non combaciare (upper o lower case), trasformo il testo tutto in lower"
   ]
  },
  {
   "cell_type": "code",
   "execution_count": 3,
   "metadata": {},
   "outputs": [],
   "source": [
    "matches['home'] = matches['home'].str.lower()\n",
    "matches['away'] = matches['away'].str.lower()\n",
    "ta.df['home'] = ta.df['home'].str.lower()\n",
    "ta.df['away'] = ta.df['away'].str.lower()\n",
    "\n",
    "dataset = pd.merge(matches, ta.df[['home', 'away', 'date', 'description', 'prediction']], on=['home', 'away', 'date'])"
   ]
  },
  {
   "cell_type": "code",
   "execution_count": 4,
   "metadata": {},
   "outputs": [],
   "source": [
    "dataset.to_csv(utils.completed_dataset)"
   ]
  }
 ],
 "metadata": {
  "kernelspec": {
   "display_name": "Python 3.8.8 ('base')",
   "language": "python",
   "name": "python3"
  },
  "language_info": {
   "codemirror_mode": {
    "name": "ipython",
    "version": 3
   },
   "file_extension": ".py",
   "mimetype": "text/x-python",
   "name": "python",
   "nbconvert_exporter": "python",
   "pygments_lexer": "ipython3",
   "version": "3.8.8"
  },
  "orig_nbformat": 4,
  "vscode": {
   "interpreter": {
    "hash": "b51fba03621ea2707aa24f127a4f74542be1adffaa0a8f5a15c5b0606de1417a"
   }
  }
 },
 "nbformat": 4,
 "nbformat_minor": 2
}
