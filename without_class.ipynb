{
 "cells": [
  {
   "cell_type": "code",
   "execution_count": 2,
   "metadata": {},
   "outputs": [],
   "source": [
    "import requests\n",
    "from bs4 import BeautifulSoup\n",
    "import pandas as pd\n",
    "import os\n",
    "import pathlib"
   ]
  },
  {
   "cell_type": "markdown",
   "metadata": {},
   "source": [
    "# Estrazione dati SERIE A stagione 2021-2022"
   ]
  },
  {
   "cell_type": "code",
   "execution_count": 3,
   "metadata": {},
   "outputs": [],
   "source": [
    "headers = {'User-Agent': \n",
    "                'Mozilla/5.0 (X11; Linux x86_64) AppleWebKit/537.36 (KHTML, like Gecko) Chrome/47.0.2526.106 Safari/537.36'}\n",
    "\n",
    "page = \"https://fbref.com/it/comp/11/2021-2022/Statistiche-di-Serie-A-2021-2022\"\n",
    "pageTree = requests.get(page)\n",
    "soup = BeautifulSoup(pageTree.text, features=\"lxml\")"
   ]
  },
  {
   "cell_type": "code",
   "execution_count": 4,
   "metadata": {},
   "outputs": [],
   "source": [
    "table = soup.select('table.stats_table')[0]\n",
    "a_hrefs = table.find_all('a')"
   ]
  },
  {
   "cell_type": "markdown",
   "metadata": {},
   "source": [
    "## Estrazione per una squadra"
   ]
  },
  {
   "cell_type": "markdown",
   "metadata": {},
   "source": [
    "### Partite di serie A, estrazione match"
   ]
  },
  {
   "cell_type": "code",
   "execution_count": 14,
   "metadata": {},
   "outputs": [],
   "source": [
    "teams = [a_href for a_href in a_hrefs if '/squadre/' in str(a_href)]        \n",
    "#for team in teams:\n",
    "teams.sort(key=lambda x: x.contents[0]) #ordinamento per titolo\n",
    "\n",
    "team = teams[0]\n",
    "link = f\"https://fbref.com{team.get('href')}\"\n",
    "data = requests.get(link)\n",
    "match = pd.read_html(data.text, match=\"Punteggi e partite\")[0]\n",
    "matches_team = match[match['Competizione'] == 'Serie A']"
   ]
  },
  {
   "cell_type": "markdown",
   "metadata": {},
   "source": [
    "### Estrazione tiri"
   ]
  },
  {
   "cell_type": "code",
   "execution_count": 15,
   "metadata": {},
   "outputs": [],
   "source": [
    "soup = BeautifulSoup(data.text, features=\"lxml\")\n",
    "links = soup.find_all('a')\n",
    "\n",
    "links = [l.get(\"href\") for l in links]\n",
    "links = [l for l in links if l and 'all_comps/shooting/' in l]\n",
    "\n",
    "data = requests.get(f\"https://fbref.com{links[0]}\")\n",
    "\n",
    "shot = pd.read_html(data.text, match=\"Tiri\")[0]\n",
    "\n",
    "shot.columns = shot.columns.droplevel()\n",
    "shots_team = shot[shot['Competizione'] == 'Serie A']"
   ]
  },
  {
   "cell_type": "code",
   "execution_count": null,
   "metadata": {},
   "outputs": [],
   "source": [
    "matches_team.head(2)"
   ]
  },
  {
   "cell_type": "code",
   "execution_count": null,
   "metadata": {},
   "outputs": [],
   "source": [
    "shots_team.head(2)"
   ]
  },
  {
   "cell_type": "code",
   "execution_count": null,
   "metadata": {},
   "outputs": [],
   "source": [
    "dataset = pd.merge(matches_team, shots_team, on = [\"Data\", \"Ora\", \"Competizione\", \"Girone\", \"Giorno\", \"Stadio\", \"Risultato\", \"Rf\", \"Rs\", \"Avversario\", \"xG\", \"Report partita\"])\n",
    "\n",
    "dataset.to_csv(\"Season21_22/merge_stats_shots/\"+team.contents[0]+\".csv\")\n",
    "dataset.head()"
   ]
  },
  {
   "cell_type": "markdown",
   "metadata": {},
   "source": [
    "## Estrazione dati per tutte le squadre"
   ]
  },
  {
   "cell_type": "code",
   "execution_count": 5,
   "metadata": {},
   "outputs": [],
   "source": [
    "teams = [a_href for a_href in a_hrefs if '/squadre/' in str(a_href)]        \n",
    "#for team in teams:\n",
    "teams.sort(key=lambda x: x.contents[0]) #ordinamento per titolo\n",
    "\n",
    "all_matches = []\n",
    "\n",
    "for team in teams:\n",
    "    team_name = team.contents[0]\n",
    "    link = f\"https://fbref.com{team.get('href')}\"\n",
    "    data = requests.get(link)\n",
    "    match = pd.read_html(data.text, match=\"Punteggi e partite\")[0]\n",
    "    matches_team = match[match['Competizione'] == 'Serie A']\n",
    "    \n",
    "    soup = BeautifulSoup(data.text, features=\"lxml\")\n",
    "    links = soup.find_all('a')\n",
    "\n",
    "    links = [l.get(\"href\") for l in links]\n",
    "    links = [l for l in links if l and 'all_comps/shooting/' in l]\n",
    "\n",
    "    data = requests.get(f\"https://fbref.com{links[0]}\")\n",
    "\n",
    "    shot = pd.read_html(data.text, match=\"Tiri\")[0]\n",
    "\n",
    "    shot.columns = shot.columns.droplevel()\n",
    "    shots_team = shot[shot['Competizione'] == 'Serie A']\n",
    "    \n",
    "    merged_dataset = pd.merge(matches_team, shots_team, on = [\"Data\", \"Ora\", \"Competizione\", \"Girone\", \"Giorno\", \"Stadio\", \"Risultato\", \"Rf\", \"Rs\", \"Avversario\", \"xG\", \"Report partita\"])\n",
    "    merged_dataset['Team'] = team_name\n",
    "\n",
    "    all_matches.append(merged_dataset)\n",
    "    \n",
    "match_df = pd.concat(all_matches)"
   ]
  },
  {
   "cell_type": "code",
   "execution_count": 6,
   "metadata": {},
   "outputs": [],
   "source": [
    "match_df.columns = [c.lower() for c in match_df.columns]\n",
    "match_df.to_csv(\"Season21_22/merge_stats_shots/all_matches.csv\")"
   ]
  },
  {
   "cell_type": "code",
   "execution_count": null,
   "metadata": {},
   "outputs": [],
   "source": [
    "match_df"
   ]
  },
  {
   "cell_type": "markdown",
   "metadata": {},
   "source": [
    "## Estrazione giocatori"
   ]
  },
  {
   "cell_type": "code",
   "execution_count": 7,
   "metadata": {},
   "outputs": [],
   "source": [
    "team = teams[0]\n",
    "link = f\"https://fbref.com{team.get('href')}\"\n",
    "data = requests.get(link)\n",
    "players = pd.read_html(data.text, match=\"Statistiche ordinarie\")[0]\n",
    "players.columns = players.columns.droplevel()\n",
    "#players"
   ]
  },
  {
   "cell_type": "markdown",
   "metadata": {},
   "source": [
    "#### Ottengo dati di un singolo giocatore"
   ]
  },
  {
   "cell_type": "code",
   "execution_count": 230,
   "metadata": {},
   "outputs": [],
   "source": [
    "#for team in teams:\n",
    "team = teams[0]\n",
    "team_name = team.contents[0]\n",
    "link = f\"https://fbref.com{team.get('href')}\"\n",
    "data = requests.get(link)\n",
    "soup = BeautifulSoup(data.text, features=\"lxml\")\n",
    "links = soup.find_all('a') \n",
    "links = [l.get(\"href\") for l in links]\n",
    "links = [l for l in links if l and '/calciatori/' and '/summary/' in l]\n",
    "links = list(dict.fromkeys(links)) #elimina duplicati\n",
    "\n",
    "player_link = f\"https://fbref.com{links[0]}\"\n",
    "data = requests.get(player_link)\n",
    "df_single_player = pd.read_html(data.text, match=\"Registro partite\")[0]\n",
    "\n",
    "df_single_player.columns = df_single_player.columns.droplevel()\n",
    "df_single_player_serieA = df_single_player[df_single_player['Competizione']=='Serie A']\n",
    "\n",
    "#recupero il nome del calciatore\n",
    "soup = BeautifulSoup(data.text, features=\"lxml\")\n",
    "player_html_page = soup.select('div.crumbs')[0]\n",
    "name_player = player_html_page.find_all('strong')[0].get_text()\n",
    "\n",
    "df_single_player_serieA.insert(0, 'Calciatore', name_player)\n",
    "df_single_player_serieA.to_csv(name_player+\".csv\")"
   ]
  },
  {
   "cell_type": "markdown",
   "metadata": {},
   "source": [
    "### Ottengo i dati per i calciatori di una singola squadra"
   ]
  },
  {
   "cell_type": "code",
   "execution_count": 8,
   "metadata": {},
   "outputs": [],
   "source": [
    "from tqdm import tqdm"
   ]
  },
  {
   "cell_type": "code",
   "execution_count": 14,
   "metadata": {},
   "outputs": [
    {
     "name": "stderr",
     "output_type": "stream",
     "text": [
      "100%|██████████| 32/32 [00:12<00:00,  2.64it/s]\n",
      "100%|██████████| 36/36 [00:15<00:00,  2.38it/s]\n",
      "100%|██████████| 33/33 [00:38<00:00,  1.17s/it]\n",
      "100%|██████████| 28/28 [01:15<00:00,  2.71s/it]\n",
      "100%|██████████| 28/28 [01:05<00:00,  2.35s/it]\n",
      "100%|██████████| 40/40 [01:22<00:00,  2.06s/it]\n",
      "100%|██████████| 31/31 [00:57<00:00,  1.85s/it]\n",
      "100%|██████████| 27/27 [01:34<00:00,  3.50s/it]\n",
      "100%|██████████| 32/32 [01:37<00:00,  3.04s/it]\n",
      "100%|██████████| 27/27 [01:18<00:00,  2.92s/it]\n",
      "100%|██████████| 28/28 [01:28<00:00,  3.16s/it]\n",
      "100%|██████████| 27/27 [01:08<00:00,  2.54s/it]\n",
      "100%|██████████| 29/29 [01:12<00:00,  2.49s/it]\n",
      "100%|██████████| 42/42 [01:08<00:00,  1.63s/it]\n",
      "100%|██████████| 34/34 [01:02<00:00,  1.83s/it]\n",
      "100%|██████████| 29/29 [00:52<00:00,  1.80s/it]\n",
      "100%|██████████| 30/30 [00:51<00:00,  1.70s/it]\n",
      "100%|██████████| 31/31 [00:57<00:00,  1.85s/it]\n",
      "100%|██████████| 29/29 [00:58<00:00,  2.03s/it]\n",
      "100%|██████████| 39/39 [01:09<00:00,  1.79s/it]\n",
      "100%|██████████| 20/20 [21:26<00:00, 64.30s/it]\n"
     ]
    }
   ],
   "source": [
    "players = []\n",
    "\n",
    "for team in tqdm(teams):\n",
    "    team_name = team.contents[0]\n",
    "    link = f\"https://fbref.com{team.get('href')}\"\n",
    "    data = requests.get(link)\n",
    "    soup = BeautifulSoup(data.text, features=\"lxml\")\n",
    "    links = soup.find_all('a') \n",
    "    links = [l.get(\"href\") for l in links]\n",
    "    links = [l for l in links if l and '/calciatori/' and '/summary/' in l]\n",
    "    links = list(dict.fromkeys(links)) #elimina duplicati\n",
    "    \n",
    "    for link in tqdm(links):\n",
    "        player_link = f\"https://fbref.com{link}\"\n",
    "        data = requests.get(player_link)\n",
    "        df_single_player = pd.read_html(data.text, match=\"Registro partite\")[0]\n",
    "    \n",
    "        df_single_player.columns = df_single_player.columns.droplevel()\n",
    "        df_single_player_team = df_single_player[df_single_player['Competizione']=='Serie A']\n",
    "\n",
    "        #recupero il nome del calciatore\n",
    "        soup = BeautifulSoup(data.text, features=\"lxml\")\n",
    "        player_html_page = soup.select('div.crumbs')[0]\n",
    "        name_player = player_html_page.find_all('strong')[0].get_text()\n",
    "\n",
    "        df_single_player_team.insert(0, 'Calciatore', name_player)\n",
    "        players.append(df_single_player_team)\n",
    "\n",
    "    team_players = pd.concat(players)\n",
    "    team_players.columns = [c.lower() for c in team_players.columns]\n",
    "    team_players.to_csv(\"Season21_22/players/\"+team_name+\".csv\")\n",
    "\n"
   ]
  }
 ],
 "metadata": {
  "kernelspec": {
   "display_name": "Python 3.8.8 ('base')",
   "language": "python",
   "name": "python3"
  },
  "language_info": {
   "codemirror_mode": {
    "name": "ipython",
    "version": 3
   },
   "file_extension": ".py",
   "mimetype": "text/x-python",
   "name": "python",
   "nbconvert_exporter": "python",
   "pygments_lexer": "ipython3",
   "version": "3.8.8"
  },
  "orig_nbformat": 4,
  "vscode": {
   "interpreter": {
    "hash": "b51fba03621ea2707aa24f127a4f74542be1adffaa0a8f5a15c5b0606de1417a"
   }
  }
 },
 "nbformat": 4,
 "nbformat_minor": 2
}
