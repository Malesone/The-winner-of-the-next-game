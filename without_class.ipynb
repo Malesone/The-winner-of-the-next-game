{
 "cells": [
  {
   "cell_type": "code",
   "execution_count": 2,
   "metadata": {},
   "outputs": [],
   "source": [
    "import requests\n",
    "from bs4 import BeautifulSoup\n",
    "import pandas as pd\n",
    "import os\n",
    "import pathlib"
   ]
  },
  {
   "cell_type": "markdown",
   "metadata": {},
   "source": [
    "# Estrazione dati SERIE A stagione 2021-2022"
   ]
  },
  {
   "cell_type": "code",
   "execution_count": 3,
   "metadata": {},
   "outputs": [],
   "source": [
    "headers = {'User-Agent': \n",
    "                'Mozilla/5.0 (X11; Linux x86_64) AppleWebKit/537.36 (KHTML, like Gecko) Chrome/47.0.2526.106 Safari/537.36'}\n",
    "\n",
    "page = \"https://fbref.com/it/comp/11/2021-2022/Statistiche-di-Serie-A-2021-2022\"\n",
    "pageTree = requests.get(page)\n",
    "soup = BeautifulSoup(pageTree.text, features=\"lxml\")"
   ]
  },
  {
   "cell_type": "code",
   "execution_count": 4,
   "metadata": {},
   "outputs": [],
   "source": [
    "table = soup.select('table.stats_table')[0]\n",
    "a_hrefs = table.find_all('a')"
   ]
  },
  {
   "cell_type": "markdown",
   "metadata": {},
   "source": [
    "## Estrazione per una squadra"
   ]
  },
  {
   "cell_type": "markdown",
   "metadata": {},
   "source": [
    "### Partite di serie A, estrazione match"
   ]
  },
  {
   "cell_type": "code",
   "execution_count": 14,
   "metadata": {},
   "outputs": [],
   "source": [
    "teams = [a_href for a_href in a_hrefs if '/squadre/' in str(a_href)]        \n",
    "#for team in teams:\n",
    "teams.sort(key=lambda x: x.contents[0]) #ordinamento per titolo\n",
    "\n",
    "team = teams[0]\n",
    "link = f\"https://fbref.com{team.get('href')}\"\n",
    "data = requests.get(link)\n",
    "match = pd.read_html(data.text, match=\"Punteggi e partite\")[0]\n",
    "matches_team = match[match['Competizione'] == 'Serie A']"
   ]
  },
  {
   "cell_type": "markdown",
   "metadata": {},
   "source": [
    "### Estrazione tiri"
   ]
  },
  {
   "cell_type": "code",
   "execution_count": 15,
   "metadata": {},
   "outputs": [],
   "source": [
    "soup = BeautifulSoup(data.text, features=\"lxml\")\n",
    "links = soup.find_all('a')\n",
    "\n",
    "links = [l.get(\"href\") for l in links]\n",
    "links = [l for l in links if l and 'all_comps/shooting/' in l]\n",
    "\n",
    "data = requests.get(f\"https://fbref.com{links[0]}\")\n",
    "\n",
    "shot = pd.read_html(data.text, match=\"Tiri\")[0]\n",
    "\n",
    "shot.columns = shot.columns.droplevel()\n",
    "shots_team = shot[shot['Competizione'] == 'Serie A']"
   ]
  },
  {
   "cell_type": "code",
   "execution_count": null,
   "metadata": {},
   "outputs": [],
   "source": [
    "matches_team.head(2)"
   ]
  },
  {
   "cell_type": "code",
   "execution_count": null,
   "metadata": {},
   "outputs": [],
   "source": [
    "shots_team.head(2)"
   ]
  },
  {
   "cell_type": "code",
   "execution_count": null,
   "metadata": {},
   "outputs": [],
   "source": [
    "dataset = pd.merge(matches_team, shots_team, on = [\"Data\", \"Ora\", \"Competizione\", \"Girone\", \"Giorno\", \"Stadio\", \"Risultato\", \"Rf\", \"Rs\", \"Avversario\", \"xG\", \"Report partita\"])\n",
    "\n",
    "dataset.to_csv(\"Season21_22/merge_stats_shots/\"+team.contents[0]+\".csv\")\n",
    "dataset.head()"
   ]
  },
  {
   "cell_type": "markdown",
   "metadata": {},
   "source": [
    "## Estrazione dati per tutte le squadre"
   ]
  },
  {
   "cell_type": "code",
   "execution_count": 38,
   "metadata": {},
   "outputs": [],
   "source": [
    "teams = [a_href for a_href in a_hrefs if '/squadre/' in str(a_href)]        \n",
    "#for team in teams:\n",
    "teams.sort(key=lambda x: x.contents[0]) #ordinamento per titolo\n",
    "\n",
    "all_matches = []\n",
    "\n",
    "for team in teams:\n",
    "    team_name = team.contents[0]\n",
    "    link = f\"https://fbref.com{team.get('href')}\"\n",
    "    data = requests.get(link)\n",
    "    match = pd.read_html(data.text, match=\"Punteggi e partite\")[0]\n",
    "    matches_team = match[match['Competizione'] == 'Serie A']\n",
    "    soup = BeautifulSoup(data.text, features=\"lxml\")\n",
    "    links = soup.find_all('a')\n",
    "\n",
    "    links = [l.get(\"href\") for l in links]\n",
    "    links = [l for l in links if l and 'all_comps/shooting/' in l]\n",
    "\n",
    "    data = requests.get(f\"https://fbref.com{links[0]}\")\n",
    "\n",
    "    shot = pd.read_html(data.text, match=\"Tiri\")[0]\n",
    "\n",
    "    shot.columns = shot.columns.droplevel()\n",
    "    shots_team = shot[shot['Competizione'] == 'Serie A']\n",
    "    \n",
    "    merged_dataset = pd.merge(matches_team, shots_team, on = [\"Data\", \"Ora\", \"Competizione\", \"Girone\", \"Giorno\", \"Stadio\", \"Risultato\", \"Rf\", \"Rs\", \"Avversario\", \"xG\", \"Report partita\"])\n",
    "    merged_dataset['Team'] = team_name\n",
    "\n",
    "    all_matches.append(merged_dataset)\n",
    "    \n",
    "match_df = pd.concat(all_matches)"
   ]
  },
  {
   "cell_type": "code",
   "execution_count": null,
   "metadata": {},
   "outputs": [],
   "source": [
    "match_df.columns = [c.lower() for c in match_df.columns]\n",
    "match_df.to_csv(\"Season21_22/merge_stats_shots/all_matches.csv\")"
   ]
  }
 ],
 "metadata": {
  "kernelspec": {
   "display_name": "Python 3.8.8 ('base')",
   "language": "python",
   "name": "python3"
  },
  "language_info": {
   "codemirror_mode": {
    "name": "ipython",
    "version": 3
   },
   "file_extension": ".py",
   "mimetype": "text/x-python",
   "name": "python",
   "nbconvert_exporter": "python",
   "pygments_lexer": "ipython3",
   "version": "3.8.8"
  },
  "orig_nbformat": 4,
  "vscode": {
   "interpreter": {
    "hash": "b51fba03621ea2707aa24f127a4f74542be1adffaa0a8f5a15c5b0606de1417a"
   }
  }
 },
 "nbformat": 4,
 "nbformat_minor": 2
}
