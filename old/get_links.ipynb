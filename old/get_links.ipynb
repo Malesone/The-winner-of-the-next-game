{
 "cells": [
  {
   "cell_type": "code",
   "execution_count": 159,
   "metadata": {},
   "outputs": [],
   "source": [
    "import pandas as pd\n",
    "from datetime import datetime, timedelta\n",
    "dataframe = pd.DataFrame({\n",
    "        'home': ['Inter', 'Empoli', 'Lazio', 'Napoli', 'Sassuolo', 'Lecce', 'Sampdoria', 'Atalanta', 'Juventus', 'Verona'],\n",
    "        'away': ['Roma', 'Milan', 'Spezia', 'Torino', 'Salernitana', 'Cremonese', 'Monza', 'Fiorentina', 'Bologna', 'Udinese'],\n",
    "        'day': ['2022-10-01', '2022-10-01', '2022-10-02', '2022-10-01', '2022-10-02', '2022-10-02', '2022-10-02', '2022-10-02', '2022-10-02', '2022-10-03'],\n",
    "    }\n",
    ")"
   ]
  },
  {
   "cell_type": "code",
   "execution_count": 160,
   "metadata": {},
   "outputs": [],
   "source": [
    "queries = {}\n",
    "for i, v in dataframe.iterrows():\n",
    "    data = pd.to_datetime(v.day, format='%Y-%m-%d', errors='coerce')\n",
    "    limit_day = (data - timedelta(days=1)).date()\n",
    "    query = v.home+' '+v.away+' prediction before:'+str(limit_day) + ' football italia'\n",
    "    queries[v.home + '-' +v.away] = query"
   ]
  },
  {
   "cell_type": "code",
   "execution_count": 161,
   "metadata": {},
   "outputs": [
    {
     "data": {
      "text/plain": [
       "{'Inter-Roma': 'Inter Roma prediction before:2022-09-30 football italia',\n",
       " 'Empoli-Milan': 'Empoli Milan prediction before:2022-09-30 football italia',\n",
       " 'Lazio-Spezia': 'Lazio Spezia prediction before:2022-10-01 football italia',\n",
       " 'Napoli-Torino': 'Napoli Torino prediction before:2022-09-30 football italia',\n",
       " 'Sassuolo-Salernitana': 'Sassuolo Salernitana prediction before:2022-10-01 football italia',\n",
       " 'Lecce-Cremonese': 'Lecce Cremonese prediction before:2022-10-01 football italia',\n",
       " 'Sampdoria-Monza': 'Sampdoria Monza prediction before:2022-10-01 football italia',\n",
       " 'Atalanta-Fiorentina': 'Atalanta Fiorentina prediction before:2022-10-01 football italia',\n",
       " 'Juventus-Bologna': 'Juventus Bologna prediction before:2022-10-01 football italia',\n",
       " 'Verona-Udinese': 'Verona Udinese prediction before:2022-10-02 football italia'}"
      ]
     },
     "execution_count": 161,
     "metadata": {},
     "output_type": "execute_result"
    }
   ],
   "source": [
    "queries"
   ]
  },
  {
   "cell_type": "code",
   "execution_count": 165,
   "metadata": {},
   "outputs": [
    {
     "name": "stdout",
     "output_type": "stream",
     "text": [
      "https://football-italia.net/it/inter-vs-roma-predictions-betting-tips-2/\n",
      "https://football-italia.net/empoli-vs-milan-predictions-betting-tips/\n",
      "https://football-italia.net/spezia-vs-lazio-predictions-betting-tips/\n",
      "https://football-italia.net/torino-vs-napoli-predictions-betting-tips/\n",
      "https://football-italia.net/sassuolo-vs-salernitana-predictions-betting-tips/\n",
      "https://football-italia.net/lecce-vs-cremonese-predictions-betting-tips/\n",
      "https://www.thestatszone.com/football/italian-serie-a/sampdoria-vs-monza-preview-prediction-2022-23-italian-serie-a\n",
      "https://football-italia.net/atalanta-vs-fiorentina-predictions-betting-tips/\n",
      "https://football-italia.net/juventus-vs-bologna-predictions-betting-tips-2/\n",
      "https://football-italia.net/verona-vs-udinese-predictions-betting-tips/\n"
     ]
    }
   ],
   "source": [
    "try:\n",
    "\tfrom googlesearch import search\n",
    "except ImportError:\n",
    "\tprint(\"No module named 'google' found\")\n",
    "\n",
    "links_prediction = {}\n",
    "for key, query in queries.items():\n",
    "\tfor link in search(query, tld=\"co.in\", num=1, stop=1, pause=2):\n",
    "\t\tlinks_prediction[key] = link\n",
    "\t\tprint(link)\n"
   ]
  }
 ],
 "metadata": {
  "kernelspec": {
   "display_name": "Python 3.8.8 ('base')",
   "language": "python",
   "name": "python3"
  },
  "language_info": {
   "codemirror_mode": {
    "name": "ipython",
    "version": 3
   },
   "file_extension": ".py",
   "mimetype": "text/x-python",
   "name": "python",
   "nbconvert_exporter": "python",
   "pygments_lexer": "ipython3",
   "version": "3.8.8"
  },
  "orig_nbformat": 4,
  "vscode": {
   "interpreter": {
    "hash": "b51fba03621ea2707aa24f127a4f74542be1adffaa0a8f5a15c5b0606de1417a"
   }
  }
 },
 "nbformat": 4,
 "nbformat_minor": 2
}
