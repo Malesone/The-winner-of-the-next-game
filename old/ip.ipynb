{
 "cells": [
  {
   "cell_type": "code",
   "execution_count": null,
   "metadata": {},
   "outputs": [],
   "source": [
    "import pandas as pd\n",
    "dataframe = pd.DataFrame({\n",
    "        'home': ['Inter', 'Empoli', 'Lazio', 'Napoli', 'Sassuolo', 'Lecce', 'Sampdoria', 'Atalanta', 'Juventus', 'Verona'],\n",
    "        'away': ['Roma', 'Milan', 'Spezia', 'Torino', 'Salernitana', 'Cremonese', 'Monza', 'Fiorentina', 'Bologna', 'Udinese'],\n",
    "        'day': ['2022-09-31', '2022-09-31', '2022-10-02', '2022-09-31', '2022-10-02', '2022-10-02', '2022-10-02', '2022-10-02', '2022-10-02', '2022-10-03'],\n",
    "    }\n",
    ")"
   ]
  },
  {
   "cell_type": "code",
   "execution_count": null,
   "metadata": {},
   "outputs": [],
   "source": [
    "for id, val in dataframe.iterrows():\n",
    "    print(val.home, val.away)"
   ]
  },
  {
   "cell_type": "code",
   "execution_count": 13,
   "metadata": {},
   "outputs": [
    {
     "name": "stdout",
     "output_type": "stream",
     "text": [
      "Juventus vs Bologna prediction 02.10.2022\n",
      "Serie A\n",
      "\n",
      "Juventus is in deep crisis. After the most recent loss against Monza, there were speculations that Thomas ...\n",
      "\n",
      "https://t.co/dtj4EleomC https://t.co/IAwdNj6EsS\n",
      "Atalanta vs Fiorentina prediction 02.10.2022\n",
      "Serie A\n",
      "\n",
      "Atalanta have big problems with injuries. Juan Musso, Berat Djimsiti, Nadir Zortea, and Simone Murat...\n",
      "\n",
      "https://t.co/vLjd67dUWx https://t.co/bCB7q3WbTI\n",
      "Inter vs Roma prediction 01.10.2022.\n",
      "Serie A\n",
      "\n",
      "In addition to the already mentioned Lukaku, Calhanoglu, who still has problems with a thigh injury, will not play in...\n",
      "\n",
      "https://t.co/NI8vz1DJQj https://t.co/RR8Gi2S8EM\n",
      "Napoli vs Torino Prediction 01.10.2022\n",
      "Serie A\n",
      "\n",
      "The midfield duo of Diego Demme and Karim Zedadka are long-injured, but these two players are certainly not in t...\n",
      "\n",
      "https://t.co/D49oKPtt1E https://t.co/n5v5oq9THo\n",
      "Lecce vs Cremonese prediction 02/10/2022\n",
      "Serie A\n",
      "\n",
      "Head Coach Baroni will likely keep faith with the same starting line-up that picked up a huge victory at Sal...\n",
      "\n",
      "https://t.co/SdSxXBCqaP https://t.co/BIsaBAf18K\n",
      "Lazio vs Spezia prediction 02/10/2022 \n",
      "Serie A\n",
      "\n",
      "Head Coach Sarri could be forced into some changes following the international break, with several of his first t...\n",
      "\n",
      "https://t.co/BFbKiJcdG1 https://t.co/uNkCkV3y40\n",
      "Empoli vs Milan prediction 01.10.2022\n",
      "Serie A\n",
      "\n",
      "Young Tommaso Baldanzi and Mattia Destro will not be able to help their teammates against Milan due to injuries. T...\n",
      "\n",
      "https://t.co/dLWOxrFtJP https://t.co/LHV4Cm6lCR\n"
     ]
    }
   ],
   "source": [
    "import tweepy\n",
    "\n",
    "client = tweepy.Client(bearer_token='AAAAAAAAAAAAAAAAAAAAAH97hgEAAAAAIlKMRaoKTvyBDsn7xNH0jmpWRtU%3Dv5McDbA1E2FtmK5ykoQawbykXmgEAbGCTm06YeszcTQbEzfqu6')\n",
    "\n",
    "# Replace with your own search query\n",
    "query = 'from:MightyTips'\n",
    "\n",
    "tweets = client.search_recent_tweets(query=query, tweet_fields=['context_annotations', 'created_at'], max_results=100)\n",
    "\n",
    "for tweet in tweets.data:\n",
    "    for id, val in dataframe.iterrows():\n",
    "        if (val.home in tweet.text) and (val.away in tweet.text):\n",
    "            print(tweet.text)\n",
    "    \n",
    "    #if len(tweet.context_annotations) > 0:\n",
    "        #print(tweet.context_annotations)"
   ]
  }
 ],
 "metadata": {
  "kernelspec": {
   "display_name": "Python 3.8.8 ('base')",
   "language": "python",
   "name": "python3"
  },
  "language_info": {
   "codemirror_mode": {
    "name": "ipython",
    "version": 3
   },
   "file_extension": ".py",
   "mimetype": "text/x-python",
   "name": "python",
   "nbconvert_exporter": "python",
   "pygments_lexer": "ipython3",
   "version": "3.8.8"
  },
  "orig_nbformat": 4,
  "vscode": {
   "interpreter": {
    "hash": "b51fba03621ea2707aa24f127a4f74542be1adffaa0a8f5a15c5b0606de1417a"
   }
  }
 },
 "nbformat": 4,
 "nbformat_minor": 2
}
