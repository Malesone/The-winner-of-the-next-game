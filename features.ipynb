{
 "cells": [
  {
   "cell_type": "code",
   "execution_count": 156,
   "metadata": {},
   "outputs": [],
   "source": [
    "import pandas as pd\n",
    "import glob, os"
   ]
  },
  {
   "cell_type": "code",
   "execution_count": 157,
   "metadata": {},
   "outputs": [],
   "source": [
    "rename_fields = {\n",
    "    'Squadra': 'team',\n",
    "    'Rf': 'goals',\n",
    "    'Tiri': 'total_shots',\n",
    "    'Tiri.1': 'shots_on_target',\n",
    "    'Rigori': 'goals_on_penalty',\n",
    "    'Rig T': 'total_penalties',\n",
    "    'Compl': 'completed_passings',\n",
    "    'Tent': 'total_passings',\n",
    "    'Angoli': 'corners',\n",
    "    'Poss.': 'percentage_possession',\n",
    "    'Falli': 'fouls',\n",
    "    'Amm.': 'yellow_cards',\n",
    "    'Esp.': 'red_cards',\n",
    "    'Data': 'date',\n",
    "    'Girone': 'matchday',\n",
    "}"
   ]
  },
  {
   "cell_type": "code",
   "execution_count": 158,
   "metadata": {},
   "outputs": [],
   "source": [
    "stats_of_all_teams = {}\n",
    "for file in sorted(os.listdir(\"SerieA/Season21_22/Matches/\")):\n",
    "    if file.endswith(\".csv\"):\n",
    "        team_name = file.replace('.csv', '')\n",
    "        team_stats = pd.read_csv(\"SerieA/Season21_22/Matches/\"+file, index_col=0)\n",
    "        team_stats = team_stats.rename(columns=rename_fields) #rinomino le colonne per avere una nomenclatura \n",
    "        #team_stats = team_stats.drop(columns=['Stadio', 'Avversario', 'Rs', 'team', 'date', 'matchday', 'Risultato'])\n",
    "        team_stats = team_stats.drop(columns=['Stadio', 'Avversario', 'Rs'])\n",
    "        stats_of_all_teams[team_name] = team_stats\n",
    "\n",
    "#stats_of_all_teams['Atalanta'].head()"
   ]
  },
  {
   "cell_type": "code",
   "execution_count": 159,
   "metadata": {},
   "outputs": [],
   "source": [
    "ata = stats_of_all_teams['Atalanta']\n",
    "columns = ata.drop(columns=['team', 'date', 'matchday', 'Risultato'])\n",
    "dataset = columns"
   ]
  },
  {
   "cell_type": "markdown",
   "metadata": {},
   "source": [
    "Per ciascuna squadra, per ciascuna partita, devo calcolare il valore \"previsto\" che è dato dalla somma di tutti i valori nelle partite precedenti. \n",
    "Il codice sottostante permette di fare questo"
   ]
  },
  {
   "cell_type": "code",
   "execution_count": null,
   "metadata": {},
   "outputs": [],
   "source": [
    "for single_col in dataset.columns:\n",
    "    ata[single_col] = ata[single_col].astype(float) #converto la colonna in float se no vengono approssimati i valori per difetto\n",
    "    team_column = dataset[single_col]\n",
    "    \n",
    "    for index, value in enumerate(team_column.values):\n",
    "        sum = value if index == 0 else 0\n",
    "        for from_0_to_index in range(index): \n",
    "            sum += dataset.iloc[from_0_to_index][single_col]\n",
    "        \n",
    "        mean = (sum / index) if index > 0 else sum\n",
    "        ata.at[index, single_col] = mean\n",
    "\n",
    "ata"
   ]
  }
 ],
 "metadata": {
  "kernelspec": {
   "display_name": "Python 3.8.8 ('base')",
   "language": "python",
   "name": "python3"
  },
  "language_info": {
   "codemirror_mode": {
    "name": "ipython",
    "version": 3
   },
   "file_extension": ".py",
   "mimetype": "text/x-python",
   "name": "python",
   "nbconvert_exporter": "python",
   "pygments_lexer": "ipython3",
   "version": "3.8.8"
  },
  "orig_nbformat": 4,
  "vscode": {
   "interpreter": {
    "hash": "b51fba03621ea2707aa24f127a4f74542be1adffaa0a8f5a15c5b0606de1417a"
   }
  }
 },
 "nbformat": 4,
 "nbformat_minor": 2
}
