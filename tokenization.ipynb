{
 "cells": [
  {
   "cell_type": "code",
   "execution_count": 173,
   "metadata": {},
   "outputs": [],
   "source": [
    "\n",
    "from nltk.tokenize import RegexpTokenizer\n",
    "from nltk.tokenize import sent_tokenize, word_tokenize\n",
    "import nltk\n",
    "from nltk.corpus import stopwords\n",
    "import spacy\n",
    "\n",
    "# Load English tokenizer, tagger, parser, NER and word vectors\n",
    "nlp = spacy.load(\"en_core_web_sm\")\n",
    "\n",
    "stop_words = set(stopwords.words('english'))"
   ]
  },
  {
   "cell_type": "code",
   "execution_count": 174,
   "metadata": {},
   "outputs": [],
   "source": [
    "\n",
    "text = \"Verona and Sassuolo take on each other in a highly-anticipated Serie A game at Stadio Marc’Antonio Bentegodi on Saturday evening. The Mastini have established themselves as a top-table side in the Italian top flight, but the game against Sassuolo will be anything but a walk in the park for the hosts. The club chiefs did well to keep hold of key players in the summer transfer window, but keep in mind that both Lasagna and Faraoni are likely to miss the season opener. The Neroverdi, on the other hand, were producing fine displays in pre-season, with the team beating both Parma and Vicenza, while sharing the spoils with Lazio. Considering that Sassuolo are likely to stick to their attacking style of play, both teams to score betting option should be considered. Centre-back Marlon is no longer part of the team, while Kyriakopoulos is banned for the match. Obiang is yet another absentee in the away team.\\nInter begin their title defence with a match against Genoa at Stadio Giuseppe Meazza. The club chiefs failed to keep hold of key attacker Romelu Lukaku in the summer transfer window, but, as things stand now, fellow striker Lautaro Martinez is likely to stay at the club. Summer signings Denzel Dumfries, Hakan Calhanoglu, and Edin Dzeko are all pushing for a start. Aforementioned attacker Lautaro Martinez is banned for the season opener, while both Alexis Sanchez and Roberto Gagliardini remain in the recovery room. \\nChristian Eriksen is still recovering from a heart-attack. The Rossoblu, on the other hand, kicked off their Coppa Italia campaign with a 3-2 win over Perugia, but seeing that they are not regarded as good travelers, we believe that there is a big value in betting on the reigning champions. Both Bani and Benhrami are out of contention through suspensions, which is yet another reason why home win should be considered\"\n",
    "\n",
    "text = text.lower()"
   ]
  },
  {
   "cell_type": "code",
   "execution_count": 175,
   "metadata": {},
   "outputs": [],
   "source": [
    "def word_tokenization():\n",
    "    tokens = word_tokenize(text)\n",
    "    tokens = [word for word in tokens if word not in stop_words]\n",
    "    return tokens\n",
    "\n",
    "def regex():\n",
    "    tokens = RegexpTokenizer(r'[a-zA-Z0-9]+').tokenize(text)\n",
    "    tokens = [word for word in tokens if word not in stop_words]\n",
    "    return tokens\n",
    "\n",
    "def spacy_tokenization():\n",
    "    tokens_text = []\n",
    "    tokens_lemma = []\n",
    "    for token in nlp(text):\n",
    "        if not token.is_stop:\n",
    "            tokens_text.append(token.text)\n",
    "            tokens_lemma.append(token.lemma_)\n",
    "    return tokens_text, tokens_lemma"
   ]
  },
  {
   "cell_type": "code",
   "execution_count": null,
   "metadata": {},
   "outputs": [],
   "source": [
    "w = word_tokenization()\n",
    "r = regex()\n",
    "s1, s2 = spacy_tokenization()\n",
    "from nltk.stem import PorterStemmer, WordNetLemmatizer\n",
    "stemmer = PorterStemmer()\n",
    "\n",
    "w = [stemmer.stem(word) for word in w]\n",
    "r = [stemmer.stem(word) for word in r]\n",
    "s1 = [stemmer.stem(word) for word in s1]\n",
    "\n",
    "print(len(w), w, \"\\n\")\n",
    "print(len(r), r, \"\\n\")\n",
    "print(len(s1), s1, \"\\n\")\n",
    "print(len(s2), s2, \"\\n\")"
   ]
  },
  {
   "cell_type": "code",
   "execution_count": 180,
   "metadata": {},
   "outputs": [
    {
     "name": "stdout",
     "output_type": "stream",
     "text": [
      "W:  164 180 152\n",
      "R:  167 158 126\n"
     ]
    }
   ],
   "source": [
    "countWR = 0\n",
    "countWS1 = 0\n",
    "countWS2 = 0\n",
    "countRS1 = 0\n",
    "countRS2 = 0\n",
    "for el in w:\n",
    "    if el in r:\n",
    "        countWR += 1\n",
    "    if el in s1:\n",
    "        countWS1 += 1\n",
    "    if el in s2:\n",
    "        countWS2 += 1\n",
    "countWR1 = 0\n",
    "for el in r:\n",
    "    if el in w:\n",
    "        countWR1 += 1\n",
    "    if el in s1:\n",
    "        countRS1 += 1\n",
    "    if el in s2:\n",
    "        countRS2 += 1\n",
    "for el in s:\n",
    "\n",
    "print('W: ', countWR, countWS1, countWS2)\n",
    "print('R: ', countWR1, countRS1, countRS2)\n",
    "print('R: ', countWR1, countRS1, countRS2)"
   ]
  }
 ],
 "metadata": {
  "kernelspec": {
   "display_name": "Python 3.8.8 ('base')",
   "language": "python",
   "name": "python3"
  },
  "language_info": {
   "codemirror_mode": {
    "name": "ipython",
    "version": 3
   },
   "file_extension": ".py",
   "mimetype": "text/x-python",
   "name": "python",
   "nbconvert_exporter": "python",
   "pygments_lexer": "ipython3",
   "version": "3.8.8"
  },
  "orig_nbformat": 4,
  "vscode": {
   "interpreter": {
    "hash": "b51fba03621ea2707aa24f127a4f74542be1adffaa0a8f5a15c5b0606de1417a"
   }
  }
 },
 "nbformat": 4,
 "nbformat_minor": 2
}
