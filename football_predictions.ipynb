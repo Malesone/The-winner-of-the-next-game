{
 "cells": [
  {
   "attachments": {},
   "cell_type": "markdown",
   "metadata": {},
   "source": [
    "# Obtaining the FootballPredictions data\n",
    "This script aims to retrieve short descriptions from the site https://footballpredictions.com/ published before each match. \n",
    "\n",
    "FootballPredictions (FP) is a website of football news which allow to search articles, published before a match, setting in the url the date of the match you want to know about.\n",
    "\n",
    "E.g. if you want to know about matches played in 23/10/2022 you need to set the following url:\n",
    "https://footballpredictions.com/footballpredictions/?date=23-10-2022\n",
    "\n",
    "The class used to obtain descriptions (news) from FootballPredictions web pages is FootballPredictions (football_predictions.py)."
   ]
  },
  {
   "cell_type": "code",
   "execution_count": 1,
   "metadata": {},
   "outputs": [],
   "source": [
    "from football_predictions import FootballPredictions\n",
    "import pandas as pd\n",
    "import numpy as np\n",
    "import util_strings as utils"
   ]
  },
  {
   "cell_type": "code",
   "execution_count": 2,
   "metadata": {},
   "outputs": [],
   "source": [
    "matches = pd.read_csv(utils.dataset_without_text, index_col=0)\n",
    "ta = FootballPredictions(matches)"
   ]
  },
  {
   "attachments": {},
   "cell_type": "markdown",
   "metadata": {},
   "source": [
    "# Obtaining links\n",
    "Grouping of the dates in which the matches take place and the date is set in a url that will be used to go and search for the matches"
   ]
  },
  {
   "cell_type": "code",
   "execution_count": 3,
   "metadata": {},
   "outputs": [],
   "source": [
    "ta.get_urls()\n",
    "ta.save_urls(utils.json_link_matches)"
   ]
  },
  {
   "attachments": {},
   "cell_type": "markdown",
   "metadata": {},
   "source": [
    "Once the links have been obtained, combine the main link with the date of the matches, then on the page at the link you can search for all the various links under the Serie A div that lead to the pages of the pre-match descriptions."
   ]
  },
  {
   "cell_type": "code",
   "execution_count": 4,
   "metadata": {},
   "outputs": [],
   "source": [
    "ta.read_urls(utils.json_link_matches)\n",
    "ta.get_predictions(utils.matches_description, True)"
   ]
  },
  {
   "attachments": {},
   "cell_type": "markdown",
   "metadata": {},
   "source": [
    "# Text normalization\n",
    "\n",
    "Games for which no results were found are searched for and downloaded"
   ]
  },
  {
   "cell_type": "code",
   "execution_count": null,
   "metadata": {},
   "outputs": [],
   "source": [
    "ta.read_all_predictions(utils.matches_description)\n",
    "ta.recovery_games()"
   ]
  },
  {
   "cell_type": "code",
   "execution_count": null,
   "metadata": {},
   "outputs": [],
   "source": [
    "#d = ta.recoveries[(ta.recoveries.home == 'Juventus') & (ta.recoveries.away == 'Napoli')].date\n",
    "ta.matches[(ta.matches.home == 'Lecce') & (ta.matches.away == 'Cagliari')]\n",
    "#ta.recoveries[(ta.recoveries.home == 'Juventus') & (ta.recoveries.away == 'Napoli')]\n",
    "ta.df[(ta.df.home == 'Lecce') & (ta.df.away == 'Cagliari')]"
   ]
  },
  {
   "attachments": {},
   "cell_type": "markdown",
   "metadata": {},
   "source": [
    "The fix_dates method saves all the news in the cleanes_news.csv"
   ]
  },
  {
   "cell_type": "code",
   "execution_count": 7,
   "metadata": {},
   "outputs": [
    {
     "name": "stdout",
     "output_type": "stream",
     "text": [
      "2019-08-30 00:00:00 bologna spal\n",
      "2022-03-06 00:00:00 genoa empoli\n"
     ]
    }
   ],
   "source": [
    "ta.matches_not_found()        \n",
    "ta.fix_dates(utils.cleaned_matches_description)"
   ]
  },
  {
   "cell_type": "code",
   "execution_count": 8,
   "metadata": {},
   "outputs": [
    {
     "name": "stdout",
     "output_type": "stream",
     "text": [
      "genoa empoli 2022-03-06 00:00:00\n"
     ]
    }
   ],
   "source": [
    "for i, k in ta.matches.iterrows():\n",
    "    if len(ta.recoveries[(ta.recoveries.home == k.home) & (ta.recoveries.away == k.away) & (ta.recoveries.season == k.season)]) == 0:\n",
    "        print(k.home, k.away, k.date)"
   ]
  },
  {
   "cell_type": "code",
   "execution_count": 9,
   "metadata": {},
   "outputs": [
    {
     "data": {
      "text/html": [
       "<div>\n",
       "<style scoped>\n",
       "    .dataframe tbody tr th:only-of-type {\n",
       "        vertical-align: middle;\n",
       "    }\n",
       "\n",
       "    .dataframe tbody tr th {\n",
       "        vertical-align: top;\n",
       "    }\n",
       "\n",
       "    .dataframe thead th {\n",
       "        text-align: right;\n",
       "    }\n",
       "</style>\n",
       "<table border=\"1\" class=\"dataframe\">\n",
       "  <thead>\n",
       "    <tr style=\"text-align: right;\">\n",
       "      <th></th>\n",
       "      <th>date</th>\n",
       "      <th>home</th>\n",
       "      <th>away</th>\n",
       "      <th>description</th>\n",
       "      <th>prediction</th>\n",
       "      <th>season</th>\n",
       "    </tr>\n",
       "    <tr>\n",
       "      <th>index</th>\n",
       "      <th></th>\n",
       "      <th></th>\n",
       "      <th></th>\n",
       "      <th></th>\n",
       "      <th></th>\n",
       "      <th></th>\n",
       "    </tr>\n",
       "  </thead>\n",
       "  <tbody>\n",
       "    <tr>\n",
       "      <th>572</th>\n",
       "      <td>2020-01-19</td>\n",
       "      <td>bologna</td>\n",
       "      <td>hellas verona</td>\n",
       "      <td>Stadio Renato Dall’Ara will host Sunday’s foot...</td>\n",
       "      <td>N</td>\n",
       "      <td>2019-2020</td>\n",
       "    </tr>\n",
       "    <tr>\n",
       "      <th>928</th>\n",
       "      <td>2021-01-16</td>\n",
       "      <td>bologna</td>\n",
       "      <td>hellas verona</td>\n",
       "      <td>Bologna will be aiming to record their first l...</td>\n",
       "      <td>P</td>\n",
       "      <td>2020-2021</td>\n",
       "    </tr>\n",
       "    <tr>\n",
       "      <th>1168</th>\n",
       "      <td>2021-09-12</td>\n",
       "      <td>bologna</td>\n",
       "      <td>hellas verona</td>\n",
       "      <td>Bologna and Verona take on each other at Stadi...</td>\n",
       "      <td>V</td>\n",
       "      <td>2021-2022</td>\n",
       "    </tr>\n",
       "    <tr>\n",
       "      <th>1535</th>\n",
       "      <td>2022-08-21</td>\n",
       "      <td>bologna</td>\n",
       "      <td>hellas verona</td>\n",
       "      <td>Bologna and Verona face each other at Stadio R...</td>\n",
       "      <td>N</td>\n",
       "      <td>2022-2023</td>\n",
       "    </tr>\n",
       "  </tbody>\n",
       "</table>\n",
       "</div>"
      ],
      "text/plain": [
       "            date     home           away  \\\n",
       "index                                      \n",
       "572   2020-01-19  bologna  hellas verona   \n",
       "928   2021-01-16  bologna  hellas verona   \n",
       "1168  2021-09-12  bologna  hellas verona   \n",
       "1535  2022-08-21  bologna  hellas verona   \n",
       "\n",
       "                                             description prediction     season  \n",
       "index                                                                           \n",
       "572    Stadio Renato Dall’Ara will host Sunday’s foot...          N  2019-2020  \n",
       "928    Bologna will be aiming to record their first l...          P  2020-2021  \n",
       "1168   Bologna and Verona take on each other at Stadi...          V  2021-2022  \n",
       "1535   Bologna and Verona face each other at Stadio R...          N  2022-2023  "
      ]
     },
     "execution_count": 9,
     "metadata": {},
     "output_type": "execute_result"
    }
   ],
   "source": [
    "ta.recoveries[(ta.recoveries.home == 'bologna') & (ta.recoveries.away == 'hellas verona')]"
   ]
  },
  {
   "cell_type": "code",
   "execution_count": 10,
   "metadata": {},
   "outputs": [
    {
     "data": {
      "text/html": [
       "<div>\n",
       "<style scoped>\n",
       "    .dataframe tbody tr th:only-of-type {\n",
       "        vertical-align: middle;\n",
       "    }\n",
       "\n",
       "    .dataframe tbody tr th {\n",
       "        vertical-align: top;\n",
       "    }\n",
       "\n",
       "    .dataframe thead th {\n",
       "        text-align: right;\n",
       "    }\n",
       "</style>\n",
       "<table border=\"1\" class=\"dataframe\">\n",
       "  <thead>\n",
       "    <tr style=\"text-align: right;\">\n",
       "      <th></th>\n",
       "      <th>date</th>\n",
       "      <th>home</th>\n",
       "      <th>away</th>\n",
       "      <th>description</th>\n",
       "      <th>prediction</th>\n",
       "      <th>season</th>\n",
       "    </tr>\n",
       "    <tr>\n",
       "      <th>index</th>\n",
       "      <th></th>\n",
       "      <th></th>\n",
       "      <th></th>\n",
       "      <th></th>\n",
       "      <th></th>\n",
       "      <th></th>\n",
       "    </tr>\n",
       "  </thead>\n",
       "  <tbody>\n",
       "    <tr>\n",
       "      <th>388</th>\n",
       "      <td>2019-08-25</td>\n",
       "      <td>hellas verona</td>\n",
       "      <td>bologna</td>\n",
       "      <td>Stadio Marc’Antonio Bentegodi will host Sunday...</td>\n",
       "      <td>N</td>\n",
       "      <td>2019-2020</td>\n",
       "    </tr>\n",
       "    <tr>\n",
       "      <th>572</th>\n",
       "      <td>2020-01-19</td>\n",
       "      <td>bologna</td>\n",
       "      <td>hellas verona</td>\n",
       "      <td>Stadio Renato Dall’Ara will host Sunday’s foot...</td>\n",
       "      <td>N</td>\n",
       "      <td>2019-2020</td>\n",
       "    </tr>\n",
       "    <tr>\n",
       "      <th>928</th>\n",
       "      <td>2021-01-16</td>\n",
       "      <td>bologna</td>\n",
       "      <td>hellas verona</td>\n",
       "      <td>Bologna will be aiming to record their first l...</td>\n",
       "      <td>P</td>\n",
       "      <td>2020-2021</td>\n",
       "    </tr>\n",
       "    <tr>\n",
       "      <th>1127</th>\n",
       "      <td>2021-05-17</td>\n",
       "      <td>hellas verona</td>\n",
       "      <td>bologna</td>\n",
       "      <td>Monday’s football game between Verona and Bolo...</td>\n",
       "      <td>N</td>\n",
       "      <td>2020-2021</td>\n",
       "    </tr>\n",
       "    <tr>\n",
       "      <th>1168</th>\n",
       "      <td>2021-09-12</td>\n",
       "      <td>bologna</td>\n",
       "      <td>hellas verona</td>\n",
       "      <td>Bologna and Verona take on each other at Stadi...</td>\n",
       "      <td>V</td>\n",
       "      <td>2021-2022</td>\n",
       "    </tr>\n",
       "    <tr>\n",
       "      <th>1354</th>\n",
       "      <td>2022-01-21</td>\n",
       "      <td>hellas verona</td>\n",
       "      <td>bologna</td>\n",
       "      <td>Stadio Marc’Antonio Bentegodi will host Friday...</td>\n",
       "      <td>V</td>\n",
       "      <td>2021-2022</td>\n",
       "    </tr>\n",
       "    <tr>\n",
       "      <th>1535</th>\n",
       "      <td>2022-08-21</td>\n",
       "      <td>bologna</td>\n",
       "      <td>hellas verona</td>\n",
       "      <td>Bologna and Verona face each other at Stadio R...</td>\n",
       "      <td>N</td>\n",
       "      <td>2022-2023</td>\n",
       "    </tr>\n",
       "  </tbody>\n",
       "</table>\n",
       "</div>"
      ],
      "text/plain": [
       "            date           home           away  \\\n",
       "index                                            \n",
       "388   2019-08-25  hellas verona        bologna   \n",
       "572   2020-01-19        bologna  hellas verona   \n",
       "928   2021-01-16        bologna  hellas verona   \n",
       "1127  2021-05-17  hellas verona        bologna   \n",
       "1168  2021-09-12        bologna  hellas verona   \n",
       "1354  2022-01-21  hellas verona        bologna   \n",
       "1535  2022-08-21        bologna  hellas verona   \n",
       "\n",
       "                                             description prediction     season  \n",
       "index                                                                           \n",
       "388    Stadio Marc’Antonio Bentegodi will host Sunday...          N  2019-2020  \n",
       "572    Stadio Renato Dall’Ara will host Sunday’s foot...          N  2019-2020  \n",
       "928    Bologna will be aiming to record their first l...          P  2020-2021  \n",
       "1127   Monday’s football game between Verona and Bolo...          N  2020-2021  \n",
       "1168   Bologna and Verona take on each other at Stadi...          V  2021-2022  \n",
       "1354   Stadio Marc’Antonio Bentegodi will host Friday...          V  2021-2022  \n",
       "1535   Bologna and Verona face each other at Stadio R...          N  2022-2023  "
      ]
     },
     "execution_count": 10,
     "metadata": {},
     "output_type": "execute_result"
    }
   ],
   "source": [
    "ta.recoveries[((ta.recoveries.home == 'bologna') & (ta.recoveries.away == 'hellas verona')) | ((ta.recoveries.away == 'bologna') & (ta.recoveries.home == 'hellas verona'))]"
   ]
  },
  {
   "cell_type": "code",
   "execution_count": 11,
   "metadata": {},
   "outputs": [
    {
     "name": "stdout",
     "output_type": "stream",
     "text": [
      "1640 1639\n"
     ]
    }
   ],
   "source": [
    "print(len(ta.matches), len(ta.recoveries)) #the two datasets are of different sizes -> recoveries has not been cleaned of double entries (recoveries, postponed matches)"
   ]
  },
  {
   "cell_type": "code",
   "execution_count": 12,
   "metadata": {},
   "outputs": [
    {
     "data": {
      "text/html": [
       "<div>\n",
       "<style scoped>\n",
       "    .dataframe tbody tr th:only-of-type {\n",
       "        vertical-align: middle;\n",
       "    }\n",
       "\n",
       "    .dataframe tbody tr th {\n",
       "        vertical-align: top;\n",
       "    }\n",
       "\n",
       "    .dataframe thead th {\n",
       "        text-align: right;\n",
       "    }\n",
       "</style>\n",
       "<table border=\"1\" class=\"dataframe\">\n",
       "  <thead>\n",
       "    <tr style=\"text-align: right;\">\n",
       "      <th></th>\n",
       "      <th>home</th>\n",
       "      <th>away</th>\n",
       "      <th>date</th>\n",
       "      <th>result</th>\n",
       "      <th>season</th>\n",
       "      <th>description</th>\n",
       "      <th>prediction</th>\n",
       "    </tr>\n",
       "  </thead>\n",
       "  <tbody>\n",
       "    <tr>\n",
       "      <th>1091</th>\n",
       "      <td>hellas verona</td>\n",
       "      <td>spezia</td>\n",
       "      <td>2021-05-01</td>\n",
       "      <td>N</td>\n",
       "      <td>2020-2021</td>\n",
       "      <td>After suffering a 1-0 loss to Inter on Matchda...</td>\n",
       "      <td>NAN</td>\n",
       "    </tr>\n",
       "    <tr>\n",
       "      <th>1336</th>\n",
       "      <td>udinese</td>\n",
       "      <td>atalanta</td>\n",
       "      <td>2022-01-09</td>\n",
       "      <td>P</td>\n",
       "      <td>2021-2022</td>\n",
       "      <td>NaN</td>\n",
       "      <td>NAN</td>\n",
       "    </tr>\n",
       "    <tr>\n",
       "      <th>1552</th>\n",
       "      <td>juventus</td>\n",
       "      <td>spezia</td>\n",
       "      <td>2022-08-31</td>\n",
       "      <td>V</td>\n",
       "      <td>2022-2023</td>\n",
       "      <td>NaN</td>\n",
       "      <td>NAN</td>\n",
       "    </tr>\n",
       "    <tr>\n",
       "      <th>1561</th>\n",
       "      <td>lazio</td>\n",
       "      <td>napoli</td>\n",
       "      <td>2022-09-03</td>\n",
       "      <td>P</td>\n",
       "      <td>2022-2023</td>\n",
       "      <td>NaN</td>\n",
       "      <td>NAN</td>\n",
       "    </tr>\n",
       "    <tr>\n",
       "      <th>1560</th>\n",
       "      <td>milan</td>\n",
       "      <td>inter</td>\n",
       "      <td>2022-09-03</td>\n",
       "      <td>V</td>\n",
       "      <td>2022-2023</td>\n",
       "      <td>NaN</td>\n",
       "      <td>NAN</td>\n",
       "    </tr>\n",
       "    <tr>\n",
       "      <th>1559</th>\n",
       "      <td>fiorentina</td>\n",
       "      <td>juventus</td>\n",
       "      <td>2022-09-03</td>\n",
       "      <td>N</td>\n",
       "      <td>2022-2023</td>\n",
       "      <td>NaN</td>\n",
       "      <td>NAN</td>\n",
       "    </tr>\n",
       "    <tr>\n",
       "      <th>1562</th>\n",
       "      <td>cremonese</td>\n",
       "      <td>sassuolo</td>\n",
       "      <td>2022-09-04</td>\n",
       "      <td>N</td>\n",
       "      <td>2022-2023</td>\n",
       "      <td>NaN</td>\n",
       "      <td>NAN</td>\n",
       "    </tr>\n",
       "    <tr>\n",
       "      <th>1563</th>\n",
       "      <td>hellas verona</td>\n",
       "      <td>sampdoria</td>\n",
       "      <td>2022-09-04</td>\n",
       "      <td>V</td>\n",
       "      <td>2022-2023</td>\n",
       "      <td>NaN</td>\n",
       "      <td>NAN</td>\n",
       "    </tr>\n",
       "    <tr>\n",
       "      <th>1564</th>\n",
       "      <td>udinese</td>\n",
       "      <td>roma</td>\n",
       "      <td>2022-09-04</td>\n",
       "      <td>V</td>\n",
       "      <td>2022-2023</td>\n",
       "      <td>NaN</td>\n",
       "      <td>NAN</td>\n",
       "    </tr>\n",
       "    <tr>\n",
       "      <th>1565</th>\n",
       "      <td>spezia</td>\n",
       "      <td>bologna</td>\n",
       "      <td>2022-09-04</td>\n",
       "      <td>N</td>\n",
       "      <td>2022-2023</td>\n",
       "      <td>NaN</td>\n",
       "      <td>NAN</td>\n",
       "    </tr>\n",
       "    <tr>\n",
       "      <th>1566</th>\n",
       "      <td>salernitana</td>\n",
       "      <td>empoli</td>\n",
       "      <td>2022-09-05</td>\n",
       "      <td>N</td>\n",
       "      <td>2022-2023</td>\n",
       "      <td>NaN</td>\n",
       "      <td>NAN</td>\n",
       "    </tr>\n",
       "    <tr>\n",
       "      <th>1567</th>\n",
       "      <td>monza</td>\n",
       "      <td>atalanta</td>\n",
       "      <td>2022-09-05</td>\n",
       "      <td>P</td>\n",
       "      <td>2022-2023</td>\n",
       "      <td>NaN</td>\n",
       "      <td>NAN</td>\n",
       "    </tr>\n",
       "    <tr>\n",
       "      <th>1568</th>\n",
       "      <td>torino</td>\n",
       "      <td>lecce</td>\n",
       "      <td>2022-09-05</td>\n",
       "      <td>V</td>\n",
       "      <td>2022-2023</td>\n",
       "      <td>NaN</td>\n",
       "      <td>NAN</td>\n",
       "    </tr>\n",
       "  </tbody>\n",
       "</table>\n",
       "</div>"
      ],
      "text/plain": [
       "               home       away       date result     season  \\\n",
       "1091  hellas verona     spezia 2021-05-01      N  2020-2021   \n",
       "1336        udinese   atalanta 2022-01-09      P  2021-2022   \n",
       "1552       juventus     spezia 2022-08-31      V  2022-2023   \n",
       "1561          lazio     napoli 2022-09-03      P  2022-2023   \n",
       "1560          milan      inter 2022-09-03      V  2022-2023   \n",
       "1559     fiorentina   juventus 2022-09-03      N  2022-2023   \n",
       "1562      cremonese   sassuolo 2022-09-04      N  2022-2023   \n",
       "1563  hellas verona  sampdoria 2022-09-04      V  2022-2023   \n",
       "1564        udinese       roma 2022-09-04      V  2022-2023   \n",
       "1565         spezia    bologna 2022-09-04      N  2022-2023   \n",
       "1566    salernitana     empoli 2022-09-05      N  2022-2023   \n",
       "1567          monza   atalanta 2022-09-05      P  2022-2023   \n",
       "1568         torino      lecce 2022-09-05      V  2022-2023   \n",
       "\n",
       "                                            description prediction  \n",
       "1091  After suffering a 1-0 loss to Inter on Matchda...        NAN  \n",
       "1336                                                NaN        NAN  \n",
       "1552                                                NaN        NAN  \n",
       "1561                                                NaN        NAN  \n",
       "1560                                                NaN        NAN  \n",
       "1559                                                NaN        NAN  \n",
       "1562                                                NaN        NAN  \n",
       "1563                                                NaN        NAN  \n",
       "1564                                                NaN        NAN  \n",
       "1565                                                NaN        NAN  \n",
       "1566                                                NaN        NAN  \n",
       "1567                                                NaN        NAN  \n",
       "1568                                                NaN        NAN  "
      ]
     },
     "execution_count": 12,
     "metadata": {},
     "output_type": "execute_result"
    }
   ],
   "source": [
    "ta.df[ta.df.prediction=='NAN']"
   ]
  },
  {
   "cell_type": "code",
   "execution_count": 13,
   "metadata": {},
   "outputs": [
    {
     "data": {
      "text/plain": [
       "(1640, 1639)"
      ]
     },
     "execution_count": 13,
     "metadata": {},
     "output_type": "execute_result"
    }
   ],
   "source": [
    "len(ta.matches), len(ta.df) #the two datasets are of equal size"
   ]
  }
 ],
 "metadata": {
  "kernelspec": {
   "display_name": "Python 3.8.8 ('base')",
   "language": "python",
   "name": "python3"
  },
  "language_info": {
   "codemirror_mode": {
    "name": "ipython",
    "version": 3
   },
   "file_extension": ".py",
   "mimetype": "text/x-python",
   "name": "python",
   "nbconvert_exporter": "python",
   "pygments_lexer": "ipython3",
   "version": "3.8.8 (default, Apr 13 2021, 12:59:45) \n[Clang 10.0.0 ]"
  },
  "orig_nbformat": 4,
  "vscode": {
   "interpreter": {
    "hash": "b51fba03621ea2707aa24f127a4f74542be1adffaa0a8f5a15c5b0606de1417a"
   }
  }
 },
 "nbformat": 4,
 "nbformat_minor": 2
}
