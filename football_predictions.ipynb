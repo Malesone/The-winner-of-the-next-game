{
 "cells": [
  {
   "cell_type": "markdown",
   "metadata": {},
   "source": [
    "# Ottenimento link news\n",
    "\n",
    "Questo script si pone come obiettivo quello di recuperare brevi descrizioni dal sito https://footballpredictions.com/ pubblicati prima di ciascun match. Andiamo a recuperare le pagine relative alle partite giocate in ogni data di campionato."
   ]
  },
  {
   "cell_type": "code",
   "execution_count": 9,
   "metadata": {},
   "outputs": [],
   "source": [
    "from football_predictions import FootballPredictions\n",
    "import pandas as pd\n",
    "import numpy as np\n",
    "import util_strings as utils"
   ]
  },
  {
   "cell_type": "code",
   "execution_count": 10,
   "metadata": {},
   "outputs": [],
   "source": [
    "matches = pd.read_csv(utils.dataset_without_text, index_col=0)\n",
    "ta = FootballPredictions(matches)"
   ]
  },
  {
   "cell_type": "markdown",
   "metadata": {},
   "source": [
    "# Ottenimento link per data\n",
    "\n",
    "Raggruppamento delle date in cui si svolgono le partite e la data viene settata in un url che verrà utilizzato per andare a cercare le partite"
   ]
  },
  {
   "cell_type": "code",
   "execution_count": 3,
   "metadata": {},
   "outputs": [],
   "source": [
    "#ta.get_urls()\n",
    "#ta.save_urls(utils.json_link_matches)"
   ]
  },
  {
   "cell_type": "markdown",
   "metadata": {},
   "source": [
    "Una volta ottenuti i link andare combinando il link principale con la data delle partite, si va a cercare nella pagina al link tutti i vari link sotto al div relativo alla Serie A che portano alle pagine delle descrizioni pre-match."
   ]
  },
  {
   "cell_type": "code",
   "execution_count": 12,
   "metadata": {},
   "outputs": [
    {
     "name": "stderr",
     "output_type": "stream",
     "text": [
      "100%|██████████| 5/5 [00:02<00:00,  1.81it/s]\n"
     ]
    }
   ],
   "source": [
    "ta.read_urls(utils.json_link_matches)\n",
    "ta.get_predictions(utils.matches_description)"
   ]
  },
  {
   "cell_type": "markdown",
   "metadata": {},
   "source": [
    "# Normalizzazione testo\n",
    "\n",
    "Vengono cercate le partite per cui non sono stati trovati risultati e vengono scaricati"
   ]
  },
  {
   "cell_type": "code",
   "execution_count": null,
   "metadata": {},
   "outputs": [],
   "source": [
    "ta.read_all_predictions(False, utils.matches_description)\n",
    "ta.recovery_games()\n",
    "ta.matches_not_found()\n",
    "ta.fix_dates(utils.cleaned_matches_description)"
   ]
  }
 ],
 "metadata": {
  "kernelspec": {
   "display_name": "Python 3.8.8 ('base')",
   "language": "python",
   "name": "python3"
  },
  "language_info": {
   "codemirror_mode": {
    "name": "ipython",
    "version": 3
   },
   "file_extension": ".py",
   "mimetype": "text/x-python",
   "name": "python",
   "nbconvert_exporter": "python",
   "pygments_lexer": "ipython3",
   "version": "3.8.8"
  },
  "orig_nbformat": 4,
  "vscode": {
   "interpreter": {
    "hash": "b51fba03621ea2707aa24f127a4f74542be1adffaa0a8f5a15c5b0606de1417a"
   }
  }
 },
 "nbformat": 4,
 "nbformat_minor": 2
}
