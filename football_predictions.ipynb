{
 "cells": [
  {
   "cell_type": "markdown",
   "metadata": {},
   "source": [
    "# Ottenimento link news\n",
    "\n",
    "Questo script si pone come obiettivo quello di recuperare brevi descrizioni dal sito https://footballpredictions.com/ pubblicati prima di ciascun match. Andiamo a recuperare le pagine relative alle partite giocate in ogni data di campionato."
   ]
  },
  {
   "cell_type": "code",
   "execution_count": 1,
   "metadata": {},
   "outputs": [],
   "source": [
    "from football_predictions import FootballPredictions\n",
    "import pandas as pd\n",
    "import numpy as np\n",
    "import util_strings as utils"
   ]
  },
  {
   "cell_type": "code",
   "execution_count": 2,
   "metadata": {},
   "outputs": [],
   "source": [
    "matches = pd.read_csv(utils.dataset_without_text, index_col=0)\n",
    "ta = FootballPredictions(matches)"
   ]
  },
  {
   "cell_type": "markdown",
   "metadata": {},
   "source": [
    "# Ottenimento link per data\n",
    "\n",
    "Raggruppamento delle date in cui si svolgono le partite e la data viene settata in un url che verrà utilizzato per andare a cercare le partite"
   ]
  },
  {
   "cell_type": "code",
   "execution_count": 3,
   "metadata": {},
   "outputs": [],
   "source": [
    "#ta.get_urls()\n",
    "#ta.save_urls(utils.json_link_matches)"
   ]
  },
  {
   "cell_type": "markdown",
   "metadata": {},
   "source": [
    "Una volta ottenuti i link andare combinando il link principale con la data delle partite, si va a cercare nella pagina al link tutti i vari link sotto al div relativo alla Serie A che portano alle pagine delle descrizioni pre-match."
   ]
  },
  {
   "cell_type": "code",
   "execution_count": 4,
   "metadata": {},
   "outputs": [],
   "source": [
    "#ta.read_urls(utils.json_link_matches)\n",
    "#ta.get_predictions(utils.matches_description, True)"
   ]
  },
  {
   "cell_type": "markdown",
   "metadata": {},
   "source": [
    "# Normalizzazione testo\n",
    "\n",
    "Vengono cercate le partite per cui non sono stati trovati risultati e vengono scaricati"
   ]
  },
  {
   "cell_type": "code",
   "execution_count": 5,
   "metadata": {},
   "outputs": [
    {
     "name": "stderr",
     "output_type": "stream",
     "text": [
      "/Users/simonemalesardi/Documents/Università/Retrieval/The-winner-of-the-next-game/football_predictions.py:143: SettingWithCopyWarning: \n",
      "A value is trying to be set on a copy of a slice from a DataFrame.\n",
      "Try using .loc[row_indexer,col_indexer] = value instead\n",
      "\n",
      "See the caveats in the documentation: https://pandas.pydata.org/pandas-docs/stable/user_guide/indexing.html#returning-a-view-versus-a-copy\n",
      "  self.matches['date'] = pd.to_datetime(self.matches['date'], format='%Y-%m-%d')\n"
     ]
    }
   ],
   "source": [
    "ta.read_all_predictions(utils.matches_description)\n",
    "ta.recovery_games()"
   ]
  },
  {
   "cell_type": "code",
   "execution_count": 6,
   "metadata": {},
   "outputs": [
    {
     "data": {
      "text/html": [
       "<div>\n",
       "<style scoped>\n",
       "    .dataframe tbody tr th:only-of-type {\n",
       "        vertical-align: middle;\n",
       "    }\n",
       "\n",
       "    .dataframe tbody tr th {\n",
       "        vertical-align: top;\n",
       "    }\n",
       "\n",
       "    .dataframe thead th {\n",
       "        text-align: right;\n",
       "    }\n",
       "</style>\n",
       "<table border=\"1\" class=\"dataframe\">\n",
       "  <thead>\n",
       "    <tr style=\"text-align: right;\">\n",
       "      <th></th>\n",
       "      <th>date</th>\n",
       "      <th>home</th>\n",
       "      <th>away</th>\n",
       "      <th>description</th>\n",
       "      <th>prediction</th>\n",
       "      <th>season</th>\n",
       "    </tr>\n",
       "  </thead>\n",
       "  <tbody>\n",
       "  </tbody>\n",
       "</table>\n",
       "</div>"
      ],
      "text/plain": [
       "Empty DataFrame\n",
       "Columns: [date, home, away, description, prediction, season]\n",
       "Index: []"
      ]
     },
     "execution_count": 6,
     "metadata": {},
     "output_type": "execute_result"
    }
   ],
   "source": [
    "#d = ta.recoveries[(ta.recoveries.home == 'Juventus') & (ta.recoveries.away == 'Napoli')].date\n",
    "ta.matches[(ta.matches.home == 'Lecce') & (ta.matches.away == 'Cagliari')]\n",
    "#ta.recoveries[(ta.recoveries.home == 'Juventus') & (ta.recoveries.away == 'Napoli')]\n",
    "ta.df[(ta.df.home == 'Lecce') & (ta.df.away == 'Cagliari')]"
   ]
  },
  {
   "cell_type": "code",
   "execution_count": 7,
   "metadata": {},
   "outputs": [
    {
     "name": "stdout",
     "output_type": "stream",
     "text": [
      "2022-10-21 00:00:00 juventus empoli\n",
      "['https://footballpredictions.com/footballpredictions/serieapredictions/juventus-vs-empoli-prediction-3/']\n",
      "2022-10-22 00:00:00 fiorentina inter\n",
      "['https://footballpredictions.com/footballpredictions/serieapredictions/fiorentina-vs-inter-prediction-5/']\n",
      "2022-10-22 00:00:00 salernitana spezia\n",
      "['https://footballpredictions.com/footballpredictions/serieapredictions/salernitana-vs-spezia-prediction-3/']\n",
      "2022-10-22 00:00:00 milan monza\n",
      "['https://footballpredictions.com/footballpredictions/serieapredictions/milan-vs-monza-prediction/']\n"
     ]
    }
   ],
   "source": [
    "ta.matches_not_found()        \n",
    "ta.fix_dates(utils.cleaned_matches_description)"
   ]
  },
  {
   "cell_type": "code",
   "execution_count": 8,
   "metadata": {},
   "outputs": [],
   "source": [
    "for i, k in ta.matches.iterrows():\n",
    "    if len(ta.recoveries[(ta.recoveries.home == k.home) & (ta.recoveries.away == k.away) & (ta.recoveries.season == k.season)]) == 0:\n",
    "        print(k.home, k.away, k.date)"
   ]
  },
  {
   "cell_type": "code",
   "execution_count": 9,
   "metadata": {},
   "outputs": [
    {
     "data": {
      "text/html": [
       "<div>\n",
       "<style scoped>\n",
       "    .dataframe tbody tr th:only-of-type {\n",
       "        vertical-align: middle;\n",
       "    }\n",
       "\n",
       "    .dataframe tbody tr th {\n",
       "        vertical-align: top;\n",
       "    }\n",
       "\n",
       "    .dataframe thead th {\n",
       "        text-align: right;\n",
       "    }\n",
       "</style>\n",
       "<table border=\"1\" class=\"dataframe\">\n",
       "  <thead>\n",
       "    <tr style=\"text-align: right;\">\n",
       "      <th></th>\n",
       "      <th>date</th>\n",
       "      <th>home</th>\n",
       "      <th>away</th>\n",
       "      <th>description</th>\n",
       "      <th>prediction</th>\n",
       "      <th>season</th>\n",
       "    </tr>\n",
       "    <tr>\n",
       "      <th>index</th>\n",
       "      <th></th>\n",
       "      <th></th>\n",
       "      <th></th>\n",
       "      <th></th>\n",
       "      <th></th>\n",
       "      <th></th>\n",
       "    </tr>\n",
       "  </thead>\n",
       "  <tbody>\n",
       "    <tr>\n",
       "      <th>67</th>\n",
       "      <td>2022-08-21</td>\n",
       "      <td>bologna</td>\n",
       "      <td>hellas verona</td>\n",
       "      <td>Bologna and Verona face each other at Stadio R...</td>\n",
       "      <td>N</td>\n",
       "      <td>2022-2023</td>\n",
       "    </tr>\n",
       "  </tbody>\n",
       "</table>\n",
       "</div>"
      ],
      "text/plain": [
       "            date     home           away  \\\n",
       "index                                      \n",
       "67    2022-08-21  bologna  hellas verona   \n",
       "\n",
       "                                             description prediction     season  \n",
       "index                                                                           \n",
       "67     Bologna and Verona face each other at Stadio R...          N  2022-2023  "
      ]
     },
     "execution_count": 9,
     "metadata": {},
     "output_type": "execute_result"
    }
   ],
   "source": [
    "ta.recoveries[(ta.recoveries.home == 'bologna') & (ta.recoveries.away == 'hellas verona')]"
   ]
  },
  {
   "cell_type": "code",
   "execution_count": 10,
   "metadata": {},
   "outputs": [
    {
     "data": {
      "text/html": [
       "<div>\n",
       "<style scoped>\n",
       "    .dataframe tbody tr th:only-of-type {\n",
       "        vertical-align: middle;\n",
       "    }\n",
       "\n",
       "    .dataframe tbody tr th {\n",
       "        vertical-align: top;\n",
       "    }\n",
       "\n",
       "    .dataframe thead th {\n",
       "        text-align: right;\n",
       "    }\n",
       "</style>\n",
       "<table border=\"1\" class=\"dataframe\">\n",
       "  <thead>\n",
       "    <tr style=\"text-align: right;\">\n",
       "      <th></th>\n",
       "      <th>date</th>\n",
       "      <th>home</th>\n",
       "      <th>away</th>\n",
       "      <th>description</th>\n",
       "      <th>prediction</th>\n",
       "      <th>season</th>\n",
       "    </tr>\n",
       "    <tr>\n",
       "      <th>index</th>\n",
       "      <th></th>\n",
       "      <th></th>\n",
       "      <th></th>\n",
       "      <th></th>\n",
       "      <th></th>\n",
       "      <th></th>\n",
       "    </tr>\n",
       "  </thead>\n",
       "  <tbody>\n",
       "    <tr>\n",
       "      <th>67</th>\n",
       "      <td>2022-08-21</td>\n",
       "      <td>bologna</td>\n",
       "      <td>hellas verona</td>\n",
       "      <td>Bologna and Verona face each other at Stadio R...</td>\n",
       "      <td>N</td>\n",
       "      <td>2022-2023</td>\n",
       "    </tr>\n",
       "  </tbody>\n",
       "</table>\n",
       "</div>"
      ],
      "text/plain": [
       "            date     home           away  \\\n",
       "index                                      \n",
       "67    2022-08-21  bologna  hellas verona   \n",
       "\n",
       "                                             description prediction     season  \n",
       "index                                                                           \n",
       "67     Bologna and Verona face each other at Stadio R...          N  2022-2023  "
      ]
     },
     "execution_count": 10,
     "metadata": {},
     "output_type": "execute_result"
    }
   ],
   "source": [
    "ta.recoveries[((ta.recoveries.home == 'bologna') & (ta.recoveries.away == 'hellas verona')) | ((ta.recoveries.away == 'bologna') & (ta.recoveries.home == 'hellas verona'))]"
   ]
  },
  {
   "cell_type": "code",
   "execution_count": 11,
   "metadata": {},
   "outputs": [
    {
     "name": "stdout",
     "output_type": "stream",
     "text": [
      "150 154\n"
     ]
    }
   ],
   "source": [
    "print(len(ta.matches), len(ta.recoveries)) #i due dataset sono di grandezza diversa -> recoveries non è stato pulito da partite doppie (recuperi, partite rimandate)"
   ]
  },
  {
   "cell_type": "code",
   "execution_count": 12,
   "metadata": {},
   "outputs": [
    {
     "data": {
      "text/html": [
       "<div>\n",
       "<style scoped>\n",
       "    .dataframe tbody tr th:only-of-type {\n",
       "        vertical-align: middle;\n",
       "    }\n",
       "\n",
       "    .dataframe tbody tr th {\n",
       "        vertical-align: top;\n",
       "    }\n",
       "\n",
       "    .dataframe thead th {\n",
       "        text-align: right;\n",
       "    }\n",
       "</style>\n",
       "<table border=\"1\" class=\"dataframe\">\n",
       "  <thead>\n",
       "    <tr style=\"text-align: right;\">\n",
       "      <th></th>\n",
       "      <th>home</th>\n",
       "      <th>away</th>\n",
       "      <th>date</th>\n",
       "      <th>result</th>\n",
       "      <th>season</th>\n",
       "      <th>description</th>\n",
       "      <th>prediction</th>\n",
       "    </tr>\n",
       "  </thead>\n",
       "  <tbody>\n",
       "    <tr>\n",
       "      <th>79</th>\n",
       "      <td>juventus</td>\n",
       "      <td>spezia</td>\n",
       "      <td>2022-08-31</td>\n",
       "      <td>V</td>\n",
       "      <td>2022-2023</td>\n",
       "      <td>NaN</td>\n",
       "      <td>NAN</td>\n",
       "    </tr>\n",
       "    <tr>\n",
       "      <th>86</th>\n",
       "      <td>fiorentina</td>\n",
       "      <td>juventus</td>\n",
       "      <td>2022-09-03</td>\n",
       "      <td>N</td>\n",
       "      <td>2022-2023</td>\n",
       "      <td>NaN</td>\n",
       "      <td>NAN</td>\n",
       "    </tr>\n",
       "    <tr>\n",
       "      <th>87</th>\n",
       "      <td>milan</td>\n",
       "      <td>inter</td>\n",
       "      <td>2022-09-03</td>\n",
       "      <td>V</td>\n",
       "      <td>2022-2023</td>\n",
       "      <td>NaN</td>\n",
       "      <td>NAN</td>\n",
       "    </tr>\n",
       "    <tr>\n",
       "      <th>88</th>\n",
       "      <td>lazio</td>\n",
       "      <td>napoli</td>\n",
       "      <td>2022-09-03</td>\n",
       "      <td>P</td>\n",
       "      <td>2022-2023</td>\n",
       "      <td>NaN</td>\n",
       "      <td>NAN</td>\n",
       "    </tr>\n",
       "    <tr>\n",
       "      <th>92</th>\n",
       "      <td>spezia</td>\n",
       "      <td>bologna</td>\n",
       "      <td>2022-09-04</td>\n",
       "      <td>N</td>\n",
       "      <td>2022-2023</td>\n",
       "      <td>NaN</td>\n",
       "      <td>NAN</td>\n",
       "    </tr>\n",
       "    <tr>\n",
       "      <th>89</th>\n",
       "      <td>cremonese</td>\n",
       "      <td>sassuolo</td>\n",
       "      <td>2022-09-04</td>\n",
       "      <td>N</td>\n",
       "      <td>2022-2023</td>\n",
       "      <td>NaN</td>\n",
       "      <td>NAN</td>\n",
       "    </tr>\n",
       "    <tr>\n",
       "      <th>90</th>\n",
       "      <td>hellas verona</td>\n",
       "      <td>sampdoria</td>\n",
       "      <td>2022-09-04</td>\n",
       "      <td>V</td>\n",
       "      <td>2022-2023</td>\n",
       "      <td>NaN</td>\n",
       "      <td>NAN</td>\n",
       "    </tr>\n",
       "    <tr>\n",
       "      <th>91</th>\n",
       "      <td>udinese</td>\n",
       "      <td>roma</td>\n",
       "      <td>2022-09-04</td>\n",
       "      <td>V</td>\n",
       "      <td>2022-2023</td>\n",
       "      <td>NaN</td>\n",
       "      <td>NAN</td>\n",
       "    </tr>\n",
       "    <tr>\n",
       "      <th>95</th>\n",
       "      <td>torino</td>\n",
       "      <td>lecce</td>\n",
       "      <td>2022-09-05</td>\n",
       "      <td>V</td>\n",
       "      <td>2022-2023</td>\n",
       "      <td>NaN</td>\n",
       "      <td>NAN</td>\n",
       "    </tr>\n",
       "    <tr>\n",
       "      <th>93</th>\n",
       "      <td>salernitana</td>\n",
       "      <td>empoli</td>\n",
       "      <td>2022-09-05</td>\n",
       "      <td>N</td>\n",
       "      <td>2022-2023</td>\n",
       "      <td>NaN</td>\n",
       "      <td>NAN</td>\n",
       "    </tr>\n",
       "    <tr>\n",
       "      <th>94</th>\n",
       "      <td>monza</td>\n",
       "      <td>atalanta</td>\n",
       "      <td>2022-09-05</td>\n",
       "      <td>P</td>\n",
       "      <td>2022-2023</td>\n",
       "      <td>NaN</td>\n",
       "      <td>NAN</td>\n",
       "    </tr>\n",
       "  </tbody>\n",
       "</table>\n",
       "</div>"
      ],
      "text/plain": [
       "             home       away       date result     season description  \\\n",
       "79       juventus     spezia 2022-08-31      V  2022-2023         NaN   \n",
       "86     fiorentina   juventus 2022-09-03      N  2022-2023         NaN   \n",
       "87          milan      inter 2022-09-03      V  2022-2023         NaN   \n",
       "88          lazio     napoli 2022-09-03      P  2022-2023         NaN   \n",
       "92         spezia    bologna 2022-09-04      N  2022-2023         NaN   \n",
       "89      cremonese   sassuolo 2022-09-04      N  2022-2023         NaN   \n",
       "90  hellas verona  sampdoria 2022-09-04      V  2022-2023         NaN   \n",
       "91        udinese       roma 2022-09-04      V  2022-2023         NaN   \n",
       "95         torino      lecce 2022-09-05      V  2022-2023         NaN   \n",
       "93    salernitana     empoli 2022-09-05      N  2022-2023         NaN   \n",
       "94          monza   atalanta 2022-09-05      P  2022-2023         NaN   \n",
       "\n",
       "   prediction  \n",
       "79        NAN  \n",
       "86        NAN  \n",
       "87        NAN  \n",
       "88        NAN  \n",
       "92        NAN  \n",
       "89        NAN  \n",
       "90        NAN  \n",
       "91        NAN  \n",
       "95        NAN  \n",
       "93        NAN  \n",
       "94        NAN  "
      ]
     },
     "execution_count": 12,
     "metadata": {},
     "output_type": "execute_result"
    }
   ],
   "source": [
    "ta.df[ta.df.prediction=='NAN']"
   ]
  },
  {
   "cell_type": "code",
   "execution_count": 13,
   "metadata": {},
   "outputs": [
    {
     "data": {
      "text/plain": [
       "(150, 150)"
      ]
     },
     "execution_count": 13,
     "metadata": {},
     "output_type": "execute_result"
    }
   ],
   "source": [
    "len(ta.matches), len(ta.df) #i due dataset sono di grandezza uguale"
   ]
  }
 ],
 "metadata": {
  "kernelspec": {
   "display_name": "Python 3.8.8 ('base')",
   "language": "python",
   "name": "python3"
  },
  "language_info": {
   "codemirror_mode": {
    "name": "ipython",
    "version": 3
   },
   "file_extension": ".py",
   "mimetype": "text/x-python",
   "name": "python",
   "nbconvert_exporter": "python",
   "pygments_lexer": "ipython3",
   "version": "3.8.8"
  },
  "orig_nbformat": 4,
  "vscode": {
   "interpreter": {
    "hash": "b51fba03621ea2707aa24f127a4f74542be1adffaa0a8f5a15c5b0606de1417a"
   }
  }
 },
 "nbformat": 4,
 "nbformat_minor": 2
}
