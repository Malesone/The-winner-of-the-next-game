{
 "cells": [
  {
   "cell_type": "markdown",
   "metadata": {},
   "source": [
    "# Ottenimento prossimi match\n",
    "Lo script deve permettere di prendere i prossimi 10 match. \n",
    "Verrà fatta una predizione su questi match, prima deve essere calcolata la media di ciascun match che è data dai 5 match precedenti."
   ]
  },
  {
   "cell_type": "code",
   "execution_count": 47,
   "metadata": {},
   "outputs": [],
   "source": [
    "from analysis import MatchAnalysis\n",
    "import pandas as pd\n",
    "import util_strings as utils\n",
    "from end.ranking import Ranking\n",
    "from football_predictions import FootballPredictions"
   ]
  },
  {
   "cell_type": "code",
   "execution_count": 48,
   "metadata": {},
   "outputs": [],
   "source": [
    "championship = pd.read_csv(utils.championship_actual_season, index_col=0)\n",
    "championship['date'] = pd.to_datetime(championship['date'], format='%Y-%m-%d')\n",
    "\n",
    "championship.result = championship.result.astype(str)\n",
    "new_matches = championship[championship.result == 'nan']"
   ]
  },
  {
   "cell_type": "code",
   "execution_count": 49,
   "metadata": {},
   "outputs": [],
   "source": [
    "matches = new_matches[:10][['team1', 'team2', 'date', 'result']]\n",
    "matches.rename(columns= {'team1': 'home', 'team2': 'away'}, inplace=True)\n",
    "matches.reset_index(drop=True, inplace=True)"
   ]
  },
  {
   "cell_type": "markdown",
   "metadata": {},
   "source": [
    "## Ottenimento testo FootballPrediction\n",
    "Scaricamento del testo di ciascuna partita"
   ]
  },
  {
   "cell_type": "code",
   "execution_count": 50,
   "metadata": {},
   "outputs": [
    {
     "name": "stderr",
     "output_type": "stream",
     "text": [
      "100%|██████████| 4/4 [00:01<00:00,  2.56it/s]\n",
      "100%|██████████| 4/4 [00:02<00:00,  1.66it/s]\n"
     ]
    }
   ],
   "source": [
    "fp = FootballPredictions(matches=matches)\n",
    "fp.update_originalNotation()\n",
    "fp.get_urls()\n",
    "fp.get_predictions(utils.next_matches)\n",
    "fp.recovery_games()\n",
    "fp.matches_not_found()\n",
    "fp.fix_dates(utils.next_matches)"
   ]
  },
  {
   "cell_type": "code",
   "execution_count": 51,
   "metadata": {},
   "outputs": [],
   "source": [
    "from my_tokenizer import MyTokenizer\n",
    "\n",
    "mt = MyTokenizer(fp.df)\n",
    "mt.clean_text()\n",
    "mt.open_vectorizer(utils.vectorizer)"
   ]
  },
  {
   "cell_type": "code",
   "execution_count": 52,
   "metadata": {},
   "outputs": [],
   "source": [
    "import pickle\n",
    "\n",
    "dt = pickle.load(open('ML model/ta decision tree 0.942 (no syn).model', 'rb'))\n",
    "predictions = dt.predict(mt.vectorizer.transform(mt.cleaned_corpus))"
   ]
  },
  {
   "cell_type": "code",
   "execution_count": 53,
   "metadata": {},
   "outputs": [
    {
     "name": "stdout",
     "output_type": "stream",
     "text": [
      "7\n"
     ]
    }
   ],
   "source": [
    "cont = 0\n",
    "for i, el in fp.df.iterrows():\n",
    "    if (el.prediction == predictions[i]):\n",
    "        cont += 1\n",
    "          \n",
    "print(cont)"
   ]
  },
  {
   "cell_type": "markdown",
   "metadata": {},
   "source": [
    "Aggiungo le predizioni al dataset dei match"
   ]
  },
  {
   "cell_type": "code",
   "execution_count": 54,
   "metadata": {},
   "outputs": [],
   "source": [
    "cont = 0\n",
    "for i, match in matches.iterrows():\n",
    "    matches.at[i, 'prediction'] = predictions[cont]\n",
    "    cont += 1"
   ]
  },
  {
   "cell_type": "markdown",
   "metadata": {},
   "source": [
    "## Calcolo delle medie\n",
    "Per ciascun match devo calcolare le statistiche date dalle medie dei 5 match precedenti e poi devo ottenere il testo da football_prediction"
   ]
  },
  {
   "cell_type": "code",
   "execution_count": 55,
   "metadata": {},
   "outputs": [],
   "source": [
    "ranking = Ranking('SerieA', '2022-2023')\n",
    "ranking.read_matches(seasons=4, path=utils.ranking)\n",
    "\n",
    "ma = MatchAnalysis()\n",
    "ma.set_ranking(ranking=ranking)\n",
    "#leggo tutti i match (doppi perché ci sono le statistiche x ogni squadra)\n",
    "ma.read_matches(utils.merged_statistics)\n",
    "#creo una lista di oggetti (lista di squadre)\n",
    "ma.create_team_dataset() \n",
    "\n",
    "matches['date'] = pd.to_datetime(matches['date'], format='%Y-%m-%d') \n",
    "float_features_and_avg = ['goals','total_shots','shots_on_target','goals_on_penalty','total_penalties','percentage_possession','fouls','yellow_cards','red_cards']\n",
    "\n",
    "import numpy as np\n",
    "for f in float_features_and_avg:\n",
    "    matches[f] = np.nan\n",
    "\n",
    "matches[float_features_and_avg] = matches[float_features_and_avg].astype(float)\n",
    "\n",
    "label = {'N': 0, 'V': 1, 'P':2}\n",
    "\n",
    "ma.diff_dataset = matches.copy()\n",
    "for i, match in ma.diff_dataset.iterrows(): \n",
    "    match.season = '2022-2023'\n",
    "    avgH, c = ma.get_team_by_name(match.home).get_avg_last_X_matches(5, match.date, float_features_and_avg)\n",
    "    avgA, c = ma.get_team_by_name(match.away).get_avg_last_X_matches(5, match.date, float_features_and_avg)\n",
    "    \n",
    "    ma.get_ranks(match, i)\n",
    "\n",
    "    for col in float_features_and_avg:\n",
    "        diff = avgH[col] - avgA[col]\n",
    "        ma.diff_dataset.at[i, col] = diff\n",
    "    \n",
    "    ma.diff_dataset.at[i, 'prediction'] = label[match.prediction]\n",
    "\n",
    "    ma.diff_dataset.at[i, 'home'] = ma.get_id_by_name(match.home)\n",
    "    ma.diff_dataset.at[i, 'away'] = ma.get_id_by_name(match.away)\n",
    "\n",
    "ma.diff_dataset.drop(columns=['result', 'date'], inplace=True)"
   ]
  },
  {
   "cell_type": "code",
   "execution_count": 56,
   "metadata": {},
   "outputs": [],
   "source": [
    "ma.diff_dataset\n",
    "dt = pickle.load(open('ML model/random forest 0.549.model', 'rb'))\n",
    "predictions = dt.predict(ma.diff_dataset)"
   ]
  },
  {
   "cell_type": "code",
   "execution_count": 58,
   "metadata": {},
   "outputs": [],
   "source": [
    "df_predictions = pd.DataFrame()\n",
    "for i, match in matches.iterrows():\n",
    "    match['prediction'] = predictions[i]\n",
    "    df_predictions = df_predictions.append(match[['home','away','prediction']])"
   ]
  },
  {
   "cell_type": "code",
   "execution_count": 59,
   "metadata": {},
   "outputs": [
    {
     "data": {
      "text/html": [
       "<div>\n",
       "<style scoped>\n",
       "    .dataframe tbody tr th:only-of-type {\n",
       "        vertical-align: middle;\n",
       "    }\n",
       "\n",
       "    .dataframe tbody tr th {\n",
       "        vertical-align: top;\n",
       "    }\n",
       "\n",
       "    .dataframe thead th {\n",
       "        text-align: right;\n",
       "    }\n",
       "</style>\n",
       "<table border=\"1\" class=\"dataframe\">\n",
       "  <thead>\n",
       "    <tr style=\"text-align: right;\">\n",
       "      <th></th>\n",
       "      <th>home</th>\n",
       "      <th>away</th>\n",
       "      <th>date</th>\n",
       "      <th>result</th>\n",
       "      <th>prediction</th>\n",
       "      <th>goals</th>\n",
       "      <th>total_shots</th>\n",
       "      <th>shots_on_target</th>\n",
       "      <th>goals_on_penalty</th>\n",
       "      <th>total_penalties</th>\n",
       "      <th>percentage_possession</th>\n",
       "      <th>fouls</th>\n",
       "      <th>yellow_cards</th>\n",
       "      <th>red_cards</th>\n",
       "    </tr>\n",
       "  </thead>\n",
       "  <tbody>\n",
       "    <tr>\n",
       "      <th>0</th>\n",
       "      <td>Juventus</td>\n",
       "      <td>Empoli</td>\n",
       "      <td>2022-10-21</td>\n",
       "      <td>nan</td>\n",
       "      <td>V</td>\n",
       "      <td>NaN</td>\n",
       "      <td>NaN</td>\n",
       "      <td>NaN</td>\n",
       "      <td>NaN</td>\n",
       "      <td>NaN</td>\n",
       "      <td>NaN</td>\n",
       "      <td>NaN</td>\n",
       "      <td>NaN</td>\n",
       "      <td>NaN</td>\n",
       "    </tr>\n",
       "    <tr>\n",
       "      <th>1</th>\n",
       "      <td>Salernitana</td>\n",
       "      <td>Spezia</td>\n",
       "      <td>2022-10-22</td>\n",
       "      <td>nan</td>\n",
       "      <td>V</td>\n",
       "      <td>NaN</td>\n",
       "      <td>NaN</td>\n",
       "      <td>NaN</td>\n",
       "      <td>NaN</td>\n",
       "      <td>NaN</td>\n",
       "      <td>NaN</td>\n",
       "      <td>NaN</td>\n",
       "      <td>NaN</td>\n",
       "      <td>NaN</td>\n",
       "    </tr>\n",
       "    <tr>\n",
       "      <th>2</th>\n",
       "      <td>Fiorentina</td>\n",
       "      <td>Inter</td>\n",
       "      <td>2022-10-22</td>\n",
       "      <td>nan</td>\n",
       "      <td>P</td>\n",
       "      <td>NaN</td>\n",
       "      <td>NaN</td>\n",
       "      <td>NaN</td>\n",
       "      <td>NaN</td>\n",
       "      <td>NaN</td>\n",
       "      <td>NaN</td>\n",
       "      <td>NaN</td>\n",
       "      <td>NaN</td>\n",
       "      <td>NaN</td>\n",
       "    </tr>\n",
       "    <tr>\n",
       "      <th>3</th>\n",
       "      <td>Milan</td>\n",
       "      <td>Monza</td>\n",
       "      <td>2022-10-22</td>\n",
       "      <td>nan</td>\n",
       "      <td>V</td>\n",
       "      <td>NaN</td>\n",
       "      <td>NaN</td>\n",
       "      <td>NaN</td>\n",
       "      <td>NaN</td>\n",
       "      <td>NaN</td>\n",
       "      <td>NaN</td>\n",
       "      <td>NaN</td>\n",
       "      <td>NaN</td>\n",
       "      <td>NaN</td>\n",
       "    </tr>\n",
       "    <tr>\n",
       "      <th>4</th>\n",
       "      <td>Atalanta</td>\n",
       "      <td>Lazio</td>\n",
       "      <td>2022-10-23</td>\n",
       "      <td>nan</td>\n",
       "      <td>N</td>\n",
       "      <td>NaN</td>\n",
       "      <td>NaN</td>\n",
       "      <td>NaN</td>\n",
       "      <td>NaN</td>\n",
       "      <td>NaN</td>\n",
       "      <td>NaN</td>\n",
       "      <td>NaN</td>\n",
       "      <td>NaN</td>\n",
       "      <td>NaN</td>\n",
       "    </tr>\n",
       "    <tr>\n",
       "      <th>5</th>\n",
       "      <td>Bologna</td>\n",
       "      <td>Lecce</td>\n",
       "      <td>2022-10-23</td>\n",
       "      <td>nan</td>\n",
       "      <td>P</td>\n",
       "      <td>NaN</td>\n",
       "      <td>NaN</td>\n",
       "      <td>NaN</td>\n",
       "      <td>NaN</td>\n",
       "      <td>NaN</td>\n",
       "      <td>NaN</td>\n",
       "      <td>NaN</td>\n",
       "      <td>NaN</td>\n",
       "      <td>NaN</td>\n",
       "    </tr>\n",
       "    <tr>\n",
       "      <th>6</th>\n",
       "      <td>Roma</td>\n",
       "      <td>Napoli</td>\n",
       "      <td>2022-10-23</td>\n",
       "      <td>nan</td>\n",
       "      <td>P</td>\n",
       "      <td>NaN</td>\n",
       "      <td>NaN</td>\n",
       "      <td>NaN</td>\n",
       "      <td>NaN</td>\n",
       "      <td>NaN</td>\n",
       "      <td>NaN</td>\n",
       "      <td>NaN</td>\n",
       "      <td>NaN</td>\n",
       "      <td>NaN</td>\n",
       "    </tr>\n",
       "    <tr>\n",
       "      <th>7</th>\n",
       "      <td>Udinese</td>\n",
       "      <td>Torino</td>\n",
       "      <td>2022-10-23</td>\n",
       "      <td>nan</td>\n",
       "      <td>P</td>\n",
       "      <td>NaN</td>\n",
       "      <td>NaN</td>\n",
       "      <td>NaN</td>\n",
       "      <td>NaN</td>\n",
       "      <td>NaN</td>\n",
       "      <td>NaN</td>\n",
       "      <td>NaN</td>\n",
       "      <td>NaN</td>\n",
       "      <td>NaN</td>\n",
       "    </tr>\n",
       "    <tr>\n",
       "      <th>8</th>\n",
       "      <td>Sassuolo</td>\n",
       "      <td>Hellas Verona</td>\n",
       "      <td>2022-10-24</td>\n",
       "      <td>nan</td>\n",
       "      <td>P</td>\n",
       "      <td>NaN</td>\n",
       "      <td>NaN</td>\n",
       "      <td>NaN</td>\n",
       "      <td>NaN</td>\n",
       "      <td>NaN</td>\n",
       "      <td>NaN</td>\n",
       "      <td>NaN</td>\n",
       "      <td>NaN</td>\n",
       "      <td>NaN</td>\n",
       "    </tr>\n",
       "    <tr>\n",
       "      <th>9</th>\n",
       "      <td>Cremonese</td>\n",
       "      <td>Sampdoria</td>\n",
       "      <td>2022-10-24</td>\n",
       "      <td>nan</td>\n",
       "      <td>V</td>\n",
       "      <td>NaN</td>\n",
       "      <td>NaN</td>\n",
       "      <td>NaN</td>\n",
       "      <td>NaN</td>\n",
       "      <td>NaN</td>\n",
       "      <td>NaN</td>\n",
       "      <td>NaN</td>\n",
       "      <td>NaN</td>\n",
       "      <td>NaN</td>\n",
       "    </tr>\n",
       "  </tbody>\n",
       "</table>\n",
       "</div>"
      ],
      "text/plain": [
       "          home           away       date result prediction  goals  \\\n",
       "0     Juventus         Empoli 2022-10-21    nan          V    NaN   \n",
       "1  Salernitana         Spezia 2022-10-22    nan          V    NaN   \n",
       "2   Fiorentina          Inter 2022-10-22    nan          P    NaN   \n",
       "3        Milan          Monza 2022-10-22    nan          V    NaN   \n",
       "4     Atalanta          Lazio 2022-10-23    nan          N    NaN   \n",
       "5      Bologna          Lecce 2022-10-23    nan          P    NaN   \n",
       "6         Roma         Napoli 2022-10-23    nan          P    NaN   \n",
       "7      Udinese         Torino 2022-10-23    nan          P    NaN   \n",
       "8     Sassuolo  Hellas Verona 2022-10-24    nan          P    NaN   \n",
       "9    Cremonese      Sampdoria 2022-10-24    nan          V    NaN   \n",
       "\n",
       "   total_shots  shots_on_target  goals_on_penalty  total_penalties  \\\n",
       "0          NaN              NaN               NaN              NaN   \n",
       "1          NaN              NaN               NaN              NaN   \n",
       "2          NaN              NaN               NaN              NaN   \n",
       "3          NaN              NaN               NaN              NaN   \n",
       "4          NaN              NaN               NaN              NaN   \n",
       "5          NaN              NaN               NaN              NaN   \n",
       "6          NaN              NaN               NaN              NaN   \n",
       "7          NaN              NaN               NaN              NaN   \n",
       "8          NaN              NaN               NaN              NaN   \n",
       "9          NaN              NaN               NaN              NaN   \n",
       "\n",
       "   percentage_possession  fouls  yellow_cards  red_cards  \n",
       "0                    NaN    NaN           NaN        NaN  \n",
       "1                    NaN    NaN           NaN        NaN  \n",
       "2                    NaN    NaN           NaN        NaN  \n",
       "3                    NaN    NaN           NaN        NaN  \n",
       "4                    NaN    NaN           NaN        NaN  \n",
       "5                    NaN    NaN           NaN        NaN  \n",
       "6                    NaN    NaN           NaN        NaN  \n",
       "7                    NaN    NaN           NaN        NaN  \n",
       "8                    NaN    NaN           NaN        NaN  \n",
       "9                    NaN    NaN           NaN        NaN  "
      ]
     },
     "execution_count": 59,
     "metadata": {},
     "output_type": "execute_result"
    }
   ],
   "source": [
    "df_predictions"
   ]
  }
 ],
 "metadata": {
  "kernelspec": {
   "display_name": "Python 3.8.8 ('base')",
   "language": "python",
   "name": "python3"
  },
  "language_info": {
   "codemirror_mode": {
    "name": "ipython",
    "version": 3
   },
   "file_extension": ".py",
   "mimetype": "text/x-python",
   "name": "python",
   "nbconvert_exporter": "python",
   "pygments_lexer": "ipython3",
   "version": "3.8.8"
  },
  "orig_nbformat": 4,
  "vscode": {
   "interpreter": {
    "hash": "b51fba03621ea2707aa24f127a4f74542be1adffaa0a8f5a15c5b0606de1417a"
   }
  }
 },
 "nbformat": 4,
 "nbformat_minor": 2
}
