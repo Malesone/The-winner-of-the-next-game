{
 "cells": [
  {
   "cell_type": "markdown",
   "metadata": {},
   "source": [
    "# Ottenimento prossimi match\n",
    "Lo script deve permettere di prendere i prossimi 10 match. \n",
    "Verrà fatta una predizione su questi match, prima deve essere calcolata la media di ciascun match che è data dai 5 match precedenti."
   ]
  },
  {
   "cell_type": "code",
   "execution_count": 1,
   "metadata": {},
   "outputs": [],
   "source": [
    "from analysis import MatchAnalysis\n",
    "import pandas as pd\n",
    "import util_strings as utils\n",
    "from ranking import Ranking\n",
    "from football_predictions import FootballPredictions"
   ]
  },
  {
   "cell_type": "code",
   "execution_count": 2,
   "metadata": {},
   "outputs": [],
   "source": [
    "championship = pd.read_csv(utils.championship_actual_season, index_col=0)\n",
    "season = utils.championship_actual_season.replace('.csv', '')[-9:]\n",
    "\n",
    "championship['date'] = pd.to_datetime(championship['date'], format='%Y-%m-%d')\n",
    "\n",
    "championship.result = championship.result.astype(str)\n",
    "new_matches = championship[championship.result == 'nan']"
   ]
  },
  {
   "cell_type": "code",
   "execution_count": 3,
   "metadata": {},
   "outputs": [],
   "source": [
    "matches = new_matches[:10][['team1', 'team2', 'date', 'result']]\n",
    "matches['season'] = season\n",
    "matches.rename(columns= {'team1': 'home', 'team2': 'away'}, inplace=True)\n",
    "matches.reset_index(drop=True, inplace=True)\n",
    "matches.home = matches.home.str.lower()\n",
    "matches.away = matches.away.str.lower()\n",
    "\n",
    "matches.to_csv(utils.next_matches)"
   ]
  },
  {
   "cell_type": "markdown",
   "metadata": {},
   "source": [
    "## Ottenimento testo FootballPrediction\n",
    "Scaricamento del testo di ciascuna partita"
   ]
  },
  {
   "cell_type": "code",
   "execution_count": 4,
   "metadata": {},
   "outputs": [
    {
     "name": "stderr",
     "output_type": "stream",
     "text": [
      "100%|██████████| 4/4 [00:01<00:00,  2.35it/s]\n",
      "100%|██████████| 4/4 [00:02<00:00,  1.89it/s]\n"
     ]
    }
   ],
   "source": [
    "fp = FootballPredictions(matches=matches)\n",
    "fp.update_originalNotation()\n",
    "fp.get_urls()\n",
    "fp.get_predictions(utils.next_matches, False)\n",
    "fp.df['season'] = season\n",
    "fp.recovery_games()\n",
    "fp.matches_not_found()\n",
    "fp.fix_dates(utils.next_matches)"
   ]
  },
  {
   "cell_type": "code",
   "execution_count": 5,
   "metadata": {},
   "outputs": [],
   "source": [
    "from my_tokenizer import MyTokenizer\n",
    "\n",
    "mt = MyTokenizer(fp.df)\n",
    "mt.clean_text()\n",
    "mt.open_vectorizer(utils.vectorizer)"
   ]
  },
  {
   "cell_type": "code",
   "execution_count": 6,
   "metadata": {},
   "outputs": [],
   "source": [
    "import pickle\n",
    "\n",
    "dt = pickle.load(open(utils.classificator_FP, 'rb'))\n",
    "predictions = dt.predict(mt.vectorizer.transform(mt.cleaned_corpus))"
   ]
  },
  {
   "cell_type": "markdown",
   "metadata": {},
   "source": [
    "Aggiungo le predizioni al dataset dei match"
   ]
  },
  {
   "cell_type": "code",
   "execution_count": 7,
   "metadata": {},
   "outputs": [],
   "source": [
    "cont = 0\n",
    "for i, match in matches.iterrows():\n",
    "    matches.at[i, 'prediction'] = predictions[cont]\n",
    "    cont += 1"
   ]
  },
  {
   "cell_type": "markdown",
   "metadata": {},
   "source": [
    "## Calcolo delle medie\n",
    "Per ciascun match devo calcolare le statistiche date dalle medie dei 5 match precedenti e poi devo ottenere la predizione di football_prediction.\n",
    "Sostituisco inoltre i codici delle squadre"
   ]
  },
  {
   "cell_type": "markdown",
   "metadata": {},
   "source": [
    "Per calcolare le medie devo prendere tutti i match di ciascuna squadra"
   ]
  },
  {
   "cell_type": "code",
   "execution_count": 8,
   "metadata": {},
   "outputs": [],
   "source": [
    "ranking = Ranking('SerieA', '2022-2023')\n",
    "ranking.read_matches(seasons=6, path=utils.ranking)\n",
    "\n",
    "ma = MatchAnalysis()\n",
    "ma.set_ranking(ranking=ranking)\n",
    "#leggo tutti i match (doppi perché ci sono le statistiche x ogni squadra)\n",
    "ma.read_matches(utils.merged_statistics)\n",
    "#creo una lista di oggetti (lista di squadre)\n",
    "ma.create_team_dataset() "
   ]
  },
  {
   "cell_type": "code",
   "execution_count": 12,
   "metadata": {},
   "outputs": [],
   "source": [
    "matches['date'] = pd.to_datetime(matches['date'], format='%Y-%m-%d') \n",
    "float_features_and_avg = ['goals','total_shots','shots_on_target','goals_on_penalty','total_penalties','percentage_possession','fouls','yellow_cards','red_cards']\n",
    "\n",
    "import numpy as np\n",
    "for f in float_features_and_avg:\n",
    "    matches[f] = np.nan\n",
    "\n",
    "matches[float_features_and_avg] = matches[float_features_and_avg].astype(float)\n",
    "\n",
    "label = {'N': 0, 'V': 1, 'P':2}\n",
    "\n",
    "ma.diff_dataset = matches.copy()\n",
    "for i, match in ma.diff_dataset.iterrows(): \n",
    "    match.season = '2022-2023'\n",
    "    avgH, c = ma.get_team_by_name(match.home).get_avg_last_X_matches(5, match.date, float_features_and_avg)\n",
    "    avgA, c = ma.get_team_by_name(match.away).get_avg_last_X_matches(5, match.date, float_features_and_avg)\n",
    "    \n",
    "    ma.get_ranks(match, i)\n",
    "\n",
    "    for col in float_features_and_avg:\n",
    "        diff = avgH[col] - avgA[col]\n",
    "        ma.diff_dataset.at[i, col] = diff\n",
    "    \n",
    "    ma.diff_dataset.at[i, 'prediction'] = label[match.prediction]\n",
    "\n",
    "    ma.diff_dataset.at[i, 'home'] = ma.get_id_by_name(match.home)\n",
    "    ma.diff_dataset.at[i, 'away'] = ma.get_id_by_name(match.away)\n",
    "\n",
    "ma.diff_dataset.drop(columns=['result', 'date', 'season'], inplace=True)"
   ]
  },
  {
   "cell_type": "code",
   "execution_count": 13,
   "metadata": {},
   "outputs": [],
   "source": [
    "ma.diff_dataset\n",
    "dt = pickle.load(open(utils.classificator, 'rb'))\n",
    "predictions = dt.predict(ma.diff_dataset)"
   ]
  },
  {
   "cell_type": "code",
   "execution_count": 14,
   "metadata": {},
   "outputs": [],
   "source": [
    "df_predictions = pd.DataFrame()\n",
    "for i, match in matches.iterrows():\n",
    "    match['prediction'] = predictions[i]\n",
    "    df_predictions = df_predictions.append(match[['home','away','prediction']])"
   ]
  },
  {
   "cell_type": "code",
   "execution_count": 15,
   "metadata": {},
   "outputs": [
    {
     "data": {
      "text/html": [
       "<div>\n",
       "<style scoped>\n",
       "    .dataframe tbody tr th:only-of-type {\n",
       "        vertical-align: middle;\n",
       "    }\n",
       "\n",
       "    .dataframe tbody tr th {\n",
       "        vertical-align: top;\n",
       "    }\n",
       "\n",
       "    .dataframe thead th {\n",
       "        text-align: right;\n",
       "    }\n",
       "</style>\n",
       "<table border=\"1\" class=\"dataframe\">\n",
       "  <thead>\n",
       "    <tr style=\"text-align: right;\">\n",
       "      <th></th>\n",
       "      <th>home</th>\n",
       "      <th>away</th>\n",
       "      <th>prediction</th>\n",
       "    </tr>\n",
       "  </thead>\n",
       "  <tbody>\n",
       "    <tr>\n",
       "      <th>0</th>\n",
       "      <td>juventus</td>\n",
       "      <td>empoli</td>\n",
       "      <td>1.0</td>\n",
       "    </tr>\n",
       "    <tr>\n",
       "      <th>1</th>\n",
       "      <td>salernitana</td>\n",
       "      <td>spezia</td>\n",
       "      <td>1.0</td>\n",
       "    </tr>\n",
       "    <tr>\n",
       "      <th>2</th>\n",
       "      <td>fiorentina</td>\n",
       "      <td>inter</td>\n",
       "      <td>2.0</td>\n",
       "    </tr>\n",
       "    <tr>\n",
       "      <th>3</th>\n",
       "      <td>milan</td>\n",
       "      <td>monza</td>\n",
       "      <td>1.0</td>\n",
       "    </tr>\n",
       "    <tr>\n",
       "      <th>4</th>\n",
       "      <td>atalanta</td>\n",
       "      <td>lazio</td>\n",
       "      <td>2.0</td>\n",
       "    </tr>\n",
       "    <tr>\n",
       "      <th>5</th>\n",
       "      <td>bologna</td>\n",
       "      <td>lecce</td>\n",
       "      <td>1.0</td>\n",
       "    </tr>\n",
       "    <tr>\n",
       "      <th>6</th>\n",
       "      <td>roma</td>\n",
       "      <td>napoli</td>\n",
       "      <td>2.0</td>\n",
       "    </tr>\n",
       "    <tr>\n",
       "      <th>7</th>\n",
       "      <td>udinese</td>\n",
       "      <td>torino</td>\n",
       "      <td>1.0</td>\n",
       "    </tr>\n",
       "    <tr>\n",
       "      <th>8</th>\n",
       "      <td>sassuolo</td>\n",
       "      <td>hellas verona</td>\n",
       "      <td>0.0</td>\n",
       "    </tr>\n",
       "    <tr>\n",
       "      <th>9</th>\n",
       "      <td>cremonese</td>\n",
       "      <td>sampdoria</td>\n",
       "      <td>1.0</td>\n",
       "    </tr>\n",
       "  </tbody>\n",
       "</table>\n",
       "</div>"
      ],
      "text/plain": [
       "          home           away  prediction\n",
       "0     juventus         empoli         1.0\n",
       "1  salernitana         spezia         1.0\n",
       "2   fiorentina          inter         2.0\n",
       "3        milan          monza         1.0\n",
       "4     atalanta          lazio         2.0\n",
       "5      bologna          lecce         1.0\n",
       "6         roma         napoli         2.0\n",
       "7      udinese         torino         1.0\n",
       "8     sassuolo  hellas verona         0.0\n",
       "9    cremonese      sampdoria         1.0"
      ]
     },
     "execution_count": 15,
     "metadata": {},
     "output_type": "execute_result"
    }
   ],
   "source": [
    "df_predictions"
   ]
  }
 ],
 "metadata": {
  "kernelspec": {
   "display_name": "Python 3.8.8 ('base')",
   "language": "python",
   "name": "python3"
  },
  "language_info": {
   "codemirror_mode": {
    "name": "ipython",
    "version": 3
   },
   "file_extension": ".py",
   "mimetype": "text/x-python",
   "name": "python",
   "nbconvert_exporter": "python",
   "pygments_lexer": "ipython3",
   "version": "3.8.8"
  },
  "orig_nbformat": 4,
  "vscode": {
   "interpreter": {
    "hash": "b51fba03621ea2707aa24f127a4f74542be1adffaa0a8f5a15c5b0606de1417a"
   }
  }
 },
 "nbformat": 4,
 "nbformat_minor": 2
}
